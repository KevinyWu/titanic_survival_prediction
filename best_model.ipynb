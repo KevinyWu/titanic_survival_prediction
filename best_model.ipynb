{
 "cells": [
  {
   "cell_type": "markdown",
   "id": "massive-likelihood",
   "metadata": {},
   "source": [
    "# Best Model: Gradient Boosting\n",
    "- Link to competition [here](https://www.kaggle.com/c/titanic/overview)\n",
    "- Streamlined notebook that tunes and improves upon gradient boosting, the best model from titanic.ipynb"
   ]
  },
  {
   "cell_type": "markdown",
   "id": "contemporary-catalyst",
   "metadata": {},
   "source": [
    "## Contents<a class=\"anchor\" id=\"contents\"></a>\n",
    "1. [Reading Data](#reading_data)\n",
    "2. [Training Gradient Boosting](#training_models)\n",
    "3. [Evaluation Statistics](#evaluation_statistics)\n",
    "4. [Final Training and Submission](#final_training_and_submission)\n",
    "5. [Results](#results)"
   ]
  },
  {
   "cell_type": "markdown",
   "id": "after-performance",
   "metadata": {},
   "source": [
    "# 1) Reading Data <a class=\"anchor\" id=\"reading_data\"></a>\n",
    "[To contents](#contents)"
   ]
  },
  {
   "cell_type": "code",
   "execution_count": 107,
   "id": "guided-sudan",
   "metadata": {},
   "outputs": [],
   "source": [
    "# basic imports\n",
    "import joblib\n",
    "import numpy as np\n",
    "import pandas as pd\n",
    "import seaborn as sns \n",
    "import matplotlib.pyplot as plt\n",
    "%matplotlib inline\n",
    "import warnings\n",
    "warnings.filterwarnings(\"ignore\")\n",
    "\n",
    "# cross-validation\n",
    "from sklearn.model_selection import cross_val_score\n",
    "from sklearn.model_selection import GridSearchCV\n",
    "\n",
    "# view parameters\n",
    "from sklearn import set_config\n",
    "set_config(print_changed_only=False)\n",
    "\n",
    "# models\n",
    "from sklearn.ensemble import GradientBoostingClassifier, GradientBoostingRegressor\n",
    "\n",
    "# model selection\n",
    "from time import time\n",
    "from sklearn.metrics import accuracy_score, precision_score, recall_score"
   ]
  },
  {
   "cell_type": "code",
   "execution_count": 108,
   "id": "round-roads",
   "metadata": {},
   "outputs": [],
   "source": [
    "# read in cleaned data from titanic.ipynb\n",
    "train = pd.read_csv('data/train_cleaned.csv')\n",
    "test = pd.read_csv('data/test_cleaned.csv')\n",
    "\n",
    "X_train = pd.read_csv('data/split/train_features.csv')\n",
    "X_val = pd.read_csv('data/split/val_features.csv')\n",
    "X_test = pd.read_csv('data/split/test_features.csv')\n",
    "\n",
    "y_train = pd.read_csv('data/split/train_labels.csv')\n",
    "y_val = pd.read_csv('data/split/val_labels.csv')\n",
    "y_test = pd.read_csv('data/split/test_labels.csv')"
   ]
  },
  {
   "cell_type": "code",
   "execution_count": 109,
   "id": "suited-advocacy",
   "metadata": {},
   "outputs": [
    {
     "data": {
      "image/png": "[encoded data removed]",
      "text/plain": [
       "<Figure size 432x360 with 2 Axes>"
      ]
     },
     "metadata": {
      "needs_background": "light"
     },
     "output_type": "display_data"
    }
   ],
   "source": [
    "# generate correlation matrix heat map\n",
    "plt.figure(figsize = (6,5))\n",
    "matrix = np.triu(train.corr())\n",
    "sns.heatmap(train.corr(), annot=True, fmt='.1f', vmin=-1, vmax=1, center= 0, cmap= 'coolwarm', mask=matrix);"
   ]
  },
  {
   "cell_type": "markdown",
   "id": "surrounded-arbor",
   "metadata": {},
   "source": [
    "# 2) Training Gradient Boosting <a class=\"anchor\" id=\"training_models\"></a>\n",
    "[To contents](#contents)\n",
    "- Gradient boosting aggregates many weak models, learning from its own mistakes with each iteration to create one strong model\n",
    "- Type of ensemble method, which combies multiple models to reduce bias and variance\n",
    "- Takes sample from training data classifies examples, next model overweights misclassified examples from previous model\n",
    "- Final selection based on weighted voting based on how well each model did in training\n",
    "- When to use\n",
    "    - Categorical or continuous target variable\n",
    "    - Interested in significance of predictors\n",
    "    - Prediction time is important\n",
    "- When not to use\n",
    "    - Transparency is important\n",
    "    - Data is very noisy, boosting tends to overfit\n",
    "    - Training time is important\n",
    "- Key hyperparameters\n",
    "    - `n_estimators` controls how many individual decision trees are built (should be more than random forest)\n",
    "    - `max_depth` controls how deep each tree can go (should be shallower than random forest)\n",
    "    - `learning_rate` facilitates how quickly and whether or not algorithm will find optimal solution, select a numerical value\n",
    "        - Low learning rate is slow and may get stuck in local min\n",
    "        - High learning rate jumps around and may never find optimal solution"
   ]
  },
  {
   "cell_type": "markdown",
   "id": "reduced-hands",
   "metadata": {},
   "source": [
    "- Use the training dataset using 5-Fold Cross-Validaiton to get a basic idea of the model's performance\n",
    "- 5-Fold Cross-Validation shows the accuracy of the model when training on different subsets of the data"
   ]
  },
  {
   "cell_type": "code",
   "execution_count": 110,
   "id": "better-collapse",
   "metadata": {},
   "outputs": [],
   "source": [
    "# prints results of GridSearchCV\n",
    "def print_results(results):\n",
    "    print('BEST PARAMS: {}\\n'.format(results.best_params_))\n",
    "    \n",
    "    means = results.cv_results_['mean_test_score']\n",
    "    stds = results.cv_results_['std_test_score']\n",
    "    for mean, std, params in zip(means, stds, results.cv_results_['params']):\n",
    "        # prints mean and 2 standard deviations to each side\n",
    "        print('{} (+/-{}) for {}'.format(round(mean, 3), round(std * 2, 3), params))"
   ]
  },
  {
   "cell_type": "code",
   "execution_count": 111,
   "id": "present-dressing",
   "metadata": {},
   "outputs": [
    {
     "name": "stdout",
     "output_type": "stream",
     "text": [
      "GradientBoostingClassifier(ccp_alpha=0.0, criterion='friedman_mse', init=None,\n",
      "                           learning_rate=0.1, loss='deviance', max_depth=3,\n",
      "                           max_features=None, max_leaf_nodes=None,\n",
      "                           min_impurity_decrease=0.0, min_impurity_split=None,\n",
      "                           min_samples_leaf=1, min_samples_split=2,\n",
      "                           min_weight_fraction_leaf=0.0, n_estimators=100,\n",
      "                           n_iter_no_change=None, random_state=None,\n",
      "                           subsample=1.0, tol=0.0001, validation_fraction=0.1,\n",
      "                           verbose=0, warm_start=False)\n"
     ]
    }
   ],
   "source": [
    "# view parameters\n",
    "print(GradientBoostingClassifier())"
   ]
  },
  {
   "cell_type": "code",
   "execution_count": 112,
   "id": "enhanced-billion",
   "metadata": {
    "scrolled": false
   },
   "outputs": [
    {
     "name": "stdout",
     "output_type": "stream",
     "text": [
      "BEST PARAMS: {'learning_rate': 0.5, 'max_depth': 2, 'n_estimators': 50}\n",
      "\n",
      "0.854 (+/-0.064) for {'learning_rate': 0.01, 'max_depth': 2, 'n_estimators': 50}\n",
      "0.854 (+/-0.064) for {'learning_rate': 0.01, 'max_depth': 2, 'n_estimators': 250}\n",
      "0.848 (+/-0.066) for {'learning_rate': 0.01, 'max_depth': 2, 'n_estimators': 500}\n",
      "0.832 (+/-0.075) for {'learning_rate': 0.01, 'max_depth': 3, 'n_estimators': 50}\n",
      "0.848 (+/-0.069) for {'learning_rate': 0.01, 'max_depth': 3, 'n_estimators': 250}\n",
      "0.85 (+/-0.059) for {'learning_rate': 0.01, 'max_depth': 3, 'n_estimators': 500}\n",
      "0.845 (+/-0.073) for {'learning_rate': 0.01, 'max_depth': 4, 'n_estimators': 50}\n",
      "0.843 (+/-0.055) for {'learning_rate': 0.01, 'max_depth': 4, 'n_estimators': 250}\n",
      "0.845 (+/-0.049) for {'learning_rate': 0.01, 'max_depth': 4, 'n_estimators': 500}\n",
      "0.854 (+/-0.064) for {'learning_rate': 0.05, 'max_depth': 2, 'n_estimators': 50}\n",
      "0.848 (+/-0.049) for {'learning_rate': 0.05, 'max_depth': 2, 'n_estimators': 250}\n",
      "0.846 (+/-0.051) for {'learning_rate': 0.05, 'max_depth': 2, 'n_estimators': 500}\n",
      "0.848 (+/-0.069) for {'learning_rate': 0.05, 'max_depth': 3, 'n_estimators': 50}\n",
      "0.854 (+/-0.034) for {'learning_rate': 0.05, 'max_depth': 3, 'n_estimators': 250}\n",
      "0.854 (+/-0.045) for {'learning_rate': 0.05, 'max_depth': 3, 'n_estimators': 500}\n",
      "0.843 (+/-0.055) for {'learning_rate': 0.05, 'max_depth': 4, 'n_estimators': 50}\n",
      "0.85 (+/-0.042) for {'learning_rate': 0.05, 'max_depth': 4, 'n_estimators': 250}\n",
      "0.839 (+/-0.054) for {'learning_rate': 0.05, 'max_depth': 4, 'n_estimators': 500}\n",
      "0.85 (+/-0.066) for {'learning_rate': 0.2, 'max_depth': 2, 'n_estimators': 50}\n",
      "0.845 (+/-0.049) for {'learning_rate': 0.2, 'max_depth': 2, 'n_estimators': 250}\n",
      "0.845 (+/-0.051) for {'learning_rate': 0.2, 'max_depth': 2, 'n_estimators': 500}\n",
      "0.854 (+/-0.043) for {'learning_rate': 0.2, 'max_depth': 3, 'n_estimators': 50}\n",
      "0.843 (+/-0.057) for {'learning_rate': 0.2, 'max_depth': 3, 'n_estimators': 250}\n",
      "0.837 (+/-0.058) for {'learning_rate': 0.2, 'max_depth': 3, 'n_estimators': 500}\n",
      "0.843 (+/-0.052) for {'learning_rate': 0.2, 'max_depth': 4, 'n_estimators': 50}\n",
      "0.839 (+/-0.054) for {'learning_rate': 0.2, 'max_depth': 4, 'n_estimators': 250}\n",
      "0.841 (+/-0.056) for {'learning_rate': 0.2, 'max_depth': 4, 'n_estimators': 500}\n",
      "0.856 (+/-0.03) for {'learning_rate': 0.5, 'max_depth': 2, 'n_estimators': 50}\n",
      "0.841 (+/-0.051) for {'learning_rate': 0.5, 'max_depth': 2, 'n_estimators': 250}\n",
      "0.841 (+/-0.051) for {'learning_rate': 0.5, 'max_depth': 2, 'n_estimators': 500}\n",
      "0.841 (+/-0.056) for {'learning_rate': 0.5, 'max_depth': 3, 'n_estimators': 50}\n",
      "0.839 (+/-0.06) for {'learning_rate': 0.5, 'max_depth': 3, 'n_estimators': 250}\n",
      "0.835 (+/-0.057) for {'learning_rate': 0.5, 'max_depth': 3, 'n_estimators': 500}\n",
      "0.841 (+/-0.05) for {'learning_rate': 0.5, 'max_depth': 4, 'n_estimators': 50}\n",
      "0.841 (+/-0.06) for {'learning_rate': 0.5, 'max_depth': 4, 'n_estimators': 250}\n",
      "0.846 (+/-0.053) for {'learning_rate': 0.5, 'max_depth': 4, 'n_estimators': 500}\n",
      "0.85 (+/-0.042) for {'learning_rate': 1, 'max_depth': 2, 'n_estimators': 50}\n",
      "0.835 (+/-0.045) for {'learning_rate': 1, 'max_depth': 2, 'n_estimators': 250}\n",
      "0.839 (+/-0.043) for {'learning_rate': 1, 'max_depth': 2, 'n_estimators': 500}\n",
      "0.845 (+/-0.055) for {'learning_rate': 1, 'max_depth': 3, 'n_estimators': 50}\n",
      "0.843 (+/-0.059) for {'learning_rate': 1, 'max_depth': 3, 'n_estimators': 250}\n",
      "0.841 (+/-0.063) for {'learning_rate': 1, 'max_depth': 3, 'n_estimators': 500}\n",
      "0.839 (+/-0.064) for {'learning_rate': 1, 'max_depth': 4, 'n_estimators': 50}\n",
      "0.845 (+/-0.054) for {'learning_rate': 1, 'max_depth': 4, 'n_estimators': 250}\n",
      "0.841 (+/-0.061) for {'learning_rate': 1, 'max_depth': 4, 'n_estimators': 500}\n"
     ]
    }
   ],
   "source": [
    "# fit model\n",
    "gb = GradientBoostingClassifier()\n",
    "parameters = {\n",
    "    'n_estimators': [50, 250, 500],\n",
    "    'max_depth': [2, 3, 4],\n",
    "    'learning_rate': [0.01, 0.05, 0.2, 0.5, 1]\n",
    "}\n",
    "\n",
    "cv = GridSearchCV(gb, parameters, cv=5)\n",
    "cv.fit(X_train, y_train.values.ravel())\n",
    "\n",
    "print_results(cv)"
   ]
  },
  {
   "cell_type": "code",
   "execution_count": 113,
   "id": "retained-creator",
   "metadata": {},
   "outputs": [
    {
     "data": {
      "image/png": "[encoded data removed]",
      "text/plain": [
       "<Figure size 432x288 with 1 Axes>"
      ]
     },
     "metadata": {
      "needs_background": "light"
     },
     "output_type": "display_data"
    }
   ],
   "source": [
    "# generate feature importance plot\n",
    "feat_imp = cv.best_estimator_.feature_importances_\n",
    "indices = np.argsort(feat_imp)\n",
    "plt.yticks(range(len(indices)), [X_train.columns[i] for i in indices])\n",
    "plt.barh(range(len(indices)), feat_imp[indices], color='r', align='center')\n",
    "plt.show()"
   ]
  },
  {
   "cell_type": "code",
   "execution_count": 114,
   "id": "hollywood-solution",
   "metadata": {},
   "outputs": [
    {
     "data": {
      "text/plain": [
       "(534, 5)"
      ]
     },
     "execution_count": 114,
     "metadata": {},
     "output_type": "execute_result"
    }
   ],
   "source": [
    "X_train.shape"
   ]
  },
  {
   "cell_type": "markdown",
   "id": "quiet-basket",
   "metadata": {},
   "source": [
    "## 3) Evaluation Statistics<a class=\"anchor\" id=\"evaluation_statistics\"></a>\n",
    "[To contents](#contents)\n",
    "- Accuracy = # predicted correctly/total # examples\n",
    "- Precision = # predicted to survive that actually survived / total # predicted to survive\n",
    "- Recall = # predicted to survive that actually survived / total # that actually survived"
   ]
  },
  {
   "cell_type": "code",
   "execution_count": 115,
   "id": "guilty-virus",
   "metadata": {},
   "outputs": [],
   "source": [
    "# evaluates prediction time, accuracy, precision, recall\n",
    "def evaluate_model(name, model, features, labels):\n",
    "    start = time()\n",
    "    pred = model.predict(features)\n",
    "    end = time()\n",
    "    accuracy = round(accuracy_score(labels, pred), 3)\n",
    "    precision = round(precision_score(labels, pred), 3)\n",
    "    recall = round(recall_score(labels, pred), 3)\n",
    "    print('{} -- Accuracy: {} / Precision: {} / Recall: {} / Latency: {}ms'.format(name,\n",
    "                                                                                   accuracy,\n",
    "                                                                                   precision,\n",
    "                                                                                   recall,\n",
    "                                                                                   round((end - start)*1000, 1)))"
   ]
  },
  {
   "cell_type": "code",
   "execution_count": 116,
   "id": "formed-induction",
   "metadata": {},
   "outputs": [
    {
     "name": "stdout",
     "output_type": "stream",
     "text": [
      "gradient_boosting -- Accuracy: 0.815 / Precision: 0.786 / Recall: 0.677 / Latency: 1.9ms\n"
     ]
    }
   ],
   "source": [
    "# final evaluation of best model on test set\n",
    "evaluate_model('gradient_boosting', cv.best_estimator_, X_test, y_test)"
   ]
  },
  {
   "cell_type": "markdown",
   "id": "classical-needle",
   "metadata": {},
   "source": [
    "# 4) Final Training and Submission<a class=\"anchor\" id=\"final_training_and_submission\"></a>\n",
    "[To contents](#contents)\n",
    "- Train the model on the entire training set and create a submission"
   ]
  },
  {
   "cell_type": "code",
   "execution_count": 117,
   "id": "vertical-processing",
   "metadata": {},
   "outputs": [],
   "source": [
    "# import all cleaned data\n",
    "features = train.drop(columns='Survived')\n",
    "labels = train['Survived'].values.ravel()"
   ]
  },
  {
   "cell_type": "code",
   "execution_count": 118,
   "id": "configured-questionnaire",
   "metadata": {},
   "outputs": [
    {
     "data": {
      "text/plain": [
       "['models/best_model.pkl']"
      ]
     },
     "execution_count": 118,
     "metadata": {},
     "output_type": "execute_result"
    }
   ],
   "source": [
    "# fit on complete training data\n",
    "final_gb = GradientBoostingClassifier(learning_rate=0.05, max_depth=2, n_estimators=400)\n",
    "final_gb.fit(features, labels)\n",
    "joblib.dump(final_gb, 'models/best_model.pkl')"
   ]
  },
  {
   "cell_type": "code",
   "execution_count": 119,
   "id": "given-jurisdiction",
   "metadata": {},
   "outputs": [],
   "source": [
    "# write out submission\n",
    "ids = pd.read_csv('data/test.csv')['PassengerId']\n",
    "def submission(name, model):\n",
    "    predictions = model.predict(test)\n",
    "    predictions = predictions.astype(int)\n",
    "    output = pd.DataFrame({'PassengerId' : ids, 'Survived': predictions})\n",
    "    output.to_csv('submissions/{}_submission.csv'.format(name), index = False)\n",
    "\n",
    "submission('best', joblib.load('models/best_model.pkl'))"
   ]
  },
  {
   "cell_type": "markdown",
   "id": "judicial-judgment",
   "metadata": {},
   "source": [
    "# 5) Results<a class=\"anchor\" id=\"results\"></a>\n",
    "[To contents](#contents)\n",
    "- Gradient Boosting: 0.80861\n",
    "- Rank: 362/13438 (top 2.69%)\n",
    "- Rank (eliminate cheat submissions): 196/13272 (top 1.47%)"
   ]
  },
  {
   "cell_type": "code",
   "execution_count": null,
   "id": "descending-concentration",
   "metadata": {},
   "outputs": [],
   "source": []
  }
 ],
 "metadata": {
  "kernelspec": {
   "display_name": "Python 3",
   "language": "python",
   "name": "python3"
  },
  "language_info": {
   "codemirror_mode": {
    "name": "ipython",
    "version": 3
   },
   "file_extension": ".py",
   "mimetype": "text/x-python",
   "name": "python",
   "nbconvert_exporter": "python",
   "pygments_lexer": "ipython3",
   "version": "3.8.12"
  }
 },
 "nbformat": 4,
 "nbformat_minor": 5
}
