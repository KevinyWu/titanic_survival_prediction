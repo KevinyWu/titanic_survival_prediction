{
 "cells": [
  {
   "cell_type": "markdown",
   "id": "massive-likelihood",
   "metadata": {},
   "source": [
    "# Best Model: Random Forest\n",
    "- Link to competition [here](https://www.kaggle.com/c/titanic/overview)\n",
    "- Streamlined notebook that tunes and improves upon random forest, the best model from titanic.ipynb"
   ]
  },
  {
   "cell_type": "markdown",
   "id": "contemporary-catalyst",
   "metadata": {},
   "source": [
    "## Contents<a class=\"anchor\" id=\"contents\"></a>\n",
    "1. [Reading Data](#reading_data)\n",
    "2. [Training Random Forest](#training_models)\n",
    "3. [Evaluation Statistics](#evaluation_statistics)\n",
    "4. [Final Training and Submission](#final_training_and_submission)\n",
    "5. [Results](#results)"
   ]
  },
  {
   "cell_type": "markdown",
   "id": "critical-circulation",
   "metadata": {},
   "source": [
    "# 1) Reading Data <a class=\"anchor\" id=\"reading_data\"></a>\n",
    "[To contents](#contents)"
   ]
  },
  {
   "cell_type": "code",
   "execution_count": 191,
   "id": "guided-sudan",
   "metadata": {},
   "outputs": [],
   "source": [
    "# basic imports\n",
    "import joblib\n",
    "import numpy as np\n",
    "import pandas as pd\n",
    "import seaborn as sns \n",
    "import matplotlib.pyplot as plt\n",
    "%matplotlib inline\n",
    "import warnings\n",
    "warnings.filterwarnings(\"ignore\")\n",
    "\n",
    "# cross-validation\n",
    "from sklearn.model_selection import cross_val_score\n",
    "from sklearn.model_selection import GridSearchCV\n",
    "\n",
    "# view parameters\n",
    "from sklearn import set_config\n",
    "set_config(print_changed_only=False)\n",
    "\n",
    "# models\n",
    "from sklearn.ensemble import RandomForestClassifier\n",
    "\n",
    "# model selection\n",
    "from time import time\n",
    "from sklearn.metrics import accuracy_score, precision_score, recall_score"
   ]
  },
  {
   "cell_type": "code",
   "execution_count": 192,
   "id": "round-roads",
   "metadata": {},
   "outputs": [],
   "source": [
    "# read in cleaned data from titanic.ipynb\n",
    "train = pd.read_csv('data/train_cleaned.csv')\n",
    "test = pd.read_csv('data/test_cleaned.csv')\n",
    "\n",
    "X_train = pd.read_csv('data/split/train_features.csv')\n",
    "X_val = pd.read_csv('data/split/val_features.csv')\n",
    "X_test = pd.read_csv('data/split/test_features.csv')\n",
    "\n",
    "y_train = pd.read_csv('data/split/train_labels.csv')\n",
    "y_val = pd.read_csv('data/split/val_labels.csv')\n",
    "y_test = pd.read_csv('data/split/test_labels.csv')"
   ]
  },
  {
   "cell_type": "code",
   "execution_count": 193,
   "id": "monetary-parks",
   "metadata": {},
   "outputs": [
    {
     "data": {
      "image/png": "[encoded data removed]",
      "text/plain": [
       "<Figure size 432x360 with 2 Axes>"
      ]
     },
     "metadata": {
      "needs_background": "light"
     },
     "output_type": "display_data"
    }
   ],
   "source": [
    "# generate correlation matrix heat map\n",
    "plt.figure(figsize = (6,5))\n",
    "matrix = np.triu(train.corr())\n",
    "sns.heatmap(train.corr(), annot=True, fmt='.1f', vmin=-1, vmax=1, center= 0, cmap= 'coolwarm', mask=matrix);"
   ]
  },
  {
   "cell_type": "markdown",
   "id": "surrounded-arbor",
   "metadata": {},
   "source": [
    "# 2) Training Random Forest <a class=\"anchor\" id=\"training_models\"></a>\n",
    "[To contents](#contents)\n",
    "- Use the training dataset using 5-Fold Cross-Validaiton to get a basic idea of the model's performance\n",
    "- 5-Fold Cross-Validation shows the accuracy of the model when training on different subsets of the data"
   ]
  },
  {
   "cell_type": "code",
   "execution_count": 194,
   "id": "better-collapse",
   "metadata": {},
   "outputs": [],
   "source": [
    "# prints results of GridSearchCV\n",
    "def print_results(results):\n",
    "    print('BEST PARAMS: {}\\n'.format(results.best_params_))\n",
    "    \n",
    "    means = results.cv_results_['mean_test_score']\n",
    "    stds = results.cv_results_['std_test_score']\n",
    "    for mean, std, params in zip(means, stds, results.cv_results_['params']):\n",
    "        # prints mean and 2 standard deviations to each side\n",
    "        print('{} (+/-{}) for {}'.format(round(mean, 3), round(std * 2, 3), params))"
   ]
  },
  {
   "cell_type": "code",
   "execution_count": 196,
   "id": "present-dressing",
   "metadata": {},
   "outputs": [
    {
     "data": {
      "text/plain": [
       "RandomForestClassifier(bootstrap=True, ccp_alpha=0.0, class_weight=None,\n",
       "                       criterion='gini', max_depth=None, max_features='auto',\n",
       "                       max_leaf_nodes=None, max_samples=None,\n",
       "                       min_impurity_decrease=0.0, min_impurity_split=None,\n",
       "                       min_samples_leaf=1, min_samples_split=2,\n",
       "                       min_weight_fraction_leaf=0.0, n_estimators=100,\n",
       "                       n_jobs=None, oob_score=False, random_state=None,\n",
       "                       verbose=0, warm_start=False)"
      ]
     },
     "execution_count": 196,
     "metadata": {},
     "output_type": "execute_result"
    }
   ],
   "source": [
    "# view parameters\n",
    "RandomForestClassifier()"
   ]
  },
  {
   "cell_type": "code",
   "execution_count": 287,
   "id": "enhanced-billion",
   "metadata": {
    "scrolled": false
   },
   "outputs": [
    {
     "name": "stdout",
     "output_type": "stream",
     "text": [
      "BEST PARAMS: {'bootstrap': True, 'max_depth': 8, 'max_features': 'sqrt', 'n_estimators': 25}\n",
      "\n",
      "0.837 (+/-0.082) for {'bootstrap': True, 'max_depth': 4, 'max_features': 'auto', 'n_estimators': 25}\n",
      "0.843 (+/-0.076) for {'bootstrap': True, 'max_depth': 4, 'max_features': 'auto', 'n_estimators': 50}\n",
      "0.845 (+/-0.077) for {'bootstrap': True, 'max_depth': 4, 'max_features': 'auto', 'n_estimators': 100}\n",
      "0.854 (+/-0.059) for {'bootstrap': True, 'max_depth': 4, 'max_features': 'sqrt', 'n_estimators': 25}\n",
      "0.848 (+/-0.057) for {'bootstrap': True, 'max_depth': 4, 'max_features': 'sqrt', 'n_estimators': 50}\n",
      "0.852 (+/-0.065) for {'bootstrap': True, 'max_depth': 4, 'max_features': 'sqrt', 'n_estimators': 100}\n",
      "0.85 (+/-0.05) for {'bootstrap': True, 'max_depth': 4, 'max_features': 'log2', 'n_estimators': 25}\n",
      "0.847 (+/-0.08) for {'bootstrap': True, 'max_depth': 4, 'max_features': 'log2', 'n_estimators': 50}\n",
      "0.852 (+/-0.058) for {'bootstrap': True, 'max_depth': 4, 'max_features': 'log2', 'n_estimators': 100}\n",
      "0.845 (+/-0.063) for {'bootstrap': True, 'max_depth': 6, 'max_features': 'auto', 'n_estimators': 25}\n",
      "0.848 (+/-0.047) for {'bootstrap': True, 'max_depth': 6, 'max_features': 'auto', 'n_estimators': 50}\n",
      "0.85 (+/-0.051) for {'bootstrap': True, 'max_depth': 6, 'max_features': 'auto', 'n_estimators': 100}\n",
      "0.854 (+/-0.048) for {'bootstrap': True, 'max_depth': 6, 'max_features': 'sqrt', 'n_estimators': 25}\n",
      "0.848 (+/-0.057) for {'bootstrap': True, 'max_depth': 6, 'max_features': 'sqrt', 'n_estimators': 50}\n",
      "0.85 (+/-0.051) for {'bootstrap': True, 'max_depth': 6, 'max_features': 'sqrt', 'n_estimators': 100}\n",
      "0.852 (+/-0.079) for {'bootstrap': True, 'max_depth': 6, 'max_features': 'log2', 'n_estimators': 25}\n",
      "0.846 (+/-0.053) for {'bootstrap': True, 'max_depth': 6, 'max_features': 'log2', 'n_estimators': 50}\n",
      "0.846 (+/-0.053) for {'bootstrap': True, 'max_depth': 6, 'max_features': 'log2', 'n_estimators': 100}\n",
      "0.846 (+/-0.056) for {'bootstrap': True, 'max_depth': 8, 'max_features': 'auto', 'n_estimators': 25}\n",
      "0.843 (+/-0.052) for {'bootstrap': True, 'max_depth': 8, 'max_features': 'auto', 'n_estimators': 50}\n",
      "0.843 (+/-0.046) for {'bootstrap': True, 'max_depth': 8, 'max_features': 'auto', 'n_estimators': 100}\n",
      "0.856 (+/-0.032) for {'bootstrap': True, 'max_depth': 8, 'max_features': 'sqrt', 'n_estimators': 25}\n",
      "0.846 (+/-0.053) for {'bootstrap': True, 'max_depth': 8, 'max_features': 'sqrt', 'n_estimators': 50}\n",
      "0.845 (+/-0.048) for {'bootstrap': True, 'max_depth': 8, 'max_features': 'sqrt', 'n_estimators': 100}\n",
      "0.848 (+/-0.059) for {'bootstrap': True, 'max_depth': 8, 'max_features': 'log2', 'n_estimators': 25}\n",
      "0.845 (+/-0.051) for {'bootstrap': True, 'max_depth': 8, 'max_features': 'log2', 'n_estimators': 50}\n",
      "0.848 (+/-0.043) for {'bootstrap': True, 'max_depth': 8, 'max_features': 'log2', 'n_estimators': 100}\n",
      "0.843 (+/-0.056) for {'bootstrap': True, 'max_depth': 10, 'max_features': 'auto', 'n_estimators': 25}\n",
      "0.831 (+/-0.033) for {'bootstrap': True, 'max_depth': 10, 'max_features': 'auto', 'n_estimators': 50}\n",
      "0.845 (+/-0.048) for {'bootstrap': True, 'max_depth': 10, 'max_features': 'auto', 'n_estimators': 100}\n",
      "0.845 (+/-0.048) for {'bootstrap': True, 'max_depth': 10, 'max_features': 'sqrt', 'n_estimators': 25}\n",
      "0.845 (+/-0.052) for {'bootstrap': True, 'max_depth': 10, 'max_features': 'sqrt', 'n_estimators': 50}\n",
      "0.843 (+/-0.046) for {'bootstrap': True, 'max_depth': 10, 'max_features': 'sqrt', 'n_estimators': 100}\n",
      "0.845 (+/-0.048) for {'bootstrap': True, 'max_depth': 10, 'max_features': 'log2', 'n_estimators': 25}\n",
      "0.846 (+/-0.045) for {'bootstrap': True, 'max_depth': 10, 'max_features': 'log2', 'n_estimators': 50}\n",
      "0.845 (+/-0.048) for {'bootstrap': True, 'max_depth': 10, 'max_features': 'log2', 'n_estimators': 100}\n",
      "0.845 (+/-0.052) for {'bootstrap': True, 'max_depth': None, 'max_features': 'auto', 'n_estimators': 25}\n",
      "0.845 (+/-0.055) for {'bootstrap': True, 'max_depth': None, 'max_features': 'auto', 'n_estimators': 50}\n",
      "0.843 (+/-0.046) for {'bootstrap': True, 'max_depth': None, 'max_features': 'auto', 'n_estimators': 100}\n",
      "0.841 (+/-0.056) for {'bootstrap': True, 'max_depth': None, 'max_features': 'sqrt', 'n_estimators': 25}\n",
      "0.841 (+/-0.05) for {'bootstrap': True, 'max_depth': None, 'max_features': 'sqrt', 'n_estimators': 50}\n",
      "0.843 (+/-0.046) for {'bootstrap': True, 'max_depth': None, 'max_features': 'sqrt', 'n_estimators': 100}\n",
      "0.845 (+/-0.048) for {'bootstrap': True, 'max_depth': None, 'max_features': 'log2', 'n_estimators': 25}\n",
      "0.841 (+/-0.051) for {'bootstrap': True, 'max_depth': None, 'max_features': 'log2', 'n_estimators': 50}\n",
      "0.846 (+/-0.053) for {'bootstrap': True, 'max_depth': None, 'max_features': 'log2', 'n_estimators': 100}\n",
      "0.837 (+/-0.064) for {'bootstrap': False, 'max_depth': 4, 'max_features': 'auto', 'n_estimators': 25}\n",
      "0.845 (+/-0.08) for {'bootstrap': False, 'max_depth': 4, 'max_features': 'auto', 'n_estimators': 50}\n",
      "0.848 (+/-0.058) for {'bootstrap': False, 'max_depth': 4, 'max_features': 'auto', 'n_estimators': 100}\n",
      "0.839 (+/-0.071) for {'bootstrap': False, 'max_depth': 4, 'max_features': 'sqrt', 'n_estimators': 25}\n",
      "0.841 (+/-0.072) for {'bootstrap': False, 'max_depth': 4, 'max_features': 'sqrt', 'n_estimators': 50}\n",
      "0.839 (+/-0.068) for {'bootstrap': False, 'max_depth': 4, 'max_features': 'sqrt', 'n_estimators': 100}\n",
      "0.835 (+/-0.061) for {'bootstrap': False, 'max_depth': 4, 'max_features': 'log2', 'n_estimators': 25}\n",
      "0.848 (+/-0.058) for {'bootstrap': False, 'max_depth': 4, 'max_features': 'log2', 'n_estimators': 50}\n",
      "0.839 (+/-0.068) for {'bootstrap': False, 'max_depth': 4, 'max_features': 'log2', 'n_estimators': 100}\n",
      "0.848 (+/-0.047) for {'bootstrap': False, 'max_depth': 6, 'max_features': 'auto', 'n_estimators': 25}\n",
      "0.845 (+/-0.055) for {'bootstrap': False, 'max_depth': 6, 'max_features': 'auto', 'n_estimators': 50}\n",
      "0.845 (+/-0.046) for {'bootstrap': False, 'max_depth': 6, 'max_features': 'auto', 'n_estimators': 100}\n",
      "0.846 (+/-0.045) for {'bootstrap': False, 'max_depth': 6, 'max_features': 'sqrt', 'n_estimators': 25}\n",
      "0.841 (+/-0.047) for {'bootstrap': False, 'max_depth': 6, 'max_features': 'sqrt', 'n_estimators': 50}\n",
      "0.846 (+/-0.043) for {'bootstrap': False, 'max_depth': 6, 'max_features': 'sqrt', 'n_estimators': 100}\n",
      "0.843 (+/-0.053) for {'bootstrap': False, 'max_depth': 6, 'max_features': 'log2', 'n_estimators': 25}\n",
      "0.848 (+/-0.047) for {'bootstrap': False, 'max_depth': 6, 'max_features': 'log2', 'n_estimators': 50}\n",
      "0.848 (+/-0.047) for {'bootstrap': False, 'max_depth': 6, 'max_features': 'log2', 'n_estimators': 100}\n",
      "0.845 (+/-0.048) for {'bootstrap': False, 'max_depth': 8, 'max_features': 'auto', 'n_estimators': 25}\n",
      "0.846 (+/-0.053) for {'bootstrap': False, 'max_depth': 8, 'max_features': 'auto', 'n_estimators': 50}\n",
      "0.845 (+/-0.048) for {'bootstrap': False, 'max_depth': 8, 'max_features': 'auto', 'n_estimators': 100}\n",
      "0.845 (+/-0.048) for {'bootstrap': False, 'max_depth': 8, 'max_features': 'sqrt', 'n_estimators': 25}\n",
      "0.843 (+/-0.053) for {'bootstrap': False, 'max_depth': 8, 'max_features': 'sqrt', 'n_estimators': 50}\n",
      "0.845 (+/-0.048) for {'bootstrap': False, 'max_depth': 8, 'max_features': 'sqrt', 'n_estimators': 100}\n",
      "0.845 (+/-0.048) for {'bootstrap': False, 'max_depth': 8, 'max_features': 'log2', 'n_estimators': 25}\n",
      "0.845 (+/-0.048) for {'bootstrap': False, 'max_depth': 8, 'max_features': 'log2', 'n_estimators': 50}\n",
      "0.843 (+/-0.053) for {'bootstrap': False, 'max_depth': 8, 'max_features': 'log2', 'n_estimators': 100}\n",
      "0.841 (+/-0.05) for {'bootstrap': False, 'max_depth': 10, 'max_features': 'auto', 'n_estimators': 25}\n",
      "0.841 (+/-0.05) for {'bootstrap': False, 'max_depth': 10, 'max_features': 'auto', 'n_estimators': 50}\n",
      "0.841 (+/-0.05) for {'bootstrap': False, 'max_depth': 10, 'max_features': 'auto', 'n_estimators': 100}\n",
      "0.841 (+/-0.05) for {'bootstrap': False, 'max_depth': 10, 'max_features': 'sqrt', 'n_estimators': 25}\n",
      "0.839 (+/-0.054) for {'bootstrap': False, 'max_depth': 10, 'max_features': 'sqrt', 'n_estimators': 50}\n",
      "0.843 (+/-0.046) for {'bootstrap': False, 'max_depth': 10, 'max_features': 'sqrt', 'n_estimators': 100}\n",
      "0.841 (+/-0.05) for {'bootstrap': False, 'max_depth': 10, 'max_features': 'log2', 'n_estimators': 25}\n",
      "0.843 (+/-0.052) for {'bootstrap': False, 'max_depth': 10, 'max_features': 'log2', 'n_estimators': 50}\n",
      "0.843 (+/-0.052) for {'bootstrap': False, 'max_depth': 10, 'max_features': 'log2', 'n_estimators': 100}\n",
      "0.841 (+/-0.05) for {'bootstrap': False, 'max_depth': None, 'max_features': 'auto', 'n_estimators': 25}\n",
      "0.841 (+/-0.05) for {'bootstrap': False, 'max_depth': None, 'max_features': 'auto', 'n_estimators': 50}\n",
      "0.839 (+/-0.054) for {'bootstrap': False, 'max_depth': None, 'max_features': 'auto', 'n_estimators': 100}\n",
      "0.839 (+/-0.054) for {'bootstrap': False, 'max_depth': None, 'max_features': 'sqrt', 'n_estimators': 25}\n",
      "0.839 (+/-0.054) for {'bootstrap': False, 'max_depth': None, 'max_features': 'sqrt', 'n_estimators': 50}\n",
      "0.837 (+/-0.049) for {'bootstrap': False, 'max_depth': None, 'max_features': 'sqrt', 'n_estimators': 100}\n",
      "0.841 (+/-0.05) for {'bootstrap': False, 'max_depth': None, 'max_features': 'log2', 'n_estimators': 25}\n",
      "0.841 (+/-0.05) for {'bootstrap': False, 'max_depth': None, 'max_features': 'log2', 'n_estimators': 50}\n",
      "0.841 (+/-0.05) for {'bootstrap': False, 'max_depth': None, 'max_features': 'log2', 'n_estimators': 100}\n"
     ]
    }
   ],
   "source": [
    "# fit model (remove parameters for faster training)\n",
    "rf = RandomForestClassifier()\n",
    "parameters = {\n",
    "    'bootstrap': [True, False],\n",
    "    'max_depth': [4, 6, 8, 10, None],\n",
    "    'max_features': ['auto', 'sqrt', 'log2'],\n",
    "    'n_estimators': [25, 50, 100]\n",
    "}\n",
    "\n",
    "cv = GridSearchCV(rf, parameters, cv=5)\n",
    "cv.fit(X_train, y_train.values.ravel())\n",
    "\n",
    "print_results(cv)"
   ]
  },
  {
   "cell_type": "code",
   "execution_count": 288,
   "id": "subjective-cinema",
   "metadata": {},
   "outputs": [
    {
     "data": {
      "image/png": "[encoded data removed]",
      "text/plain": [
       "<Figure size 432x288 with 1 Axes>"
      ]
     },
     "metadata": {
      "needs_background": "light"
     },
     "output_type": "display_data"
    }
   ],
   "source": [
    "# generate feature importance plot\n",
    "feat_imp = cv.best_estimator_.feature_importances_\n",
    "indices = np.argsort(feat_imp)\n",
    "plt.yticks(range(len(indices)), [X_train.columns[i] for i in indices])\n",
    "plt.barh(range(len(indices)), feat_imp[indices], color='r', align='center')\n",
    "plt.show()"
   ]
  },
  {
   "cell_type": "markdown",
   "id": "quiet-basket",
   "metadata": {},
   "source": [
    "## 3) Evaluation Statistics<a class=\"anchor\" id=\"evaluation_statistics\"></a>\n",
    "[To contents](#contents)\n",
    "- Accuracy = # predicted correctly/total # examples\n",
    "- Precision = # predicted to survive that actually survived / total # predicted to survive\n",
    "- Recall = # predicted to survive that actually survived / total # that actually survived"
   ]
  },
  {
   "cell_type": "code",
   "execution_count": 289,
   "id": "guilty-virus",
   "metadata": {},
   "outputs": [],
   "source": [
    "# evaluates prediction time, accuracy, precision, recall\n",
    "def evaluate_model(name, model, features, labels):\n",
    "    start = time()\n",
    "    pred = model.predict(features)\n",
    "    end = time()\n",
    "    accuracy = round(accuracy_score(labels, pred), 3)\n",
    "    precision = round(precision_score(labels, pred), 3)\n",
    "    recall = round(recall_score(labels, pred), 3)\n",
    "    print('{} -- Accuracy: {} / Precision: {} / Recall: {} / Latency: {}ms'.format(name,\n",
    "                                                                                   accuracy,\n",
    "                                                                                   precision,\n",
    "                                                                                   recall,\n",
    "                                                                                   round((end - start)*1000, 1)))"
   ]
  },
  {
   "cell_type": "code",
   "execution_count": 290,
   "id": "formed-induction",
   "metadata": {},
   "outputs": [
    {
     "name": "stdout",
     "output_type": "stream",
     "text": [
      "random_forest -- Accuracy: 0.812 / Precision: 0.808 / Recall: 0.688 / Latency: 5.3ms\n"
     ]
    }
   ],
   "source": [
    "# final evaluation of best model on test set\n",
    "evaluate_model('random_forest', cv.best_estimator_, X_test.append(X_val), y_test.append(y_val))"
   ]
  },
  {
   "cell_type": "code",
   "execution_count": 291,
   "id": "adjustable-nursing",
   "metadata": {},
   "outputs": [
    {
     "name": "stdout",
     "output_type": "stream",
     "text": [
      "gradient_boosting -- Accuracy: 0.818 / Precision: 0.811 / Recall: 0.702 / Latency: 6.4ms\n"
     ]
    }
   ],
   "source": [
    "# further hyperparameter tuning\n",
    "parameters = {'bootstrap': False, 'min_samples_leaf': 3, 'n_estimators': 50, \n",
    "              'min_samples_split': 10, 'max_features': 'sqrt', 'max_depth': 6}\n",
    "final_rf = RandomForestClassifier(**parameters)\n",
    "final_rf.fit(X_train, y_train)\n",
    "\n",
    "# final evaluation\n",
    "evaluate_model('gradient_boosting', final_rf, X_test.append(X_val), y_test.append(y_val))"
   ]
  },
  {
   "cell_type": "markdown",
   "id": "classical-needle",
   "metadata": {},
   "source": [
    "# 4) Final Training and Submission<a class=\"anchor\" id=\"final_training_and_submission\"></a>\n",
    "[To contents](#contents)\n",
    "- Train the model on the entire training set and create a submission"
   ]
  },
  {
   "cell_type": "code",
   "execution_count": 292,
   "id": "vertical-processing",
   "metadata": {},
   "outputs": [],
   "source": [
    "# import all cleaned data\n",
    "features = train.drop(columns='Survived')\n",
    "labels = train['Survived'].values.ravel()"
   ]
  },
  {
   "cell_type": "code",
   "execution_count": 293,
   "id": "configured-questionnaire",
   "metadata": {},
   "outputs": [
    {
     "data": {
      "text/plain": [
       "['models/best_model.pkl']"
      ]
     },
     "execution_count": 293,
     "metadata": {},
     "output_type": "execute_result"
    }
   ],
   "source": [
    "# fit on complete training data\n",
    "final_rf = RandomForestClassifier(**parameters)\n",
    "final_rf.fit(features, labels)\n",
    "joblib.dump(final_rf, 'models/best_model.pkl')"
   ]
  },
  {
   "cell_type": "code",
   "execution_count": 294,
   "id": "given-jurisdiction",
   "metadata": {},
   "outputs": [],
   "source": [
    "# write out submission\n",
    "ids = pd.read_csv('data/test.csv')['PassengerId']\n",
    "def submission(name, model):\n",
    "    predictions = model.predict(test)\n",
    "    predictions = predictions.astype(int)\n",
    "    output = pd.DataFrame({'PassengerId' : ids, 'Survived': predictions})\n",
    "    output.to_csv('submissions/{}_submission.csv'.format(name), index = False)\n",
    "\n",
    "submission('best', joblib.load('models/best_model.pkl'))"
   ]
  },
  {
   "cell_type": "markdown",
   "id": "judicial-judgment",
   "metadata": {},
   "source": [
    "# 5) Results<a class=\"anchor\" id=\"results\"></a>\n",
    "[To contents](#contents)\n",
    "- Random Forest: 0.81100\n",
    "- Rank: 303/13438 (top 2.25%)\n",
    "- Rank (eliminate cheat submissions): 137/13272 (top 1.03%)"
   ]
  },
  {
   "cell_type": "code",
   "execution_count": null,
   "id": "descending-concentration",
   "metadata": {},
   "outputs": [],
   "source": []
  }
 ],
 "metadata": {
  "kernelspec": {
   "display_name": "Python 3",
   "language": "python",
   "name": "python3"
  }
 },
 "nbformat": 4,
 "nbformat_minor": 5
}
