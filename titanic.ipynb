{
 "cells": [
  {
   "cell_type": "markdown",
   "id": "massive-likelihood",
   "metadata": {},
   "source": [
    "# Titanic - Machine Learning from Disaster | Kaggle Competition\n",
    "- Link to competition [here](https://www.kaggle.com/c/titanic/overview)"
   ]
  },
  {
   "cell_type": "markdown",
   "id": "smoking-underwear",
   "metadata": {},
   "source": [
    "## Contents<a class=\"anchor\" id=\"contents\"></a>\n",
    "1. [Data Exploration](#data_exploration)\n",
    "    1. [Initial Exploration](#initial_exploration)\n",
    "        1. [Variable Dictionary](#variable_dictionary)\n",
    "        2. [Survival](#survival)\n",
    "        3. [NaN Values](#nan_values)\n",
    "    2. [Categorical Features](#categorical_features)\n",
    "        1. [Name](#name)\n",
    "        2. [Sex](#sex)\n",
    "        3. [Cabin](#cabin)\n",
    "        4. [Embarked](#embarked)\n",
    "    3. [Continuous Features](#continuous_features)\n",
    "        1. [Correlation & Significance](#correlation_significance)\n",
    "        2. [Pclass](#pclass)\n",
    "        3. [Age](#age)\n",
    "        4. [Sibsp & Parch](#sibsp_parch)\n",
    "        5. [Family Matters](#family_matters)\n",
    "        6. [Fare](#fare)\n",
    "    4. [Further Cleaning](#further_cleaning)\n",
    "        1. [Capping](#capping)\n",
    "        2. [Transforming Skewed Features](#transforming_skewed_features)\n",
    "2. [Creating Data Files](#creating_data_files)\n",
    "    1. [Dropping Columns](#dropping_columns)\n",
    "    2. [Scaling](#scaling)\n",
    "    3. [Splitting Up Data](#splitting_up_data)\n",
    "3. [Training Models](#training_models)\n",
    "    1. [Logistic Regression](#logistic_regression)\n",
    "    2. [Support Vector Machine](#support_vector_machine)\n",
    "    3. [Multilayer Perceptron](#multilayer_perceptron)\n",
    "    4. [Random Forest](#random_forest)\n",
    "    5. [Gradient Boosting](#gradient_boosting)\n",
    "5. [Model Selection](#model_selection)\n",
    "    1. [Evaluation Statistics](#evaluation_statistics)\n",
    "5. [Final Training and Submission](#final_training_and_submission)\n",
    "6. [Results](#results)"
   ]
  },
  {
   "cell_type": "code",
   "execution_count": 2,
   "id": "guided-sudan",
   "metadata": {},
   "outputs": [],
   "source": [
    "# basic imports\n",
    "import numpy as np\n",
    "import pandas as pd\n",
    "%matplotlib inline\n",
    "import warnings\n",
    "warnings.filterwarnings(\"ignore\")\n",
    "\n",
    "# visualization\n",
    "import seaborn as sns \n",
    "import matplotlib.pyplot as plt\n",
    "\n",
    "# statistics\n",
    "from scipy import stats\n",
    "from statsmodels.graphics.gofplots import qqplot\n",
    "\n",
    "# preprocessing\n",
    "from sklearn.preprocessing import LabelEncoder\n",
    "from sklearn.preprocessing import StandardScaler\n",
    "\n",
    "# splitting data\n",
    "from sklearn.model_selection import train_test_split\n",
    "\n",
    "# cross-validation\n",
    "from sklearn.model_selection import cross_val_score\n",
    "from sklearn.model_selection import GridSearchCV\n",
    "\n",
    "# view parameters\n",
    "from sklearn import set_config\n",
    "set_config(print_changed_only=False)\n",
    "\n",
    "# models\n",
    "import joblib\n",
    "from sklearn.linear_model import LogisticRegression\n",
    "from sklearn.svm import SVC\n",
    "from sklearn.neural_network import MLPRegressor, MLPClassifier\n",
    "from sklearn.ensemble import RandomForestClassifier, RandomForestRegressor\n",
    "from sklearn.ensemble import GradientBoostingClassifier, GradientBoostingRegressor\n",
    "\n",
    "# model selection\n",
    "from time import time\n",
    "from sklearn.metrics import accuracy_score, precision_score, recall_score"
   ]
  },
  {
   "cell_type": "code",
   "execution_count": 3,
   "id": "intended-bachelor",
   "metadata": {},
   "outputs": [
    {
     "data": {
      "text/plain": [
       "array([0.1, 0.2, 0.3, 0.4, 0.5, 0.6, 0.7, 0.8, 0.9, 1. ])"
      ]
     },
     "execution_count": 3,
     "metadata": {},
     "output_type": "execute_result"
    }
   ],
   "source": [
    "np.linspace(0.1, 1.0, 10, endpoint=True)"
   ]
  },
  {
   "cell_type": "markdown",
   "id": "great-vatican",
   "metadata": {},
   "source": [
    "# 1) Data Exploration <a class=\"anchor\" id=\"data_exploration\"></a>\n",
    "[To contents](#contents)"
   ]
  },
  {
   "cell_type": "code",
   "execution_count": 1483,
   "id": "through-navigation",
   "metadata": {
    "scrolled": false
   },
   "outputs": [
    {
     "data": {
      "text/html": [
       "<div>\n",
       "<style scoped>\n",
       "    .dataframe tbody tr th:only-of-type {\n",
       "        vertical-align: middle;\n",
       "    }\n",
       "\n",
       "    .dataframe tbody tr th {\n",
       "        vertical-align: top;\n",
       "    }\n",
       "\n",
       "    .dataframe thead th {\n",
       "        text-align: right;\n",
       "    }\n",
       "</style>\n",
       "<table border=\"1\" class=\"dataframe\">\n",
       "  <thead>\n",
       "    <tr style=\"text-align: right;\">\n",
       "      <th></th>\n",
       "      <th>PassengerId</th>\n",
       "      <th>Survived</th>\n",
       "      <th>Pclass</th>\n",
       "      <th>Name</th>\n",
       "      <th>Sex</th>\n",
       "      <th>Age</th>\n",
       "      <th>SibSp</th>\n",
       "      <th>Parch</th>\n",
       "      <th>Ticket</th>\n",
       "      <th>Fare</th>\n",
       "      <th>Cabin</th>\n",
       "      <th>Embarked</th>\n",
       "    </tr>\n",
       "  </thead>\n",
       "  <tbody>\n",
       "    <tr>\n",
       "      <th>0</th>\n",
       "      <td>1</td>\n",
       "      <td>0</td>\n",
       "      <td>3</td>\n",
       "      <td>Braund, Mr. Owen Harris</td>\n",
       "      <td>male</td>\n",
       "      <td>22.0</td>\n",
       "      <td>1</td>\n",
       "      <td>0</td>\n",
       "      <td>A/5 21171</td>\n",
       "      <td>7.2500</td>\n",
       "      <td>NaN</td>\n",
       "      <td>S</td>\n",
       "    </tr>\n",
       "    <tr>\n",
       "      <th>1</th>\n",
       "      <td>2</td>\n",
       "      <td>1</td>\n",
       "      <td>1</td>\n",
       "      <td>Cumings, Mrs. John Bradley (Florence Briggs Th...</td>\n",
       "      <td>female</td>\n",
       "      <td>38.0</td>\n",
       "      <td>1</td>\n",
       "      <td>0</td>\n",
       "      <td>PC 17599</td>\n",
       "      <td>71.2833</td>\n",
       "      <td>C85</td>\n",
       "      <td>C</td>\n",
       "    </tr>\n",
       "    <tr>\n",
       "      <th>2</th>\n",
       "      <td>3</td>\n",
       "      <td>1</td>\n",
       "      <td>3</td>\n",
       "      <td>Heikkinen, Miss. Laina</td>\n",
       "      <td>female</td>\n",
       "      <td>26.0</td>\n",
       "      <td>0</td>\n",
       "      <td>0</td>\n",
       "      <td>STON/O2. 3101282</td>\n",
       "      <td>7.9250</td>\n",
       "      <td>NaN</td>\n",
       "      <td>S</td>\n",
       "    </tr>\n",
       "    <tr>\n",
       "      <th>3</th>\n",
       "      <td>4</td>\n",
       "      <td>1</td>\n",
       "      <td>1</td>\n",
       "      <td>Futrelle, Mrs. Jacques Heath (Lily May Peel)</td>\n",
       "      <td>female</td>\n",
       "      <td>35.0</td>\n",
       "      <td>1</td>\n",
       "      <td>0</td>\n",
       "      <td>113803</td>\n",
       "      <td>53.1000</td>\n",
       "      <td>C123</td>\n",
       "      <td>S</td>\n",
       "    </tr>\n",
       "    <tr>\n",
       "      <th>4</th>\n",
       "      <td>5</td>\n",
       "      <td>0</td>\n",
       "      <td>3</td>\n",
       "      <td>Allen, Mr. William Henry</td>\n",
       "      <td>male</td>\n",
       "      <td>35.0</td>\n",
       "      <td>0</td>\n",
       "      <td>0</td>\n",
       "      <td>373450</td>\n",
       "      <td>8.0500</td>\n",
       "      <td>NaN</td>\n",
       "      <td>S</td>\n",
       "    </tr>\n",
       "  </tbody>\n",
       "</table>\n",
       "</div>"
      ],
      "text/plain": [
       "   PassengerId  Survived  Pclass  \\\n",
       "0            1         0       3   \n",
       "1            2         1       1   \n",
       "2            3         1       3   \n",
       "3            4         1       1   \n",
       "4            5         0       3   \n",
       "\n",
       "                                                Name     Sex   Age  SibSp  \\\n",
       "0                            Braund, Mr. Owen Harris    male  22.0      1   \n",
       "1  Cumings, Mrs. John Bradley (Florence Briggs Th...  female  38.0      1   \n",
       "2                             Heikkinen, Miss. Laina  female  26.0      0   \n",
       "3       Futrelle, Mrs. Jacques Heath (Lily May Peel)  female  35.0      1   \n",
       "4                           Allen, Mr. William Henry    male  35.0      0   \n",
       "\n",
       "   Parch            Ticket     Fare Cabin Embarked  \n",
       "0      0         A/5 21171   7.2500   NaN        S  \n",
       "1      0          PC 17599  71.2833   C85        C  \n",
       "2      0  STON/O2. 3101282   7.9250   NaN        S  \n",
       "3      0            113803  53.1000  C123        S  \n",
       "4      0            373450   8.0500   NaN        S  "
      ]
     },
     "execution_count": 1483,
     "metadata": {},
     "output_type": "execute_result"
    }
   ],
   "source": [
    "# import training data\n",
    "train = pd.read_csv('data/train.csv')\n",
    "# import test data\n",
    "test = pd.read_csv('data/test.csv')\n",
    "train.head(5)"
   ]
  },
  {
   "cell_type": "markdown",
   "id": "regulated-hacker",
   "metadata": {},
   "source": [
    "## A) Initial Exploration<a class=\"anchor\" id=\"initial_exploration\"></a>\n",
    "[To contents](#contents)"
   ]
  },
  {
   "cell_type": "markdown",
   "id": "interesting-leonard",
   "metadata": {},
   "source": [
    "### a) Variable Dictionary <a class=\"anchor\" id=\"variable_dictionary\"></a>\n",
    "[To contents](#contents)\n",
    "- **Name** (str) - Name of the passenger\n",
    "- **Pclass** (int) - Ticket class\n",
    "- **Sex** (str) - Sex of the passenger\n",
    "- **Age** (float) - Age in years\n",
    "- **SibSp** (int) - Number of siblings and spouses aboard\n",
    "- **Parch** (int) - Number of parents and children aboard\n",
    "- **Ticket** (str) - Ticket number\n",
    "- **Fare** (float) - Passenger fare\n",
    "- **Cabin** (str) - Cabin number\n",
    "- **Embarked** (str) - Port of embarkation (C = Cherbourg, Q = Queenstown, S = Southampton)"
   ]
  },
  {
   "cell_type": "markdown",
   "id": "unique-computer",
   "metadata": {},
   "source": [
    "### b) Survival <a class=\"anchor\" id=\"survival\"></a>\n",
    "[To contents](#contents)"
   ]
  },
  {
   "cell_type": "code",
   "execution_count": 1484,
   "id": "secondary-barbados",
   "metadata": {},
   "outputs": [
    {
     "name": "stdout",
     "output_type": "stream",
     "text": [
      "Training set size:  891\n",
      "Training set survived:  342\n",
      "Training set dead:  549\n"
     ]
    }
   ],
   "source": [
    "print('Training set size: ', len(train))\n",
    "print('Training set survived: ', sum(train['Survived']))\n",
    "print('Training set dead: ', len(train) - sum(train['Survived']))"
   ]
  },
  {
   "cell_type": "markdown",
   "id": "monetary-anatomy",
   "metadata": {},
   "source": [
    "### c) NaN Values<a class=\"anchor\" id=\"nan_values\"></a>\n",
    "[To contents](#contents)"
   ]
  },
  {
   "cell_type": "code",
   "execution_count": 1485,
   "id": "hydraulic-ethiopia",
   "metadata": {},
   "outputs": [
    {
     "name": "stdout",
     "output_type": "stream",
     "text": [
      "PassengerId      0\n",
      "Survived         0\n",
      "Pclass           0\n",
      "Name             0\n",
      "Sex              0\n",
      "Age            177\n",
      "SibSp            0\n",
      "Parch            0\n",
      "Ticket           0\n",
      "Fare             0\n",
      "Cabin          687\n",
      "Embarked         2\n",
      "dtype: int64\n",
      "PassengerId      0\n",
      "Pclass           0\n",
      "Name             0\n",
      "Sex              0\n",
      "Age             86\n",
      "SibSp            0\n",
      "Parch            0\n",
      "Ticket           0\n",
      "Fare             1\n",
      "Cabin          327\n",
      "Embarked         0\n",
      "dtype: int64\n"
     ]
    }
   ],
   "source": [
    "print(train.isnull().sum())\n",
    "print(test.isnull().sum())"
   ]
  },
  {
   "cell_type": "markdown",
   "id": "copyrighted-grammar",
   "metadata": {},
   "source": [
    "- There are four features with `NaN` values: `Age`, `Fare`, `Cabin`, `Embarked`\n",
    "- We will deal with these missing values later"
   ]
  },
  {
   "cell_type": "markdown",
   "id": "express-ideal",
   "metadata": {},
   "source": [
    "## B) Categorical Features <a class=\"anchor\" id=\"categorical_features\"></a>\n",
    "[To contents](#contents)\n",
    "- Includes `Name`, `Sex`, `Cabin`, and `Embarked`"
   ]
  },
  {
   "cell_type": "code",
   "execution_count": 1486,
   "id": "rocky-onion",
   "metadata": {},
   "outputs": [
    {
     "name": "stdout",
     "output_type": "stream",
     "text": [
      "Survived: 2 unique values\n",
      "Name: 891 unique values\n",
      "Sex: 2 unique values\n",
      "Ticket: 681 unique values\n",
      "Cabin: 147 unique values\n",
      "Embarked: 3 unique values\n"
     ]
    }
   ],
   "source": [
    "# explore the number of unique values for each feature\n",
    "for col in ['Survived', 'Name', 'Sex', 'Ticket', 'Cabin', 'Embarked']:\n",
    "    print('{}: {} unique values'.format(col, train[col].nunique()))"
   ]
  },
  {
   "cell_type": "markdown",
   "id": "adult-bubble",
   "metadata": {},
   "source": [
    "### a) Name <a class=\"anchor\" id=\"name\"></a>\n",
    "[To contents](#contents)\n",
    "- Create a `Title` feature by parsing passenger name\n",
    "- Title may be a proxy for status and could indicate survival"
   ]
  },
  {
   "cell_type": "code",
   "execution_count": 1487,
   "id": "fifty-flashing",
   "metadata": {},
   "outputs": [
    {
     "data": {
      "text/plain": [
       "Mr          757\n",
       "Miss        260\n",
       "Mrs         197\n",
       "Master       61\n",
       "Rev           8\n",
       "Dr            8\n",
       "Col           4\n",
       "Mlle          2\n",
       "Major         2\n",
       "Ms            2\n",
       "Lady          1\n",
       "Sir           1\n",
       "Mme           1\n",
       "Don           1\n",
       "Capt          1\n",
       "Countess      1\n",
       "Jonkheer      1\n",
       "Dona          1\n",
       "Name: Title, dtype: int64"
      ]
     },
     "execution_count": 1487,
     "metadata": {},
     "output_type": "execute_result"
    }
   ],
   "source": [
    "# parse passenger name\n",
    "whole = train.append(test)\n",
    "whole['Title'] = whole['Name'].str.extract(r'([A-Za-z]+)\\.', expand=False)\n",
    "whole['Title'].value_counts()"
   ]
  },
  {
   "cell_type": "code",
   "execution_count": 1488,
   "id": "annual-litigation",
   "metadata": {},
   "outputs": [],
   "source": [
    "# replace title with common titles\n",
    "common_title = ['Mr', 'Mrs', 'Master']\n",
    "whole['Title'].replace(['Lady', 'Miss', 'Ms', 'Mlle', 'Mme'], 'Mrs', inplace=True)\n",
    "whole['Title'].replace(['Sir', 'Rev'], 'Mr', inplace=True)\n",
    "whole['Title'][~whole['Title'].isin(common_title)] = 'Others'\n",
    "\n",
    "# convert back to train and test sets\n",
    "train = whole[:len(train)]\n",
    "test = whole[len(train):]"
   ]
  },
  {
   "cell_type": "code",
   "execution_count": 1489,
   "id": "pacific-double",
   "metadata": {
    "scrolled": false
   },
   "outputs": [
    {
     "data": {
      "image/png": "[encoded data removed]",
      "text/plain": [
       "<Figure size 576x288 with 1 Axes>"
      ]
     },
     "metadata": {
      "needs_background": "light"
     },
     "output_type": "display_data"
    }
   ],
   "source": [
    "sns.catplot(x='Title', y='Survived', data=train, kind='point', height=4, aspect=2);"
   ]
  },
  {
   "cell_type": "code",
   "execution_count": 1490,
   "id": "opening-costa",
   "metadata": {},
   "outputs": [],
   "source": [
    "# convert categorical to numerical\n",
    "\n",
    "# train data\n",
    "train['Title_Code'] = train['Title'].map({'Mr':0, 'Mrs':1, 'Master':2, 'Others':3}).astype('int')\n",
    "# test data\n",
    "test['Title_Code'] = test['Title'].map({'Mr':0, 'Mrs':1, 'Master':2, 'Others':3}).astype('int')"
   ]
  },
  {
   "cell_type": "markdown",
   "id": "rising-testament",
   "metadata": {},
   "source": [
    "### b) Sex <a class=\"anchor\" id=\"sex\"></a>\n",
    "[To contents](#contents)\n",
    "- Change `female` to `1` and `male` to `0`\n",
    "- Sex is correlated with title"
   ]
  },
  {
   "cell_type": "code",
   "execution_count": 1491,
   "id": "quarterly-desktop",
   "metadata": {},
   "outputs": [],
   "source": [
    "def sex(s):\n",
    "    if s == 'female':\n",
    "        return 1\n",
    "    if s == 'male':\n",
    "        return 0\n",
    "\n",
    "# train data\n",
    "train['Sex'] = train['Sex'].apply(sex)\n",
    "# test data\n",
    "test['Sex'] = test['Sex'].apply(sex)"
   ]
  },
  {
   "cell_type": "code",
   "execution_count": 1492,
   "id": "adapted-concord",
   "metadata": {},
   "outputs": [
    {
     "data": {
      "image/png": "[encoded data removed]",
      "text/plain": [
       "<Figure size 576x288 with 1 Axes>"
      ]
     },
     "metadata": {
      "needs_background": "light"
     },
     "output_type": "display_data"
    }
   ],
   "source": [
    "sns.catplot(x='Sex', y='Survived', data=train, kind='point', height=4, aspect=2);"
   ]
  },
  {
   "cell_type": "markdown",
   "id": "proved-receipt",
   "metadata": {},
   "source": [
    "- Sex is a major predictor of survivability\n",
    "- Males have significantly lower survival rates than females"
   ]
  },
  {
   "cell_type": "markdown",
   "id": "minus-queue",
   "metadata": {},
   "source": [
    "### c) Cabin <a class=\"anchor\" id=\"cabin\"></a>\n",
    "[To contents](#contents)"
   ]
  },
  {
   "cell_type": "code",
   "execution_count": 1493,
   "id": "round-fossil",
   "metadata": {},
   "outputs": [
    {
     "data": {
      "text/html": [
       "<div>\n",
       "<style scoped>\n",
       "    .dataframe tbody tr th:only-of-type {\n",
       "        vertical-align: middle;\n",
       "    }\n",
       "\n",
       "    .dataframe tbody tr th {\n",
       "        vertical-align: top;\n",
       "    }\n",
       "\n",
       "    .dataframe thead th {\n",
       "        text-align: right;\n",
       "    }\n",
       "</style>\n",
       "<table border=\"1\" class=\"dataframe\">\n",
       "  <thead>\n",
       "    <tr style=\"text-align: right;\">\n",
       "      <th></th>\n",
       "      <th>PassengerId</th>\n",
       "      <th>Survived</th>\n",
       "      <th>Pclass</th>\n",
       "      <th>Sex</th>\n",
       "      <th>Age</th>\n",
       "      <th>SibSp</th>\n",
       "      <th>Parch</th>\n",
       "      <th>Fare</th>\n",
       "      <th>Title_Code</th>\n",
       "    </tr>\n",
       "    <tr>\n",
       "      <th>Cabin</th>\n",
       "      <th></th>\n",
       "      <th></th>\n",
       "      <th></th>\n",
       "      <th></th>\n",
       "      <th></th>\n",
       "      <th></th>\n",
       "      <th></th>\n",
       "      <th></th>\n",
       "      <th></th>\n",
       "    </tr>\n",
       "  </thead>\n",
       "  <tbody>\n",
       "    <tr>\n",
       "      <th>False</th>\n",
       "      <td>455.401961</td>\n",
       "      <td>0.666667</td>\n",
       "      <td>1.196078</td>\n",
       "      <td>0.475490</td>\n",
       "      <td>35.829297</td>\n",
       "      <td>0.441176</td>\n",
       "      <td>0.436275</td>\n",
       "      <td>76.141504</td>\n",
       "      <td>0.651961</td>\n",
       "    </tr>\n",
       "    <tr>\n",
       "      <th>True</th>\n",
       "      <td>443.208151</td>\n",
       "      <td>0.299854</td>\n",
       "      <td>2.639010</td>\n",
       "      <td>0.315866</td>\n",
       "      <td>27.555293</td>\n",
       "      <td>0.547307</td>\n",
       "      <td>0.365357</td>\n",
       "      <td>19.157325</td>\n",
       "      <td>0.442504</td>\n",
       "    </tr>\n",
       "  </tbody>\n",
       "</table>\n",
       "</div>"
      ],
      "text/plain": [
       "       PassengerId  Survived    Pclass       Sex        Age     SibSp  \\\n",
       "Cabin                                                                   \n",
       "False   455.401961  0.666667  1.196078  0.475490  35.829297  0.441176   \n",
       "True    443.208151  0.299854  2.639010  0.315866  27.555293  0.547307   \n",
       "\n",
       "          Parch       Fare  Title_Code  \n",
       "Cabin                                   \n",
       "False  0.436275  76.141504    0.651961  \n",
       "True   0.365357  19.157325    0.442504  "
      ]
     },
     "execution_count": 1493,
     "metadata": {},
     "output_type": "execute_result"
    }
   ],
   "source": [
    "train.groupby(train['Cabin'].isnull()).mean()"
   ]
  },
  {
   "cell_type": "markdown",
   "id": "interstate-personality",
   "metadata": {},
   "source": [
    "- Although there are many `NaN` values for `Cabin`, the presence of a `NaN` seems to indicate higher survival rates\n",
    "- We can replace the `NaN` values with `0`, indicating the absence of info, and all other values with `1`, indicating the presence of info"
   ]
  },
  {
   "cell_type": "code",
   "execution_count": 1494,
   "id": "fourth-lemon",
   "metadata": {},
   "outputs": [],
   "source": [
    "# train data\n",
    "train['Cabin'] = np.where(train['Cabin'].isnull(), 0, 1)\n",
    "# test data\n",
    "test['Cabin'] = np.where(test['Cabin'].isnull(), 0, 1)"
   ]
  },
  {
   "cell_type": "code",
   "execution_count": 1495,
   "id": "absent-black",
   "metadata": {
    "scrolled": true
   },
   "outputs": [
    {
     "data": {
      "image/png": "[encoded data removed]",
      "text/plain": [
       "<Figure size 576x288 with 1 Axes>"
      ]
     },
     "metadata": {
      "needs_background": "light"
     },
     "output_type": "display_data"
    }
   ],
   "source": [
    "sns.catplot(x='Cabin', y='Survived', data=train, kind='point', height=4, aspect=2);"
   ]
  },
  {
   "cell_type": "markdown",
   "id": "functioning-raleigh",
   "metadata": {},
   "source": [
    "### d) Embarked <a class=\"anchor\" id=\"embarked\"></a>\n",
    "[To contents](#contents)"
   ]
  },
  {
   "cell_type": "code",
   "execution_count": 1496,
   "id": "mounted-enemy",
   "metadata": {},
   "outputs": [
    {
     "data": {
      "image/png": "[encoded data removed]",
      "text/plain": [
       "<Figure size 576x288 with 1 Axes>"
      ]
     },
     "metadata": {
      "needs_background": "light"
     },
     "output_type": "display_data"
    }
   ],
   "source": [
    "sns.catplot(x='Embarked', y='Survived', data=train, kind='point', height=4, aspect=2);"
   ]
  },
  {
   "cell_type": "markdown",
   "id": "designing-aluminum",
   "metadata": {},
   "source": [
    "- People embarking from Cherbourg seem to have a higher survival rate than those embarking from Southampton or Queenstown\n",
    "- This could be due to other predictors\n",
    "- Compare this with the other two variables we have looked at so far, `Sex` and `Cabin`, which are meaningful predictors"
   ]
  },
  {
   "cell_type": "code",
   "execution_count": 1497,
   "id": "knowing-labor",
   "metadata": {},
   "outputs": [
    {
     "data": {
      "text/html": [
       "<div>\n",
       "<style scoped>\n",
       "    .dataframe tbody tr th:only-of-type {\n",
       "        vertical-align: middle;\n",
       "    }\n",
       "\n",
       "    .dataframe tbody tr th {\n",
       "        vertical-align: top;\n",
       "    }\n",
       "\n",
       "    .dataframe thead th {\n",
       "        text-align: right;\n",
       "    }\n",
       "</style>\n",
       "<table border=\"1\" class=\"dataframe\">\n",
       "  <thead>\n",
       "    <tr style=\"text-align: right;\">\n",
       "      <th>Embarked</th>\n",
       "      <th>C</th>\n",
       "      <th>Q</th>\n",
       "      <th>S</th>\n",
       "    </tr>\n",
       "    <tr>\n",
       "      <th>Sex</th>\n",
       "      <th></th>\n",
       "      <th></th>\n",
       "      <th></th>\n",
       "    </tr>\n",
       "  </thead>\n",
       "  <tbody>\n",
       "    <tr>\n",
       "      <th>0</th>\n",
       "      <td>95</td>\n",
       "      <td>41</td>\n",
       "      <td>441</td>\n",
       "    </tr>\n",
       "    <tr>\n",
       "      <th>1</th>\n",
       "      <td>73</td>\n",
       "      <td>36</td>\n",
       "      <td>203</td>\n",
       "    </tr>\n",
       "  </tbody>\n",
       "</table>\n",
       "</div>"
      ],
      "text/plain": [
       "Embarked   C   Q    S\n",
       "Sex                  \n",
       "0         95  41  441\n",
       "1         73  36  203"
      ]
     },
     "execution_count": 1497,
     "metadata": {},
     "output_type": "execute_result"
    }
   ],
   "source": [
    "train.pivot_table('Survived', index='Sex', columns='Embarked', aggfunc='count')"
   ]
  },
  {
   "cell_type": "code",
   "execution_count": 1498,
   "id": "experimental-remark",
   "metadata": {},
   "outputs": [
    {
     "data": {
      "text/html": [
       "<div>\n",
       "<style scoped>\n",
       "    .dataframe tbody tr th:only-of-type {\n",
       "        vertical-align: middle;\n",
       "    }\n",
       "\n",
       "    .dataframe tbody tr th {\n",
       "        vertical-align: top;\n",
       "    }\n",
       "\n",
       "    .dataframe thead th {\n",
       "        text-align: right;\n",
       "    }\n",
       "</style>\n",
       "<table border=\"1\" class=\"dataframe\">\n",
       "  <thead>\n",
       "    <tr style=\"text-align: right;\">\n",
       "      <th>Embarked</th>\n",
       "      <th>C</th>\n",
       "      <th>Q</th>\n",
       "      <th>S</th>\n",
       "    </tr>\n",
       "    <tr>\n",
       "      <th>Cabin</th>\n",
       "      <th></th>\n",
       "      <th></th>\n",
       "      <th></th>\n",
       "    </tr>\n",
       "  </thead>\n",
       "  <tbody>\n",
       "    <tr>\n",
       "      <th>0</th>\n",
       "      <td>99</td>\n",
       "      <td>73</td>\n",
       "      <td>515</td>\n",
       "    </tr>\n",
       "    <tr>\n",
       "      <th>1</th>\n",
       "      <td>69</td>\n",
       "      <td>4</td>\n",
       "      <td>129</td>\n",
       "    </tr>\n",
       "  </tbody>\n",
       "</table>\n",
       "</div>"
      ],
      "text/plain": [
       "Embarked   C   Q    S\n",
       "Cabin                \n",
       "0         99  73  515\n",
       "1         69   4  129"
      ]
     },
     "execution_count": 1498,
     "metadata": {},
     "output_type": "execute_result"
    }
   ],
   "source": [
    "train.pivot_table('Survived', index='Cabin', columns='Embarked', aggfunc='count')"
   ]
  },
  {
   "cell_type": "markdown",
   "id": "recent-jamaica",
   "metadata": {},
   "source": [
    "- Cherbourg has a much higher proportion of females than Southampton, potentially explaining the higher survival rates compared to Southampton\n",
    "- Cherbourg also has a much higher proportion of passengers with cabin data, potentially explaining the higher survival rates compared to Queenstown"
   ]
  },
  {
   "cell_type": "code",
   "execution_count": 1499,
   "id": "emotional-egypt",
   "metadata": {},
   "outputs": [],
   "source": [
    "train['Embarked'].fillna('S', inplace=True)"
   ]
  },
  {
   "cell_type": "code",
   "execution_count": 1500,
   "id": "iraqi-deficit",
   "metadata": {},
   "outputs": [],
   "source": [
    "# convert categorical to numerical\n",
    "\n",
    "# train data \n",
    "train['Embarked'] = train['Embarked'].map({'S':0, 'C':1, 'Q':2}).astype('int')\n",
    "# test data\n",
    "test['Embarked'] = test['Embarked'].map({'S':0, 'C':1, 'Q':2}).astype('int')"
   ]
  },
  {
   "cell_type": "markdown",
   "id": "prepared-guard",
   "metadata": {},
   "source": [
    "## C) Continuous Features<a class=\"anchor\" id=\"continuous_features\"></a>\n",
    "[To contents](#contents)\n",
    "- Includes `Pclass`, `Age`, `SibSp`, `Parch`, `Fare`"
   ]
  },
  {
   "cell_type": "code",
   "execution_count": 1501,
   "id": "light-replacement",
   "metadata": {
    "scrolled": false
   },
   "outputs": [
    {
     "data": {
      "text/html": [
       "<div>\n",
       "<style scoped>\n",
       "    .dataframe tbody tr th:only-of-type {\n",
       "        vertical-align: middle;\n",
       "    }\n",
       "\n",
       "    .dataframe tbody tr th {\n",
       "        vertical-align: top;\n",
       "    }\n",
       "\n",
       "    .dataframe thead th {\n",
       "        text-align: right;\n",
       "    }\n",
       "</style>\n",
       "<table border=\"1\" class=\"dataframe\">\n",
       "  <thead>\n",
       "    <tr style=\"text-align: right;\">\n",
       "      <th></th>\n",
       "      <th>PassengerId</th>\n",
       "      <th>Survived</th>\n",
       "      <th>Pclass</th>\n",
       "      <th>Age</th>\n",
       "      <th>SibSp</th>\n",
       "      <th>Parch</th>\n",
       "      <th>Fare</th>\n",
       "    </tr>\n",
       "  </thead>\n",
       "  <tbody>\n",
       "    <tr>\n",
       "      <th>count</th>\n",
       "      <td>891.000000</td>\n",
       "      <td>891.000000</td>\n",
       "      <td>891.000000</td>\n",
       "      <td>714.000000</td>\n",
       "      <td>891.000000</td>\n",
       "      <td>891.000000</td>\n",
       "      <td>891.000000</td>\n",
       "    </tr>\n",
       "    <tr>\n",
       "      <th>mean</th>\n",
       "      <td>446.000000</td>\n",
       "      <td>0.383838</td>\n",
       "      <td>2.308642</td>\n",
       "      <td>29.699118</td>\n",
       "      <td>0.523008</td>\n",
       "      <td>0.381594</td>\n",
       "      <td>32.204208</td>\n",
       "    </tr>\n",
       "    <tr>\n",
       "      <th>std</th>\n",
       "      <td>257.353842</td>\n",
       "      <td>0.486592</td>\n",
       "      <td>0.836071</td>\n",
       "      <td>14.526497</td>\n",
       "      <td>1.102743</td>\n",
       "      <td>0.806057</td>\n",
       "      <td>49.693429</td>\n",
       "    </tr>\n",
       "    <tr>\n",
       "      <th>min</th>\n",
       "      <td>1.000000</td>\n",
       "      <td>0.000000</td>\n",
       "      <td>1.000000</td>\n",
       "      <td>0.420000</td>\n",
       "      <td>0.000000</td>\n",
       "      <td>0.000000</td>\n",
       "      <td>0.000000</td>\n",
       "    </tr>\n",
       "    <tr>\n",
       "      <th>25%</th>\n",
       "      <td>223.500000</td>\n",
       "      <td>0.000000</td>\n",
       "      <td>2.000000</td>\n",
       "      <td>20.125000</td>\n",
       "      <td>0.000000</td>\n",
       "      <td>0.000000</td>\n",
       "      <td>7.910400</td>\n",
       "    </tr>\n",
       "    <tr>\n",
       "      <th>50%</th>\n",
       "      <td>446.000000</td>\n",
       "      <td>0.000000</td>\n",
       "      <td>3.000000</td>\n",
       "      <td>28.000000</td>\n",
       "      <td>0.000000</td>\n",
       "      <td>0.000000</td>\n",
       "      <td>14.454200</td>\n",
       "    </tr>\n",
       "    <tr>\n",
       "      <th>75%</th>\n",
       "      <td>668.500000</td>\n",
       "      <td>1.000000</td>\n",
       "      <td>3.000000</td>\n",
       "      <td>38.000000</td>\n",
       "      <td>1.000000</td>\n",
       "      <td>0.000000</td>\n",
       "      <td>31.000000</td>\n",
       "    </tr>\n",
       "    <tr>\n",
       "      <th>max</th>\n",
       "      <td>891.000000</td>\n",
       "      <td>1.000000</td>\n",
       "      <td>3.000000</td>\n",
       "      <td>80.000000</td>\n",
       "      <td>8.000000</td>\n",
       "      <td>6.000000</td>\n",
       "      <td>512.329200</td>\n",
       "    </tr>\n",
       "  </tbody>\n",
       "</table>\n",
       "</div>"
      ],
      "text/plain": [
       "       PassengerId    Survived      Pclass         Age       SibSp  \\\n",
       "count   891.000000  891.000000  891.000000  714.000000  891.000000   \n",
       "mean    446.000000    0.383838    2.308642   29.699118    0.523008   \n",
       "std     257.353842    0.486592    0.836071   14.526497    1.102743   \n",
       "min       1.000000    0.000000    1.000000    0.420000    0.000000   \n",
       "25%     223.500000    0.000000    2.000000   20.125000    0.000000   \n",
       "50%     446.000000    0.000000    3.000000   28.000000    0.000000   \n",
       "75%     668.500000    1.000000    3.000000   38.000000    1.000000   \n",
       "max     891.000000    1.000000    3.000000   80.000000    8.000000   \n",
       "\n",
       "            Parch        Fare  \n",
       "count  891.000000  891.000000  \n",
       "mean     0.381594   32.204208  \n",
       "std      0.806057   49.693429  \n",
       "min      0.000000    0.000000  \n",
       "25%      0.000000    7.910400  \n",
       "50%      0.000000   14.454200  \n",
       "75%      0.000000   31.000000  \n",
       "max      6.000000  512.329200  "
      ]
     },
     "execution_count": 1501,
     "metadata": {},
     "output_type": "execute_result"
    }
   ],
   "source": [
    "cat_features = ['Sex', 'Cabin', 'Title_Code', 'Title', 'Embarked']\n",
    "train_cont = train.drop(columns=cat_features)\n",
    "train_cont.describe()"
   ]
  },
  {
   "cell_type": "markdown",
   "id": "owned-shift",
   "metadata": {},
   "source": [
    "### a) Correlation & Significance<a class=\"anchor\" id=\"correlation_significance\"></a>\n",
    "[To contents](#contents)"
   ]
  },
  {
   "cell_type": "code",
   "execution_count": 1502,
   "id": "comic-aquarium",
   "metadata": {
    "scrolled": true
   },
   "outputs": [
    {
     "data": {
      "text/html": [
       "<div>\n",
       "<style scoped>\n",
       "    .dataframe tbody tr th:only-of-type {\n",
       "        vertical-align: middle;\n",
       "    }\n",
       "\n",
       "    .dataframe tbody tr th {\n",
       "        vertical-align: top;\n",
       "    }\n",
       "\n",
       "    .dataframe thead th {\n",
       "        text-align: right;\n",
       "    }\n",
       "</style>\n",
       "<table border=\"1\" class=\"dataframe\">\n",
       "  <thead>\n",
       "    <tr style=\"text-align: right;\">\n",
       "      <th></th>\n",
       "      <th>PassengerId</th>\n",
       "      <th>Survived</th>\n",
       "      <th>Pclass</th>\n",
       "      <th>Age</th>\n",
       "      <th>SibSp</th>\n",
       "      <th>Parch</th>\n",
       "      <th>Fare</th>\n",
       "    </tr>\n",
       "  </thead>\n",
       "  <tbody>\n",
       "    <tr>\n",
       "      <th>PassengerId</th>\n",
       "      <td>1.000000</td>\n",
       "      <td>-0.005007</td>\n",
       "      <td>-0.035144</td>\n",
       "      <td>0.036847</td>\n",
       "      <td>-0.057527</td>\n",
       "      <td>-0.001652</td>\n",
       "      <td>0.012658</td>\n",
       "    </tr>\n",
       "    <tr>\n",
       "      <th>Survived</th>\n",
       "      <td>-0.005007</td>\n",
       "      <td>1.000000</td>\n",
       "      <td>-0.338481</td>\n",
       "      <td>-0.077221</td>\n",
       "      <td>-0.035322</td>\n",
       "      <td>0.081629</td>\n",
       "      <td>0.257307</td>\n",
       "    </tr>\n",
       "    <tr>\n",
       "      <th>Pclass</th>\n",
       "      <td>-0.035144</td>\n",
       "      <td>-0.338481</td>\n",
       "      <td>1.000000</td>\n",
       "      <td>-0.369226</td>\n",
       "      <td>0.083081</td>\n",
       "      <td>0.018443</td>\n",
       "      <td>-0.549500</td>\n",
       "    </tr>\n",
       "    <tr>\n",
       "      <th>Age</th>\n",
       "      <td>0.036847</td>\n",
       "      <td>-0.077221</td>\n",
       "      <td>-0.369226</td>\n",
       "      <td>1.000000</td>\n",
       "      <td>-0.308247</td>\n",
       "      <td>-0.189119</td>\n",
       "      <td>0.096067</td>\n",
       "    </tr>\n",
       "    <tr>\n",
       "      <th>SibSp</th>\n",
       "      <td>-0.057527</td>\n",
       "      <td>-0.035322</td>\n",
       "      <td>0.083081</td>\n",
       "      <td>-0.308247</td>\n",
       "      <td>1.000000</td>\n",
       "      <td>0.414838</td>\n",
       "      <td>0.159651</td>\n",
       "    </tr>\n",
       "    <tr>\n",
       "      <th>Parch</th>\n",
       "      <td>-0.001652</td>\n",
       "      <td>0.081629</td>\n",
       "      <td>0.018443</td>\n",
       "      <td>-0.189119</td>\n",
       "      <td>0.414838</td>\n",
       "      <td>1.000000</td>\n",
       "      <td>0.216225</td>\n",
       "    </tr>\n",
       "    <tr>\n",
       "      <th>Fare</th>\n",
       "      <td>0.012658</td>\n",
       "      <td>0.257307</td>\n",
       "      <td>-0.549500</td>\n",
       "      <td>0.096067</td>\n",
       "      <td>0.159651</td>\n",
       "      <td>0.216225</td>\n",
       "      <td>1.000000</td>\n",
       "    </tr>\n",
       "  </tbody>\n",
       "</table>\n",
       "</div>"
      ],
      "text/plain": [
       "             PassengerId  Survived    Pclass       Age     SibSp     Parch  \\\n",
       "PassengerId     1.000000 -0.005007 -0.035144  0.036847 -0.057527 -0.001652   \n",
       "Survived       -0.005007  1.000000 -0.338481 -0.077221 -0.035322  0.081629   \n",
       "Pclass         -0.035144 -0.338481  1.000000 -0.369226  0.083081  0.018443   \n",
       "Age             0.036847 -0.077221 -0.369226  1.000000 -0.308247 -0.189119   \n",
       "SibSp          -0.057527 -0.035322  0.083081 -0.308247  1.000000  0.414838   \n",
       "Parch          -0.001652  0.081629  0.018443 -0.189119  0.414838  1.000000   \n",
       "Fare            0.012658  0.257307 -0.549500  0.096067  0.159651  0.216225   \n",
       "\n",
       "                 Fare  \n",
       "PassengerId  0.012658  \n",
       "Survived     0.257307  \n",
       "Pclass      -0.549500  \n",
       "Age          0.096067  \n",
       "SibSp        0.159651  \n",
       "Parch        0.216225  \n",
       "Fare         1.000000  "
      ]
     },
     "execution_count": 1502,
     "metadata": {},
     "output_type": "execute_result"
    }
   ],
   "source": [
    "# correlation matrix: look for high absolute value\n",
    "train_cont.corr()"
   ]
  },
  {
   "cell_type": "markdown",
   "id": "backed-contributor",
   "metadata": {},
   "source": [
    "- `Fare` (0.257307) and `Pclass` (-0.338481) have the most significant correlations with survival\n",
    "- They are also significantly correlated with each other (-0.549500)"
   ]
  },
  {
   "cell_type": "code",
   "execution_count": 1503,
   "id": "induced-corpus",
   "metadata": {},
   "outputs": [],
   "source": [
    "# groups by survive and did not survive\n",
    "def describe_cont_feature(feature):\n",
    "    print('\\n*** Results for {} ***'.format(feature))\n",
    "    print(train_cont.groupby('Survived')[feature].describe())\n",
    "    print(ttest(feature))\n",
    "\n",
    "# perform t-test and calculate p-value\n",
    "def ttest(feature):\n",
    "    survived = train_cont[train_cont['Survived']==1][feature]\n",
    "    not_survived = train_cont[train_cont['Survived']==0][feature]\n",
    "    tstat, pval = stats.ttest_ind(survived, not_survived, equal_var=False)\n",
    "    print('t-statistic: {:.1f}, p-value: {:.3}'.format(tstat, pval))"
   ]
  },
  {
   "cell_type": "code",
   "execution_count": 1504,
   "id": "fatal-vienna",
   "metadata": {},
   "outputs": [
    {
     "name": "stdout",
     "output_type": "stream",
     "text": [
      "\n",
      "*** Results for Pclass ***\n",
      "          count      mean       std  min  25%  50%  75%  max\n",
      "Survived                                                    \n",
      "0.0       549.0  2.531876  0.735805  1.0  2.0  3.0  3.0  3.0\n",
      "1.0       342.0  1.950292  0.863321  1.0  1.0  2.0  3.0  3.0\n",
      "t-statistic: -10.3, p-value: 2.91e-23\n",
      "None\n",
      "\n",
      "*** Results for Age ***\n",
      "          count       mean        std   min   25%   50%   75%   max\n",
      "Survived                                                           \n",
      "0.0       424.0  30.626179  14.172110  1.00  21.0  28.0  39.0  74.0\n",
      "1.0       290.0  28.343690  14.950952  0.42  19.0  28.0  36.0  80.0\n",
      "t-statistic: nan, p-value: nan\n",
      "None\n",
      "\n",
      "*** Results for SibSp ***\n",
      "          count      mean       std  min  25%  50%  75%  max\n",
      "Survived                                                    \n",
      "0.0       549.0  0.553734  1.288399  0.0  0.0  0.0  1.0  8.0\n",
      "1.0       342.0  0.473684  0.708688  0.0  0.0  0.0  1.0  4.0\n",
      "t-statistic: -1.2, p-value: 0.233\n",
      "None\n",
      "\n",
      "*** Results for Parch ***\n",
      "          count      mean       std  min  25%  50%  75%  max\n",
      "Survived                                                    \n",
      "0.0       549.0  0.329690  0.823166  0.0  0.0  0.0  0.0  6.0\n",
      "1.0       342.0  0.464912  0.771712  0.0  0.0  0.0  1.0  5.0\n",
      "t-statistic: 2.5, p-value: 0.0134\n",
      "None\n",
      "\n",
      "*** Results for Fare ***\n",
      "          count       mean        std  min      25%   50%   75%       max\n",
      "Survived                                                                 \n",
      "0.0       549.0  22.117887  31.388207  0.0   7.8542  10.5  26.0  263.0000\n",
      "1.0       342.0  48.395408  66.596998  0.0  12.4750  26.0  57.0  512.3292\n",
      "t-statistic: 6.8, p-value: 2.7e-11\n",
      "None\n"
     ]
    }
   ],
   "source": [
    "# look at the distribution of each feature for survived and did not survive\n",
    "for feature in ['Pclass', 'Age', 'SibSp', 'Parch', 'Fare']:\n",
    "    describe_cont_feature(feature)"
   ]
  },
  {
   "cell_type": "markdown",
   "id": "ahead-borough",
   "metadata": {},
   "source": [
    "- P-value quantifies the probability of observing as or more extreme values assuming the null hypothesis, that the samples are drawn from populations with the same population means, is true\n",
    "- P-value smaller than a chosen threshold (e.g. 5% or 1%) indicates that our observation is unlikely to have occurred by chance\n",
    "- Smallest p-values are `Pclass` (2.91e-23) and `Fare` (2.7e-11)"
   ]
  },
  {
   "cell_type": "markdown",
   "id": "dying-motivation",
   "metadata": {},
   "source": [
    "### b) Pclass<a class=\"anchor\" id=\"pclass\"></a>\n",
    "[To contents](#contents)\n",
    "- `Pclass` appears to be an excellent indicator of survival"
   ]
  },
  {
   "cell_type": "code",
   "execution_count": 1505,
   "id": "detected-tuesday",
   "metadata": {},
   "outputs": [
    {
     "data": {
      "image/png": "[encoded data removed]",
      "text/plain": [
       "<Figure size 576x288 with 1 Axes>"
      ]
     },
     "metadata": {
      "needs_background": "light"
     },
     "output_type": "display_data"
    }
   ],
   "source": [
    "sns.catplot(x='Pclass', y='Survived', data=train, kind='point', height=4, aspect=2);"
   ]
  },
  {
   "cell_type": "markdown",
   "id": "afraid-hartford",
   "metadata": {},
   "source": [
    "### c) Age <a class=\"anchor\" id=\"age\"></a>\n",
    "[To contents](#contents)"
   ]
  },
  {
   "cell_type": "code",
   "execution_count": 1506,
   "id": "greenhouse-obligation",
   "metadata": {
    "scrolled": true
   },
   "outputs": [
    {
     "data": {
      "image/png": "[encoded data removed]",
      "text/plain": [
       "<Figure size 720x360 with 1 Axes>"
      ]
     },
     "metadata": {
      "needs_background": "light"
     },
     "output_type": "display_data"
    }
   ],
   "source": [
    "died = train[train['Survived'] == 0]['Age'].dropna()\n",
    "survived = train[train['Survived'] == 1]['Age'].dropna()\n",
    "xmin = min(min(died), min(survived))\n",
    "xmax = max(max(died), max(survived))\n",
    "\n",
    "plt.figure(figsize=(10, 5))\n",
    "sns.histplot(died, color='r', alpha = 0.5, kde=False, bins=np.arange(xmin, xmax, 2))\n",
    "sns.histplot(survived, color='g', alpha = 0.5, kde=False, bins=np.arange(xmin, xmax, 2))\n",
    "plt.legend(['Died', 'Survived'])\n",
    "plt.title('Overlaid Histogram for Age')\n",
    "plt.show()"
   ]
  },
  {
   "cell_type": "markdown",
   "id": "alleged-alberta",
   "metadata": {},
   "source": [
    "- To replace missing values, we will look at median age by title"
   ]
  },
  {
   "cell_type": "code",
   "execution_count": 1507,
   "id": "legal-outline",
   "metadata": {
    "scrolled": true
   },
   "outputs": [
    {
     "data": {
      "text/plain": [
       "Title\n",
       "Master     3.5\n",
       "Mr        30.0\n",
       "Mrs       27.0\n",
       "Others    47.0\n",
       "Name: Age, dtype: float64"
      ]
     },
     "execution_count": 1507,
     "metadata": {},
     "output_type": "execute_result"
    }
   ],
   "source": [
    "# get the age median by title\n",
    "age_median_by_title = train.groupby('Title')['Age'].median()\n",
    "age_median_by_title"
   ]
  },
  {
   "cell_type": "code",
   "execution_count": 1508,
   "id": "essential-setup",
   "metadata": {},
   "outputs": [],
   "source": [
    "for title in age_median_by_title.index:\n",
    "    # train data\n",
    "    train['Age'][(train['Age'].isnull()) & (train['Title'] == title)] = age_median_by_title[title]\n",
    "    # test data\n",
    "    test['Age'][(test['Age'].isnull()) & (test['Title'] == title)] = age_median_by_title[title]"
   ]
  },
  {
   "cell_type": "markdown",
   "id": "successful-barrel",
   "metadata": {},
   "source": [
    "### d) SibSp & Parch <a class=\"anchor\" id=\"sibsp_parch\"></a>\n",
    "[To contents](#contents)"
   ]
  },
  {
   "cell_type": "code",
   "execution_count": 1509,
   "id": "lined-uncertainty",
   "metadata": {},
   "outputs": [
    {
     "data": {
      "image/png": "[encoded data removed]",
      "text/plain": [
       "<Figure size 576x288 with 1 Axes>"
      ]
     },
     "metadata": {
      "needs_background": "light"
     },
     "output_type": "display_data"
    },
    {
     "data": {
      "image/png": "[encoded data removed]",
      "text/plain": [
       "<Figure size 576x288 with 1 Axes>"
      ]
     },
     "metadata": {
      "needs_background": "light"
     },
     "output_type": "display_data"
    }
   ],
   "source": [
    "sns.catplot(x='SibSp', y='Survived', data=train, kind='point', height=4, aspect=2)\n",
    "sns.catplot(x='Parch', y='Survived', data=train, kind='point', height=4, aspect=2);"
   ]
  },
  {
   "cell_type": "markdown",
   "id": "chemical-thinking",
   "metadata": {},
   "source": [
    "- In general, larger family size corresponds to lower survival rate\n",
    "- Combine `Parch` and `SibSp` into a `FamilyCount` feature"
   ]
  },
  {
   "cell_type": "code",
   "execution_count": 1510,
   "id": "alpine-pacific",
   "metadata": {
    "scrolled": true
   },
   "outputs": [
    {
     "data": {
      "image/png": "[encoded data removed]",
      "text/plain": [
       "<Figure size 576x288 with 1 Axes>"
      ]
     },
     "metadata": {
      "needs_background": "light"
     },
     "output_type": "display_data"
    }
   ],
   "source": [
    "# train data\n",
    "train['FamilyCount'] = train['Parch'] + train['SibSp'] + 1\n",
    "# test data\n",
    "test['FamilyCount'] = test['Parch'] + test['SibSp'] + 1\n",
    "\n",
    "sns.catplot(x = 'FamilyCount', y = 'Survived', data = train, kind='point', height=4, aspect=2);"
   ]
  },
  {
   "cell_type": "markdown",
   "id": "steady-boundary",
   "metadata": {},
   "source": [
    "### e) Family Matters  <a class=\"anchor\" id=\"family_matters\"></a>\n",
    "[To contents](#contents)\n",
    "- Families can survive better together, since they help each other\n",
    "- Children have first priority on lifeboats, so find families with children\n",
    "- To find families, check surnames and tickets\n",
    "- As shown below, people with same surnames have similar ticket names"
   ]
  },
  {
   "cell_type": "code",
   "execution_count": 1511,
   "id": "psychological-rocket",
   "metadata": {
    "scrolled": true
   },
   "outputs": [
    {
     "data": {
      "text/html": [
       "<div>\n",
       "<style scoped>\n",
       "    .dataframe tbody tr th:only-of-type {\n",
       "        vertical-align: middle;\n",
       "    }\n",
       "\n",
       "    .dataframe tbody tr th {\n",
       "        vertical-align: top;\n",
       "    }\n",
       "\n",
       "    .dataframe thead th {\n",
       "        text-align: right;\n",
       "    }\n",
       "</style>\n",
       "<table border=\"1\" class=\"dataframe\">\n",
       "  <thead>\n",
       "    <tr style=\"text-align: right;\">\n",
       "      <th></th>\n",
       "      <th>Name</th>\n",
       "      <th>Ticket</th>\n",
       "    </tr>\n",
       "  </thead>\n",
       "  <tbody>\n",
       "    <tr>\n",
       "      <th>845</th>\n",
       "      <td>Abbing, Mr. Anthony</td>\n",
       "      <td>C.A. 5547</td>\n",
       "    </tr>\n",
       "    <tr>\n",
       "      <th>746</th>\n",
       "      <td>Abbott, Mr. Rossmore Edward</td>\n",
       "      <td>C.A. 2673</td>\n",
       "    </tr>\n",
       "    <tr>\n",
       "      <th>279</th>\n",
       "      <td>Abbott, Mrs. Stanton (Rosa Hunt)</td>\n",
       "      <td>C.A. 2673</td>\n",
       "    </tr>\n",
       "    <tr>\n",
       "      <th>308</th>\n",
       "      <td>Abelson, Mr. Samuel</td>\n",
       "      <td>P/PP 3381</td>\n",
       "    </tr>\n",
       "    <tr>\n",
       "      <th>874</th>\n",
       "      <td>Abelson, Mrs. Samuel (Hannah Wizosky)</td>\n",
       "      <td>P/PP 3381</td>\n",
       "    </tr>\n",
       "    <tr>\n",
       "      <th>365</th>\n",
       "      <td>Adahl, Mr. Mauritz Nils Martin</td>\n",
       "      <td>C 7076</td>\n",
       "    </tr>\n",
       "    <tr>\n",
       "      <th>401</th>\n",
       "      <td>Adams, Mr. John</td>\n",
       "      <td>341826</td>\n",
       "    </tr>\n",
       "    <tr>\n",
       "      <th>40</th>\n",
       "      <td>Ahlin, Mrs. Johan (Johanna Persdotter Larsson)</td>\n",
       "      <td>7546</td>\n",
       "    </tr>\n",
       "    <tr>\n",
       "      <th>855</th>\n",
       "      <td>Aks, Mrs. Sam (Leah Rosen)</td>\n",
       "      <td>392091</td>\n",
       "    </tr>\n",
       "    <tr>\n",
       "      <th>207</th>\n",
       "      <td>Albimona, Mr. Nassef Cassem</td>\n",
       "      <td>2699</td>\n",
       "    </tr>\n",
       "  </tbody>\n",
       "</table>\n",
       "</div>"
      ],
      "text/plain": [
       "                                               Name     Ticket\n",
       "845                             Abbing, Mr. Anthony  C.A. 5547\n",
       "746                     Abbott, Mr. Rossmore Edward  C.A. 2673\n",
       "279                Abbott, Mrs. Stanton (Rosa Hunt)  C.A. 2673\n",
       "308                             Abelson, Mr. Samuel  P/PP 3381\n",
       "874           Abelson, Mrs. Samuel (Hannah Wizosky)  P/PP 3381\n",
       "365                  Adahl, Mr. Mauritz Nils Martin     C 7076\n",
       "401                                 Adams, Mr. John     341826\n",
       "40   Ahlin, Mrs. Johan (Johanna Persdotter Larsson)       7546\n",
       "855                      Aks, Mrs. Sam (Leah Rosen)     392091\n",
       "207                     Albimona, Mr. Nassef Cassem       2699"
      ]
     },
     "execution_count": 1511,
     "metadata": {},
     "output_type": "execute_result"
    }
   ],
   "source": [
    "train[['Name', 'Ticket']].sort_values('Name').head(10)"
   ]
  },
  {
   "cell_type": "code",
   "execution_count": 1512,
   "id": "radical-police",
   "metadata": {},
   "outputs": [
    {
     "data": {
      "image/png": "[encoded data removed]",
      "text/plain": [
       "<Figure size 432x288 with 1 Axes>"
      ]
     },
     "metadata": {
      "needs_background": "light"
     },
     "output_type": "display_data"
    }
   ],
   "source": [
    "# combine test and train and create new columns for surname, ticket prefix, and a combination\n",
    "whole = train.append(test)\n",
    "whole['Surname'] = whole['Name'].str.extract(r'([A-Za-z]+),', expand=False)\n",
    "whole['TicketPref'] = whole['Ticket'].str.extract(r'(.*\\d)', expand=False)\n",
    "whole['SurTix'] = whole['Surname'] + whole['TicketPref']\n",
    "whole['IsFamily'] = whole['SurTix'].duplicated(keep=False)*1\n",
    "\n",
    "# plot shows 2/3 people travel with family\n",
    "sns.countplot(whole['IsFamily'])\n",
    "plt.show()"
   ]
  },
  {
   "cell_type": "code",
   "execution_count": 1513,
   "id": "ranking-delay",
   "metadata": {},
   "outputs": [
    {
     "name": "stdout",
     "output_type": "stream",
     "text": [
      "There are 59 families with children.\n"
     ]
    }
   ],
   "source": [
    "# create child (age < 13) column and create a list of familites with a child\n",
    "whole['Child'] = whole['Age'].map(lambda x: 1 if x <= 13 else 0)\n",
    "family_with_child = whole[(whole['IsFamily']==1) & (whole['Child']==1)]['SurTix'].unique()\n",
    "print('There are {} families with children.'.format(len(family_with_child)))"
   ]
  },
  {
   "cell_type": "code",
   "execution_count": 1514,
   "id": "useful-landscape",
   "metadata": {},
   "outputs": [],
   "source": [
    "# encode the families with children with a unique family id\n",
    "whole['FamilyId'] = 0\n",
    "x = 1\n",
    "for tix in family_with_child:\n",
    "    whole.loc[whole['SurTix'] == tix, ['FamilyId']] = x\n",
    "    x += 1"
   ]
  },
  {
   "cell_type": "code",
   "execution_count": 1515,
   "id": "italian-scottish",
   "metadata": {
    "scrolled": true
   },
   "outputs": [
    {
     "data": {
      "image/png": "[encoded data removed]",
      "text/plain": [
       "<Figure size 936x360 with 1 Axes>"
      ]
     },
     "metadata": {
      "needs_background": "light"
     },
     "output_type": "display_data"
    }
   ],
   "source": [
    "# for each family: black shows died, green shows survived, grey is no data (from test set)\n",
    "whole['SurvivedDemo'] = whole['Survived'].fillna(9)\n",
    "pd.crosstab(whole['FamilyId'], whole['SurvivedDemo']).drop([0]).plot(kind='bar', stacked=True, color=['black','g','grey'], figsize=(13,5))\n",
    "plt.show()"
   ]
  },
  {
   "cell_type": "code",
   "execution_count": 1516,
   "id": "according-upgrade",
   "metadata": {},
   "outputs": [],
   "source": [
    "whole['Family_Matters'] = 1 \n",
    "# how many people survived for each family id\n",
    "survived_by_familyid = whole.groupby('FamilyId')['Survived'].sum()\n",
    "\n",
    "# loop through all family ids, excluding 0, which indicates lone traveller\n",
    "for i in range(1, len(family_with_child)+1):\n",
    "    # if whole family didn't die, increase chances of survival\n",
    "    if survived_by_familyid[i] >= 1:\n",
    "        whole.loc[whole['FamilyId']==i, ['Family_Matters']] = 2\n",
    "    # if whole family died, decrease chances of survival\n",
    "    elif survived_by_familyid[i] == 0:\n",
    "        whole.loc[whole['FamilyId']==i, ['Family_Matters']] = 0\n",
    "\n",
    "# convert back to train and test sets\n",
    "train = whole[:len(train)]\n",
    "test = whole[len(train):]"
   ]
  },
  {
   "cell_type": "code",
   "execution_count": 1517,
   "id": "incorporate-situation",
   "metadata": {},
   "outputs": [
    {
     "data": {
      "image/png": "[encoded data removed]",
      "text/plain": [
       "<Figure size 432x288 with 1 Axes>"
      ]
     },
     "metadata": {
      "needs_background": "light"
     },
     "output_type": "display_data"
    }
   ],
   "source": [
    "sns.barplot(x='Family_Matters', y='Survived', data=train)\n",
    "plt.show()"
   ]
  },
  {
   "cell_type": "markdown",
   "id": "sixth-spiritual",
   "metadata": {},
   "source": [
    "### f) Fare  <a class=\"anchor\" id=\"fare\"></a>\n",
    "[To contents](#contents)"
   ]
  },
  {
   "cell_type": "code",
   "execution_count": 1518,
   "id": "prepared-cambodia",
   "metadata": {
    "scrolled": true
   },
   "outputs": [
    {
     "data": {
      "image/png": "[encoded data removed]",
      "text/plain": [
       "<Figure size 720x360 with 1 Axes>"
      ]
     },
     "metadata": {
      "needs_background": "light"
     },
     "output_type": "display_data"
    }
   ],
   "source": [
    "died = train[train['Survived'] == 0]['Fare'].dropna()\n",
    "survived = train[train['Survived'] == 1]['Fare'].dropna()\n",
    "xmin = min(min(died), min(survived))\n",
    "xmax = max(max(died), max(survived))\n",
    "\n",
    "plt.figure(figsize=(10, 5))\n",
    "sns.histplot(died, color='r', alpha = 0.5, kde=False, bins=np.arange(xmin, xmax, 10))\n",
    "sns.histplot(survived, color='g', alpha = 0.5, kde=False, bins=np.arange(xmin, xmax, 10))\n",
    "plt.legend(['Died', 'Survived'])\n",
    "plt.title('Overlaid Histogram for Fare')\n",
    "plt.show()"
   ]
  },
  {
   "cell_type": "markdown",
   "id": "positive-beverage",
   "metadata": {},
   "source": [
    "- Fare may be less of a good indicator than is suggested by the averages, because there are a few outliers that raise the average for people who survived\n",
    "- At lower fares, more people died than survived, while at higher fares, more or all people survived\n",
    "- There is only one missing value, simply replace it with the median of corresponding passengers\n",
    "- There should be no more `NaN` values"
   ]
  },
  {
   "cell_type": "code",
   "execution_count": 1519,
   "id": "interim-glenn",
   "metadata": {},
   "outputs": [
    {
     "data": {
      "text/html": [
       "<div>\n",
       "<style scoped>\n",
       "    .dataframe tbody tr th:only-of-type {\n",
       "        vertical-align: middle;\n",
       "    }\n",
       "\n",
       "    .dataframe tbody tr th {\n",
       "        vertical-align: top;\n",
       "    }\n",
       "\n",
       "    .dataframe thead th {\n",
       "        text-align: right;\n",
       "    }\n",
       "</style>\n",
       "<table border=\"1\" class=\"dataframe\">\n",
       "  <thead>\n",
       "    <tr style=\"text-align: right;\">\n",
       "      <th></th>\n",
       "      <th>PassengerId</th>\n",
       "      <th>Survived</th>\n",
       "      <th>Pclass</th>\n",
       "      <th>Name</th>\n",
       "      <th>Sex</th>\n",
       "      <th>Age</th>\n",
       "      <th>SibSp</th>\n",
       "      <th>Parch</th>\n",
       "      <th>Ticket</th>\n",
       "      <th>Fare</th>\n",
       "      <th>...</th>\n",
       "      <th>Title_Code</th>\n",
       "      <th>FamilyCount</th>\n",
       "      <th>Surname</th>\n",
       "      <th>TicketPref</th>\n",
       "      <th>SurTix</th>\n",
       "      <th>IsFamily</th>\n",
       "      <th>Child</th>\n",
       "      <th>FamilyId</th>\n",
       "      <th>SurvivedDemo</th>\n",
       "      <th>Family_Matters</th>\n",
       "    </tr>\n",
       "  </thead>\n",
       "  <tbody>\n",
       "    <tr>\n",
       "      <th>152</th>\n",
       "      <td>1044</td>\n",
       "      <td>NaN</td>\n",
       "      <td>3</td>\n",
       "      <td>Storey, Mr. Thomas</td>\n",
       "      <td>0</td>\n",
       "      <td>60.5</td>\n",
       "      <td>0</td>\n",
       "      <td>0</td>\n",
       "      <td>3701</td>\n",
       "      <td>NaN</td>\n",
       "      <td>...</td>\n",
       "      <td>0</td>\n",
       "      <td>1</td>\n",
       "      <td>Storey</td>\n",
       "      <td>3701</td>\n",
       "      <td>Storey3701</td>\n",
       "      <td>0</td>\n",
       "      <td>0</td>\n",
       "      <td>0</td>\n",
       "      <td>9.0</td>\n",
       "      <td>1</td>\n",
       "    </tr>\n",
       "  </tbody>\n",
       "</table>\n",
       "<p>1 rows × 23 columns</p>\n",
       "</div>"
      ],
      "text/plain": [
       "     PassengerId  Survived  Pclass                Name  Sex   Age  SibSp  \\\n",
       "152         1044       NaN       3  Storey, Mr. Thomas    0  60.5      0   \n",
       "\n",
       "     Parch Ticket  Fare  ...  Title_Code  FamilyCount Surname  TicketPref  \\\n",
       "152      0   3701   NaN  ...           0            1  Storey        3701   \n",
       "\n",
       "         SurTix IsFamily Child FamilyId  SurvivedDemo  Family_Matters  \n",
       "152  Storey3701        0     0        0           9.0               1  \n",
       "\n",
       "[1 rows x 23 columns]"
      ]
     },
     "execution_count": 1519,
     "metadata": {},
     "output_type": "execute_result"
    }
   ],
   "source": [
    "test[test['Fare'].isnull()]"
   ]
  },
  {
   "cell_type": "code",
   "execution_count": 1520,
   "id": "objective-insider",
   "metadata": {},
   "outputs": [
    {
     "name": "stdout",
     "output_type": "stream",
     "text": [
      "Median Fare: 7.854\n"
     ]
    }
   ],
   "source": [
    "# test data\n",
    "whole = train.append(test)\n",
    "median_fare = whole.groupby(['Pclass', 'Parch', 'SibSp'])['Fare'].median()[3][0][0]\n",
    "print('Median Fare: {:.3f}'.format(median_fare))\n",
    "test['Fare'].fillna(median_fare, inplace=True)"
   ]
  },
  {
   "cell_type": "markdown",
   "id": "thousand-belize",
   "metadata": {},
   "source": [
    "- To better use `Fare` we will grouped into classes\n",
    "- `Fare` will be grouped into 5 classes"
   ]
  },
  {
   "cell_type": "code",
   "execution_count": 1521,
   "id": "painful-approval",
   "metadata": {},
   "outputs": [],
   "source": [
    "# train data\n",
    "train['FareBin_5'] = pd.qcut(train['Fare'], 5)\n",
    "# test data\n",
    "test['FareBin_5'] = pd.qcut(test['Fare'], 5)"
   ]
  },
  {
   "cell_type": "code",
   "execution_count": 1522,
   "id": "brutal-pierce",
   "metadata": {},
   "outputs": [
    {
     "data": {
      "image/png": "[encoded data removed]",
      "text/plain": [
       "<Figure size 864x360 with 1 Axes>"
      ]
     },
     "metadata": {
      "needs_background": "light"
     },
     "output_type": "display_data"
    }
   ],
   "source": [
    "fig = plt.figure(figsize=(12,5))\n",
    "sns.barplot(x='FareBin_5', y='Survived', data=train)\n",
    "plt.show()"
   ]
  },
  {
   "cell_type": "code",
   "execution_count": 1523,
   "id": "sporting-station",
   "metadata": {},
   "outputs": [],
   "source": [
    "# convert categorical to numeric\n",
    "le = LabelEncoder()\n",
    "train['FareBin_Code_5'] = le.fit_transform(train['FareBin_5'])\n",
    "test['FareBin_Code_5'] = le.fit_transform(test['FareBin_5'])"
   ]
  },
  {
   "cell_type": "markdown",
   "id": "handmade-addiction",
   "metadata": {},
   "source": [
    "## D) Further Cleaning  <a class=\"anchor\" id=\"further_cleaning\"></a>\n",
    "[To contents](#contents)"
   ]
  },
  {
   "cell_type": "markdown",
   "id": "substantial-diameter",
   "metadata": {},
   "source": [
    "### a) Capping  <a class=\"anchor\" id=\"capping\"></a>\n",
    "[To contents](#contents)\n",
    "- Detect outliers in continuous features and remove them\n",
    "- Check for >95%, >97.5%, >99.5%, 3sd\n",
    "- Check `Age, Fare, FamilyCount`"
   ]
  },
  {
   "cell_type": "code",
   "execution_count": 1524,
   "id": "parliamentary-acrobat",
   "metadata": {},
   "outputs": [
    {
     "name": "stdout",
     "output_type": "stream",
     "text": [
      "Age             80.0000\n",
      "Fare           512.3292\n",
      "FamilyCount     11.0000\n",
      "Name: max, dtype: float64\n",
      "Age             76.0000\n",
      "Fare           512.3292\n",
      "FamilyCount     11.0000\n",
      "Name: max, dtype: float64\n"
     ]
    }
   ],
   "source": [
    "# see where outliers might be an issue\n",
    "print(train[['Age', 'Fare', 'FamilyCount']].describe().loc['max'])\n",
    "print(test[['Age', 'Fare', 'FamilyCount']].describe().loc['max'])"
   ]
  },
  {
   "cell_type": "code",
   "execution_count": 1525,
   "id": "integral-reach",
   "metadata": {},
   "outputs": [],
   "source": [
    "# given a feature, detect outliers and store them\n",
    "def detect_outlier(feature):\n",
    "    outliers = []\n",
    "    data = train[feature]\n",
    "    mean = np.mean(data)\n",
    "    std = np.std(data)\n",
    "    print('\\nOutlier caps for {}:'.format(feature))\n",
    "    print('  --95p: {:.1f} / {} values'.format(data.quantile(.95), sum(data > data.quantile(.95))))\n",
    "    print('  --97.5p: {:.1f} / {} values'.format(data.quantile(.975), sum(data > data.quantile(.975))))    \n",
    "    print('  --99.5p: {:.1f} / {} values'.format(data.quantile(.995), sum(data > data.quantile(.995))))\n",
    "    print('  --3sd: {:.1f} / {} values'.format(mean + 3*(std), sum(data > mean + 3*(std))))"
   ]
  },
  {
   "cell_type": "code",
   "execution_count": 1526,
   "id": "finnish-earthquake",
   "metadata": {
    "scrolled": true
   },
   "outputs": [
    {
     "name": "stdout",
     "output_type": "stream",
     "text": [
      "\n",
      "Outlier caps for Age:\n",
      "  --95p: 54.0 / 42 values\n",
      "  --97.5p: 60.0 / 22 values\n",
      "  --99.5p: 70.3 / 5 values\n",
      "  --3sd: 68.9 / 7 values\n",
      "\n",
      "Outlier caps for Fare:\n",
      "  --95p: 112.1 / 45 values\n",
      "  --97.5p: 153.5 / 22 values\n",
      "  --99.5p: 263.0 / 3 values\n",
      "  --3sd: 181.2 / 20 values\n",
      "\n",
      "Outlier caps for FamilyCount:\n",
      "  --95p: 6.0 / 25 values\n",
      "  --97.5p: 7.0 / 13 values\n",
      "  --99.5p: 11.0 / 0 values\n",
      "  --3sd: 6.7 / 25 values\n"
     ]
    }
   ],
   "source": [
    "# determine what the upperbound should be for continuous features\n",
    "for feat in ['Age', 'Fare', 'FamilyCount']:\n",
    "    detect_outlier(feat)"
   ]
  },
  {
   "cell_type": "markdown",
   "id": "annoying-price",
   "metadata": {},
   "source": [
    "- Max `FamilyCount` is 10, which is reasonable\n",
    "- Cap `Fare` and `Age` at 99.5%"
   ]
  },
  {
   "cell_type": "code",
   "execution_count": 1527,
   "id": "organic-logan",
   "metadata": {},
   "outputs": [],
   "source": [
    "# cap features\n",
    "\n",
    "# train data\n",
    "train['Age_Capped'] = train['Age'].clip(upper=train['Age'].quantile(.995))\n",
    "train['Fare_Capped'] = train['Fare'].clip(upper=train['Fare'].quantile(.995))\n",
    "# test data\n",
    "test['Age_Capped'] = test['Age'].clip(upper=test['Age'].quantile(.995))\n",
    "test['Fare_Capped'] = test['Fare'].clip(upper=test['Fare'].quantile(.995))"
   ]
  },
  {
   "cell_type": "code",
   "execution_count": 1528,
   "id": "fossil-large",
   "metadata": {},
   "outputs": [
    {
     "name": "stdout",
     "output_type": "stream",
     "text": [
      "Age_Capped      70.275\n",
      "Fare_Capped    263.000\n",
      "FamilyCount     11.000\n",
      "Name: max, dtype: float64\n",
      "Age_Capped      64.000000\n",
      "Fare_Capped    262.946875\n",
      "FamilyCount     11.000000\n",
      "Name: max, dtype: float64\n"
     ]
    }
   ],
   "source": [
    "# check results of capping\n",
    "print(train[['Age_Capped', 'Fare_Capped', 'FamilyCount']].describe().loc['max'])\n",
    "print(test[['Age_Capped', 'Fare_Capped', 'FamilyCount']].describe().loc['max'])"
   ]
  },
  {
   "cell_type": "markdown",
   "id": "human-hands",
   "metadata": {},
   "source": [
    "### b) Transforming Skewed Features  <a class=\"anchor\" id=\"transforming_skewed_features\"></a>\n",
    "[To contents](#contents)\n",
    "#### Box-Cox Power Transformation\n",
    "\n",
    " $$ y^x $$\n",
    "\n",
    "| X    | Base Form           |           Transformation               |\n",
    "|------|--------------------------|--------------------------|\n",
    "| -2   | $$ y ^ {-2} $$           | $$ \\frac{1}{y^2} $$      |\n",
    "| -1   | $$ y ^ {-1} $$           | $$ \\frac{1}{y} $$        |\n",
    "| -0.5 | $$ y ^ {\\frac{-1}{2}} $$ | $$ \\frac{1}{\\sqrt{y}} $$ |\n",
    "| 0    | $$ y^{0} $$              | $$ log(y) $$             |\n",
    "| 0.5  | $$ y ^ {\\frac{1}{2}}  $$ | $$ \\sqrt{y} $$           |\n",
    "| 1    | $$ y^{1} $$              | $$ y $$                  |\n",
    "| 2    | $$ y^{2} $$              | $$ y^2 $$                             |\n",
    "\n",
    "**Process**\n",
    "\n",
    "1. Determine what range of exponents to test\n",
    "2. Apply each transformation to each value of your chosen feature\n",
    "3. Use some criteria to determine which of the transformations yield the best distribution (QQ plot should ideally be linear along red line)"
   ]
  },
  {
   "cell_type": "code",
   "execution_count": 1529,
   "id": "static-racing",
   "metadata": {
    "scrolled": true
   },
   "outputs": [
    {
     "data": {
      "image/png": "[encoded data removed]",
      "text/plain": [
       "<Figure size 720x360 with 1 Axes>"
      ]
     },
     "metadata": {
      "needs_background": "light"
     },
     "output_type": "display_data"
    }
   ],
   "source": [
    "died = train[train['Survived'] == 0]['Age_Capped'].dropna()\n",
    "survived = train[train['Survived'] == 1]['Age_Capped'].dropna()\n",
    "xmin = min(min(died), min(survived))\n",
    "xmax = max(max(died), max(survived))\n",
    "\n",
    "plt.figure(figsize=(10, 5))\n",
    "sns.histplot(died, color='r', alpha = 0.5, kde=False, bins=np.arange(xmin, xmax, 2))\n",
    "sns.histplot(survived, color='g', alpha = 0.5, kde=False, bins=np.arange(xmin, xmax, 2))\n",
    "plt.legend(['Died', 'Survived'])\n",
    "plt.title('Overlaid Histogram for Age_Capped')\n",
    "plt.show()"
   ]
  },
  {
   "cell_type": "code",
   "execution_count": 1530,
   "id": "earlier-gathering",
   "metadata": {
    "scrolled": true
   },
   "outputs": [
    {
     "data": {
      "image/png": "[encoded data removed]",
      "text/plain": [
       "<Figure size 720x360 with 1 Axes>"
      ]
     },
     "metadata": {
      "needs_background": "light"
     },
     "output_type": "display_data"
    }
   ],
   "source": [
    "died = train[train['Survived'] == 0]['Fare_Capped'].dropna()\n",
    "survived = train[train['Survived'] == 1]['Fare_Capped'].dropna()\n",
    "xmin = min(min(died), min(survived))\n",
    "xmax = max(max(died), max(survived))\n",
    "\n",
    "plt.figure(figsize=(10, 5))\n",
    "sns.histplot(died, color='r', alpha = 0.5, kde=False, bins=np.arange(xmin, xmax, 10))\n",
    "sns.histplot(survived, color='g', alpha = 0.5, kde=False, bins=np.arange(xmin, xmax, 10))\n",
    "plt.legend(['Died', 'Survived'])\n",
    "plt.title('Overlaid Histogram for Fare_Capped')\n",
    "plt.show()"
   ]
  },
  {
   "cell_type": "markdown",
   "id": "alone-victor",
   "metadata": {},
   "source": [
    "- `Age_Capped` appears well-distributed and not in need of transformation\n",
    "- Generate QQ plots for `Fare_Capped` and histograms to transform data"
   ]
  },
  {
   "cell_type": "code",
   "execution_count": 1531,
   "id": "finished-thumbnail",
   "metadata": {
    "scrolled": false
   },
   "outputs": [
    {
     "data": {
      "image/png": "[encoded data removed]",
      "text/plain": [
       "<Figure size 432x288 with 1 Axes>"
      ]
     },
     "metadata": {
      "needs_background": "light"
     },
     "output_type": "display_data"
    },
    {
     "data": {
      "image/png": "[encoded data removed]",
      "text/plain": [
       "<Figure size 432x288 with 1 Axes>"
      ]
     },
     "metadata": {
      "needs_background": "light"
     },
     "output_type": "display_data"
    },
    {
     "data": {
      "image/png": "[encoded data removed]",
      "text/plain": [
       "<Figure size 432x288 with 1 Axes>"
      ]
     },
     "metadata": {
      "needs_background": "light"
     },
     "output_type": "display_data"
    },
    {
     "data": {
      "image/png": "[encoded data removed]",
      "text/plain": [
       "<Figure size 432x288 with 1 Axes>"
      ]
     },
     "metadata": {
      "needs_background": "light"
     },
     "output_type": "display_data"
    },
    {
     "data": {
      "image/png": "[encoded data removed]",
      "text/plain": [
       "<Figure size 432x288 with 1 Axes>"
      ]
     },
     "metadata": {
      "needs_background": "light"
     },
     "output_type": "display_data"
    },
    {
     "data": {
      "image/png": "[encoded data removed]",
      "text/plain": [
       "<Figure size 432x288 with 1 Axes>"
      ]
     },
     "metadata": {
      "needs_background": "light"
     },
     "output_type": "display_data"
    }
   ],
   "source": [
    "# generate QQ plots\n",
    "for i in [0.5, 1, 2, 3, 4, 5]:\n",
    "    data_t = train['Fare_Capped']**(1/i)\n",
    "    qqplot(data_t, line='s')\n",
    "    plt.title(\"Transformation: 1/{}\".format(str(i)))"
   ]
  },
  {
   "cell_type": "code",
   "execution_count": 1532,
   "id": "retained-mexico",
   "metadata": {
    "scrolled": false
   },
   "outputs": [
    {
     "data": {
      "image/png": "[encoded data removed]",
      "text/plain": [
       "<Figure size 432x288 with 1 Axes>"
      ]
     },
     "metadata": {
      "needs_background": "light"
     },
     "output_type": "display_data"
    },
    {
     "data": {
      "image/png": "[encoded data removed]",
      "text/plain": [
       "<Figure size 432x288 with 1 Axes>"
      ]
     },
     "metadata": {
      "needs_background": "light"
     },
     "output_type": "display_data"
    },
    {
     "data": {
      "image/png": "[encoded data removed]",
      "text/plain": [
       "<Figure size 432x288 with 1 Axes>"
      ]
     },
     "metadata": {
      "needs_background": "light"
     },
     "output_type": "display_data"
    }
   ],
   "source": [
    "# Box-Cox transformation, check best fitting QQ plots (1/3, 1/4, 1/5)\n",
    "for i in [3, 4, 5]:\n",
    "    data_t = train['Fare_Capped']**(1/i)\n",
    "    n, bins, patches = plt.hist(data_t, 50, density=True)\n",
    "    mu = np.mean(data_t)\n",
    "    sigma = np.std(data_t)\n",
    "    plt.plot(bins, stats.norm.pdf(bins, mu, sigma))\n",
    "    plt.title(\"Transformation: 1/{}\".format(str(i)))\n",
    "    plt.show()"
   ]
  },
  {
   "cell_type": "code",
   "execution_count": 1533,
   "id": "single-russia",
   "metadata": {},
   "outputs": [],
   "source": [
    "# create the new transformed feature using x^1/4\n",
    "\n",
    "# train data\n",
    "train['Fare_Capped_Transformed'] = train['Fare_Capped'].apply(lambda x: x**(1/4))\n",
    "# test data\n",
    "test['Fare_Capped_Transformed'] = test['Fare_Capped'].apply(lambda x: x**(1/4))"
   ]
  },
  {
   "cell_type": "markdown",
   "id": "operational-translator",
   "metadata": {},
   "source": [
    "# 2) Creating Data Files <a class=\"anchor\" id=\"creating_data_files\"></a>\n",
    "[To contents](#contents)\n",
    "- Drop required columns, then write them out to csv for future use\n",
    "- Split up data for training, validation, and testing"
   ]
  },
  {
   "cell_type": "markdown",
   "id": "infectious-closer",
   "metadata": {},
   "source": [
    "## A) Dropping Columns <a class=\"anchor\" id=\"dropping_columns\"></a>\n",
    "[To contents](#contents)"
   ]
  },
  {
   "cell_type": "code",
   "execution_count": 1534,
   "id": "exempt-globe",
   "metadata": {},
   "outputs": [],
   "source": [
    "# drop non-numeric and useless features\n",
    "columns_to_drop = ['PassengerId', 'Name', 'Ticket', 'Title', 'Surname', 'TicketPref', 'SurTix', 'IsFamily', 'Child', 'SurvivedDemo', 'FareBin_5']\n",
    "train = train.drop(columns=columns_to_drop)\n",
    "test = test.drop(columns=['Survived']+columns_to_drop)"
   ]
  },
  {
   "cell_type": "code",
   "execution_count": 1535,
   "id": "employed-xerox",
   "metadata": {},
   "outputs": [
    {
     "data": {
      "text/html": [
       "<div>\n",
       "<style scoped>\n",
       "    .dataframe tbody tr th:only-of-type {\n",
       "        vertical-align: middle;\n",
       "    }\n",
       "\n",
       "    .dataframe tbody tr th {\n",
       "        vertical-align: top;\n",
       "    }\n",
       "\n",
       "    .dataframe thead th {\n",
       "        text-align: right;\n",
       "    }\n",
       "</style>\n",
       "<table border=\"1\" class=\"dataframe\">\n",
       "  <thead>\n",
       "    <tr style=\"text-align: right;\">\n",
       "      <th></th>\n",
       "      <th>Survived</th>\n",
       "      <th>Pclass</th>\n",
       "      <th>Sex</th>\n",
       "      <th>Age</th>\n",
       "      <th>SibSp</th>\n",
       "      <th>Parch</th>\n",
       "      <th>Fare</th>\n",
       "      <th>Cabin</th>\n",
       "      <th>Embarked</th>\n",
       "      <th>Title_Code</th>\n",
       "      <th>FamilyCount</th>\n",
       "      <th>FamilyId</th>\n",
       "      <th>Family_Matters</th>\n",
       "      <th>FareBin_Code_5</th>\n",
       "      <th>Age_Capped</th>\n",
       "      <th>Fare_Capped</th>\n",
       "      <th>Fare_Capped_Transformed</th>\n",
       "    </tr>\n",
       "  </thead>\n",
       "  <tbody>\n",
       "    <tr>\n",
       "      <th>0</th>\n",
       "      <td>0.0</td>\n",
       "      <td>3</td>\n",
       "      <td>0</td>\n",
       "      <td>22.0</td>\n",
       "      <td>1</td>\n",
       "      <td>0</td>\n",
       "      <td>7.2500</td>\n",
       "      <td>0</td>\n",
       "      <td>0</td>\n",
       "      <td>0</td>\n",
       "      <td>2</td>\n",
       "      <td>0</td>\n",
       "      <td>1</td>\n",
       "      <td>0</td>\n",
       "      <td>22.0</td>\n",
       "      <td>7.2500</td>\n",
       "      <td>1.640909</td>\n",
       "    </tr>\n",
       "    <tr>\n",
       "      <th>1</th>\n",
       "      <td>1.0</td>\n",
       "      <td>1</td>\n",
       "      <td>1</td>\n",
       "      <td>38.0</td>\n",
       "      <td>1</td>\n",
       "      <td>0</td>\n",
       "      <td>71.2833</td>\n",
       "      <td>1</td>\n",
       "      <td>1</td>\n",
       "      <td>1</td>\n",
       "      <td>2</td>\n",
       "      <td>0</td>\n",
       "      <td>1</td>\n",
       "      <td>4</td>\n",
       "      <td>38.0</td>\n",
       "      <td>71.2833</td>\n",
       "      <td>2.905674</td>\n",
       "    </tr>\n",
       "    <tr>\n",
       "      <th>2</th>\n",
       "      <td>1.0</td>\n",
       "      <td>3</td>\n",
       "      <td>1</td>\n",
       "      <td>26.0</td>\n",
       "      <td>0</td>\n",
       "      <td>0</td>\n",
       "      <td>7.9250</td>\n",
       "      <td>0</td>\n",
       "      <td>0</td>\n",
       "      <td>1</td>\n",
       "      <td>1</td>\n",
       "      <td>0</td>\n",
       "      <td>1</td>\n",
       "      <td>1</td>\n",
       "      <td>26.0</td>\n",
       "      <td>7.9250</td>\n",
       "      <td>1.677837</td>\n",
       "    </tr>\n",
       "    <tr>\n",
       "      <th>3</th>\n",
       "      <td>1.0</td>\n",
       "      <td>1</td>\n",
       "      <td>1</td>\n",
       "      <td>35.0</td>\n",
       "      <td>1</td>\n",
       "      <td>0</td>\n",
       "      <td>53.1000</td>\n",
       "      <td>1</td>\n",
       "      <td>0</td>\n",
       "      <td>1</td>\n",
       "      <td>2</td>\n",
       "      <td>0</td>\n",
       "      <td>1</td>\n",
       "      <td>4</td>\n",
       "      <td>35.0</td>\n",
       "      <td>53.1000</td>\n",
       "      <td>2.699440</td>\n",
       "    </tr>\n",
       "    <tr>\n",
       "      <th>4</th>\n",
       "      <td>0.0</td>\n",
       "      <td>3</td>\n",
       "      <td>0</td>\n",
       "      <td>35.0</td>\n",
       "      <td>0</td>\n",
       "      <td>0</td>\n",
       "      <td>8.0500</td>\n",
       "      <td>0</td>\n",
       "      <td>0</td>\n",
       "      <td>0</td>\n",
       "      <td>1</td>\n",
       "      <td>0</td>\n",
       "      <td>1</td>\n",
       "      <td>1</td>\n",
       "      <td>35.0</td>\n",
       "      <td>8.0500</td>\n",
       "      <td>1.684414</td>\n",
       "    </tr>\n",
       "  </tbody>\n",
       "</table>\n",
       "</div>"
      ],
      "text/plain": [
       "   Survived  Pclass  Sex   Age  SibSp  Parch     Fare  Cabin  Embarked  \\\n",
       "0       0.0       3    0  22.0      1      0   7.2500      0         0   \n",
       "1       1.0       1    1  38.0      1      0  71.2833      1         1   \n",
       "2       1.0       3    1  26.0      0      0   7.9250      0         0   \n",
       "3       1.0       1    1  35.0      1      0  53.1000      1         0   \n",
       "4       0.0       3    0  35.0      0      0   8.0500      0         0   \n",
       "\n",
       "   Title_Code  FamilyCount  FamilyId  Family_Matters  FareBin_Code_5  \\\n",
       "0           0            2         0               1               0   \n",
       "1           1            2         0               1               4   \n",
       "2           1            1         0               1               1   \n",
       "3           1            2         0               1               4   \n",
       "4           0            1         0               1               1   \n",
       "\n",
       "   Age_Capped  Fare_Capped  Fare_Capped_Transformed  \n",
       "0        22.0       7.2500                 1.640909  \n",
       "1        38.0      71.2833                 2.905674  \n",
       "2        26.0       7.9250                 1.677837  \n",
       "3        35.0      53.1000                 2.699440  \n",
       "4        35.0       8.0500                 1.684414  "
      ]
     },
     "execution_count": 1535,
     "metadata": {},
     "output_type": "execute_result"
    }
   ],
   "source": [
    "# what our training data looks like currently\n",
    "train.head()"
   ]
  },
  {
   "cell_type": "code",
   "execution_count": 1536,
   "id": "attempted-clearing",
   "metadata": {
    "scrolled": false
   },
   "outputs": [
    {
     "data": {
      "text/html": [
       "<div>\n",
       "<style scoped>\n",
       "    .dataframe tbody tr th:only-of-type {\n",
       "        vertical-align: middle;\n",
       "    }\n",
       "\n",
       "    .dataframe tbody tr th {\n",
       "        vertical-align: top;\n",
       "    }\n",
       "\n",
       "    .dataframe thead th {\n",
       "        text-align: right;\n",
       "    }\n",
       "</style>\n",
       "<table border=\"1\" class=\"dataframe\">\n",
       "  <thead>\n",
       "    <tr style=\"text-align: right;\">\n",
       "      <th></th>\n",
       "      <th>Pclass</th>\n",
       "      <th>Sex</th>\n",
       "      <th>Age</th>\n",
       "      <th>SibSp</th>\n",
       "      <th>Parch</th>\n",
       "      <th>Fare</th>\n",
       "      <th>Cabin</th>\n",
       "      <th>Embarked</th>\n",
       "      <th>Title_Code</th>\n",
       "      <th>FamilyCount</th>\n",
       "      <th>FamilyId</th>\n",
       "      <th>Family_Matters</th>\n",
       "      <th>FareBin_Code_5</th>\n",
       "      <th>Age_Capped</th>\n",
       "      <th>Fare_Capped</th>\n",
       "      <th>Fare_Capped_Transformed</th>\n",
       "    </tr>\n",
       "  </thead>\n",
       "  <tbody>\n",
       "    <tr>\n",
       "      <th>0</th>\n",
       "      <td>3</td>\n",
       "      <td>0</td>\n",
       "      <td>34.5</td>\n",
       "      <td>0</td>\n",
       "      <td>0</td>\n",
       "      <td>7.8292</td>\n",
       "      <td>0</td>\n",
       "      <td>2</td>\n",
       "      <td>0</td>\n",
       "      <td>1</td>\n",
       "      <td>0</td>\n",
       "      <td>1</td>\n",
       "      <td>1</td>\n",
       "      <td>34.5</td>\n",
       "      <td>7.8292</td>\n",
       "      <td>1.672743</td>\n",
       "    </tr>\n",
       "    <tr>\n",
       "      <th>1</th>\n",
       "      <td>3</td>\n",
       "      <td>1</td>\n",
       "      <td>47.0</td>\n",
       "      <td>1</td>\n",
       "      <td>0</td>\n",
       "      <td>7.0000</td>\n",
       "      <td>0</td>\n",
       "      <td>0</td>\n",
       "      <td>1</td>\n",
       "      <td>2</td>\n",
       "      <td>0</td>\n",
       "      <td>1</td>\n",
       "      <td>0</td>\n",
       "      <td>47.0</td>\n",
       "      <td>7.0000</td>\n",
       "      <td>1.626577</td>\n",
       "    </tr>\n",
       "    <tr>\n",
       "      <th>2</th>\n",
       "      <td>2</td>\n",
       "      <td>0</td>\n",
       "      <td>62.0</td>\n",
       "      <td>0</td>\n",
       "      <td>0</td>\n",
       "      <td>9.6875</td>\n",
       "      <td>0</td>\n",
       "      <td>2</td>\n",
       "      <td>0</td>\n",
       "      <td>1</td>\n",
       "      <td>0</td>\n",
       "      <td>1</td>\n",
       "      <td>1</td>\n",
       "      <td>62.0</td>\n",
       "      <td>9.6875</td>\n",
       "      <td>1.764221</td>\n",
       "    </tr>\n",
       "    <tr>\n",
       "      <th>3</th>\n",
       "      <td>3</td>\n",
       "      <td>0</td>\n",
       "      <td>27.0</td>\n",
       "      <td>0</td>\n",
       "      <td>0</td>\n",
       "      <td>8.6625</td>\n",
       "      <td>0</td>\n",
       "      <td>0</td>\n",
       "      <td>0</td>\n",
       "      <td>1</td>\n",
       "      <td>0</td>\n",
       "      <td>1</td>\n",
       "      <td>1</td>\n",
       "      <td>27.0</td>\n",
       "      <td>8.6625</td>\n",
       "      <td>1.715579</td>\n",
       "    </tr>\n",
       "    <tr>\n",
       "      <th>4</th>\n",
       "      <td>3</td>\n",
       "      <td>1</td>\n",
       "      <td>22.0</td>\n",
       "      <td>1</td>\n",
       "      <td>1</td>\n",
       "      <td>12.2875</td>\n",
       "      <td>0</td>\n",
       "      <td>0</td>\n",
       "      <td>1</td>\n",
       "      <td>3</td>\n",
       "      <td>32</td>\n",
       "      <td>2</td>\n",
       "      <td>2</td>\n",
       "      <td>22.0</td>\n",
       "      <td>12.2875</td>\n",
       "      <td>1.872259</td>\n",
       "    </tr>\n",
       "  </tbody>\n",
       "</table>\n",
       "</div>"
      ],
      "text/plain": [
       "   Pclass  Sex   Age  SibSp  Parch     Fare  Cabin  Embarked  Title_Code  \\\n",
       "0       3    0  34.5      0      0   7.8292      0         2           0   \n",
       "1       3    1  47.0      1      0   7.0000      0         0           1   \n",
       "2       2    0  62.0      0      0   9.6875      0         2           0   \n",
       "3       3    0  27.0      0      0   8.6625      0         0           0   \n",
       "4       3    1  22.0      1      1  12.2875      0         0           1   \n",
       "\n",
       "   FamilyCount  FamilyId  Family_Matters  FareBin_Code_5  Age_Capped  \\\n",
       "0            1         0               1               1        34.5   \n",
       "1            2         0               1               0        47.0   \n",
       "2            1         0               1               1        62.0   \n",
       "3            1         0               1               1        27.0   \n",
       "4            3        32               2               2        22.0   \n",
       "\n",
       "   Fare_Capped  Fare_Capped_Transformed  \n",
       "0       7.8292                 1.672743  \n",
       "1       7.0000                 1.626577  \n",
       "2       9.6875                 1.764221  \n",
       "3       8.6625                 1.715579  \n",
       "4      12.2875                 1.872259  "
      ]
     },
     "execution_count": 1536,
     "metadata": {},
     "output_type": "execute_result"
    }
   ],
   "source": [
    "# what our testing data looks like currently\n",
    "test.head()"
   ]
  },
  {
   "cell_type": "markdown",
   "id": "generous-mixer",
   "metadata": {},
   "source": [
    "- Choose final features based on correlation and impact of features\n",
    "- Eliminate features that have high correlation with each other"
   ]
  },
  {
   "cell_type": "code",
   "execution_count": 1537,
   "id": "identical-fluid",
   "metadata": {},
   "outputs": [
    {
     "data": {
      "image/png": "[encoded data removed]",
      "text/plain": [
       "<Figure size 1080x864 with 2 Axes>"
      ]
     },
     "metadata": {
      "needs_background": "light"
     },
     "output_type": "display_data"
    }
   ],
   "source": [
    "# generate correlation matrix heat map\n",
    "plt.figure(figsize = (15,12))\n",
    "matrix = np.triu(train.corr())\n",
    "sns.heatmap(train.corr(), annot=True, fmt='.1f', vmin=-1, vmax=1, center= 0, cmap= 'coolwarm', mask=matrix);"
   ]
  },
  {
   "cell_type": "code",
   "execution_count": 1538,
   "id": "arabic-casting",
   "metadata": {},
   "outputs": [],
   "source": [
    "# final columns to keep\n",
    "columns_to_keep = ['Pclass','Title_Code','FamilyCount','FareBin_Code_5','Family_Matters']\n",
    "train1 = train[['Survived'] + columns_to_keep]\n",
    "test1 = test[columns_to_keep]"
   ]
  },
  {
   "cell_type": "code",
   "execution_count": 1539,
   "id": "hindu-roads",
   "metadata": {},
   "outputs": [
    {
     "data": {
      "image/png": "[encoded data removed]",
      "text/plain": [
       "<Figure size 432x360 with 2 Axes>"
      ]
     },
     "metadata": {
      "needs_background": "light"
     },
     "output_type": "display_data"
    }
   ],
   "source": [
    "# generate correlation matrix heat map\n",
    "plt.figure(figsize = (6,5))\n",
    "matrix = np.triu(train1.corr())\n",
    "sns.heatmap(train1.corr(), annot=True, fmt='.1f', vmin=-1, vmax=1, center= 0, cmap= 'coolwarm', mask=matrix);"
   ]
  },
  {
   "cell_type": "markdown",
   "id": "italian-split",
   "metadata": {},
   "source": [
    "## B) Scaling <a class=\"anchor\" id=\"scaling\"></a>\n",
    "[To contents](#contents)\n",
    "- Convert data from raw numbers to z-score (how many standard deviations above the mean)\n",
    "- Some algorithms, like logistic regression and deep learning algorithms, struggle with unscaled data\n",
    "- Random forest and gradient boosting does fine with unscaled data, hence commented out"
   ]
  },
  {
   "cell_type": "code",
   "execution_count": 1407,
   "id": "fiscal-person",
   "metadata": {},
   "outputs": [],
   "source": [
    "# # fit the scaler on the training data, then transform\n",
    "# labels = train1['Survived']\n",
    "# scaler = StandardScaler()\n",
    "# scaler.fit(train1)\n",
    "# features = train1.columns\n",
    "# train1[features] = scaler.transform(train1[features])\n",
    "# train1['Survived'] = labels"
   ]
  },
  {
   "cell_type": "code",
   "execution_count": 1408,
   "id": "processed-premium",
   "metadata": {},
   "outputs": [],
   "source": [
    "# # fit the scaler on the testing data, then transform\n",
    "# scaler = StandardScaler()\n",
    "# scaler.fit(test1)\n",
    "# features = test1.columns\n",
    "# test1[features] = scaler.transform(test1[features])"
   ]
  },
  {
   "cell_type": "code",
   "execution_count": 1409,
   "id": "purple-dakota",
   "metadata": {},
   "outputs": [
    {
     "data": {
      "text/html": [
       "<div>\n",
       "<style scoped>\n",
       "    .dataframe tbody tr th:only-of-type {\n",
       "        vertical-align: middle;\n",
       "    }\n",
       "\n",
       "    .dataframe tbody tr th {\n",
       "        vertical-align: top;\n",
       "    }\n",
       "\n",
       "    .dataframe thead th {\n",
       "        text-align: right;\n",
       "    }\n",
       "</style>\n",
       "<table border=\"1\" class=\"dataframe\">\n",
       "  <thead>\n",
       "    <tr style=\"text-align: right;\">\n",
       "      <th></th>\n",
       "      <th>Survived</th>\n",
       "      <th>Pclass</th>\n",
       "      <th>Title_Code</th>\n",
       "      <th>FamilyCount</th>\n",
       "      <th>FareBin_Code_5</th>\n",
       "      <th>Family_Matters</th>\n",
       "    </tr>\n",
       "  </thead>\n",
       "  <tbody>\n",
       "    <tr>\n",
       "      <th>0</th>\n",
       "      <td>0.0</td>\n",
       "      <td>3</td>\n",
       "      <td>0</td>\n",
       "      <td>2</td>\n",
       "      <td>0</td>\n",
       "      <td>1</td>\n",
       "    </tr>\n",
       "    <tr>\n",
       "      <th>1</th>\n",
       "      <td>1.0</td>\n",
       "      <td>1</td>\n",
       "      <td>1</td>\n",
       "      <td>2</td>\n",
       "      <td>4</td>\n",
       "      <td>1</td>\n",
       "    </tr>\n",
       "    <tr>\n",
       "      <th>2</th>\n",
       "      <td>1.0</td>\n",
       "      <td>3</td>\n",
       "      <td>1</td>\n",
       "      <td>1</td>\n",
       "      <td>1</td>\n",
       "      <td>1</td>\n",
       "    </tr>\n",
       "    <tr>\n",
       "      <th>3</th>\n",
       "      <td>1.0</td>\n",
       "      <td>1</td>\n",
       "      <td>1</td>\n",
       "      <td>2</td>\n",
       "      <td>4</td>\n",
       "      <td>1</td>\n",
       "    </tr>\n",
       "    <tr>\n",
       "      <th>4</th>\n",
       "      <td>0.0</td>\n",
       "      <td>3</td>\n",
       "      <td>0</td>\n",
       "      <td>1</td>\n",
       "      <td>1</td>\n",
       "      <td>1</td>\n",
       "    </tr>\n",
       "  </tbody>\n",
       "</table>\n",
       "</div>"
      ],
      "text/plain": [
       "   Survived  Pclass  Title_Code  FamilyCount  FareBin_Code_5  Family_Matters\n",
       "0       0.0       3           0            2               0               1\n",
       "1       1.0       1           1            2               4               1\n",
       "2       1.0       3           1            1               1               1\n",
       "3       1.0       1           1            2               4               1\n",
       "4       0.0       3           0            1               1               1"
      ]
     },
     "execution_count": 1409,
     "metadata": {},
     "output_type": "execute_result"
    }
   ],
   "source": [
    "# what our training data looks like currently\n",
    "train1.head()"
   ]
  },
  {
   "cell_type": "code",
   "execution_count": 1410,
   "id": "manual-uganda",
   "metadata": {},
   "outputs": [
    {
     "data": {
      "text/html": [
       "<div>\n",
       "<style scoped>\n",
       "    .dataframe tbody tr th:only-of-type {\n",
       "        vertical-align: middle;\n",
       "    }\n",
       "\n",
       "    .dataframe tbody tr th {\n",
       "        vertical-align: top;\n",
       "    }\n",
       "\n",
       "    .dataframe thead th {\n",
       "        text-align: right;\n",
       "    }\n",
       "</style>\n",
       "<table border=\"1\" class=\"dataframe\">\n",
       "  <thead>\n",
       "    <tr style=\"text-align: right;\">\n",
       "      <th></th>\n",
       "      <th>Pclass</th>\n",
       "      <th>Title_Code</th>\n",
       "      <th>FamilyCount</th>\n",
       "      <th>FareBin_Code_5</th>\n",
       "      <th>Family_Matters</th>\n",
       "    </tr>\n",
       "  </thead>\n",
       "  <tbody>\n",
       "    <tr>\n",
       "      <th>0</th>\n",
       "      <td>3</td>\n",
       "      <td>0</td>\n",
       "      <td>1</td>\n",
       "      <td>1</td>\n",
       "      <td>1</td>\n",
       "    </tr>\n",
       "    <tr>\n",
       "      <th>1</th>\n",
       "      <td>3</td>\n",
       "      <td>1</td>\n",
       "      <td>2</td>\n",
       "      <td>0</td>\n",
       "      <td>1</td>\n",
       "    </tr>\n",
       "    <tr>\n",
       "      <th>2</th>\n",
       "      <td>2</td>\n",
       "      <td>0</td>\n",
       "      <td>1</td>\n",
       "      <td>1</td>\n",
       "      <td>1</td>\n",
       "    </tr>\n",
       "    <tr>\n",
       "      <th>3</th>\n",
       "      <td>3</td>\n",
       "      <td>0</td>\n",
       "      <td>1</td>\n",
       "      <td>1</td>\n",
       "      <td>1</td>\n",
       "    </tr>\n",
       "    <tr>\n",
       "      <th>4</th>\n",
       "      <td>3</td>\n",
       "      <td>1</td>\n",
       "      <td>3</td>\n",
       "      <td>2</td>\n",
       "      <td>2</td>\n",
       "    </tr>\n",
       "  </tbody>\n",
       "</table>\n",
       "</div>"
      ],
      "text/plain": [
       "   Pclass  Title_Code  FamilyCount  FareBin_Code_5  Family_Matters\n",
       "0       3           0            1               1               1\n",
       "1       3           1            2               0               1\n",
       "2       2           0            1               1               1\n",
       "3       3           0            1               1               1\n",
       "4       3           1            3               2               2"
      ]
     },
     "execution_count": 1410,
     "metadata": {},
     "output_type": "execute_result"
    }
   ],
   "source": [
    "# what our testing data looks like currently\n",
    "test1.head()"
   ]
  },
  {
   "cell_type": "code",
   "execution_count": 1411,
   "id": "patent-property",
   "metadata": {},
   "outputs": [],
   "source": [
    "# write out cleaned data\n",
    "train1.to_csv('data/train_cleaned.csv', index=False)\n",
    "test1.to_csv('data/test_cleaned.csv', index=False)"
   ]
  },
  {
   "cell_type": "markdown",
   "id": "acting-initial",
   "metadata": {},
   "source": [
    "## B) Splitting Up Data <a class=\"anchor\" id=\"splitting_up_data\"></a>\n",
    "[To contents](#contents)\n",
    "- Split the training data up into the following segments:\n",
    "     - Training Data: 60%\n",
    "     - Validation Data: 20%\n",
    "     - Test Data: 20%"
   ]
  },
  {
   "cell_type": "code",
   "execution_count": 1412,
   "id": "heard-republic",
   "metadata": {},
   "outputs": [
    {
     "name": "stdout",
     "output_type": "stream",
     "text": [
      "0.6\n",
      "0.2\n",
      "0.2\n"
     ]
    }
   ],
   "source": [
    "train = pd.read_csv('data/train_cleaned.csv')\n",
    "features = train.drop(columns='Survived')\n",
    "labels = train['Survived']\n",
    "\n",
    "# we need to do this twice because train_test_split can only split into two sets\n",
    "# first put 60% into training\n",
    "X_train, X_test, y_train, y_test = train_test_split(features, labels, test_size=0.4, random_state=42)\n",
    "# the put 20% into validation and test, respectively\n",
    "X_test, X_val, y_test, y_val = train_test_split(X_test, y_test, test_size=0.5, random_state=42)\n",
    "\n",
    "# check sizes\n",
    "for dataset in [y_train, y_val, y_test]:\n",
    "    print(round(len(dataset) / len(labels), 2))"
   ]
  },
  {
   "cell_type": "code",
   "execution_count": 1413,
   "id": "reliable-plymouth",
   "metadata": {},
   "outputs": [],
   "source": [
    "# write out split data\n",
    "X_train.to_csv('data/split/train_features.csv', index=False)\n",
    "X_val.to_csv('data/split/val_features.csv', index=False)\n",
    "X_test.to_csv('data/split/test_features.csv', index=False)\n",
    "\n",
    "y_train.to_csv('data/split/train_labels.csv', index=False)\n",
    "y_val.to_csv('data/split/val_labels.csv', index=False)\n",
    "y_test.to_csv('data/split/test_labels.csv', index=False)"
   ]
  },
  {
   "cell_type": "markdown",
   "id": "difficult-comment",
   "metadata": {},
   "source": [
    "# 3) Training Models <a class=\"anchor\" id=\"training_models\"></a>\n",
    "[To contents](#contents)\n",
    "- Use the training dataset using 5-Fold Cross-Validaiton to get a basic idea of the model's performance\n",
    "- 5-Fold Cross-Validation shows the accuracy of the model when training on different subsets of the data"
   ]
  },
  {
   "cell_type": "code",
   "execution_count": 1414,
   "id": "manufactured-looking",
   "metadata": {},
   "outputs": [],
   "source": [
    "# read in data\n",
    "X_train = pd.read_csv('data/split/train_features.csv')\n",
    "X_val = pd.read_csv('data/split/val_features.csv')\n",
    "X_test = pd.read_csv('data/split/test_features.csv')\n",
    "\n",
    "y_train = pd.read_csv('data/split/train_labels.csv')\n",
    "y_val = pd.read_csv('data/split/val_labels.csv')\n",
    "y_test = pd.read_csv('data/split/test_labels.csv')"
   ]
  },
  {
   "cell_type": "code",
   "execution_count": 1415,
   "id": "collaborative-finder",
   "metadata": {},
   "outputs": [],
   "source": [
    "# prints results of GridSearchCV\n",
    "def print_results(results):\n",
    "    print('BEST PARAMS: {}\\n'.format(results.best_params_))\n",
    "    \n",
    "    means = results.cv_results_['mean_test_score']\n",
    "    stds = results.cv_results_['std_test_score']\n",
    "    for mean, std, params in zip(means, stds, results.cv_results_['params']):\n",
    "        # prints mean and 2 standard deviations to each side\n",
    "        print('{} (+/-{}) for {}'.format(round(mean, 3), round(std * 2, 3), params))"
   ]
  },
  {
   "cell_type": "markdown",
   "id": "distant-sleeve",
   "metadata": {},
   "source": [
    "## A) Logistic Regression <a class=\"anchor\" id=\"logistic_regression\"></a>\n",
    "[To contents](#contents)\n",
    "- Regression is a statistical process for estimating relationships among variables\n",
    "- Logistic regression uses a logistic function (sigmoid curve) to model a binary variable\n",
    "- When to use\n",
    "    - Categorical target variable\n",
    "    - Transparency is important\n",
    "    - Fairly well-behaved data\n",
    "    - Need a quick benchmark\n",
    "- When not to use\n",
    "    - Continuous target variable\n",
    "    - Massive data (rows or columns)\n",
    "    - Messy data with many outliers\n",
    "    - Performance matters most\n",
    "- Key hyperparameters\n",
    "    - `C = 1/lambda` \n",
    "    - `lambda` is a regularization parameter that controls overfitting and underfitting\n",
    "    - High `lambda` = low `C` -> low regularization, more likely overfit \n",
    "    - Low `lambda` = high `C` -> high regularization, more likely underfit   "
   ]
  },
  {
   "cell_type": "code",
   "execution_count": 1416,
   "id": "processed-broadcasting",
   "metadata": {},
   "outputs": [
    {
     "data": {
      "text/plain": [
       "LogisticRegression(C=1.0, class_weight=None, dual=False, fit_intercept=True,\n",
       "                   intercept_scaling=1, l1_ratio=None, max_iter=100,\n",
       "                   multi_class='auto', n_jobs=None, penalty='l2',\n",
       "                   random_state=None, solver='lbfgs', tol=0.0001, verbose=0,\n",
       "                   warm_start=False)"
      ]
     },
     "execution_count": 1416,
     "metadata": {},
     "output_type": "execute_result"
    }
   ],
   "source": [
    "# view parameters\n",
    "LogisticRegression()"
   ]
  },
  {
   "cell_type": "code",
   "execution_count": 1417,
   "id": "rational-sequence",
   "metadata": {
    "scrolled": false
   },
   "outputs": [
    {
     "name": "stdout",
     "output_type": "stream",
     "text": [
      "BEST PARAMS: {'C': 1}\n",
      "\n",
      "0.624 (+/-0.007) for {'C': 0.001}\n",
      "0.747 (+/-0.071) for {'C': 0.01}\n",
      "0.822 (+/-0.087) for {'C': 0.1}\n",
      "0.852 (+/-0.066) for {'C': 1}\n",
      "0.846 (+/-0.067) for {'C': 10}\n",
      "0.846 (+/-0.067) for {'C': 100}\n",
      "0.846 (+/-0.067) for {'C': 1000}\n"
     ]
    }
   ],
   "source": [
    "# fit model\n",
    "lr = LogisticRegression()\n",
    "parameters = {\n",
    "    'C': [0.001, 0.01, 0.1, 1, 10, 100, 1000]\n",
    "}\n",
    "\n",
    "cv1 = GridSearchCV(lr, parameters, cv=5)\n",
    "cv1.fit(X_train, y_train.values.ravel())\n",
    "\n",
    "print_results(cv1)"
   ]
  },
  {
   "cell_type": "code",
   "execution_count": 1418,
   "id": "peripheral-kingdom",
   "metadata": {},
   "outputs": [
    {
     "data": {
      "text/plain": [
       "['models/selection/logistic_regression.pkl']"
      ]
     },
     "execution_count": 1418,
     "metadata": {},
     "output_type": "execute_result"
    }
   ],
   "source": [
    "# save model\n",
    "joblib.dump(cv1.best_estimator_, 'models/selection/logistic_regression.pkl')"
   ]
  },
  {
   "cell_type": "markdown",
   "id": "following-porcelain",
   "metadata": {},
   "source": [
    "## B) Support Vector Machine<a class=\"anchor\" id=\"support_vector_machine\"></a>\n",
    "[To contents](#contents)\n",
    "- Support vector machine is a classifier that finds an optimal hyperplane that maximizes margin between two classes\n",
    "- Support vector is the perpendicular line from decision boundary to closest points in each class\n",
    "- Hyperplane is decision boundary in n-dimensional space\n",
    "- Kernel trick transforms data not linearly separable in n-dimensional space to a higher dimension where it is linearly separable\n",
    "- When to use\n",
    "    - Categorical target variable\n",
    "    - High feature-to-row ratio\n",
    "    - Complex relationships\n",
    "    - Data with many outliers\n",
    "- When not to use\n",
    "    - Low feature-to-row ratio\n",
    "    - Transparency is important\n",
    "    - Need a quick benchmark\n",
    "- Key hyperparameters\n",
    "    - Low `C` -> high regularization, small penalty for misclassification, large margin, more likely underfit \n",
    "    - High `C` -> low regularization, large penalty for misclassification, small margin, more likely overfit\n",
    "    - `kernel` controls kernel trick method"
   ]
  },
  {
   "cell_type": "code",
   "execution_count": 1419,
   "id": "final-parish",
   "metadata": {},
   "outputs": [
    {
     "data": {
      "text/plain": [
       "SVC(C=1.0, break_ties=False, cache_size=200, class_weight=None, coef0=0.0,\n",
       "    decision_function_shape='ovr', degree=3, gamma='scale', kernel='rbf',\n",
       "    max_iter=-1, probability=False, random_state=None, shrinking=True,\n",
       "    tol=0.001, verbose=False)"
      ]
     },
     "execution_count": 1419,
     "metadata": {},
     "output_type": "execute_result"
    }
   ],
   "source": [
    "# view parameters\n",
    "SVC()"
   ]
  },
  {
   "cell_type": "code",
   "execution_count": 1420,
   "id": "transparent-melbourne",
   "metadata": {
    "scrolled": true
   },
   "outputs": [
    {
     "name": "stdout",
     "output_type": "stream",
     "text": [
      "BEST PARAMS: {'C': 1, 'kernel': 'rbf'}\n",
      "\n",
      "0.83 (+/-0.066) for {'C': 0.1, 'kernel': 'linear'}\n",
      "0.807 (+/-0.104) for {'C': 0.1, 'kernel': 'rbf'}\n",
      "0.837 (+/-0.067) for {'C': 1, 'kernel': 'linear'}\n",
      "0.846 (+/-0.067) for {'C': 1, 'kernel': 'rbf'}\n",
      "0.837 (+/-0.067) for {'C': 10, 'kernel': 'linear'}\n",
      "0.841 (+/-0.045) for {'C': 10, 'kernel': 'rbf'}\n"
     ]
    }
   ],
   "source": [
    "# fit model\n",
    "svc = SVC()\n",
    "parameters = {\n",
    "    'kernel': ['linear', 'rbf'],\n",
    "    'C': [0.1, 1, 10]\n",
    "}\n",
    "\n",
    "cv2 = GridSearchCV(svc, parameters, cv=5)\n",
    "cv2.fit(X_train, y_train.values.ravel())\n",
    "\n",
    "print_results(cv2)"
   ]
  },
  {
   "cell_type": "code",
   "execution_count": 1421,
   "id": "portuguese-smooth",
   "metadata": {},
   "outputs": [
    {
     "data": {
      "text/plain": [
       "['models/selection/support_vector_machine.pkl']"
      ]
     },
     "execution_count": 1421,
     "metadata": {},
     "output_type": "execute_result"
    }
   ],
   "source": [
    "# save model\n",
    "joblib.dump(cv2.best_estimator_, 'models/selection/support_vector_machine.pkl')"
   ]
  },
  {
   "cell_type": "markdown",
   "id": "imported-assumption",
   "metadata": {},
   "source": [
    "## C) Multilayer Perceptron <a class=\"anchor\" id=\"multilayer_perceptron\"></a>\n",
    "[To contents](#contents)\n",
    "- Multilayer perceptron is a classic feed-forward artificial neural network\n",
    "- Connected series of nodes, each node represents a function\n",
    "- Input layer, hidden layers, output layer\n",
    "- When to use\n",
    "    - Categorical or continuous target variable\n",
    "    - Complex relationships\n",
    "    - Control over training process, many hyperparameters\n",
    "- When not to use\n",
    "    - Image recognition, time series, etc\n",
    "    - Transparency is important\n",
    "    - Need a quick benchmark\n",
    "- Key hyperparameters\n",
    "    - `hidden_layer_sizes` determines how many layers and how many nodes in each layer\n",
    "    - `learning_rate` facilitates how quickly and whether or not algorithm will find optimal solution, select a type of learning\n",
    "        - Low learning rate is slow and may get stuck in local min\n",
    "        - High learning rate jumps around and may never find optimal solution\n",
    "    - `activation function` transforms inputs, includes sigmoid, tanh, ReLU"
   ]
  },
  {
   "cell_type": "code",
   "execution_count": 1422,
   "id": "particular-teaching",
   "metadata": {},
   "outputs": [
    {
     "name": "stdout",
     "output_type": "stream",
     "text": [
      "MLPRegressor(activation='relu', alpha=0.0001, batch_size='auto', beta_1=0.9,\n",
      "             beta_2=0.999, early_stopping=False, epsilon=1e-08,\n",
      "             hidden_layer_sizes=(100,), learning_rate='constant',\n",
      "             learning_rate_init=0.001, max_fun=15000, max_iter=200,\n",
      "             momentum=0.9, n_iter_no_change=10, nesterovs_momentum=True,\n",
      "             power_t=0.5, random_state=None, shuffle=True, solver='adam',\n",
      "             tol=0.0001, validation_fraction=0.1, verbose=False,\n",
      "             warm_start=False)\n",
      "MLPClassifier(activation='relu', alpha=0.0001, batch_size='auto', beta_1=0.9,\n",
      "              beta_2=0.999, early_stopping=False, epsilon=1e-08,\n",
      "              hidden_layer_sizes=(100,), learning_rate='constant',\n",
      "              learning_rate_init=0.001, max_fun=15000, max_iter=200,\n",
      "              momentum=0.9, n_iter_no_change=10, nesterovs_momentum=True,\n",
      "              power_t=0.5, random_state=None, shuffle=True, solver='adam',\n",
      "              tol=0.0001, validation_fraction=0.1, verbose=False,\n",
      "              warm_start=False)\n"
     ]
    }
   ],
   "source": [
    "# view parameters\n",
    "print(MLPRegressor())\n",
    "print(MLPClassifier())"
   ]
  },
  {
   "cell_type": "code",
   "execution_count": 1423,
   "id": "laughing-indianapolis",
   "metadata": {},
   "outputs": [
    {
     "name": "stdout",
     "output_type": "stream",
     "text": [
      "BEST PARAMS: {'activation': 'relu', 'hidden_layer_sizes': (64, 64), 'learning_rate': 'adaptive'}\n",
      "\n",
      "0.833 (+/-0.058) for {'activation': 'relu', 'hidden_layer_sizes': (16, 16, 16), 'learning_rate': 'constant'}\n",
      "0.852 (+/-0.057) for {'activation': 'relu', 'hidden_layer_sizes': (16, 16, 16), 'learning_rate': 'invscaling'}\n",
      "0.845 (+/-0.063) for {'activation': 'relu', 'hidden_layer_sizes': (16, 16, 16), 'learning_rate': 'adaptive'}\n",
      "0.85 (+/-0.061) for {'activation': 'relu', 'hidden_layer_sizes': (32, 32), 'learning_rate': 'constant'}\n",
      "0.852 (+/-0.064) for {'activation': 'relu', 'hidden_layer_sizes': (32, 32), 'learning_rate': 'invscaling'}\n",
      "0.848 (+/-0.072) for {'activation': 'relu', 'hidden_layer_sizes': (32, 32), 'learning_rate': 'adaptive'}\n",
      "0.848 (+/-0.064) for {'activation': 'relu', 'hidden_layer_sizes': (64, 64), 'learning_rate': 'constant'}\n",
      "0.848 (+/-0.052) for {'activation': 'relu', 'hidden_layer_sizes': (64, 64), 'learning_rate': 'invscaling'}\n",
      "0.856 (+/-0.072) for {'activation': 'relu', 'hidden_layer_sizes': (64, 64), 'learning_rate': 'adaptive'}\n",
      "0.852 (+/-0.069) for {'activation': 'tanh', 'hidden_layer_sizes': (16, 16, 16), 'learning_rate': 'constant'}\n",
      "0.835 (+/-0.088) for {'activation': 'tanh', 'hidden_layer_sizes': (16, 16, 16), 'learning_rate': 'invscaling'}\n",
      "0.846 (+/-0.067) for {'activation': 'tanh', 'hidden_layer_sizes': (16, 16, 16), 'learning_rate': 'adaptive'}\n",
      "0.852 (+/-0.066) for {'activation': 'tanh', 'hidden_layer_sizes': (32, 32), 'learning_rate': 'constant'}\n",
      "0.846 (+/-0.06) for {'activation': 'tanh', 'hidden_layer_sizes': (32, 32), 'learning_rate': 'invscaling'}\n",
      "0.843 (+/-0.049) for {'activation': 'tanh', 'hidden_layer_sizes': (32, 32), 'learning_rate': 'adaptive'}\n",
      "0.852 (+/-0.06) for {'activation': 'tanh', 'hidden_layer_sizes': (64, 64), 'learning_rate': 'constant'}\n",
      "0.837 (+/-0.085) for {'activation': 'tanh', 'hidden_layer_sizes': (64, 64), 'learning_rate': 'invscaling'}\n",
      "0.85 (+/-0.072) for {'activation': 'tanh', 'hidden_layer_sizes': (64, 64), 'learning_rate': 'adaptive'}\n",
      "0.723 (+/-0.197) for {'activation': 'logistic', 'hidden_layer_sizes': (16, 16, 16), 'learning_rate': 'constant'}\n",
      "0.713 (+/-0.159) for {'activation': 'logistic', 'hidden_layer_sizes': (16, 16, 16), 'learning_rate': 'invscaling'}\n",
      "0.768 (+/-0.164) for {'activation': 'logistic', 'hidden_layer_sizes': (16, 16, 16), 'learning_rate': 'adaptive'}\n",
      "0.843 (+/-0.065) for {'activation': 'logistic', 'hidden_layer_sizes': (32, 32), 'learning_rate': 'constant'}\n",
      "0.824 (+/-0.086) for {'activation': 'logistic', 'hidden_layer_sizes': (32, 32), 'learning_rate': 'invscaling'}\n",
      "0.839 (+/-0.058) for {'activation': 'logistic', 'hidden_layer_sizes': (32, 32), 'learning_rate': 'adaptive'}\n",
      "0.839 (+/-0.074) for {'activation': 'logistic', 'hidden_layer_sizes': (64, 64), 'learning_rate': 'constant'}\n",
      "0.845 (+/-0.059) for {'activation': 'logistic', 'hidden_layer_sizes': (64, 64), 'learning_rate': 'invscaling'}\n",
      "0.837 (+/-0.07) for {'activation': 'logistic', 'hidden_layer_sizes': (64, 64), 'learning_rate': 'adaptive'}\n"
     ]
    }
   ],
   "source": [
    "# fit model\n",
    "mlp = MLPClassifier()\n",
    "parameters = {\n",
    "    'hidden_layer_sizes': [(16, 16 ,16), (32,32), (64,64)],\n",
    "    'activation': ['relu', 'tanh', 'logistic'],\n",
    "    'learning_rate': ['constant', 'invscaling', 'adaptive']\n",
    "}\n",
    "\n",
    "cv3 = GridSearchCV(mlp, parameters, cv=5)\n",
    "cv3.fit(X_train, y_train.values.ravel())\n",
    "\n",
    "print_results(cv3)"
   ]
  },
  {
   "cell_type": "code",
   "execution_count": 1424,
   "id": "burning-cincinnati",
   "metadata": {},
   "outputs": [
    {
     "data": {
      "text/plain": [
       "['models/selection/multilayer_perceptron.pkl']"
      ]
     },
     "execution_count": 1424,
     "metadata": {},
     "output_type": "execute_result"
    }
   ],
   "source": [
    "# save model\n",
    "joblib.dump(cv3.best_estimator_, 'models/selection/multilayer_perceptron.pkl')"
   ]
  },
  {
   "cell_type": "markdown",
   "id": "incredible-comment",
   "metadata": {},
   "source": [
    "## D) Random Forest<a class=\"anchor\" id=\"random_forest\"></a>\n",
    "[To contents](#contents)\n",
    "- Random forest merges a collection of independent decision trees to get a more acurate and stable predictino\n",
    "- Type of ensemble method, which combies multiple models to reduce bias and variance\n",
    "- Splits training data into several data samples and feature samples\n",
    "- Each tree gives a prediction, takes majority or average result\n",
    "- When to use\n",
    "    - Categorical or continuous target variable\n",
    "    - Interested in significance of predictors\n",
    "    - Need a quick benchmark\n",
    "    - Messy data with many missig values and outliers\n",
    "- When not to use\n",
    "    - Transparency is important\n",
    "    - Complex relationships\n",
    "    - Prediction time is important\n",
    "- Key hyperparameters\n",
    "    - `n_estimators` controls how many individual decision trees are built\n",
    "    - `max_depth` controls how deep each tree can go"
   ]
  },
  {
   "cell_type": "code",
   "execution_count": 1440,
   "id": "narrative-location",
   "metadata": {},
   "outputs": [
    {
     "name": "stdout",
     "output_type": "stream",
     "text": [
      "RandomForestClassifier(bootstrap=True, ccp_alpha=0.0, class_weight=None,\n",
      "                       criterion='gini', max_depth=None, max_features='auto',\n",
      "                       max_leaf_nodes=None, max_samples=None,\n",
      "                       min_impurity_decrease=0.0, min_impurity_split=None,\n",
      "                       min_samples_leaf=1, min_samples_split=2,\n",
      "                       min_weight_fraction_leaf=0.0, n_estimators=100,\n",
      "                       n_jobs=None, oob_score=False, random_state=None,\n",
      "                       verbose=0, warm_start=False)\n",
      "RandomForestRegressor(bootstrap=True, ccp_alpha=0.0, criterion='mse',\n",
      "                      max_depth=None, max_features='auto', max_leaf_nodes=None,\n",
      "                      max_samples=None, min_impurity_decrease=0.0,\n",
      "                      min_impurity_split=None, min_samples_leaf=1,\n",
      "                      min_samples_split=2, min_weight_fraction_leaf=0.0,\n",
      "                      n_estimators=100, n_jobs=None, oob_score=False,\n",
      "                      random_state=None, verbose=0, warm_start=False)\n"
     ]
    }
   ],
   "source": [
    "# view parameters\n",
    "print(RandomForestClassifier())\n",
    "print(RandomForestRegressor())"
   ]
  },
  {
   "cell_type": "code",
   "execution_count": 1448,
   "id": "downtown-despite",
   "metadata": {},
   "outputs": [
    {
     "name": "stdout",
     "output_type": "stream",
     "text": [
      "BEST PARAMS: {'max_depth': 16, 'n_estimators': 100}\n",
      "\n",
      "0.846 (+/-0.053) for {'max_depth': 8, 'n_estimators': 25}\n",
      "0.845 (+/-0.057) for {'max_depth': 8, 'n_estimators': 50}\n",
      "0.843 (+/-0.046) for {'max_depth': 8, 'n_estimators': 100}\n",
      "0.843 (+/-0.046) for {'max_depth': 8, 'n_estimators': 250}\n",
      "0.841 (+/-0.059) for {'max_depth': 16, 'n_estimators': 25}\n",
      "0.843 (+/-0.046) for {'max_depth': 16, 'n_estimators': 50}\n",
      "0.848 (+/-0.059) for {'max_depth': 16, 'n_estimators': 100}\n",
      "0.845 (+/-0.043) for {'max_depth': 16, 'n_estimators': 250}\n",
      "0.839 (+/-0.054) for {'max_depth': 32, 'n_estimators': 25}\n",
      "0.845 (+/-0.057) for {'max_depth': 32, 'n_estimators': 50}\n",
      "0.845 (+/-0.058) for {'max_depth': 32, 'n_estimators': 100}\n",
      "0.846 (+/-0.05) for {'max_depth': 32, 'n_estimators': 250}\n",
      "0.845 (+/-0.057) for {'max_depth': None, 'n_estimators': 25}\n",
      "0.846 (+/-0.042) for {'max_depth': None, 'n_estimators': 50}\n",
      "0.843 (+/-0.052) for {'max_depth': None, 'n_estimators': 100}\n",
      "0.843 (+/-0.046) for {'max_depth': None, 'n_estimators': 250}\n"
     ]
    }
   ],
   "source": [
    "# fit model\n",
    "rf = RandomForestClassifier()\n",
    "parameters = {\n",
    "    'n_estimators': [25, 50, 100, 250],\n",
    "    'max_depth': [8, 16, 32, None]\n",
    "}\n",
    "\n",
    "cv4 = GridSearchCV(rf, parameters, cv=5)\n",
    "cv4.fit(X_train, y_train.values.ravel())\n",
    "\n",
    "print_results(cv4)"
   ]
  },
  {
   "cell_type": "code",
   "execution_count": 1449,
   "id": "angry-scale",
   "metadata": {},
   "outputs": [
    {
     "data": {
      "image/png": "[encoded data removed]",
      "text/plain": [
       "<Figure size 432x288 with 1 Axes>"
      ]
     },
     "metadata": {
      "needs_background": "light"
     },
     "output_type": "display_data"
    }
   ],
   "source": [
    "# generate feature importance plot\n",
    "feat_imp = cv4.best_estimator_.feature_importances_\n",
    "indices = np.argsort(feat_imp)\n",
    "plt.yticks(range(len(indices)), [X_train.columns[i] for i in indices])\n",
    "plt.barh(range(len(indices)), feat_imp[indices], color='r', align='center')\n",
    "plt.show()"
   ]
  },
  {
   "cell_type": "code",
   "execution_count": 1450,
   "id": "personal-french",
   "metadata": {},
   "outputs": [
    {
     "data": {
      "text/plain": [
       "['models/selection/random_forest.pkl']"
      ]
     },
     "execution_count": 1450,
     "metadata": {},
     "output_type": "execute_result"
    }
   ],
   "source": [
    "# save model\n",
    "joblib.dump(cv4.best_estimator_, 'models/selection/random_forest.pkl')"
   ]
  },
  {
   "cell_type": "markdown",
   "id": "alone-organic",
   "metadata": {},
   "source": [
    "## E) Gradient Boosting<a class=\"anchor\" id=\"gradient_boosting\"></a>\n",
    "[To contents](#contents)\n",
    "- Gradient boosting aggregates many weak models, learning from its own mistakes with each iteration to create one strong model\n",
    "- Type of ensemble method, which combies multiple models to reduce bias and variance\n",
    "- Takes sample from training data classifies examples, next model overweights misclassified examples from previous model\n",
    "- Final selection based on weighted voting based on how well each model did in training\n",
    "- When to use\n",
    "    - Categorical or continuous target variable\n",
    "    - Interested in significance of predictors\n",
    "    - Prediction time is important\n",
    "- When not to use\n",
    "    - Transparency is important\n",
    "    - Data is very noisy, boosting tends to overfit\n",
    "    - Training time is important\n",
    "- Key hyperparameters\n",
    "    - `n_estimators` controls how many individual decision trees are built (should be more than random forest)\n",
    "    - `max_depth` controls how deep each tree can go (should be shallower than random forest)\n",
    "    - `learning_rate` facilitates how quickly and whether or not algorithm will find optimal solution, select a numerical value\n",
    "        - Low learning rate is slow and may get stuck in local min\n",
    "        - High learning rate jumps around and may never find optimal solution"
   ]
  },
  {
   "cell_type": "code",
   "execution_count": 1451,
   "id": "historic-criticism",
   "metadata": {},
   "outputs": [
    {
     "name": "stdout",
     "output_type": "stream",
     "text": [
      "GradientBoostingClassifier(ccp_alpha=0.0, criterion='friedman_mse', init=None,\n",
      "                           learning_rate=0.1, loss='deviance', max_depth=3,\n",
      "                           max_features=None, max_leaf_nodes=None,\n",
      "                           min_impurity_decrease=0.0, min_impurity_split=None,\n",
      "                           min_samples_leaf=1, min_samples_split=2,\n",
      "                           min_weight_fraction_leaf=0.0, n_estimators=100,\n",
      "                           n_iter_no_change=None, random_state=None,\n",
      "                           subsample=1.0, tol=0.0001, validation_fraction=0.1,\n",
      "                           verbose=0, warm_start=False)\n",
      "GradientBoostingRegressor(alpha=0.9, ccp_alpha=0.0, criterion='friedman_mse',\n",
      "                          init=None, learning_rate=0.1, loss='ls', max_depth=3,\n",
      "                          max_features=None, max_leaf_nodes=None,\n",
      "                          min_impurity_decrease=0.0, min_impurity_split=None,\n",
      "                          min_samples_leaf=1, min_samples_split=2,\n",
      "                          min_weight_fraction_leaf=0.0, n_estimators=100,\n",
      "                          n_iter_no_change=None, random_state=None,\n",
      "                          subsample=1.0, tol=0.0001, validation_fraction=0.1,\n",
      "                          verbose=0, warm_start=False)\n"
     ]
    }
   ],
   "source": [
    "# view parameters\n",
    "print(GradientBoostingClassifier())\n",
    "print(GradientBoostingRegressor())"
   ]
  },
  {
   "cell_type": "code",
   "execution_count": 1452,
   "id": "substantial-venture",
   "metadata": {
    "scrolled": false
   },
   "outputs": [
    {
     "name": "stdout",
     "output_type": "stream",
     "text": [
      "BEST PARAMS: {'learning_rate': 0.5, 'max_depth': 2, 'n_estimators': 50}\n",
      "\n",
      "0.854 (+/-0.064) for {'learning_rate': 0.01, 'max_depth': 2, 'n_estimators': 50}\n",
      "0.854 (+/-0.064) for {'learning_rate': 0.01, 'max_depth': 2, 'n_estimators': 250}\n",
      "0.848 (+/-0.066) for {'learning_rate': 0.01, 'max_depth': 2, 'n_estimators': 500}\n",
      "0.832 (+/-0.075) for {'learning_rate': 0.01, 'max_depth': 3, 'n_estimators': 50}\n",
      "0.848 (+/-0.069) for {'learning_rate': 0.01, 'max_depth': 3, 'n_estimators': 250}\n",
      "0.85 (+/-0.059) for {'learning_rate': 0.01, 'max_depth': 3, 'n_estimators': 500}\n",
      "0.845 (+/-0.073) for {'learning_rate': 0.01, 'max_depth': 4, 'n_estimators': 50}\n",
      "0.843 (+/-0.055) for {'learning_rate': 0.01, 'max_depth': 4, 'n_estimators': 250}\n",
      "0.845 (+/-0.049) for {'learning_rate': 0.01, 'max_depth': 4, 'n_estimators': 500}\n",
      "0.854 (+/-0.064) for {'learning_rate': 0.05, 'max_depth': 2, 'n_estimators': 50}\n",
      "0.848 (+/-0.049) for {'learning_rate': 0.05, 'max_depth': 2, 'n_estimators': 250}\n",
      "0.846 (+/-0.051) for {'learning_rate': 0.05, 'max_depth': 2, 'n_estimators': 500}\n",
      "0.848 (+/-0.069) for {'learning_rate': 0.05, 'max_depth': 3, 'n_estimators': 50}\n",
      "0.854 (+/-0.034) for {'learning_rate': 0.05, 'max_depth': 3, 'n_estimators': 250}\n",
      "0.854 (+/-0.045) for {'learning_rate': 0.05, 'max_depth': 3, 'n_estimators': 500}\n",
      "0.843 (+/-0.055) for {'learning_rate': 0.05, 'max_depth': 4, 'n_estimators': 50}\n",
      "0.85 (+/-0.042) for {'learning_rate': 0.05, 'max_depth': 4, 'n_estimators': 250}\n",
      "0.839 (+/-0.054) for {'learning_rate': 0.05, 'max_depth': 4, 'n_estimators': 500}\n",
      "0.85 (+/-0.066) for {'learning_rate': 0.2, 'max_depth': 2, 'n_estimators': 50}\n",
      "0.845 (+/-0.049) for {'learning_rate': 0.2, 'max_depth': 2, 'n_estimators': 250}\n",
      "0.845 (+/-0.051) for {'learning_rate': 0.2, 'max_depth': 2, 'n_estimators': 500}\n",
      "0.854 (+/-0.043) for {'learning_rate': 0.2, 'max_depth': 3, 'n_estimators': 50}\n",
      "0.843 (+/-0.057) for {'learning_rate': 0.2, 'max_depth': 3, 'n_estimators': 250}\n",
      "0.837 (+/-0.058) for {'learning_rate': 0.2, 'max_depth': 3, 'n_estimators': 500}\n",
      "0.841 (+/-0.056) for {'learning_rate': 0.2, 'max_depth': 4, 'n_estimators': 50}\n",
      "0.839 (+/-0.054) for {'learning_rate': 0.2, 'max_depth': 4, 'n_estimators': 250}\n",
      "0.841 (+/-0.056) for {'learning_rate': 0.2, 'max_depth': 4, 'n_estimators': 500}\n",
      "0.856 (+/-0.03) for {'learning_rate': 0.5, 'max_depth': 2, 'n_estimators': 50}\n",
      "0.841 (+/-0.051) for {'learning_rate': 0.5, 'max_depth': 2, 'n_estimators': 250}\n",
      "0.841 (+/-0.051) for {'learning_rate': 0.5, 'max_depth': 2, 'n_estimators': 500}\n",
      "0.841 (+/-0.056) for {'learning_rate': 0.5, 'max_depth': 3, 'n_estimators': 50}\n",
      "0.839 (+/-0.06) for {'learning_rate': 0.5, 'max_depth': 3, 'n_estimators': 250}\n",
      "0.835 (+/-0.057) for {'learning_rate': 0.5, 'max_depth': 3, 'n_estimators': 500}\n",
      "0.841 (+/-0.05) for {'learning_rate': 0.5, 'max_depth': 4, 'n_estimators': 50}\n",
      "0.839 (+/-0.06) for {'learning_rate': 0.5, 'max_depth': 4, 'n_estimators': 250}\n",
      "0.835 (+/-0.063) for {'learning_rate': 0.5, 'max_depth': 4, 'n_estimators': 500}\n",
      "0.848 (+/-0.043) for {'learning_rate': 1, 'max_depth': 2, 'n_estimators': 50}\n",
      "0.837 (+/-0.04) for {'learning_rate': 1, 'max_depth': 2, 'n_estimators': 250}\n",
      "0.837 (+/-0.048) for {'learning_rate': 1, 'max_depth': 2, 'n_estimators': 500}\n",
      "0.845 (+/-0.055) for {'learning_rate': 1, 'max_depth': 3, 'n_estimators': 50}\n",
      "0.843 (+/-0.059) for {'learning_rate': 1, 'max_depth': 3, 'n_estimators': 250}\n",
      "0.841 (+/-0.063) for {'learning_rate': 1, 'max_depth': 3, 'n_estimators': 500}\n",
      "0.839 (+/-0.064) for {'learning_rate': 1, 'max_depth': 4, 'n_estimators': 50}\n",
      "0.843 (+/-0.058) for {'learning_rate': 1, 'max_depth': 4, 'n_estimators': 250}\n",
      "0.841 (+/-0.061) for {'learning_rate': 1, 'max_depth': 4, 'n_estimators': 500}\n"
     ]
    }
   ],
   "source": [
    "# fit model\n",
    "gb = GradientBoostingClassifier()\n",
    "parameters = {\n",
    "    'n_estimators': [50, 250, 500],\n",
    "    'max_depth': [2, 3, 4],\n",
    "    'learning_rate': [0.01, 0.05, 0.2, 0.5, 1]\n",
    "}\n",
    "\n",
    "cv5 = GridSearchCV(gb, parameters, cv=5)\n",
    "cv5.fit(X_train, y_train.values.ravel())\n",
    "\n",
    "print_results(cv5)"
   ]
  },
  {
   "cell_type": "code",
   "execution_count": 1453,
   "id": "square-genesis",
   "metadata": {},
   "outputs": [
    {
     "data": {
      "image/png": "[encoded data removed]",
      "text/plain": [
       "<Figure size 432x288 with 1 Axes>"
      ]
     },
     "metadata": {
      "needs_background": "light"
     },
     "output_type": "display_data"
    }
   ],
   "source": [
    "# generate feature importance plot\n",
    "feat_imp = cv5.best_estimator_.feature_importances_\n",
    "indices = np.argsort(feat_imp)\n",
    "plt.yticks(range(len(indices)), [X_train.columns[i] for i in indices])\n",
    "plt.barh(range(len(indices)), feat_imp[indices], color='r', align='center')\n",
    "plt.show()"
   ]
  },
  {
   "cell_type": "code",
   "execution_count": 1454,
   "id": "anonymous-architect",
   "metadata": {},
   "outputs": [
    {
     "data": {
      "text/plain": [
       "['models/selection/gradient_boosting.pkl']"
      ]
     },
     "execution_count": 1454,
     "metadata": {},
     "output_type": "execute_result"
    }
   ],
   "source": [
    "# save model\n",
    "joblib.dump(cv5.best_estimator_, 'models/selection/gradient_boosting.pkl')"
   ]
  },
  {
   "cell_type": "markdown",
   "id": "descending-south",
   "metadata": {},
   "source": [
    "# 4) Model Selection<a class=\"anchor\" id=\"model_selection\"></a>\n",
    "[To contents](#contents)\n",
    "![Comparison](model_comparison.png)"
   ]
  },
  {
   "cell_type": "code",
   "execution_count": 1455,
   "id": "cutting-registration",
   "metadata": {},
   "outputs": [],
   "source": [
    "# create dictionary of models\n",
    "models = {}\n",
    "for mdl in ['logistic_regression', 'support_vector_machine', 'multilayer_perceptron', 'random_forest', 'gradient_boosting']:\n",
    "    models[mdl] = joblib.load('models/selection/{}.pkl'.format(mdl))"
   ]
  },
  {
   "cell_type": "markdown",
   "id": "graduate-interstate",
   "metadata": {},
   "source": [
    "## A) Evaluation Statistics<a class=\"anchor\" id=\"evaluation_statistics\"></a>\n",
    "[To contents](#contents)\n",
    "- Accuracy = # predicted correctly/total # examples\n",
    "- Precision = # predicted to survive that actually survived / total # predicted to survive\n",
    "- Recall = # predicted to survive that actually survived / total # that actually survived"
   ]
  },
  {
   "cell_type": "code",
   "execution_count": 1456,
   "id": "moderate-wagner",
   "metadata": {},
   "outputs": [],
   "source": [
    "# evaluates prediction time, accuracy, precision, recall\n",
    "def evaluate_model(name, model, features, labels):\n",
    "    start = time()\n",
    "    pred = model.predict(features)\n",
    "    end = time()\n",
    "    accuracy = round(accuracy_score(labels, pred), 3)\n",
    "    precision = round(precision_score(labels, pred), 3)\n",
    "    recall = round(recall_score(labels, pred), 3)\n",
    "    print('{} -- Accuracy: {} / Precision: {} / Recall: {} / Latency: {}ms'.format(name,\n",
    "                                                                                   accuracy,\n",
    "                                                                                   precision,\n",
    "                                                                                   recall,\n",
    "                                                                                   round((end - start)*1000, 1)))"
   ]
  },
  {
   "cell_type": "code",
   "execution_count": 1458,
   "id": "legendary-mechanism",
   "metadata": {
    "scrolled": true
   },
   "outputs": [
    {
     "name": "stdout",
     "output_type": "stream",
     "text": [
      "logistic_regression -- Accuracy: 0.838 / Precision: 0.841 / Recall: 0.763 / Latency: 1.6ms\n",
      "support_vector_machine -- Accuracy: 0.855 / Precision: 0.868 / Recall: 0.776 / Latency: 6.1ms\n",
      "multilayer_perceptron -- Accuracy: 0.821 / Precision: 0.855 / Recall: 0.697 / Latency: 1.7ms\n",
      "random_forest -- Accuracy: 0.821 / Precision: 0.867 / Recall: 0.684 / Latency: 12.5ms\n",
      "gradient_boosting -- Accuracy: 0.827 / Precision: 0.857 / Recall: 0.711 / Latency: 1.5ms\n"
     ]
    }
   ],
   "source": [
    "# test on validation set\n",
    "for name, mdl in models.items():\n",
    "    evaluate_model(name, mdl, X_val, y_val)"
   ]
  },
  {
   "cell_type": "code",
   "execution_count": 1459,
   "id": "sporting-jumping",
   "metadata": {},
   "outputs": [
    {
     "name": "stdout",
     "output_type": "stream",
     "text": [
      "gradient_boosting -- Accuracy: 0.815 / Precision: 0.786 / Recall: 0.677 / Latency: 2.3ms\n"
     ]
    }
   ],
   "source": [
    "# final evaluation of best model on test set\n",
    "evaluate_model('gradient_boosting', models['gradient_boosting'], X_test, y_test)"
   ]
  },
  {
   "cell_type": "markdown",
   "id": "classical-needle",
   "metadata": {},
   "source": [
    "# 5) Final Training and Submission<a class=\"anchor\" id=\"final_training_and_submission\"></a>\n",
    "[To contents](#contents)\n",
    "- Train the model on the entire training set and create a submission\n",
    "- Normally, you would select the best model from our validation evaluations (random forest) to submit\n",
    "- Out of curiousity, I will try all models :)"
   ]
  },
  {
   "cell_type": "code",
   "execution_count": 1462,
   "id": "vertical-processing",
   "metadata": {},
   "outputs": [],
   "source": [
    "# import all cleaned data\n",
    "train_cleaned = pd.read_csv('data/train_cleaned.csv')\n",
    "test_cleaned = pd.read_csv('data/test_cleaned.csv')\n",
    "\n",
    "features = train_cleaned.drop(columns='Survived')\n",
    "labels = train_cleaned['Survived'].values.ravel()"
   ]
  },
  {
   "cell_type": "code",
   "execution_count": 1463,
   "id": "configured-questionnaire",
   "metadata": {},
   "outputs": [
    {
     "data": {
      "text/plain": [
       "['models/final/gradient_boosting.pkl']"
      ]
     },
     "execution_count": 1463,
     "metadata": {},
     "output_type": "execute_result"
    }
   ],
   "source": [
    "# fit on complete training data\n",
    "final_lr = LogisticRegression(C=1)\n",
    "final_lr.fit(features, labels)\n",
    "joblib.dump(final_lr, 'models/final/logistic_regression.pkl')\n",
    "\n",
    "final_svm = SVC(C=1, kernel='rbf')\n",
    "final_svm.fit(features, labels)\n",
    "joblib.dump(final_svm, 'models/final/support_vector_machine.pkl')\n",
    "\n",
    "final_mlp = MLPClassifier(activation='relu', hidden_layer_sizes=(64, 64), learning_rate='adaptive')\n",
    "final_mlp.fit(features, labels)\n",
    "joblib.dump(final_mlp, 'models/final/multilayer_perceptron.pkl')\n",
    "\n",
    "final_rf = RandomForestClassifier(max_depth=16, n_estimators=100)\n",
    "final_rf.fit(features, labels)\n",
    "joblib.dump(final_rf, 'models/final/random_forest.pkl')\n",
    "\n",
    "final_gb = GradientBoostingClassifier(learning_rate=0.5, max_depth=2, n_estimators=50)\n",
    "final_gb.fit(features, labels)\n",
    "joblib.dump(final_gb, 'models/final/gradient_boosting.pkl')"
   ]
  },
  {
   "cell_type": "code",
   "execution_count": 1464,
   "id": "female-sixth",
   "metadata": {},
   "outputs": [],
   "source": [
    "# create dictionary of models\n",
    "final_models = {}\n",
    "for mdl in ['logistic_regression', 'support_vector_machine', 'multilayer_perceptron', 'random_forest', 'gradient_boosting']:\n",
    "    final_models[mdl] = joblib.load('models/final/{}.pkl'.format(mdl))"
   ]
  },
  {
   "cell_type": "code",
   "execution_count": 1465,
   "id": "given-jurisdiction",
   "metadata": {},
   "outputs": [],
   "source": [
    "# write out submission\n",
    "ids = pd.read_csv('data/test.csv')['PassengerId']\n",
    "def submission(name, model):\n",
    "    predictions = model.predict(test_cleaned)\n",
    "    predictions = predictions.astype(int)\n",
    "    output = pd.DataFrame({'PassengerId' : ids, 'Survived': predictions})\n",
    "    output.to_csv('submissions/{}_submission.csv'.format(name), index = False)\n",
    "    \n",
    "for name, mdl in final_models.items():\n",
    "    submission(name, mdl)"
   ]
  },
  {
   "cell_type": "markdown",
   "id": "driven-revolution",
   "metadata": {},
   "source": [
    "# 6) Results<a class=\"anchor\" id=\"results\"></a>\n",
    "[To contents](#contents)\n",
    "- Logistic Regression: 0.79904\n",
    "- Support Vector Machine: 0.79904\n",
    "- Multilayer Perceptron: 0.80382\n",
    "- Random Forest: 0.80861\n",
    "- Gradient Boosting: 0.80861\n",
    "\n",
    "The best model was random forest. As of January 2022, it placed 362/13438, or top 2.69%. Excluding perfect scores which are a result of cheating, it would place 196/13272, or top 1.47%."
   ]
  },
  {
   "cell_type": "code",
   "execution_count": null,
   "id": "royal-patient",
   "metadata": {},
   "outputs": [],
   "source": []
  }
 ],
 "metadata": {
  "kernelspec": {
   "display_name": "Python 3",
   "language": "python",
   "name": "python3"
  },
  "language_info": {
   "codemirror_mode": {
    "name": "ipython",
    "version": 3
   },
   "file_extension": ".py",
   "mimetype": "text/x-python",
   "name": "python",
   "nbconvert_exporter": "python",
   "pygments_lexer": "ipython3",
   "version": "3.8.12"
  }
 },
 "nbformat": 4,
 "nbformat_minor": 5
}
