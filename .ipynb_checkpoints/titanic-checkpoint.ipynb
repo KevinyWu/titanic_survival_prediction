{
 "cells": [
  {
   "cell_type": "markdown",
   "id": "massive-likelihood",
   "metadata": {},
   "source": [
    "# Titanic - Machine Learning from Disaster | Kaggle Competition\n",
    "- Link to competition [here](https://www.kaggle.com/c/titanic/overview)"
   ]
  },
  {
   "cell_type": "markdown",
   "id": "smoking-underwear",
   "metadata": {},
   "source": [
    "## Contents<a class=\"anchor\" id=\"contents\"></a>\n",
    "1. [Data Exploration](#data_exploration)\n",
    "    1. [Initial Exploration](#initial_exploration)\n",
    "        1. [Variable Dictionary](#variable_dictionary)\n",
    "        2. [Survival](#survival)\n",
    "        3. [NaN Values](#nan_values)\n",
    "    2. [Categorical Features](#categorical_features)\n",
    "        1. [Name](#name)\n",
    "        2. [Sex](#sex)\n",
    "        3. [Cabin](#cabin)\n",
    "        4. [Embarked](#embarked)\n",
    "    3. [Continuous Features](#continuous_features)\n",
    "        1. [Correlation & Significance](#correlation_significance)\n",
    "        2. [Pclass](#pclass)\n",
    "        3. [Age](#age)\n",
    "        4. [Sibsp & Parch](#sibsp_parch)\n",
    "        5. [Fare](#fare)\n",
    "    4. [Further Cleaning](#further_cleaning)\n",
    "        1. [Capping](#capping)\n",
    "        2. [Transforming Skewed Features](#transforming_skewed_features)\n",
    "2. [Creating Data Files](#creating_data_files)\n",
    "    1. [Dropping Columns](#dropping_columns)\n",
    "    2. [Scaling](#scaling)\n",
    "    3. [Splitting Up Data](#splitting_up_data)\n",
    "3. [Training Models](#training_models)\n",
    "    1. [Logistic Regression](#logistic_regression)\n",
    "    2. [Support Vector Machine](#support_vector_machine)\n",
    "    3. [MultiLayer Perceptron](#multilayer_perceptron)\n",
    "    4. [Random Forest](#random_forest)\n",
    "    5. [Gradient Boosting](#gradient_boosting)\n",
    "5. [Model Selection](#model_selection)\n",
    "    1. [Evaluation Statistics](#evaluation_statistics)\n",
    "5. [Final Training and Submission](#final_training_and_submission)\n",
    "6. [Results](#results)"
   ]
  },
  {
   "cell_type": "code",
   "execution_count": 731,
   "id": "guided-sudan",
   "metadata": {},
   "outputs": [],
   "source": [
    "# basic imports\n",
    "import numpy as np\n",
    "import pandas as pd\n",
    "%matplotlib inline\n",
    "import warnings\n",
    "warnings.filterwarnings(\"ignore\")\n",
    "\n",
    "# visualization\n",
    "import seaborn as sns \n",
    "import matplotlib.pyplot as plt\n",
    "\n",
    "# statistics\n",
    "from scipy import stats\n",
    "from statsmodels.graphics.gofplots import qqplot\n",
    "\n",
    "# preprocessing\n",
    "from sklearn.preprocessing import LabelEncoder\n",
    "from sklearn.preprocessing import StandardScaler\n",
    "\n",
    "# splitting data\n",
    "from sklearn.model_selection import train_test_split\n",
    "\n",
    "# cross-validation\n",
    "from sklearn.model_selection import cross_val_score\n",
    "from sklearn.model_selection import GridSearchCV\n",
    "\n",
    "# view parameters\n",
    "from sklearn import set_config\n",
    "set_config(print_changed_only=False)\n",
    "\n",
    "# models\n",
    "import joblib\n",
    "from sklearn.linear_model import LogisticRegression\n",
    "from sklearn.svm import SVC\n",
    "from sklearn.neural_network import MLPRegressor, MLPClassifier\n",
    "from sklearn.ensemble import RandomForestClassifier, RandomForestRegressor\n",
    "from sklearn.ensemble import GradientBoostingClassifier, GradientBoostingRegressor\n",
    "\n",
    "# model selection\n",
    "from time import time\n",
    "from sklearn.metrics import accuracy_score, precision_score, recall_score"
   ]
  },
  {
   "cell_type": "markdown",
   "id": "great-vatican",
   "metadata": {},
   "source": [
    "# 1) Data Exploration <a class=\"anchor\" id=\"data_exploration\"></a>\n",
    "[To contents](#contents)"
   ]
  },
  {
   "cell_type": "code",
   "execution_count": 732,
   "id": "through-navigation",
   "metadata": {
    "scrolled": false
   },
   "outputs": [
    {
     "data": {
      "text/html": [
       "<div>\n",
       "<style scoped>\n",
       "    .dataframe tbody tr th:only-of-type {\n",
       "        vertical-align: middle;\n",
       "    }\n",
       "\n",
       "    .dataframe tbody tr th {\n",
       "        vertical-align: top;\n",
       "    }\n",
       "\n",
       "    .dataframe thead th {\n",
       "        text-align: right;\n",
       "    }\n",
       "</style>\n",
       "<table border=\"1\" class=\"dataframe\">\n",
       "  <thead>\n",
       "    <tr style=\"text-align: right;\">\n",
       "      <th></th>\n",
       "      <th>PassengerId</th>\n",
       "      <th>Survived</th>\n",
       "      <th>Pclass</th>\n",
       "      <th>Name</th>\n",
       "      <th>Sex</th>\n",
       "      <th>Age</th>\n",
       "      <th>SibSp</th>\n",
       "      <th>Parch</th>\n",
       "      <th>Ticket</th>\n",
       "      <th>Fare</th>\n",
       "      <th>Cabin</th>\n",
       "      <th>Embarked</th>\n",
       "    </tr>\n",
       "  </thead>\n",
       "  <tbody>\n",
       "    <tr>\n",
       "      <th>0</th>\n",
       "      <td>1</td>\n",
       "      <td>0</td>\n",
       "      <td>3</td>\n",
       "      <td>Braund, Mr. Owen Harris</td>\n",
       "      <td>male</td>\n",
       "      <td>22.0</td>\n",
       "      <td>1</td>\n",
       "      <td>0</td>\n",
       "      <td>A/5 21171</td>\n",
       "      <td>7.2500</td>\n",
       "      <td>NaN</td>\n",
       "      <td>S</td>\n",
       "    </tr>\n",
       "    <tr>\n",
       "      <th>1</th>\n",
       "      <td>2</td>\n",
       "      <td>1</td>\n",
       "      <td>1</td>\n",
       "      <td>Cumings, Mrs. John Bradley (Florence Briggs Th...</td>\n",
       "      <td>female</td>\n",
       "      <td>38.0</td>\n",
       "      <td>1</td>\n",
       "      <td>0</td>\n",
       "      <td>PC 17599</td>\n",
       "      <td>71.2833</td>\n",
       "      <td>C85</td>\n",
       "      <td>C</td>\n",
       "    </tr>\n",
       "    <tr>\n",
       "      <th>2</th>\n",
       "      <td>3</td>\n",
       "      <td>1</td>\n",
       "      <td>3</td>\n",
       "      <td>Heikkinen, Miss. Laina</td>\n",
       "      <td>female</td>\n",
       "      <td>26.0</td>\n",
       "      <td>0</td>\n",
       "      <td>0</td>\n",
       "      <td>STON/O2. 3101282</td>\n",
       "      <td>7.9250</td>\n",
       "      <td>NaN</td>\n",
       "      <td>S</td>\n",
       "    </tr>\n",
       "    <tr>\n",
       "      <th>3</th>\n",
       "      <td>4</td>\n",
       "      <td>1</td>\n",
       "      <td>1</td>\n",
       "      <td>Futrelle, Mrs. Jacques Heath (Lily May Peel)</td>\n",
       "      <td>female</td>\n",
       "      <td>35.0</td>\n",
       "      <td>1</td>\n",
       "      <td>0</td>\n",
       "      <td>113803</td>\n",
       "      <td>53.1000</td>\n",
       "      <td>C123</td>\n",
       "      <td>S</td>\n",
       "    </tr>\n",
       "    <tr>\n",
       "      <th>4</th>\n",
       "      <td>5</td>\n",
       "      <td>0</td>\n",
       "      <td>3</td>\n",
       "      <td>Allen, Mr. William Henry</td>\n",
       "      <td>male</td>\n",
       "      <td>35.0</td>\n",
       "      <td>0</td>\n",
       "      <td>0</td>\n",
       "      <td>373450</td>\n",
       "      <td>8.0500</td>\n",
       "      <td>NaN</td>\n",
       "      <td>S</td>\n",
       "    </tr>\n",
       "  </tbody>\n",
       "</table>\n",
       "</div>"
      ],
      "text/plain": [
       "   PassengerId  Survived  Pclass  \\\n",
       "0            1         0       3   \n",
       "1            2         1       1   \n",
       "2            3         1       3   \n",
       "3            4         1       1   \n",
       "4            5         0       3   \n",
       "\n",
       "                                                Name     Sex   Age  SibSp  \\\n",
       "0                            Braund, Mr. Owen Harris    male  22.0      1   \n",
       "1  Cumings, Mrs. John Bradley (Florence Briggs Th...  female  38.0      1   \n",
       "2                             Heikkinen, Miss. Laina  female  26.0      0   \n",
       "3       Futrelle, Mrs. Jacques Heath (Lily May Peel)  female  35.0      1   \n",
       "4                           Allen, Mr. William Henry    male  35.0      0   \n",
       "\n",
       "   Parch            Ticket     Fare Cabin Embarked  \n",
       "0      0         A/5 21171   7.2500   NaN        S  \n",
       "1      0          PC 17599  71.2833   C85        C  \n",
       "2      0  STON/O2. 3101282   7.9250   NaN        S  \n",
       "3      0            113803  53.1000  C123        S  \n",
       "4      0            373450   8.0500   NaN        S  "
      ]
     },
     "execution_count": 732,
     "metadata": {},
     "output_type": "execute_result"
    }
   ],
   "source": [
    "# import training data\n",
    "train = pd.read_csv('data/train.csv')\n",
    "# import test data\n",
    "test = pd.read_csv('data/test.csv')\n",
    "train.head(5)"
   ]
  },
  {
   "cell_type": "markdown",
   "id": "polished-provincial",
   "metadata": {},
   "source": [
    "## A) Initial Exploration<a class=\"anchor\" id=\"initial_exploration\"></a>\n",
    "[To contents](#contents)"
   ]
  },
  {
   "cell_type": "markdown",
   "id": "interesting-leonard",
   "metadata": {},
   "source": [
    "### a) Variable Dictionary <a class=\"anchor\" id=\"variable_dictionary\"></a>\n",
    "[To contents](#contents)\n",
    "- **Name** (str) - Name of the passenger\n",
    "- **Pclass** (int) - Ticket class\n",
    "- **Sex** (str) - Sex of the passenger\n",
    "- **Age** (float) - Age in years\n",
    "- **SibSp** (int) - Number of siblings and spouses aboard\n",
    "- **Parch** (int) - Number of parents and children aboard\n",
    "- **Ticket** (str) - Ticket number\n",
    "- **Fare** (float) - Passenger fare\n",
    "- **Cabin** (str) - Cabin number\n",
    "- **Embarked** (str) - Port of embarkation (C = Cherbourg, Q = Queenstown, S = Southampton)"
   ]
  },
  {
   "cell_type": "markdown",
   "id": "unique-computer",
   "metadata": {},
   "source": [
    "### b) Survival <a class=\"anchor\" id=\"survival\"></a>\n",
    "[To contents](#contents)"
   ]
  },
  {
   "cell_type": "code",
   "execution_count": 733,
   "id": "secondary-barbados",
   "metadata": {},
   "outputs": [
    {
     "name": "stdout",
     "output_type": "stream",
     "text": [
      "Training set size:  891\n",
      "Training set survived:  342\n",
      "Training set dead:  549\n"
     ]
    }
   ],
   "source": [
    "print('Training set size: ', len(train))\n",
    "print('Training set survived: ', sum(train['Survived']))\n",
    "print('Training set dead: ', len(train) - sum(train['Survived']))"
   ]
  },
  {
   "cell_type": "markdown",
   "id": "monetary-anatomy",
   "metadata": {},
   "source": [
    "### c) NaN Values<a class=\"anchor\" id=\"nan_values\"></a>\n",
    "[To contents](#contents)"
   ]
  },
  {
   "cell_type": "code",
   "execution_count": 734,
   "id": "hydraulic-ethiopia",
   "metadata": {},
   "outputs": [
    {
     "name": "stdout",
     "output_type": "stream",
     "text": [
      "PassengerId      0\n",
      "Survived         0\n",
      "Pclass           0\n",
      "Name             0\n",
      "Sex              0\n",
      "Age            177\n",
      "SibSp            0\n",
      "Parch            0\n",
      "Ticket           0\n",
      "Fare             0\n",
      "Cabin          687\n",
      "Embarked         2\n",
      "dtype: int64\n",
      "PassengerId      0\n",
      "Pclass           0\n",
      "Name             0\n",
      "Sex              0\n",
      "Age             86\n",
      "SibSp            0\n",
      "Parch            0\n",
      "Ticket           0\n",
      "Fare             1\n",
      "Cabin          327\n",
      "Embarked         0\n",
      "dtype: int64\n"
     ]
    }
   ],
   "source": [
    "print(train.isnull().sum())\n",
    "print(test.isnull().sum())"
   ]
  },
  {
   "cell_type": "code",
   "execution_count": 735,
   "id": "lovely-reduction",
   "metadata": {},
   "outputs": [
    {
     "data": {
      "text/html": [
       "<div>\n",
       "<style scoped>\n",
       "    .dataframe tbody tr th:only-of-type {\n",
       "        vertical-align: middle;\n",
       "    }\n",
       "\n",
       "    .dataframe tbody tr th {\n",
       "        vertical-align: top;\n",
       "    }\n",
       "\n",
       "    .dataframe thead th {\n",
       "        text-align: right;\n",
       "    }\n",
       "</style>\n",
       "<table border=\"1\" class=\"dataframe\">\n",
       "  <thead>\n",
       "    <tr style=\"text-align: right;\">\n",
       "      <th></th>\n",
       "      <th>PassengerId</th>\n",
       "      <th>Pclass</th>\n",
       "      <th>Name</th>\n",
       "      <th>Sex</th>\n",
       "      <th>Age</th>\n",
       "      <th>SibSp</th>\n",
       "      <th>Parch</th>\n",
       "      <th>Ticket</th>\n",
       "      <th>Fare</th>\n",
       "      <th>Cabin</th>\n",
       "      <th>Embarked</th>\n",
       "    </tr>\n",
       "  </thead>\n",
       "  <tbody>\n",
       "    <tr>\n",
       "      <th>152</th>\n",
       "      <td>1044</td>\n",
       "      <td>3</td>\n",
       "      <td>Storey, Mr. Thomas</td>\n",
       "      <td>male</td>\n",
       "      <td>60.5</td>\n",
       "      <td>0</td>\n",
       "      <td>0</td>\n",
       "      <td>3701</td>\n",
       "      <td>NaN</td>\n",
       "      <td>NaN</td>\n",
       "      <td>S</td>\n",
       "    </tr>\n",
       "  </tbody>\n",
       "</table>\n",
       "</div>"
      ],
      "text/plain": [
       "     PassengerId  Pclass                Name   Sex   Age  SibSp  Parch Ticket  \\\n",
       "152         1044       3  Storey, Mr. Thomas  male  60.5      0      0   3701   \n",
       "\n",
       "     Fare Cabin Embarked  \n",
       "152   NaN   NaN        S  "
      ]
     },
     "execution_count": 735,
     "metadata": {},
     "output_type": "execute_result"
    }
   ],
   "source": [
    "test[test['Fare'].isnull()]"
   ]
  },
  {
   "cell_type": "markdown",
   "id": "copyrighted-grammar",
   "metadata": {},
   "source": [
    "- There are four features with `NaN` values: `Age`, `Fare`, `Cabin`, `Embarked`\n",
    "- We will deal with these missing values later"
   ]
  },
  {
   "cell_type": "markdown",
   "id": "express-ideal",
   "metadata": {},
   "source": [
    "## B) Categorical Features <a class=\"anchor\" id=\"categorical_features\"></a>\n",
    "[To contents](#contents)\n",
    "- Includes `Name`, `Sex`, `Cabin`, and `Embarked`"
   ]
  },
  {
   "cell_type": "code",
   "execution_count": 736,
   "id": "mounted-stone",
   "metadata": {},
   "outputs": [
    {
     "name": "stdout",
     "output_type": "stream",
     "text": [
      "Survived: 2 unique values\n",
      "Name: 891 unique values\n",
      "Sex: 2 unique values\n",
      "Ticket: 681 unique values\n",
      "Cabin: 147 unique values\n",
      "Embarked: 3 unique values\n"
     ]
    }
   ],
   "source": [
    "# explore the number of unique values for each feature\n",
    "for col in ['Survived', 'Name', 'Sex', 'Ticket', 'Cabin', 'Embarked']:\n",
    "    print('{}: {} unique values'.format(col, train[col].nunique()))"
   ]
  },
  {
   "cell_type": "markdown",
   "id": "naval-conflict",
   "metadata": {},
   "source": [
    "- `PassengerId` and `Ticket` have too many unique values for the model to find any pattern, given the total size is 891 rows\n",
    "- They will not add much value to the model, so drop these columns later"
   ]
  },
  {
   "cell_type": "markdown",
   "id": "established-float",
   "metadata": {},
   "source": [
    "### a) Name <a class=\"anchor\" id=\"name\"></a>\n",
    "[To contents](#contents)\n",
    "- Create a `Title` feature by parsing passenger name\n",
    "- Title may be a proxy for status and could indicate survival"
   ]
  },
  {
   "cell_type": "code",
   "execution_count": 737,
   "id": "bigger-guard",
   "metadata": {},
   "outputs": [],
   "source": [
    "# parse passenger name\n",
    "\n",
    "# train data\n",
    "train['Title_Raw'] = train['Name'].apply(lambda x: x.split(',')[1].split('.')[0].strip())\n",
    "# test data\n",
    "test['Title_Raw'] = test['Name'].apply(lambda x: x.split(',')[1].split('.')[0].strip())"
   ]
  },
  {
   "cell_type": "code",
   "execution_count": 738,
   "id": "wooden-teacher",
   "metadata": {
    "scrolled": true
   },
   "outputs": [
    {
     "data": {
      "text/plain": [
       "Title_Raw\n",
       "Mr              517\n",
       "Miss            182\n",
       "Mrs             125\n",
       "Master           40\n",
       "Dr                7\n",
       "Rev               6\n",
       "Major             2\n",
       "Col               2\n",
       "Mlle              2\n",
       "Sir               1\n",
       "Ms                1\n",
       "Capt              1\n",
       "Mme               1\n",
       "Lady              1\n",
       "Jonkheer          1\n",
       "Don               1\n",
       "the Countess      1\n",
       "Name: Survived, dtype: int64"
      ]
     },
     "execution_count": 738,
     "metadata": {},
     "output_type": "execute_result"
    }
   ],
   "source": [
    "# check most frequent titles\n",
    "train.groupby('Title_Raw').count()['Survived'].sort_values(ascending=False)"
   ]
  },
  {
   "cell_type": "code",
   "execution_count": 739,
   "id": "concerned-suite",
   "metadata": {},
   "outputs": [],
   "source": [
    "# keep title_raw if it is a common title\n",
    "common_titles = ['Master', 'Miss', 'Mr', 'Mrs']\n",
    "\n",
    "# train data\n",
    "train['Title'] = train['Title_Raw'].apply(lambda x: x if x in common_titles else 'Other')\n",
    "# test data\n",
    "test['Title'] = test['Title_Raw'].apply(lambda x: x if x in common_titles else 'Other')"
   ]
  },
  {
   "cell_type": "code",
   "execution_count": 740,
   "id": "existing-violence",
   "metadata": {
    "scrolled": true
   },
   "outputs": [
    {
     "data": {
      "image/png": "[encoded data removed]",
      "text/plain": [
       "<Figure size 576x288 with 1 Axes>"
      ]
     },
     "metadata": {
      "needs_background": "light"
     },
     "output_type": "display_data"
    }
   ],
   "source": [
    "sns.catplot(x='Title', y='Survived', data=train, kind='point', height=4, aspect=2);"
   ]
  },
  {
   "cell_type": "code",
   "execution_count": 741,
   "id": "meaningful-african",
   "metadata": {},
   "outputs": [],
   "source": [
    "# convert categorical features to numeric\n",
    "le = LabelEncoder()\n",
    "le.fit(train['Title'])\n",
    "# train data\n",
    "train['Title'] = le.transform(train['Title'])\n",
    "# test data\n",
    "test['Title'] = le.transform(test['Title'])"
   ]
  },
  {
   "cell_type": "markdown",
   "id": "rising-testament",
   "metadata": {},
   "source": [
    "### b) Sex <a class=\"anchor\" id=\"sex\"></a>\n",
    "[To contents](#contents)\n",
    "- Change `female` to `1` and `male` to `0`\n",
    "- Sex is correlated with title"
   ]
  },
  {
   "cell_type": "code",
   "execution_count": 742,
   "id": "quarterly-desktop",
   "metadata": {},
   "outputs": [],
   "source": [
    "def sex(s):\n",
    "    if s == 'female':\n",
    "        return 1\n",
    "    if s == 'male':\n",
    "        return 0\n",
    "\n",
    "# train data\n",
    "train['Sex'] = train['Sex'].apply(sex)\n",
    "# test data\n",
    "test['Sex'] = test['Sex'].apply(sex)"
   ]
  },
  {
   "cell_type": "code",
   "execution_count": 743,
   "id": "adapted-concord",
   "metadata": {},
   "outputs": [
    {
     "data": {
      "image/png": "[encoded data removed]",
      "text/plain": [
       "<Figure size 576x288 with 1 Axes>"
      ]
     },
     "metadata": {
      "needs_background": "light"
     },
     "output_type": "display_data"
    }
   ],
   "source": [
    "sns.catplot(x='Sex', y='Survived', data=train, kind='point', height=4, aspect=2);"
   ]
  },
  {
   "cell_type": "markdown",
   "id": "proved-receipt",
   "metadata": {},
   "source": [
    "- Sex is a major predictor of survivability\n",
    "- Males have significantly lower survival rates than females"
   ]
  },
  {
   "cell_type": "markdown",
   "id": "minus-queue",
   "metadata": {},
   "source": [
    "### c) Cabin <a class=\"anchor\" id=\"cabin\"></a>\n",
    "[To contents](#contents)"
   ]
  },
  {
   "cell_type": "code",
   "execution_count": 744,
   "id": "round-fossil",
   "metadata": {},
   "outputs": [
    {
     "data": {
      "text/html": [
       "<div>\n",
       "<style scoped>\n",
       "    .dataframe tbody tr th:only-of-type {\n",
       "        vertical-align: middle;\n",
       "    }\n",
       "\n",
       "    .dataframe tbody tr th {\n",
       "        vertical-align: top;\n",
       "    }\n",
       "\n",
       "    .dataframe thead th {\n",
       "        text-align: right;\n",
       "    }\n",
       "</style>\n",
       "<table border=\"1\" class=\"dataframe\">\n",
       "  <thead>\n",
       "    <tr style=\"text-align: right;\">\n",
       "      <th></th>\n",
       "      <th>PassengerId</th>\n",
       "      <th>Survived</th>\n",
       "      <th>Pclass</th>\n",
       "      <th>Sex</th>\n",
       "      <th>Age</th>\n",
       "      <th>SibSp</th>\n",
       "      <th>Parch</th>\n",
       "      <th>Fare</th>\n",
       "      <th>Title</th>\n",
       "    </tr>\n",
       "    <tr>\n",
       "      <th>Cabin</th>\n",
       "      <th></th>\n",
       "      <th></th>\n",
       "      <th></th>\n",
       "      <th></th>\n",
       "      <th></th>\n",
       "      <th></th>\n",
       "      <th></th>\n",
       "      <th></th>\n",
       "      <th></th>\n",
       "    </tr>\n",
       "  </thead>\n",
       "  <tbody>\n",
       "    <tr>\n",
       "      <th>False</th>\n",
       "      <td>455.401961</td>\n",
       "      <td>0.666667</td>\n",
       "      <td>1.196078</td>\n",
       "      <td>0.475490</td>\n",
       "      <td>35.829297</td>\n",
       "      <td>0.441176</td>\n",
       "      <td>0.436275</td>\n",
       "      <td>76.141504</td>\n",
       "      <td>2.044118</td>\n",
       "    </tr>\n",
       "    <tr>\n",
       "      <th>True</th>\n",
       "      <td>443.208151</td>\n",
       "      <td>0.299854</td>\n",
       "      <td>2.639010</td>\n",
       "      <td>0.315866</td>\n",
       "      <td>27.555293</td>\n",
       "      <td>0.547307</td>\n",
       "      <td>0.365357</td>\n",
       "      <td>19.157325</td>\n",
       "      <td>1.866084</td>\n",
       "    </tr>\n",
       "  </tbody>\n",
       "</table>\n",
       "</div>"
      ],
      "text/plain": [
       "       PassengerId  Survived    Pclass       Sex        Age     SibSp  \\\n",
       "Cabin                                                                   \n",
       "False   455.401961  0.666667  1.196078  0.475490  35.829297  0.441176   \n",
       "True    443.208151  0.299854  2.639010  0.315866  27.555293  0.547307   \n",
       "\n",
       "          Parch       Fare     Title  \n",
       "Cabin                                 \n",
       "False  0.436275  76.141504  2.044118  \n",
       "True   0.365357  19.157325  1.866084  "
      ]
     },
     "execution_count": 744,
     "metadata": {},
     "output_type": "execute_result"
    }
   ],
   "source": [
    "train.groupby(train['Cabin'].isnull()).mean()"
   ]
  },
  {
   "cell_type": "markdown",
   "id": "interstate-personality",
   "metadata": {},
   "source": [
    "- Although there are many `NaN` values for `Cabin`, the presence of a `NaN` seems to indicate higher survival rates\n",
    "- We can replace the `NaN` values with `0`, indicating the absence of info, and all other values with `1`, indicating the presence of info"
   ]
  },
  {
   "cell_type": "code",
   "execution_count": 745,
   "id": "fourth-lemon",
   "metadata": {},
   "outputs": [],
   "source": [
    "# train data\n",
    "train['Cabin'] = np.where(train['Cabin'].isnull(), 0, 1)\n",
    "# test data\n",
    "test['Cabin'] = np.where(test['Cabin'].isnull(), 0, 1)"
   ]
  },
  {
   "cell_type": "code",
   "execution_count": 746,
   "id": "absent-black",
   "metadata": {
    "scrolled": true
   },
   "outputs": [
    {
     "data": {
      "image/png": "[encoded data removed]",
      "text/plain": [
       "<Figure size 576x288 with 1 Axes>"
      ]
     },
     "metadata": {
      "needs_background": "light"
     },
     "output_type": "display_data"
    }
   ],
   "source": [
    "sns.catplot(x='Cabin', y='Survived', data=train, kind='point', height=4, aspect=2);"
   ]
  },
  {
   "cell_type": "markdown",
   "id": "functioning-raleigh",
   "metadata": {},
   "source": [
    "### d) Embarked <a class=\"anchor\" id=\"embarked\"></a>\n",
    "[To contents](#contents)"
   ]
  },
  {
   "cell_type": "code",
   "execution_count": 747,
   "id": "mounted-enemy",
   "metadata": {},
   "outputs": [
    {
     "data": {
      "image/png": "[encoded data removed]",
      "text/plain": [
       "<Figure size 576x288 with 1 Axes>"
      ]
     },
     "metadata": {
      "needs_background": "light"
     },
     "output_type": "display_data"
    }
   ],
   "source": [
    "sns.catplot(x='Embarked', y='Survived', data=train, kind='point', height=4, aspect=2);"
   ]
  },
  {
   "cell_type": "markdown",
   "id": "designing-aluminum",
   "metadata": {},
   "source": [
    "- People embarking from Cherbourg seem to have a higher survival rate than those embarking from Southampton or Queenstown\n",
    "- This could be due to other predictors\n",
    "- Compare this with the other two variables we have looked at so far, `Sex` and `Cabin`, which are meaningful predictors"
   ]
  },
  {
   "cell_type": "code",
   "execution_count": 748,
   "id": "knowing-labor",
   "metadata": {},
   "outputs": [
    {
     "data": {
      "text/html": [
       "<div>\n",
       "<style scoped>\n",
       "    .dataframe tbody tr th:only-of-type {\n",
       "        vertical-align: middle;\n",
       "    }\n",
       "\n",
       "    .dataframe tbody tr th {\n",
       "        vertical-align: top;\n",
       "    }\n",
       "\n",
       "    .dataframe thead th {\n",
       "        text-align: right;\n",
       "    }\n",
       "</style>\n",
       "<table border=\"1\" class=\"dataframe\">\n",
       "  <thead>\n",
       "    <tr style=\"text-align: right;\">\n",
       "      <th>Embarked</th>\n",
       "      <th>C</th>\n",
       "      <th>Q</th>\n",
       "      <th>S</th>\n",
       "    </tr>\n",
       "    <tr>\n",
       "      <th>Sex</th>\n",
       "      <th></th>\n",
       "      <th></th>\n",
       "      <th></th>\n",
       "    </tr>\n",
       "  </thead>\n",
       "  <tbody>\n",
       "    <tr>\n",
       "      <th>0</th>\n",
       "      <td>95</td>\n",
       "      <td>41</td>\n",
       "      <td>441</td>\n",
       "    </tr>\n",
       "    <tr>\n",
       "      <th>1</th>\n",
       "      <td>73</td>\n",
       "      <td>36</td>\n",
       "      <td>203</td>\n",
       "    </tr>\n",
       "  </tbody>\n",
       "</table>\n",
       "</div>"
      ],
      "text/plain": [
       "Embarked   C   Q    S\n",
       "Sex                  \n",
       "0         95  41  441\n",
       "1         73  36  203"
      ]
     },
     "execution_count": 748,
     "metadata": {},
     "output_type": "execute_result"
    }
   ],
   "source": [
    "train.pivot_table('Survived', index='Sex', columns='Embarked', aggfunc='count')"
   ]
  },
  {
   "cell_type": "code",
   "execution_count": 749,
   "id": "experimental-remark",
   "metadata": {},
   "outputs": [
    {
     "data": {
      "text/html": [
       "<div>\n",
       "<style scoped>\n",
       "    .dataframe tbody tr th:only-of-type {\n",
       "        vertical-align: middle;\n",
       "    }\n",
       "\n",
       "    .dataframe tbody tr th {\n",
       "        vertical-align: top;\n",
       "    }\n",
       "\n",
       "    .dataframe thead th {\n",
       "        text-align: right;\n",
       "    }\n",
       "</style>\n",
       "<table border=\"1\" class=\"dataframe\">\n",
       "  <thead>\n",
       "    <tr style=\"text-align: right;\">\n",
       "      <th>Embarked</th>\n",
       "      <th>C</th>\n",
       "      <th>Q</th>\n",
       "      <th>S</th>\n",
       "    </tr>\n",
       "    <tr>\n",
       "      <th>Cabin</th>\n",
       "      <th></th>\n",
       "      <th></th>\n",
       "      <th></th>\n",
       "    </tr>\n",
       "  </thead>\n",
       "  <tbody>\n",
       "    <tr>\n",
       "      <th>0</th>\n",
       "      <td>99</td>\n",
       "      <td>73</td>\n",
       "      <td>515</td>\n",
       "    </tr>\n",
       "    <tr>\n",
       "      <th>1</th>\n",
       "      <td>69</td>\n",
       "      <td>4</td>\n",
       "      <td>129</td>\n",
       "    </tr>\n",
       "  </tbody>\n",
       "</table>\n",
       "</div>"
      ],
      "text/plain": [
       "Embarked   C   Q    S\n",
       "Cabin                \n",
       "0         99  73  515\n",
       "1         69   4  129"
      ]
     },
     "execution_count": 749,
     "metadata": {},
     "output_type": "execute_result"
    }
   ],
   "source": [
    "train.pivot_table('Survived', index='Cabin', columns='Embarked', aggfunc='count')"
   ]
  },
  {
   "cell_type": "markdown",
   "id": "recent-jamaica",
   "metadata": {},
   "source": [
    "- Cherbourg has a much higher proportion of females than Southampton, potentially explaining the higher survival rates compared to Southampton\n",
    "- Cherbourg also has a much higher proportion of passengers with cabin data, potentially explaining the higher survival rates compared to Queenstown\n",
    "- Drop `Embarked` later"
   ]
  },
  {
   "cell_type": "markdown",
   "id": "prepared-guard",
   "metadata": {},
   "source": [
    "## C) Continuous Features<a class=\"anchor\" id=\"continuous_features\"></a>\n",
    "[To contents](#contents)\n",
    "- Includes `Pclass`, `Age`, `SibSp`, `Parch`, `Fare`"
   ]
  },
  {
   "cell_type": "code",
   "execution_count": 750,
   "id": "light-replacement",
   "metadata": {
    "scrolled": false
   },
   "outputs": [
    {
     "data": {
      "text/html": [
       "<div>\n",
       "<style scoped>\n",
       "    .dataframe tbody tr th:only-of-type {\n",
       "        vertical-align: middle;\n",
       "    }\n",
       "\n",
       "    .dataframe tbody tr th {\n",
       "        vertical-align: top;\n",
       "    }\n",
       "\n",
       "    .dataframe thead th {\n",
       "        text-align: right;\n",
       "    }\n",
       "</style>\n",
       "<table border=\"1\" class=\"dataframe\">\n",
       "  <thead>\n",
       "    <tr style=\"text-align: right;\">\n",
       "      <th></th>\n",
       "      <th>PassengerId</th>\n",
       "      <th>Survived</th>\n",
       "      <th>Pclass</th>\n",
       "      <th>Age</th>\n",
       "      <th>SibSp</th>\n",
       "      <th>Parch</th>\n",
       "      <th>Fare</th>\n",
       "    </tr>\n",
       "  </thead>\n",
       "  <tbody>\n",
       "    <tr>\n",
       "      <th>count</th>\n",
       "      <td>891.000000</td>\n",
       "      <td>891.000000</td>\n",
       "      <td>891.000000</td>\n",
       "      <td>714.000000</td>\n",
       "      <td>891.000000</td>\n",
       "      <td>891.000000</td>\n",
       "      <td>891.000000</td>\n",
       "    </tr>\n",
       "    <tr>\n",
       "      <th>mean</th>\n",
       "      <td>446.000000</td>\n",
       "      <td>0.383838</td>\n",
       "      <td>2.308642</td>\n",
       "      <td>29.699118</td>\n",
       "      <td>0.523008</td>\n",
       "      <td>0.381594</td>\n",
       "      <td>32.204208</td>\n",
       "    </tr>\n",
       "    <tr>\n",
       "      <th>std</th>\n",
       "      <td>257.353842</td>\n",
       "      <td>0.486592</td>\n",
       "      <td>0.836071</td>\n",
       "      <td>14.526497</td>\n",
       "      <td>1.102743</td>\n",
       "      <td>0.806057</td>\n",
       "      <td>49.693429</td>\n",
       "    </tr>\n",
       "    <tr>\n",
       "      <th>min</th>\n",
       "      <td>1.000000</td>\n",
       "      <td>0.000000</td>\n",
       "      <td>1.000000</td>\n",
       "      <td>0.420000</td>\n",
       "      <td>0.000000</td>\n",
       "      <td>0.000000</td>\n",
       "      <td>0.000000</td>\n",
       "    </tr>\n",
       "    <tr>\n",
       "      <th>25%</th>\n",
       "      <td>223.500000</td>\n",
       "      <td>0.000000</td>\n",
       "      <td>2.000000</td>\n",
       "      <td>20.125000</td>\n",
       "      <td>0.000000</td>\n",
       "      <td>0.000000</td>\n",
       "      <td>7.910400</td>\n",
       "    </tr>\n",
       "    <tr>\n",
       "      <th>50%</th>\n",
       "      <td>446.000000</td>\n",
       "      <td>0.000000</td>\n",
       "      <td>3.000000</td>\n",
       "      <td>28.000000</td>\n",
       "      <td>0.000000</td>\n",
       "      <td>0.000000</td>\n",
       "      <td>14.454200</td>\n",
       "    </tr>\n",
       "    <tr>\n",
       "      <th>75%</th>\n",
       "      <td>668.500000</td>\n",
       "      <td>1.000000</td>\n",
       "      <td>3.000000</td>\n",
       "      <td>38.000000</td>\n",
       "      <td>1.000000</td>\n",
       "      <td>0.000000</td>\n",
       "      <td>31.000000</td>\n",
       "    </tr>\n",
       "    <tr>\n",
       "      <th>max</th>\n",
       "      <td>891.000000</td>\n",
       "      <td>1.000000</td>\n",
       "      <td>3.000000</td>\n",
       "      <td>80.000000</td>\n",
       "      <td>8.000000</td>\n",
       "      <td>6.000000</td>\n",
       "      <td>512.329200</td>\n",
       "    </tr>\n",
       "  </tbody>\n",
       "</table>\n",
       "</div>"
      ],
      "text/plain": [
       "       PassengerId    Survived      Pclass         Age       SibSp  \\\n",
       "count   891.000000  891.000000  891.000000  714.000000  891.000000   \n",
       "mean    446.000000    0.383838    2.308642   29.699118    0.523008   \n",
       "std     257.353842    0.486592    0.836071   14.526497    1.102743   \n",
       "min       1.000000    0.000000    1.000000    0.420000    0.000000   \n",
       "25%     223.500000    0.000000    2.000000   20.125000    0.000000   \n",
       "50%     446.000000    0.000000    3.000000   28.000000    0.000000   \n",
       "75%     668.500000    1.000000    3.000000   38.000000    1.000000   \n",
       "max     891.000000    1.000000    3.000000   80.000000    8.000000   \n",
       "\n",
       "            Parch        Fare  \n",
       "count  891.000000  891.000000  \n",
       "mean     0.381594   32.204208  \n",
       "std      0.806057   49.693429  \n",
       "min      0.000000    0.000000  \n",
       "25%      0.000000    7.910400  \n",
       "50%      0.000000   14.454200  \n",
       "75%      0.000000   31.000000  \n",
       "max      6.000000  512.329200  "
      ]
     },
     "execution_count": 750,
     "metadata": {},
     "output_type": "execute_result"
    }
   ],
   "source": [
    "cat_features = ['Sex', 'Cabin', 'Title_Raw', 'Title']\n",
    "train_cont = train.drop(columns=cat_features)\n",
    "train_cont.describe()"
   ]
  },
  {
   "cell_type": "markdown",
   "id": "advance-prairie",
   "metadata": {},
   "source": [
    "### a) Correlation & Significance<a class=\"anchor\" id=\"correlation_significance\"></a>\n",
    "[To contents](#contents)"
   ]
  },
  {
   "cell_type": "code",
   "execution_count": 751,
   "id": "medieval-karma",
   "metadata": {
    "scrolled": true
   },
   "outputs": [
    {
     "data": {
      "text/html": [
       "<div>\n",
       "<style scoped>\n",
       "    .dataframe tbody tr th:only-of-type {\n",
       "        vertical-align: middle;\n",
       "    }\n",
       "\n",
       "    .dataframe tbody tr th {\n",
       "        vertical-align: top;\n",
       "    }\n",
       "\n",
       "    .dataframe thead th {\n",
       "        text-align: right;\n",
       "    }\n",
       "</style>\n",
       "<table border=\"1\" class=\"dataframe\">\n",
       "  <thead>\n",
       "    <tr style=\"text-align: right;\">\n",
       "      <th></th>\n",
       "      <th>PassengerId</th>\n",
       "      <th>Survived</th>\n",
       "      <th>Pclass</th>\n",
       "      <th>Age</th>\n",
       "      <th>SibSp</th>\n",
       "      <th>Parch</th>\n",
       "      <th>Fare</th>\n",
       "    </tr>\n",
       "  </thead>\n",
       "  <tbody>\n",
       "    <tr>\n",
       "      <th>PassengerId</th>\n",
       "      <td>1.000000</td>\n",
       "      <td>-0.005007</td>\n",
       "      <td>-0.035144</td>\n",
       "      <td>0.036847</td>\n",
       "      <td>-0.057527</td>\n",
       "      <td>-0.001652</td>\n",
       "      <td>0.012658</td>\n",
       "    </tr>\n",
       "    <tr>\n",
       "      <th>Survived</th>\n",
       "      <td>-0.005007</td>\n",
       "      <td>1.000000</td>\n",
       "      <td>-0.338481</td>\n",
       "      <td>-0.077221</td>\n",
       "      <td>-0.035322</td>\n",
       "      <td>0.081629</td>\n",
       "      <td>0.257307</td>\n",
       "    </tr>\n",
       "    <tr>\n",
       "      <th>Pclass</th>\n",
       "      <td>-0.035144</td>\n",
       "      <td>-0.338481</td>\n",
       "      <td>1.000000</td>\n",
       "      <td>-0.369226</td>\n",
       "      <td>0.083081</td>\n",
       "      <td>0.018443</td>\n",
       "      <td>-0.549500</td>\n",
       "    </tr>\n",
       "    <tr>\n",
       "      <th>Age</th>\n",
       "      <td>0.036847</td>\n",
       "      <td>-0.077221</td>\n",
       "      <td>-0.369226</td>\n",
       "      <td>1.000000</td>\n",
       "      <td>-0.308247</td>\n",
       "      <td>-0.189119</td>\n",
       "      <td>0.096067</td>\n",
       "    </tr>\n",
       "    <tr>\n",
       "      <th>SibSp</th>\n",
       "      <td>-0.057527</td>\n",
       "      <td>-0.035322</td>\n",
       "      <td>0.083081</td>\n",
       "      <td>-0.308247</td>\n",
       "      <td>1.000000</td>\n",
       "      <td>0.414838</td>\n",
       "      <td>0.159651</td>\n",
       "    </tr>\n",
       "    <tr>\n",
       "      <th>Parch</th>\n",
       "      <td>-0.001652</td>\n",
       "      <td>0.081629</td>\n",
       "      <td>0.018443</td>\n",
       "      <td>-0.189119</td>\n",
       "      <td>0.414838</td>\n",
       "      <td>1.000000</td>\n",
       "      <td>0.216225</td>\n",
       "    </tr>\n",
       "    <tr>\n",
       "      <th>Fare</th>\n",
       "      <td>0.012658</td>\n",
       "      <td>0.257307</td>\n",
       "      <td>-0.549500</td>\n",
       "      <td>0.096067</td>\n",
       "      <td>0.159651</td>\n",
       "      <td>0.216225</td>\n",
       "      <td>1.000000</td>\n",
       "    </tr>\n",
       "  </tbody>\n",
       "</table>\n",
       "</div>"
      ],
      "text/plain": [
       "             PassengerId  Survived    Pclass       Age     SibSp     Parch  \\\n",
       "PassengerId     1.000000 -0.005007 -0.035144  0.036847 -0.057527 -0.001652   \n",
       "Survived       -0.005007  1.000000 -0.338481 -0.077221 -0.035322  0.081629   \n",
       "Pclass         -0.035144 -0.338481  1.000000 -0.369226  0.083081  0.018443   \n",
       "Age             0.036847 -0.077221 -0.369226  1.000000 -0.308247 -0.189119   \n",
       "SibSp          -0.057527 -0.035322  0.083081 -0.308247  1.000000  0.414838   \n",
       "Parch          -0.001652  0.081629  0.018443 -0.189119  0.414838  1.000000   \n",
       "Fare            0.012658  0.257307 -0.549500  0.096067  0.159651  0.216225   \n",
       "\n",
       "                 Fare  \n",
       "PassengerId  0.012658  \n",
       "Survived     0.257307  \n",
       "Pclass      -0.549500  \n",
       "Age          0.096067  \n",
       "SibSp        0.159651  \n",
       "Parch        0.216225  \n",
       "Fare         1.000000  "
      ]
     },
     "execution_count": 751,
     "metadata": {},
     "output_type": "execute_result"
    }
   ],
   "source": [
    "# correlation matrix: look for high absolute value\n",
    "train_cont.corr()"
   ]
  },
  {
   "cell_type": "markdown",
   "id": "million-isaac",
   "metadata": {},
   "source": [
    "- `Fare` (0.257307) and `Pclass` (-0.338481) have the most significant correlations with survival\n",
    "- They are also significantly correlated with each other (-0.549500)"
   ]
  },
  {
   "cell_type": "code",
   "execution_count": 752,
   "id": "induced-corpus",
   "metadata": {},
   "outputs": [],
   "source": [
    "# groups by survive and did not survive\n",
    "def describe_cont_feature(feature):\n",
    "    print('\\n*** Results for {} ***'.format(feature))\n",
    "    print(train_cont.groupby('Survived')[feature].describe())\n",
    "    print(ttest(feature))\n",
    "\n",
    "# perform t-test and calculate p-value\n",
    "def ttest(feature):\n",
    "    survived = train_cont[train_cont['Survived']==1][feature]\n",
    "    not_survived = train_cont[train_cont['Survived']==0][feature]\n",
    "    tstat, pval = stats.ttest_ind(survived, not_survived, equal_var=False)\n",
    "    print('t-statistic: {:.1f}, p-value: {:.3}'.format(tstat, pval))"
   ]
  },
  {
   "cell_type": "code",
   "execution_count": 753,
   "id": "daily-blind",
   "metadata": {},
   "outputs": [
    {
     "name": "stdout",
     "output_type": "stream",
     "text": [
      "\n",
      "*** Results for Pclass ***\n",
      "          count      mean       std  min  25%  50%  75%  max\n",
      "Survived                                                    \n",
      "0         549.0  2.531876  0.735805  1.0  2.0  3.0  3.0  3.0\n",
      "1         342.0  1.950292  0.863321  1.0  1.0  2.0  3.0  3.0\n",
      "t-statistic: -10.3, p-value: 2.91e-23\n",
      "None\n",
      "\n",
      "*** Results for Age ***\n",
      "          count       mean        std   min   25%   50%   75%   max\n",
      "Survived                                                           \n",
      "0         424.0  30.626179  14.172110  1.00  21.0  28.0  39.0  74.0\n",
      "1         290.0  28.343690  14.950952  0.42  19.0  28.0  36.0  80.0\n",
      "t-statistic: nan, p-value: nan\n",
      "None\n",
      "\n",
      "*** Results for SibSp ***\n",
      "          count      mean       std  min  25%  50%  75%  max\n",
      "Survived                                                    \n",
      "0         549.0  0.553734  1.288399  0.0  0.0  0.0  1.0  8.0\n",
      "1         342.0  0.473684  0.708688  0.0  0.0  0.0  1.0  4.0\n",
      "t-statistic: -1.2, p-value: 0.233\n",
      "None\n",
      "\n",
      "*** Results for Parch ***\n",
      "          count      mean       std  min  25%  50%  75%  max\n",
      "Survived                                                    \n",
      "0         549.0  0.329690  0.823166  0.0  0.0  0.0  0.0  6.0\n",
      "1         342.0  0.464912  0.771712  0.0  0.0  0.0  1.0  5.0\n",
      "t-statistic: 2.5, p-value: 0.0134\n",
      "None\n",
      "\n",
      "*** Results for Fare ***\n",
      "          count       mean        std  min      25%   50%   75%       max\n",
      "Survived                                                                 \n",
      "0         549.0  22.117887  31.388207  0.0   7.8542  10.5  26.0  263.0000\n",
      "1         342.0  48.395408  66.596998  0.0  12.4750  26.0  57.0  512.3292\n",
      "t-statistic: 6.8, p-value: 2.7e-11\n",
      "None\n"
     ]
    }
   ],
   "source": [
    "# look at the distribution of each feature for survived and did not survive\n",
    "for feature in ['Pclass', 'Age', 'SibSp', 'Parch', 'Fare']:\n",
    "    describe_cont_feature(feature)"
   ]
  },
  {
   "cell_type": "markdown",
   "id": "streaming-cigarette",
   "metadata": {},
   "source": [
    "- P-value quantifies the probability of observing as or more extreme values assuming the null hypothesis, that the samples are drawn from populations with the same population means, is true\n",
    "- P-value smaller than a chosen threshold (e.g. 5% or 1%) indicates that our observation is unlikely to have occurred by chance\n",
    "- Smallest p-values are `Pclass` (2.91e-23) and `Fare` (2.7e-11)"
   ]
  },
  {
   "cell_type": "markdown",
   "id": "dying-motivation",
   "metadata": {},
   "source": [
    "### b) Pclass<a class=\"anchor\" id=\"pclass\"></a>\n",
    "[To contents](#contents)"
   ]
  },
  {
   "cell_type": "code",
   "execution_count": 754,
   "id": "detected-tuesday",
   "metadata": {},
   "outputs": [
    {
     "data": {
      "image/png": "[encoded data removed]",
      "text/plain": [
       "<Figure size 576x288 with 1 Axes>"
      ]
     },
     "metadata": {
      "needs_background": "light"
     },
     "output_type": "display_data"
    }
   ],
   "source": [
    "sns.catplot(x='Pclass', y='Survived', data=train, kind='point', height=4, aspect=2);"
   ]
  },
  {
   "cell_type": "markdown",
   "id": "afraid-hartford",
   "metadata": {},
   "source": [
    "### c) Age <a class=\"anchor\" id=\"age\"></a>\n",
    "[To contents](#contents)"
   ]
  },
  {
   "cell_type": "code",
   "execution_count": 755,
   "id": "injured-banking",
   "metadata": {
    "scrolled": false
   },
   "outputs": [
    {
     "data": {
      "text/html": [
       "<div>\n",
       "<style scoped>\n",
       "    .dataframe tbody tr th:only-of-type {\n",
       "        vertical-align: middle;\n",
       "    }\n",
       "\n",
       "    .dataframe tbody tr th {\n",
       "        vertical-align: top;\n",
       "    }\n",
       "\n",
       "    .dataframe thead th {\n",
       "        text-align: right;\n",
       "    }\n",
       "</style>\n",
       "<table border=\"1\" class=\"dataframe\">\n",
       "  <thead>\n",
       "    <tr style=\"text-align: right;\">\n",
       "      <th></th>\n",
       "      <th>PassengerId</th>\n",
       "      <th>Survived</th>\n",
       "      <th>Pclass</th>\n",
       "      <th>Sex</th>\n",
       "      <th>Age</th>\n",
       "      <th>SibSp</th>\n",
       "      <th>Parch</th>\n",
       "      <th>Fare</th>\n",
       "      <th>Cabin</th>\n",
       "      <th>Title</th>\n",
       "    </tr>\n",
       "    <tr>\n",
       "      <th>Age</th>\n",
       "      <th></th>\n",
       "      <th></th>\n",
       "      <th></th>\n",
       "      <th></th>\n",
       "      <th></th>\n",
       "      <th></th>\n",
       "      <th></th>\n",
       "      <th></th>\n",
       "      <th></th>\n",
       "      <th></th>\n",
       "    </tr>\n",
       "  </thead>\n",
       "  <tbody>\n",
       "    <tr>\n",
       "      <th>False</th>\n",
       "      <td>448.582633</td>\n",
       "      <td>0.406162</td>\n",
       "      <td>2.236695</td>\n",
       "      <td>0.365546</td>\n",
       "      <td>29.699118</td>\n",
       "      <td>0.512605</td>\n",
       "      <td>0.431373</td>\n",
       "      <td>34.694514</td>\n",
       "      <td>0.259104</td>\n",
       "      <td>1.918768</td>\n",
       "    </tr>\n",
       "    <tr>\n",
       "      <th>True</th>\n",
       "      <td>435.581921</td>\n",
       "      <td>0.293785</td>\n",
       "      <td>2.598870</td>\n",
       "      <td>0.299435</td>\n",
       "      <td>NaN</td>\n",
       "      <td>0.564972</td>\n",
       "      <td>0.180791</td>\n",
       "      <td>22.158567</td>\n",
       "      <td>0.107345</td>\n",
       "      <td>1.858757</td>\n",
       "    </tr>\n",
       "  </tbody>\n",
       "</table>\n",
       "</div>"
      ],
      "text/plain": [
       "       PassengerId  Survived    Pclass       Sex        Age     SibSp  \\\n",
       "Age                                                                     \n",
       "False   448.582633  0.406162  2.236695  0.365546  29.699118  0.512605   \n",
       "True    435.581921  0.293785  2.598870  0.299435        NaN  0.564972   \n",
       "\n",
       "          Parch       Fare     Cabin     Title  \n",
       "Age                                             \n",
       "False  0.431373  34.694514  0.259104  1.918768  \n",
       "True   0.180791  22.158567  0.107345  1.858757  "
      ]
     },
     "execution_count": 755,
     "metadata": {},
     "output_type": "execute_result"
    }
   ],
   "source": [
    "train.groupby(train['Age'].isnull()).mean()"
   ]
  },
  {
   "cell_type": "markdown",
   "id": "potential-savannah",
   "metadata": {},
   "source": [
    "- Replace the null values in `age` with its average value; this method will not bias the model"
   ]
  },
  {
   "cell_type": "code",
   "execution_count": 756,
   "id": "perfect-identity",
   "metadata": {},
   "outputs": [
    {
     "data": {
      "image/png": "[encoded data removed]",
      "text/plain": [
       "<Figure size 720x360 with 1 Axes>"
      ]
     },
     "metadata": {
      "needs_background": "light"
     },
     "output_type": "display_data"
    }
   ],
   "source": [
    "died = train[train['Survived'] == 0]['Age'].dropna()\n",
    "survived = train[train['Survived'] == 1]['Age'].dropna()\n",
    "xmin = min(min(died), min(survived))\n",
    "xmax = max(max(died), max(survived))\n",
    "\n",
    "plt.figure(figsize=(10, 5))\n",
    "sns.histplot(died, color='r', alpha = 0.5, kde=False, bins=np.arange(xmin, xmax, 2))\n",
    "sns.histplot(survived, color='g', alpha = 0.5, kde=False, bins=np.arange(xmin, xmax, 2))\n",
    "plt.legend(['Died', 'Survived'])\n",
    "plt.title('Overlaid Histogram for Age')\n",
    "plt.show()"
   ]
  },
  {
   "cell_type": "markdown",
   "id": "hispanic-qatar",
   "metadata": {},
   "source": [
    "- Similar distributions for died and survived, except for children under 6, who had much higher survival rates\n",
    "- Age may not be a good predictor of survival except in young children\n",
    "- Create new `Under6` feature"
   ]
  },
  {
   "cell_type": "code",
   "execution_count": 757,
   "id": "labeled-distributor",
   "metadata": {},
   "outputs": [],
   "source": [
    "# train data\n",
    "train['Age'].fillna(train['Age'].mean(), inplace=True)\n",
    "train['Under6']= (train['Age'] <= 6) + 1 - 1\n",
    "# test data\n",
    "test['Age'].fillna(test['Age'].mean(), inplace=True)\n",
    "test['Under6'] = (test['Age'] <= 6) + 1 - 1"
   ]
  },
  {
   "cell_type": "markdown",
   "id": "successful-barrel",
   "metadata": {},
   "source": [
    "### d) SibSp & Parch <a class=\"anchor\" id=\"sibsp_parch\"></a>\n",
    "[To contents](#contents)"
   ]
  },
  {
   "cell_type": "code",
   "execution_count": 758,
   "id": "lined-uncertainty",
   "metadata": {},
   "outputs": [
    {
     "data": {
      "image/png": "[encoded data removed]",
      "text/plain": [
       "<Figure size 576x288 with 1 Axes>"
      ]
     },
     "metadata": {
      "needs_background": "light"
     },
     "output_type": "display_data"
    },
    {
     "data": {
      "image/png": "[encoded data removed]",
      "text/plain": [
       "<Figure size 576x288 with 1 Axes>"
      ]
     },
     "metadata": {
      "needs_background": "light"
     },
     "output_type": "display_data"
    }
   ],
   "source": [
    "sns.catplot(x='SibSp', y='Survived', data=train, kind='point', height=4, aspect=2)\n",
    "sns.catplot(x='Parch', y='Survived', data=train, kind='point', height=4, aspect=2);"
   ]
  },
  {
   "cell_type": "markdown",
   "id": "chemical-thinking",
   "metadata": {},
   "source": [
    "- In general, larger family size corresponds to lower survival rate\n",
    "- Combine `Parch` and `SibSp` into a `FamilyCount` feature"
   ]
  },
  {
   "cell_type": "code",
   "execution_count": 759,
   "id": "alpine-pacific",
   "metadata": {},
   "outputs": [
    {
     "data": {
      "image/png": "[encoded data removed]",
      "text/plain": [
       "<Figure size 576x288 with 1 Axes>"
      ]
     },
     "metadata": {
      "needs_background": "light"
     },
     "output_type": "display_data"
    }
   ],
   "source": [
    "# train data\n",
    "train['FamilyCount'] = train['Parch'] + train['SibSp']\n",
    "# test data\n",
    "test['FamilyCount'] = test['Parch'] + test['SibSp']\n",
    "\n",
    "sns.catplot(x = 'FamilyCount', y = 'Survived', data = train, kind='point', height=4, aspect=2);"
   ]
  },
  {
   "cell_type": "markdown",
   "id": "sixth-spiritual",
   "metadata": {},
   "source": [
    "### e) Fare  <a class=\"anchor\" id=\"fare\"></a>\n",
    "[To contents](#contents)"
   ]
  },
  {
   "cell_type": "code",
   "execution_count": 760,
   "id": "prepared-cambodia",
   "metadata": {
    "scrolled": true
   },
   "outputs": [
    {
     "data": {
      "image/png": "[encoded data removed]",
      "text/plain": [
       "<Figure size 720x360 with 1 Axes>"
      ]
     },
     "metadata": {
      "needs_background": "light"
     },
     "output_type": "display_data"
    }
   ],
   "source": [
    "died = train[train['Survived'] == 0]['Fare'].dropna()\n",
    "survived = train[train['Survived'] == 1]['Fare'].dropna()\n",
    "xmin = min(min(died), min(survived))\n",
    "xmax = max(max(died), max(survived))\n",
    "\n",
    "plt.figure(figsize=(10, 5))\n",
    "sns.histplot(died, color='r', alpha = 0.5, kde=False, bins=np.arange(xmin, xmax, 10))\n",
    "sns.histplot(survived, color='g', alpha = 0.5, kde=False, bins=np.arange(xmin, xmax, 10))\n",
    "plt.legend(['Died', 'Survived'])\n",
    "plt.title('Overlaid Histogram for Fare')\n",
    "plt.show()"
   ]
  },
  {
   "cell_type": "markdown",
   "id": "positive-beverage",
   "metadata": {},
   "source": [
    "- Fare may be less of a good indicator than is suggested by the averages, because there are a few outliers that raise the average for people who survived\n",
    "- At lower fares, more people died than survived, while at higher fares, more or all people survived\n",
    "- Need to replace the missing `Fare` in the test data\n",
    "- There is only one missing value, simply replace it with the mean fare of the training data\n",
    "- There should be no more `NaN` values"
   ]
  },
  {
   "cell_type": "code",
   "execution_count": 761,
   "id": "objective-insider",
   "metadata": {},
   "outputs": [],
   "source": [
    "# test data\n",
    "test['Fare'].fillna(train['Fare'].mean(), inplace=True)"
   ]
  },
  {
   "cell_type": "markdown",
   "id": "interesting-hands",
   "metadata": {},
   "source": [
    "## D) Further Cleaning  <a class=\"anchor\" id=\"further_cleaning\"></a>\n",
    "[To contents](#contents)"
   ]
  },
  {
   "cell_type": "markdown",
   "id": "simple-qatar",
   "metadata": {},
   "source": [
    "### a) Capping  <a class=\"anchor\" id=\"capping\"></a>\n",
    "[To contents](#contents)\n",
    "- Detect outliers in continuous features and remove them\n",
    "- Check for >95%, >97.5%, >99%, 3sd\n",
    "- Check `Age, Fare, FamilyCount`"
   ]
  },
  {
   "cell_type": "code",
   "execution_count": 762,
   "id": "random-distance",
   "metadata": {},
   "outputs": [
    {
     "name": "stdout",
     "output_type": "stream",
     "text": [
      "Age             80.0000\n",
      "Fare           512.3292\n",
      "FamilyCount     10.0000\n",
      "Name: max, dtype: float64\n",
      "Age             76.0000\n",
      "Fare           512.3292\n",
      "FamilyCount     10.0000\n",
      "Name: max, dtype: float64\n"
     ]
    }
   ],
   "source": [
    "# see where outliers might be an issue\n",
    "print(train[['Age', 'Fare', 'FamilyCount']].describe().loc['max'])\n",
    "print(test[['Age', 'Fare', 'FamilyCount']].describe().loc['max'])"
   ]
  },
  {
   "cell_type": "code",
   "execution_count": 763,
   "id": "generous-resolution",
   "metadata": {},
   "outputs": [],
   "source": [
    "# given a feature, detect outliers and store them\n",
    "def detect_outlier(feature):\n",
    "    outliers = []\n",
    "    data = train[feature]\n",
    "    mean = np.mean(data)\n",
    "    std = np.std(data)\n",
    "    print('\\nOutlier caps for {}:'.format(feature))\n",
    "    print('  --95p: {:.1f} / {} values'.format(data.quantile(.95), sum(data > data.quantile(.95))))\n",
    "    print('  --97.5p: {:.1f} / {} values'.format(data.quantile(.975), sum(data > data.quantile(.975))))    \n",
    "    print('  --99p: {:.1f} / {} values'.format(data.quantile(.99), sum(data > data.quantile(.99))))\n",
    "    print('  --3sd: {:.1f} / {} values'.format(mean + 3*(std), sum(data > mean + 3*(std))))"
   ]
  },
  {
   "cell_type": "code",
   "execution_count": 764,
   "id": "latest-poster",
   "metadata": {
    "scrolled": true
   },
   "outputs": [
    {
     "name": "stdout",
     "output_type": "stream",
     "text": [
      "\n",
      "Outlier caps for Age:\n",
      "  --95p: 54.0 / 42 values\n",
      "  --97.5p: 60.0 / 22 values\n",
      "  --99p: 65.0 / 8 values\n",
      "  --3sd: 68.7 / 7 values\n",
      "\n",
      "Outlier caps for Fare:\n",
      "  --95p: 112.1 / 45 values\n",
      "  --97.5p: 153.5 / 22 values\n",
      "  --99p: 249.0 / 9 values\n",
      "  --3sd: 181.2 / 20 values\n",
      "\n",
      "Outlier caps for FamilyCount:\n",
      "  --95p: 5.0 / 25 values\n",
      "  --97.5p: 6.0 / 13 values\n",
      "  --99p: 7.0 / 7 values\n",
      "  --3sd: 5.7 / 25 values\n"
     ]
    }
   ],
   "source": [
    "# determine what the upperbound should be for continuous features\n",
    "for feat in ['Age', 'Fare', 'FamilyCount']:\n",
    "    detect_outlier(feat)"
   ]
  },
  {
   "cell_type": "markdown",
   "id": "suffering-movement",
   "metadata": {},
   "source": [
    "- Max `FamilyCount` is 10, which is reasonable\n",
    "- Cap `Fare` and `Age` at 97.5%"
   ]
  },
  {
   "cell_type": "code",
   "execution_count": 765,
   "id": "shaped-stupid",
   "metadata": {},
   "outputs": [],
   "source": [
    "# cap features\n",
    "\n",
    "# train data\n",
    "train['Age_Capped'] = train['Age'].clip(upper=train['Age'].quantile(.975))\n",
    "train['Fare_Capped'] = train['Fare'].clip(upper=train['Fare'].quantile(.975))\n",
    "# test data\n",
    "test['Age_Capped'] = test['Age'].clip(upper=test['Age'].quantile(.975))\n",
    "test['Fare_Capped'] = test['Fare'].clip(upper=test['Fare'].quantile(.975))"
   ]
  },
  {
   "cell_type": "code",
   "execution_count": 766,
   "id": "geological-honolulu",
   "metadata": {},
   "outputs": [
    {
     "name": "stdout",
     "output_type": "stream",
     "text": [
      "Age_Capped      60.0000\n",
      "Fare_Capped    153.4625\n",
      "FamilyCount     10.0000\n",
      "Name: max, dtype: float64\n",
      "Age_Capped      60.2875\n",
      "Fare_Capped    221.7792\n",
      "FamilyCount     10.0000\n",
      "Name: max, dtype: float64\n"
     ]
    }
   ],
   "source": [
    "# check results of capping\n",
    "print(train[['Age_Capped', 'Fare_Capped', 'FamilyCount']].describe().loc['max'])\n",
    "print(test[['Age_Capped', 'Fare_Capped', 'FamilyCount']].describe().loc['max'])"
   ]
  },
  {
   "cell_type": "markdown",
   "id": "south-dallas",
   "metadata": {},
   "source": [
    "### b) Transforming Skewed Features  <a class=\"anchor\" id=\"transforming_skewed_features\"></a>\n",
    "[To contents](#contents)\n",
    "#### Box-Cox Power Transformation\n",
    "\n",
    " $$ y^x $$\n",
    "\n",
    "| X    | Base Form           |           Transformation               |\n",
    "|------|--------------------------|--------------------------|\n",
    "| -2   | $$ y ^ {-2} $$           | $$ \\frac{1}{y^2} $$      |\n",
    "| -1   | $$ y ^ {-1} $$           | $$ \\frac{1}{y} $$        |\n",
    "| -0.5 | $$ y ^ {\\frac{-1}{2}} $$ | $$ \\frac{1}{\\sqrt{y}} $$ |\n",
    "| 0    | $$ y^{0} $$              | $$ log(y) $$             |\n",
    "| 0.5  | $$ y ^ {\\frac{1}{2}}  $$ | $$ \\sqrt{y} $$           |\n",
    "| 1    | $$ y^{1} $$              | $$ y $$                  |\n",
    "| 2    | $$ y^{2} $$              | $$ y^2 $$                             |\n",
    "\n",
    "**Process**\n",
    "\n",
    "1. Determine what range of exponents to test\n",
    "2. Apply each transformation to each value of your chosen feature\n",
    "3. Use some criteria to determine which of the transformations yield the best distribution (QQ plot should ideally be linear along red line)"
   ]
  },
  {
   "cell_type": "code",
   "execution_count": 767,
   "id": "becoming-europe",
   "metadata": {
    "scrolled": true
   },
   "outputs": [
    {
     "data": {
      "image/png": "[encoded data removed]",
      "text/plain": [
       "<Figure size 720x360 with 1 Axes>"
      ]
     },
     "metadata": {
      "needs_background": "light"
     },
     "output_type": "display_data"
    }
   ],
   "source": [
    "died = train[train['Survived'] == 0]['Age_Capped'].dropna()\n",
    "survived = train[train['Survived'] == 1]['Age_Capped'].dropna()\n",
    "xmin = min(min(died), min(survived))\n",
    "xmax = max(max(died), max(survived))\n",
    "\n",
    "plt.figure(figsize=(10, 5))\n",
    "sns.histplot(died, color='r', alpha = 0.5, kde=False, bins=np.arange(xmin, xmax, 2))\n",
    "sns.histplot(survived, color='g', alpha = 0.5, kde=False, bins=np.arange(xmin, xmax, 2))\n",
    "plt.legend(['Died', 'Survived'])\n",
    "plt.title('Overlaid Histogram for Age_Capped')\n",
    "plt.show()"
   ]
  },
  {
   "cell_type": "code",
   "execution_count": 768,
   "id": "integral-training",
   "metadata": {
    "scrolled": true
   },
   "outputs": [
    {
     "data": {
      "image/png": "[encoded data removed]",
      "text/plain": [
       "<Figure size 720x360 with 1 Axes>"
      ]
     },
     "metadata": {
      "needs_background": "light"
     },
     "output_type": "display_data"
    }
   ],
   "source": [
    "died = train[train['Survived'] == 0]['Fare_Capped'].dropna()\n",
    "survived = train[train['Survived'] == 1]['Fare_Capped'].dropna()\n",
    "xmin = min(min(died), min(survived))\n",
    "xmax = max(max(died), max(survived))\n",
    "\n",
    "plt.figure(figsize=(10, 5))\n",
    "sns.histplot(died, color='r', alpha = 0.5, kde=False, bins=np.arange(xmin, xmax, 10))\n",
    "sns.histplot(survived, color='g', alpha = 0.5, kde=False, bins=np.arange(xmin, xmax, 10))\n",
    "plt.legend(['Died', 'Survived'])\n",
    "plt.title('Overlaid Histogram for Fare_Capped')\n",
    "plt.show()"
   ]
  },
  {
   "cell_type": "markdown",
   "id": "least-dietary",
   "metadata": {},
   "source": [
    "- `Age_Capped` appears well-distributed and not in need of transformation\n",
    "- Generate QQ plots for `Fare_Capped` and histograms to transform data"
   ]
  },
  {
   "cell_type": "code",
   "execution_count": 769,
   "id": "center-plant",
   "metadata": {
    "scrolled": false
   },
   "outputs": [
    {
     "data": {
      "image/png": "[encoded data removed]",
      "text/plain": [
       "<Figure size 432x288 with 1 Axes>"
      ]
     },
     "metadata": {
      "needs_background": "light"
     },
     "output_type": "display_data"
    },
    {
     "data": {
      "image/png": "[encoded data removed]",
      "text/plain": [
       "<Figure size 432x288 with 1 Axes>"
      ]
     },
     "metadata": {
      "needs_background": "light"
     },
     "output_type": "display_data"
    },
    {
     "data": {
      "image/png": "[encoded data removed]",
      "text/plain": [
       "<Figure size 432x288 with 1 Axes>"
      ]
     },
     "metadata": {
      "needs_background": "light"
     },
     "output_type": "display_data"
    },
    {
     "data": {
      "image/png": "[encoded data removed]",
      "text/plain": [
       "<Figure size 432x288 with 1 Axes>"
      ]
     },
     "metadata": {
      "needs_background": "light"
     },
     "output_type": "display_data"
    },
    {
     "data": {
      "image/png": "[encoded data removed]",
      "text/plain": [
       "<Figure size 432x288 with 1 Axes>"
      ]
     },
     "metadata": {
      "needs_background": "light"
     },
     "output_type": "display_data"
    },
    {
     "data": {
      "image/png": "[encoded data removed]",
      "text/plain": [
       "<Figure size 432x288 with 1 Axes>"
      ]
     },
     "metadata": {
      "needs_background": "light"
     },
     "output_type": "display_data"
    },
    {
     "data": {
      "image/png": "[encoded data removed]",
      "text/plain": [
       "<Figure size 432x288 with 1 Axes>"
      ]
     },
     "metadata": {
      "needs_background": "light"
     },
     "output_type": "display_data"
    },
    {
     "data": {
      "image/png": "[encoded data removed]",
      "text/plain": [
       "<Figure size 432x288 with 1 Axes>"
      ]
     },
     "metadata": {
      "needs_background": "light"
     },
     "output_type": "display_data"
    }
   ],
   "source": [
    "# generate QQ plots\n",
    "for i in [0.5, 1, 2, 3, 4, 5, 6, 7]:\n",
    "    data_t = train['Fare_Capped']**(1/i)\n",
    "    qqplot(data_t, line='s')\n",
    "    plt.title(\"Transformation: 1/{}\".format(str(i)))"
   ]
  },
  {
   "cell_type": "code",
   "execution_count": 770,
   "id": "equal-stationery",
   "metadata": {
    "scrolled": false
   },
   "outputs": [
    {
     "data": {
      "image/png": "[encoded data removed]",
      "text/plain": [
       "<Figure size 432x288 with 1 Axes>"
      ]
     },
     "metadata": {
      "needs_background": "light"
     },
     "output_type": "display_data"
    },
    {
     "data": {
      "image/png": "[encoded data removed]",
      "text/plain": [
       "<Figure size 432x288 with 1 Axes>"
      ]
     },
     "metadata": {
      "needs_background": "light"
     },
     "output_type": "display_data"
    },
    {
     "data": {
      "image/png": "[encoded data removed]",
      "text/plain": [
       "<Figure size 432x288 with 1 Axes>"
      ]
     },
     "metadata": {
      "needs_background": "light"
     },
     "output_type": "display_data"
    }
   ],
   "source": [
    "# Box-Cox transformation, check best fitting QQ plots (1/3, 1/4, 1/5)\n",
    "for i in [3, 4, 5]:\n",
    "    data_t = train['Fare_Capped']**(1/i)\n",
    "    n, bins, patches = plt.hist(data_t, 50, density=True)\n",
    "    mu = np.mean(data_t)\n",
    "    sigma = np.std(data_t)\n",
    "    plt.plot(bins, stats.norm.pdf(bins, mu, sigma))\n",
    "    plt.title(\"Transformation: 1/{}\".format(str(i)))\n",
    "    plt.show()"
   ]
  },
  {
   "cell_type": "code",
   "execution_count": 771,
   "id": "ceramic-ferry",
   "metadata": {},
   "outputs": [],
   "source": [
    "# create the new transformed feature using x^1/4\n",
    "\n",
    "# train data\n",
    "train['Fare_Capped_Transformed'] = train['Fare_Capped'].apply(lambda x: x**(1/4))\n",
    "# test data\n",
    "test['Fare_Capped_Transformed'] = test['Fare_Capped'].apply(lambda x: x**(1/4))"
   ]
  },
  {
   "cell_type": "markdown",
   "id": "operational-translator",
   "metadata": {},
   "source": [
    "# 2) Creating Data Files <a class=\"anchor\" id=\"creating_data_files\"></a>\n",
    "[To contents](#contents)\n",
    "- Drop required columns, then write them out to csv for future use\n",
    "- Split up data for training, validation, and testing"
   ]
  },
  {
   "cell_type": "markdown",
   "id": "affecting-slope",
   "metadata": {},
   "source": [
    "## A) Dropping Columns <a class=\"anchor\" id=\"dropping_columns\"></a>\n",
    "[To contents](#contents)"
   ]
  },
  {
   "cell_type": "code",
   "execution_count": 772,
   "id": "harmful-rebecca",
   "metadata": {},
   "outputs": [
    {
     "data": {
      "text/html": [
       "<div>\n",
       "<style scoped>\n",
       "    .dataframe tbody tr th:only-of-type {\n",
       "        vertical-align: middle;\n",
       "    }\n",
       "\n",
       "    .dataframe tbody tr th {\n",
       "        vertical-align: top;\n",
       "    }\n",
       "\n",
       "    .dataframe thead th {\n",
       "        text-align: right;\n",
       "    }\n",
       "</style>\n",
       "<table border=\"1\" class=\"dataframe\">\n",
       "  <thead>\n",
       "    <tr style=\"text-align: right;\">\n",
       "      <th></th>\n",
       "      <th>PassengerId</th>\n",
       "      <th>Survived</th>\n",
       "      <th>Pclass</th>\n",
       "      <th>Name</th>\n",
       "      <th>Sex</th>\n",
       "      <th>Age</th>\n",
       "      <th>SibSp</th>\n",
       "      <th>Parch</th>\n",
       "      <th>Ticket</th>\n",
       "      <th>Fare</th>\n",
       "      <th>Cabin</th>\n",
       "      <th>Embarked</th>\n",
       "      <th>Title_Raw</th>\n",
       "      <th>Title</th>\n",
       "      <th>Under6</th>\n",
       "      <th>FamilyCount</th>\n",
       "      <th>Age_Capped</th>\n",
       "      <th>Fare_Capped</th>\n",
       "      <th>Fare_Capped_Transformed</th>\n",
       "    </tr>\n",
       "  </thead>\n",
       "  <tbody>\n",
       "    <tr>\n",
       "      <th>0</th>\n",
       "      <td>1</td>\n",
       "      <td>0</td>\n",
       "      <td>3</td>\n",
       "      <td>Braund, Mr. Owen Harris</td>\n",
       "      <td>0</td>\n",
       "      <td>22.0</td>\n",
       "      <td>1</td>\n",
       "      <td>0</td>\n",
       "      <td>A/5 21171</td>\n",
       "      <td>7.2500</td>\n",
       "      <td>0</td>\n",
       "      <td>S</td>\n",
       "      <td>Mr</td>\n",
       "      <td>2</td>\n",
       "      <td>0</td>\n",
       "      <td>1</td>\n",
       "      <td>22.0</td>\n",
       "      <td>7.2500</td>\n",
       "      <td>1.640909</td>\n",
       "    </tr>\n",
       "    <tr>\n",
       "      <th>1</th>\n",
       "      <td>2</td>\n",
       "      <td>1</td>\n",
       "      <td>1</td>\n",
       "      <td>Cumings, Mrs. John Bradley (Florence Briggs Th...</td>\n",
       "      <td>1</td>\n",
       "      <td>38.0</td>\n",
       "      <td>1</td>\n",
       "      <td>0</td>\n",
       "      <td>PC 17599</td>\n",
       "      <td>71.2833</td>\n",
       "      <td>1</td>\n",
       "      <td>C</td>\n",
       "      <td>Mrs</td>\n",
       "      <td>3</td>\n",
       "      <td>0</td>\n",
       "      <td>1</td>\n",
       "      <td>38.0</td>\n",
       "      <td>71.2833</td>\n",
       "      <td>2.905674</td>\n",
       "    </tr>\n",
       "    <tr>\n",
       "      <th>2</th>\n",
       "      <td>3</td>\n",
       "      <td>1</td>\n",
       "      <td>3</td>\n",
       "      <td>Heikkinen, Miss. Laina</td>\n",
       "      <td>1</td>\n",
       "      <td>26.0</td>\n",
       "      <td>0</td>\n",
       "      <td>0</td>\n",
       "      <td>STON/O2. 3101282</td>\n",
       "      <td>7.9250</td>\n",
       "      <td>0</td>\n",
       "      <td>S</td>\n",
       "      <td>Miss</td>\n",
       "      <td>1</td>\n",
       "      <td>0</td>\n",
       "      <td>0</td>\n",
       "      <td>26.0</td>\n",
       "      <td>7.9250</td>\n",
       "      <td>1.677837</td>\n",
       "    </tr>\n",
       "    <tr>\n",
       "      <th>3</th>\n",
       "      <td>4</td>\n",
       "      <td>1</td>\n",
       "      <td>1</td>\n",
       "      <td>Futrelle, Mrs. Jacques Heath (Lily May Peel)</td>\n",
       "      <td>1</td>\n",
       "      <td>35.0</td>\n",
       "      <td>1</td>\n",
       "      <td>0</td>\n",
       "      <td>113803</td>\n",
       "      <td>53.1000</td>\n",
       "      <td>1</td>\n",
       "      <td>S</td>\n",
       "      <td>Mrs</td>\n",
       "      <td>3</td>\n",
       "      <td>0</td>\n",
       "      <td>1</td>\n",
       "      <td>35.0</td>\n",
       "      <td>53.1000</td>\n",
       "      <td>2.699440</td>\n",
       "    </tr>\n",
       "    <tr>\n",
       "      <th>4</th>\n",
       "      <td>5</td>\n",
       "      <td>0</td>\n",
       "      <td>3</td>\n",
       "      <td>Allen, Mr. William Henry</td>\n",
       "      <td>0</td>\n",
       "      <td>35.0</td>\n",
       "      <td>0</td>\n",
       "      <td>0</td>\n",
       "      <td>373450</td>\n",
       "      <td>8.0500</td>\n",
       "      <td>0</td>\n",
       "      <td>S</td>\n",
       "      <td>Mr</td>\n",
       "      <td>2</td>\n",
       "      <td>0</td>\n",
       "      <td>0</td>\n",
       "      <td>35.0</td>\n",
       "      <td>8.0500</td>\n",
       "      <td>1.684414</td>\n",
       "    </tr>\n",
       "  </tbody>\n",
       "</table>\n",
       "</div>"
      ],
      "text/plain": [
       "   PassengerId  Survived  Pclass  \\\n",
       "0            1         0       3   \n",
       "1            2         1       1   \n",
       "2            3         1       3   \n",
       "3            4         1       1   \n",
       "4            5         0       3   \n",
       "\n",
       "                                                Name  Sex   Age  SibSp  Parch  \\\n",
       "0                            Braund, Mr. Owen Harris    0  22.0      1      0   \n",
       "1  Cumings, Mrs. John Bradley (Florence Briggs Th...    1  38.0      1      0   \n",
       "2                             Heikkinen, Miss. Laina    1  26.0      0      0   \n",
       "3       Futrelle, Mrs. Jacques Heath (Lily May Peel)    1  35.0      1      0   \n",
       "4                           Allen, Mr. William Henry    0  35.0      0      0   \n",
       "\n",
       "             Ticket     Fare  Cabin Embarked Title_Raw  Title  Under6  \\\n",
       "0         A/5 21171   7.2500      0        S        Mr      2       0   \n",
       "1          PC 17599  71.2833      1        C       Mrs      3       0   \n",
       "2  STON/O2. 3101282   7.9250      0        S      Miss      1       0   \n",
       "3            113803  53.1000      1        S       Mrs      3       0   \n",
       "4            373450   8.0500      0        S        Mr      2       0   \n",
       "\n",
       "   FamilyCount  Age_Capped  Fare_Capped  Fare_Capped_Transformed  \n",
       "0            1        22.0       7.2500                 1.640909  \n",
       "1            1        38.0      71.2833                 2.905674  \n",
       "2            0        26.0       7.9250                 1.677837  \n",
       "3            1        35.0      53.1000                 2.699440  \n",
       "4            0        35.0       8.0500                 1.684414  "
      ]
     },
     "execution_count": 772,
     "metadata": {},
     "output_type": "execute_result"
    }
   ],
   "source": [
    "# what our training data looks like currently\n",
    "train.head()"
   ]
  },
  {
   "cell_type": "code",
   "execution_count": 773,
   "id": "opened-exchange",
   "metadata": {
    "scrolled": true
   },
   "outputs": [
    {
     "data": {
      "text/html": [
       "<div>\n",
       "<style scoped>\n",
       "    .dataframe tbody tr th:only-of-type {\n",
       "        vertical-align: middle;\n",
       "    }\n",
       "\n",
       "    .dataframe tbody tr th {\n",
       "        vertical-align: top;\n",
       "    }\n",
       "\n",
       "    .dataframe thead th {\n",
       "        text-align: right;\n",
       "    }\n",
       "</style>\n",
       "<table border=\"1\" class=\"dataframe\">\n",
       "  <thead>\n",
       "    <tr style=\"text-align: right;\">\n",
       "      <th></th>\n",
       "      <th>PassengerId</th>\n",
       "      <th>Pclass</th>\n",
       "      <th>Name</th>\n",
       "      <th>Sex</th>\n",
       "      <th>Age</th>\n",
       "      <th>SibSp</th>\n",
       "      <th>Parch</th>\n",
       "      <th>Ticket</th>\n",
       "      <th>Fare</th>\n",
       "      <th>Cabin</th>\n",
       "      <th>Embarked</th>\n",
       "      <th>Title_Raw</th>\n",
       "      <th>Title</th>\n",
       "      <th>Under6</th>\n",
       "      <th>FamilyCount</th>\n",
       "      <th>Age_Capped</th>\n",
       "      <th>Fare_Capped</th>\n",
       "      <th>Fare_Capped_Transformed</th>\n",
       "    </tr>\n",
       "  </thead>\n",
       "  <tbody>\n",
       "    <tr>\n",
       "      <th>0</th>\n",
       "      <td>892</td>\n",
       "      <td>3</td>\n",
       "      <td>Kelly, Mr. James</td>\n",
       "      <td>0</td>\n",
       "      <td>34.5</td>\n",
       "      <td>0</td>\n",
       "      <td>0</td>\n",
       "      <td>330911</td>\n",
       "      <td>7.8292</td>\n",
       "      <td>0</td>\n",
       "      <td>Q</td>\n",
       "      <td>Mr</td>\n",
       "      <td>2</td>\n",
       "      <td>0</td>\n",
       "      <td>0</td>\n",
       "      <td>34.5000</td>\n",
       "      <td>7.8292</td>\n",
       "      <td>1.672743</td>\n",
       "    </tr>\n",
       "    <tr>\n",
       "      <th>1</th>\n",
       "      <td>893</td>\n",
       "      <td>3</td>\n",
       "      <td>Wilkes, Mrs. James (Ellen Needs)</td>\n",
       "      <td>1</td>\n",
       "      <td>47.0</td>\n",
       "      <td>1</td>\n",
       "      <td>0</td>\n",
       "      <td>363272</td>\n",
       "      <td>7.0000</td>\n",
       "      <td>0</td>\n",
       "      <td>S</td>\n",
       "      <td>Mrs</td>\n",
       "      <td>3</td>\n",
       "      <td>0</td>\n",
       "      <td>1</td>\n",
       "      <td>47.0000</td>\n",
       "      <td>7.0000</td>\n",
       "      <td>1.626577</td>\n",
       "    </tr>\n",
       "    <tr>\n",
       "      <th>2</th>\n",
       "      <td>894</td>\n",
       "      <td>2</td>\n",
       "      <td>Myles, Mr. Thomas Francis</td>\n",
       "      <td>0</td>\n",
       "      <td>62.0</td>\n",
       "      <td>0</td>\n",
       "      <td>0</td>\n",
       "      <td>240276</td>\n",
       "      <td>9.6875</td>\n",
       "      <td>0</td>\n",
       "      <td>Q</td>\n",
       "      <td>Mr</td>\n",
       "      <td>2</td>\n",
       "      <td>0</td>\n",
       "      <td>0</td>\n",
       "      <td>60.2875</td>\n",
       "      <td>9.6875</td>\n",
       "      <td>1.764221</td>\n",
       "    </tr>\n",
       "    <tr>\n",
       "      <th>3</th>\n",
       "      <td>895</td>\n",
       "      <td>3</td>\n",
       "      <td>Wirz, Mr. Albert</td>\n",
       "      <td>0</td>\n",
       "      <td>27.0</td>\n",
       "      <td>0</td>\n",
       "      <td>0</td>\n",
       "      <td>315154</td>\n",
       "      <td>8.6625</td>\n",
       "      <td>0</td>\n",
       "      <td>S</td>\n",
       "      <td>Mr</td>\n",
       "      <td>2</td>\n",
       "      <td>0</td>\n",
       "      <td>0</td>\n",
       "      <td>27.0000</td>\n",
       "      <td>8.6625</td>\n",
       "      <td>1.715579</td>\n",
       "    </tr>\n",
       "    <tr>\n",
       "      <th>4</th>\n",
       "      <td>896</td>\n",
       "      <td>3</td>\n",
       "      <td>Hirvonen, Mrs. Alexander (Helga E Lindqvist)</td>\n",
       "      <td>1</td>\n",
       "      <td>22.0</td>\n",
       "      <td>1</td>\n",
       "      <td>1</td>\n",
       "      <td>3101298</td>\n",
       "      <td>12.2875</td>\n",
       "      <td>0</td>\n",
       "      <td>S</td>\n",
       "      <td>Mrs</td>\n",
       "      <td>3</td>\n",
       "      <td>0</td>\n",
       "      <td>2</td>\n",
       "      <td>22.0000</td>\n",
       "      <td>12.2875</td>\n",
       "      <td>1.872259</td>\n",
       "    </tr>\n",
       "  </tbody>\n",
       "</table>\n",
       "</div>"
      ],
      "text/plain": [
       "   PassengerId  Pclass                                          Name  Sex  \\\n",
       "0          892       3                              Kelly, Mr. James    0   \n",
       "1          893       3              Wilkes, Mrs. James (Ellen Needs)    1   \n",
       "2          894       2                     Myles, Mr. Thomas Francis    0   \n",
       "3          895       3                              Wirz, Mr. Albert    0   \n",
       "4          896       3  Hirvonen, Mrs. Alexander (Helga E Lindqvist)    1   \n",
       "\n",
       "    Age  SibSp  Parch   Ticket     Fare  Cabin Embarked Title_Raw  Title  \\\n",
       "0  34.5      0      0   330911   7.8292      0        Q        Mr      2   \n",
       "1  47.0      1      0   363272   7.0000      0        S       Mrs      3   \n",
       "2  62.0      0      0   240276   9.6875      0        Q        Mr      2   \n",
       "3  27.0      0      0   315154   8.6625      0        S        Mr      2   \n",
       "4  22.0      1      1  3101298  12.2875      0        S       Mrs      3   \n",
       "\n",
       "   Under6  FamilyCount  Age_Capped  Fare_Capped  Fare_Capped_Transformed  \n",
       "0       0            0     34.5000       7.8292                 1.672743  \n",
       "1       0            1     47.0000       7.0000                 1.626577  \n",
       "2       0            0     60.2875       9.6875                 1.764221  \n",
       "3       0            0     27.0000       8.6625                 1.715579  \n",
       "4       0            2     22.0000      12.2875                 1.872259  "
      ]
     },
     "execution_count": 773,
     "metadata": {},
     "output_type": "execute_result"
    }
   ],
   "source": [
    "# what our testing data looks like currently\n",
    "test.head()"
   ]
  },
  {
   "cell_type": "code",
   "execution_count": 774,
   "id": "certified-donor",
   "metadata": {},
   "outputs": [],
   "source": [
    "columns_to_drop = ['PassengerId', 'Name', 'Age', 'SibSp', 'Parch', 'Ticket', 'Fare', 'Embarked', 'Title_Raw', 'Fare_Capped']\n",
    "train1 = train.drop(columns=columns_to_drop)\n",
    "test1 = test.drop(columns=columns_to_drop)"
   ]
  },
  {
   "cell_type": "markdown",
   "id": "canadian-census",
   "metadata": {},
   "source": [
    "## B) Scaling <a class=\"anchor\" id=\"scaling\"></a>\n",
    "[To contents](#contents)\n",
    "- Convert data from raw numbers to z-score (how many standard deviations above the mean)\n",
    "- Some algorithms, like logistic regression and deep learning algorithms, struggle with unscaled data\n",
    "- Random forest and gradient boosting does fine with unscaled data"
   ]
  },
  {
   "cell_type": "code",
   "execution_count": 775,
   "id": "streaming-idaho",
   "metadata": {},
   "outputs": [],
   "source": [
    "# fit the scaler on the training data, then transform\n",
    "labels = train1['Survived']\n",
    "scaler = StandardScaler()\n",
    "scaler.fit(train1)\n",
    "features = train1.columns\n",
    "train1[features] = scaler.transform(train1[features])\n",
    "train1['Survived'] = labels"
   ]
  },
  {
   "cell_type": "code",
   "execution_count": 776,
   "id": "korean-terror",
   "metadata": {},
   "outputs": [],
   "source": [
    "# fit the scaler on the testing data, then transform\n",
    "scaler = StandardScaler()\n",
    "scaler.fit(test1)\n",
    "features = test1.columns\n",
    "test1[features] = scaler.transform(test1[features])"
   ]
  },
  {
   "cell_type": "code",
   "execution_count": 777,
   "id": "ahead-tenant",
   "metadata": {},
   "outputs": [
    {
     "data": {
      "text/html": [
       "<div>\n",
       "<style scoped>\n",
       "    .dataframe tbody tr th:only-of-type {\n",
       "        vertical-align: middle;\n",
       "    }\n",
       "\n",
       "    .dataframe tbody tr th {\n",
       "        vertical-align: top;\n",
       "    }\n",
       "\n",
       "    .dataframe thead th {\n",
       "        text-align: right;\n",
       "    }\n",
       "</style>\n",
       "<table border=\"1\" class=\"dataframe\">\n",
       "  <thead>\n",
       "    <tr style=\"text-align: right;\">\n",
       "      <th></th>\n",
       "      <th>Survived</th>\n",
       "      <th>Pclass</th>\n",
       "      <th>Sex</th>\n",
       "      <th>Cabin</th>\n",
       "      <th>Title</th>\n",
       "      <th>Under6</th>\n",
       "      <th>FamilyCount</th>\n",
       "      <th>Age_Capped</th>\n",
       "      <th>Fare_Capped_Transformed</th>\n",
       "    </tr>\n",
       "  </thead>\n",
       "  <tbody>\n",
       "    <tr>\n",
       "      <th>0</th>\n",
       "      <td>0</td>\n",
       "      <td>0.827377</td>\n",
       "      <td>-0.737695</td>\n",
       "      <td>-0.544925</td>\n",
       "      <td>0.116747</td>\n",
       "      <td>-0.235981</td>\n",
       "      <td>0.059160</td>\n",
       "      <td>-0.600037</td>\n",
       "      <td>-0.785184</td>\n",
       "    </tr>\n",
       "    <tr>\n",
       "      <th>1</th>\n",
       "      <td>1</td>\n",
       "      <td>-1.566107</td>\n",
       "      <td>1.355574</td>\n",
       "      <td>1.835115</td>\n",
       "      <td>1.370017</td>\n",
       "      <td>-0.235981</td>\n",
       "      <td>0.059160</td>\n",
       "      <td>0.671496</td>\n",
       "      <td>1.372975</td>\n",
       "    </tr>\n",
       "    <tr>\n",
       "      <th>2</th>\n",
       "      <td>1</td>\n",
       "      <td>0.827377</td>\n",
       "      <td>1.355574</td>\n",
       "      <td>-0.544925</td>\n",
       "      <td>-1.136523</td>\n",
       "      <td>-0.235981</td>\n",
       "      <td>-0.560975</td>\n",
       "      <td>-0.282154</td>\n",
       "      <td>-0.722171</td>\n",
       "    </tr>\n",
       "    <tr>\n",
       "      <th>3</th>\n",
       "      <td>1</td>\n",
       "      <td>-1.566107</td>\n",
       "      <td>1.355574</td>\n",
       "      <td>1.835115</td>\n",
       "      <td>1.370017</td>\n",
       "      <td>-0.235981</td>\n",
       "      <td>0.059160</td>\n",
       "      <td>0.433084</td>\n",
       "      <td>1.021062</td>\n",
       "    </tr>\n",
       "    <tr>\n",
       "      <th>4</th>\n",
       "      <td>0</td>\n",
       "      <td>0.827377</td>\n",
       "      <td>-0.737695</td>\n",
       "      <td>-0.544925</td>\n",
       "      <td>0.116747</td>\n",
       "      <td>-0.235981</td>\n",
       "      <td>-0.560975</td>\n",
       "      <td>0.433084</td>\n",
       "      <td>-0.710947</td>\n",
       "    </tr>\n",
       "  </tbody>\n",
       "</table>\n",
       "</div>"
      ],
      "text/plain": [
       "   Survived    Pclass       Sex     Cabin     Title    Under6  FamilyCount  \\\n",
       "0         0  0.827377 -0.737695 -0.544925  0.116747 -0.235981     0.059160   \n",
       "1         1 -1.566107  1.355574  1.835115  1.370017 -0.235981     0.059160   \n",
       "2         1  0.827377  1.355574 -0.544925 -1.136523 -0.235981    -0.560975   \n",
       "3         1 -1.566107  1.355574  1.835115  1.370017 -0.235981     0.059160   \n",
       "4         0  0.827377 -0.737695 -0.544925  0.116747 -0.235981    -0.560975   \n",
       "\n",
       "   Age_Capped  Fare_Capped_Transformed  \n",
       "0   -0.600037                -0.785184  \n",
       "1    0.671496                 1.372975  \n",
       "2   -0.282154                -0.722171  \n",
       "3    0.433084                 1.021062  \n",
       "4    0.433084                -0.710947  "
      ]
     },
     "execution_count": 777,
     "metadata": {},
     "output_type": "execute_result"
    }
   ],
   "source": [
    "# what our training data looks like currently\n",
    "train1.head()"
   ]
  },
  {
   "cell_type": "code",
   "execution_count": 778,
   "id": "legal-census",
   "metadata": {},
   "outputs": [
    {
     "data": {
      "text/html": [
       "<div>\n",
       "<style scoped>\n",
       "    .dataframe tbody tr th:only-of-type {\n",
       "        vertical-align: middle;\n",
       "    }\n",
       "\n",
       "    .dataframe tbody tr th {\n",
       "        vertical-align: top;\n",
       "    }\n",
       "\n",
       "    .dataframe thead th {\n",
       "        text-align: right;\n",
       "    }\n",
       "</style>\n",
       "<table border=\"1\" class=\"dataframe\">\n",
       "  <thead>\n",
       "    <tr style=\"text-align: right;\">\n",
       "      <th></th>\n",
       "      <th>Pclass</th>\n",
       "      <th>Sex</th>\n",
       "      <th>Cabin</th>\n",
       "      <th>Title</th>\n",
       "      <th>Under6</th>\n",
       "      <th>FamilyCount</th>\n",
       "      <th>Age_Capped</th>\n",
       "      <th>Fare_Capped_Transformed</th>\n",
       "    </tr>\n",
       "  </thead>\n",
       "  <tbody>\n",
       "    <tr>\n",
       "      <th>0</th>\n",
       "      <td>0.873482</td>\n",
       "      <td>-0.755929</td>\n",
       "      <td>-0.52753</td>\n",
       "      <td>0.103287</td>\n",
       "      <td>-0.192927</td>\n",
       "      <td>-0.553443</td>\n",
       "      <td>0.350738</td>\n",
       "      <td>-0.791881</td>\n",
       "    </tr>\n",
       "    <tr>\n",
       "      <th>1</th>\n",
       "      <td>0.873482</td>\n",
       "      <td>1.322876</td>\n",
       "      <td>-0.52753</td>\n",
       "      <td>1.373106</td>\n",
       "      <td>-0.192927</td>\n",
       "      <td>0.105643</td>\n",
       "      <td>1.363566</td>\n",
       "      <td>-0.868280</td>\n",
       "    </tr>\n",
       "    <tr>\n",
       "      <th>2</th>\n",
       "      <td>-0.315819</td>\n",
       "      <td>-0.755929</td>\n",
       "      <td>-0.52753</td>\n",
       "      <td>0.103287</td>\n",
       "      <td>-0.192927</td>\n",
       "      <td>-0.553443</td>\n",
       "      <td>2.440203</td>\n",
       "      <td>-0.640502</td>\n",
       "    </tr>\n",
       "    <tr>\n",
       "      <th>3</th>\n",
       "      <td>0.873482</td>\n",
       "      <td>-0.755929</td>\n",
       "      <td>-0.52753</td>\n",
       "      <td>0.103287</td>\n",
       "      <td>-0.192927</td>\n",
       "      <td>-0.553443</td>\n",
       "      <td>-0.256959</td>\n",
       "      <td>-0.720995</td>\n",
       "    </tr>\n",
       "    <tr>\n",
       "      <th>4</th>\n",
       "      <td>0.873482</td>\n",
       "      <td>1.322876</td>\n",
       "      <td>-0.52753</td>\n",
       "      <td>1.373106</td>\n",
       "      <td>-0.192927</td>\n",
       "      <td>0.764728</td>\n",
       "      <td>-0.662090</td>\n",
       "      <td>-0.461717</td>\n",
       "    </tr>\n",
       "  </tbody>\n",
       "</table>\n",
       "</div>"
      ],
      "text/plain": [
       "     Pclass       Sex    Cabin     Title    Under6  FamilyCount  Age_Capped  \\\n",
       "0  0.873482 -0.755929 -0.52753  0.103287 -0.192927    -0.553443    0.350738   \n",
       "1  0.873482  1.322876 -0.52753  1.373106 -0.192927     0.105643    1.363566   \n",
       "2 -0.315819 -0.755929 -0.52753  0.103287 -0.192927    -0.553443    2.440203   \n",
       "3  0.873482 -0.755929 -0.52753  0.103287 -0.192927    -0.553443   -0.256959   \n",
       "4  0.873482  1.322876 -0.52753  1.373106 -0.192927     0.764728   -0.662090   \n",
       "\n",
       "   Fare_Capped_Transformed  \n",
       "0                -0.791881  \n",
       "1                -0.868280  \n",
       "2                -0.640502  \n",
       "3                -0.720995  \n",
       "4                -0.461717  "
      ]
     },
     "execution_count": 778,
     "metadata": {},
     "output_type": "execute_result"
    }
   ],
   "source": [
    "# what our testing data looks like currently\n",
    "test1.head()"
   ]
  },
  {
   "cell_type": "code",
   "execution_count": 779,
   "id": "intended-budget",
   "metadata": {},
   "outputs": [],
   "source": [
    "# write out cleaned data\n",
    "train1.to_csv('data/train_cleaned.csv', index=False)\n",
    "test1.to_csv('data/test_cleaned.csv', index=False)"
   ]
  },
  {
   "cell_type": "markdown",
   "id": "exclusive-excess",
   "metadata": {},
   "source": [
    "## B) Splitting Up Data <a class=\"anchor\" id=\"splitting_up_data\"></a>\n",
    "[To contents](#contents)\n",
    "- Split the training data up into the following segments:\n",
    "     - Training Data: 60%\n",
    "     - Validation Data: 20%\n",
    "     - Test Data: 20%"
   ]
  },
  {
   "cell_type": "code",
   "execution_count": 780,
   "id": "taken-experience",
   "metadata": {},
   "outputs": [
    {
     "name": "stdout",
     "output_type": "stream",
     "text": [
      "0.6\n",
      "0.2\n",
      "0.2\n"
     ]
    }
   ],
   "source": [
    "train = pd.read_csv('data/train_cleaned.csv')\n",
    "features = train.drop(columns='Survived')\n",
    "labels = train['Survived']\n",
    "\n",
    "# we need to do this twice because train_test_split can only split into two sets\n",
    "# first put 60% into training\n",
    "X_train, X_test, y_train, y_test = train_test_split(features, labels, test_size=0.4, random_state=42)\n",
    "# the put 20% into validation and test, respectively\n",
    "X_test, X_val, y_test, y_val = train_test_split(X_test, y_test, test_size=0.5, random_state=42)\n",
    "\n",
    "# check sizes\n",
    "for dataset in [y_train, y_val, y_test]:\n",
    "    print(round(len(dataset) / len(labels), 2))"
   ]
  },
  {
   "cell_type": "code",
   "execution_count": 781,
   "id": "rising-combining",
   "metadata": {},
   "outputs": [],
   "source": [
    "# write out split data\n",
    "X_train.to_csv('data/split/train_features.csv', index=False)\n",
    "X_val.to_csv('data/split/val_features.csv', index=False)\n",
    "X_test.to_csv('data/split/test_features.csv', index=False)\n",
    "\n",
    "y_train.to_csv('data/split/train_labels.csv', index=False)\n",
    "y_val.to_csv('data/split/val_labels.csv', index=False)\n",
    "y_test.to_csv('data/split/test_labels.csv', index=False)"
   ]
  },
  {
   "cell_type": "markdown",
   "id": "difficult-comment",
   "metadata": {},
   "source": [
    "# 3) Training Models <a class=\"anchor\" id=\"training_models\"></a>\n",
    "[To contents](#contents)\n",
    "- Use the training dataset using 5-Fold Cross-Validaiton to get a basic idea of the model's performance\n",
    "- 5-Fold Cross-Validation shows the accuracy of the model when training on different subsets of the data"
   ]
  },
  {
   "cell_type": "code",
   "execution_count": 782,
   "id": "matched-beverage",
   "metadata": {},
   "outputs": [],
   "source": [
    "# read in data\n",
    "X_train = pd.read_csv('data/split/train_features.csv')\n",
    "X_val = pd.read_csv('data/split/val_features.csv')\n",
    "X_test = pd.read_csv('data/split/test_features.csv')\n",
    "\n",
    "y_train = pd.read_csv('data/split/train_labels.csv')\n",
    "y_val = pd.read_csv('data/split/val_labels.csv')\n",
    "y_test = pd.read_csv('data/split/test_labels.csv')"
   ]
  },
  {
   "cell_type": "code",
   "execution_count": 783,
   "id": "collaborative-finder",
   "metadata": {},
   "outputs": [],
   "source": [
    "# prints results of GridSearchCV\n",
    "def print_results(results):\n",
    "    print('BEST PARAMS: {}\\n'.format(results.best_params_))\n",
    "    \n",
    "    means = results.cv_results_['mean_test_score']\n",
    "    stds = results.cv_results_['std_test_score']\n",
    "    for mean, std, params in zip(means, stds, results.cv_results_['params']):\n",
    "        # prints mean and 2 standard deviations to each side\n",
    "        print('{} (+/-{}) for {}'.format(round(mean, 3), round(std * 2, 3), params))"
   ]
  },
  {
   "cell_type": "markdown",
   "id": "distant-sleeve",
   "metadata": {},
   "source": [
    "## A) Logistic Regression <a class=\"anchor\" id=\"logistic_regression\"></a>\n",
    "[To contents](#contents)\n",
    "- Regression is a statistical process for estimating relationships among variables\n",
    "- Logistic regression uses a logistic function (sigmoid curve) to model a binary variable\n",
    "- When to use\n",
    "    - Categorical target variable\n",
    "    - Transparency is important\n",
    "    - Fairly well-behaved data\n",
    "    - Need a quick benchmark\n",
    "- When not to use\n",
    "    - Continuous target variable\n",
    "    - Massive data (rows or columns)\n",
    "    - Messy data with many outliers\n",
    "    - Performance matters most\n",
    "- Key hyperparameters\n",
    "    - `C = 1/lambda` \n",
    "    - `lambda` is a regularization parameter that controls overfitting and underfitting\n",
    "    - High `lambda` = low `C` -> low regularization, more likely overfit \n",
    "    - Low `lambda` = high `C` -> high regularization, more likely underfit   "
   ]
  },
  {
   "cell_type": "code",
   "execution_count": 784,
   "id": "processed-broadcasting",
   "metadata": {},
   "outputs": [
    {
     "data": {
      "text/plain": [
       "LogisticRegression(C=1.0, class_weight=None, dual=False, fit_intercept=True,\n",
       "                   intercept_scaling=1, l1_ratio=None, max_iter=100,\n",
       "                   multi_class='auto', n_jobs=None, penalty='l2',\n",
       "                   random_state=None, solver='lbfgs', tol=0.0001, verbose=0,\n",
       "                   warm_start=False)"
      ]
     },
     "execution_count": 784,
     "metadata": {},
     "output_type": "execute_result"
    }
   ],
   "source": [
    "# view parameters\n",
    "LogisticRegression()"
   ]
  },
  {
   "cell_type": "code",
   "execution_count": 785,
   "id": "rational-sequence",
   "metadata": {
    "scrolled": false
   },
   "outputs": [
    {
     "name": "stdout",
     "output_type": "stream",
     "text": [
      "BEST PARAMS: {'C': 10}\n",
      "\n",
      "0.622 (+/-0.008) for {'C': 0.001}\n",
      "0.79 (+/-0.108) for {'C': 0.01}\n",
      "0.822 (+/-0.115) for {'C': 0.1}\n",
      "0.826 (+/-0.117) for {'C': 1}\n",
      "0.828 (+/-0.112) for {'C': 10}\n",
      "0.828 (+/-0.112) for {'C': 100}\n",
      "0.828 (+/-0.112) for {'C': 1000}\n"
     ]
    }
   ],
   "source": [
    "# fit model\n",
    "lr = LogisticRegression()\n",
    "parameters = {\n",
    "    'C': [0.001, 0.01, 0.1, 1, 10, 100, 1000]\n",
    "}\n",
    "\n",
    "cv1 = GridSearchCV(lr, parameters, cv=5)\n",
    "cv1.fit(X_train, y_train.values.ravel())\n",
    "\n",
    "print_results(cv1)"
   ]
  },
  {
   "cell_type": "code",
   "execution_count": 817,
   "id": "earlier-pavilion",
   "metadata": {},
   "outputs": [
    {
     "ename": "AttributeError",
     "evalue": "'LogisticRegression' object has no attribute 'feature_importances_'",
     "output_type": "error",
     "traceback": [
      "\u001b[0;31m---------------------------------------------------------------------------\u001b[0m",
      "\u001b[0;31mAttributeError\u001b[0m                            Traceback (most recent call last)",
      "\u001b[0;32m<ipython-input-817-438d3b09195d>\u001b[0m in \u001b[0;36m<module>\u001b[0;34m\u001b[0m\n\u001b[1;32m      1\u001b[0m \u001b[0;31m# Generate feature importance plot\u001b[0m\u001b[0;34m\u001b[0m\u001b[0;34m\u001b[0m\u001b[0;34m\u001b[0m\u001b[0m\n\u001b[0;32m----> 2\u001b[0;31m \u001b[0mfeat_imp\u001b[0m \u001b[0;34m=\u001b[0m \u001b[0mcv1\u001b[0m\u001b[0;34m.\u001b[0m\u001b[0mbest_estimator_\u001b[0m\u001b[0;34m.\u001b[0m\u001b[0mfeature_importances_\u001b[0m\u001b[0;34m\u001b[0m\u001b[0;34m\u001b[0m\u001b[0m\n\u001b[0m\u001b[1;32m      3\u001b[0m \u001b[0mindices\u001b[0m \u001b[0;34m=\u001b[0m \u001b[0mnp\u001b[0m\u001b[0;34m.\u001b[0m\u001b[0margsort\u001b[0m\u001b[0;34m(\u001b[0m\u001b[0mfeat_imp\u001b[0m\u001b[0;34m)\u001b[0m\u001b[0;34m\u001b[0m\u001b[0;34m\u001b[0m\u001b[0m\n\u001b[1;32m      4\u001b[0m \u001b[0mplt\u001b[0m\u001b[0;34m.\u001b[0m\u001b[0myticks\u001b[0m\u001b[0;34m(\u001b[0m\u001b[0mrange\u001b[0m\u001b[0;34m(\u001b[0m\u001b[0mlen\u001b[0m\u001b[0;34m(\u001b[0m\u001b[0mindices\u001b[0m\u001b[0;34m)\u001b[0m\u001b[0;34m)\u001b[0m\u001b[0;34m,\u001b[0m \u001b[0;34m[\u001b[0m\u001b[0mX_train\u001b[0m\u001b[0;34m.\u001b[0m\u001b[0mcolumns\u001b[0m\u001b[0;34m[\u001b[0m\u001b[0mi\u001b[0m\u001b[0;34m]\u001b[0m \u001b[0;32mfor\u001b[0m \u001b[0mi\u001b[0m \u001b[0;32min\u001b[0m \u001b[0mindices\u001b[0m\u001b[0;34m]\u001b[0m\u001b[0;34m)\u001b[0m\u001b[0;34m\u001b[0m\u001b[0;34m\u001b[0m\u001b[0m\n\u001b[1;32m      5\u001b[0m \u001b[0mplt\u001b[0m\u001b[0;34m.\u001b[0m\u001b[0mbarh\u001b[0m\u001b[0;34m(\u001b[0m\u001b[0mrange\u001b[0m\u001b[0;34m(\u001b[0m\u001b[0mlen\u001b[0m\u001b[0;34m(\u001b[0m\u001b[0mindices\u001b[0m\u001b[0;34m)\u001b[0m\u001b[0;34m)\u001b[0m\u001b[0;34m,\u001b[0m \u001b[0mfeat_imp\u001b[0m\u001b[0;34m[\u001b[0m\u001b[0mindices\u001b[0m\u001b[0;34m]\u001b[0m\u001b[0;34m,\u001b[0m \u001b[0mcolor\u001b[0m\u001b[0;34m=\u001b[0m\u001b[0;34m'r'\u001b[0m\u001b[0;34m,\u001b[0m \u001b[0malign\u001b[0m\u001b[0;34m=\u001b[0m\u001b[0;34m'center'\u001b[0m\u001b[0;34m)\u001b[0m\u001b[0;34m\u001b[0m\u001b[0;34m\u001b[0m\u001b[0m\n",
      "\u001b[0;31mAttributeError\u001b[0m: 'LogisticRegression' object has no attribute 'feature_importances_'"
     ]
    }
   ],
   "source": [
    "# generate feature importance plot\n",
    "feat_imp = cv1.best_estimator_.feature_importances_\n",
    "indices = np.argsort(feat_imp)\n",
    "plt.yticks(range(len(indices)), [X_train.columns[i] for i in indices])\n",
    "plt.barh(range(len(indices)), feat_imp[indices], color='r', align='center')\n",
    "plt.show()"
   ]
  },
  {
   "cell_type": "code",
   "execution_count": 786,
   "id": "peripheral-kingdom",
   "metadata": {},
   "outputs": [
    {
     "data": {
      "text/plain": [
       "['models/selection/logistic_regression.pkl']"
      ]
     },
     "execution_count": 786,
     "metadata": {},
     "output_type": "execute_result"
    }
   ],
   "source": [
    "# save model\n",
    "joblib.dump(cv1.best_estimator_, 'models/selection/logistic_regression.pkl')"
   ]
  },
  {
   "cell_type": "markdown",
   "id": "following-porcelain",
   "metadata": {},
   "source": [
    "## B) Support Vector Machine<a class=\"anchor\" id=\"support_vector_machine\"></a>\n",
    "[To contents](#contents)\n",
    "- Support vector machine is a classifier that finds an optimal hyperplane that maximizes margin between two classes\n",
    "- Support vector is the perpendicular line from decision boundary to closest points in each class\n",
    "- Hyperplane is decision boundary in n-dimensional space\n",
    "- Kernel trick transforms data not linearly separable in n-dimensional space to a higher dimension where it is linearly separable\n",
    "- When to use\n",
    "    - Categorical target variable\n",
    "    - High feature-to-row ratio\n",
    "    - Complex relationships\n",
    "    - Data with many outliers\n",
    "- When not to use\n",
    "    - Low feature-to-row ratio\n",
    "    - Transparency is important\n",
    "    - Need a quick benchmark\n",
    "- Key hyperparameters\n",
    "    - Low `C` -> high regularization, small penalty for misclassification, large margin, more likely underfit \n",
    "    - High `C` -> low regularization, large penalty for misclassification, small margin, more likely overfit\n",
    "    - `kernel` controls kernel trick method"
   ]
  },
  {
   "cell_type": "code",
   "execution_count": 787,
   "id": "final-parish",
   "metadata": {},
   "outputs": [
    {
     "data": {
      "text/plain": [
       "SVC(C=1.0, break_ties=False, cache_size=200, class_weight=None, coef0=0.0,\n",
       "    decision_function_shape='ovr', degree=3, gamma='scale', kernel='rbf',\n",
       "    max_iter=-1, probability=False, random_state=None, shrinking=True,\n",
       "    tol=0.001, verbose=False)"
      ]
     },
     "execution_count": 787,
     "metadata": {},
     "output_type": "execute_result"
    }
   ],
   "source": [
    "# view parameters\n",
    "SVC()"
   ]
  },
  {
   "cell_type": "code",
   "execution_count": 788,
   "id": "transparent-melbourne",
   "metadata": {},
   "outputs": [
    {
     "name": "stdout",
     "output_type": "stream",
     "text": [
      "BEST PARAMS: {'C': 10, 'kernel': 'rbf'}\n",
      "\n",
      "0.809 (+/-0.108) for {'C': 0.1, 'kernel': 'linear'}\n",
      "0.811 (+/-0.094) for {'C': 0.1, 'kernel': 'rbf'}\n",
      "0.805 (+/-0.109) for {'C': 1, 'kernel': 'linear'}\n",
      "0.811 (+/-0.099) for {'C': 1, 'kernel': 'rbf'}\n",
      "0.805 (+/-0.109) for {'C': 10, 'kernel': 'linear'}\n",
      "0.82 (+/-0.095) for {'C': 10, 'kernel': 'rbf'}\n"
     ]
    }
   ],
   "source": [
    "# fit model\n",
    "svc = SVC()\n",
    "parameters = {\n",
    "    'kernel': ['linear', 'rbf'],\n",
    "    'C': [0.1, 1, 10]\n",
    "}\n",
    "\n",
    "cv2 = GridSearchCV(svc, parameters, cv=5)\n",
    "cv2.fit(X_train, y_train.values.ravel())\n",
    "\n",
    "print_results(cv2)"
   ]
  },
  {
   "cell_type": "code",
   "execution_count": 789,
   "id": "portuguese-smooth",
   "metadata": {},
   "outputs": [
    {
     "data": {
      "text/plain": [
       "['models/selection/support_vector_machine.pkl']"
      ]
     },
     "execution_count": 789,
     "metadata": {},
     "output_type": "execute_result"
    }
   ],
   "source": [
    "# save model\n",
    "joblib.dump(cv2.best_estimator_, 'models/selection/support_vector_machine.pkl')"
   ]
  },
  {
   "cell_type": "markdown",
   "id": "imported-assumption",
   "metadata": {},
   "source": [
    "## C) Multilayer Perceptron <a class=\"anchor\" id=\"multilayer_perceptron\"></a>\n",
    "[To contents](#contents)\n",
    "- Multilayer perceptron is a classic feed-forward artificial neural network\n",
    "- Connected series of nodes, each node represents a function\n",
    "- Input layer, hidden layers, output layer\n",
    "- When to use\n",
    "    - Categorical or continuous target variable\n",
    "    - Complex relationships\n",
    "    - Control over training process, many hyperparameters\n",
    "- When not to use\n",
    "    - Image recognition, time series, etc\n",
    "    - Transparency is important\n",
    "    - Need a quick benchmark\n",
    "- Key hyperparameters\n",
    "    - `hidden_layer_sizes` determines how many layers and how many nodes in each layer\n",
    "    - `learning_rate` facilitates how quickly and whether or not algorithm will find optimal solution, select a type of learning\n",
    "        - Low learning rate is slow and may get stuck in local min\n",
    "        - High learning rate jumps around and may never find optimal solution\n",
    "    - `activation function` transforms inputs, includes sigmoid, tanh, ReLU"
   ]
  },
  {
   "cell_type": "code",
   "execution_count": 790,
   "id": "particular-teaching",
   "metadata": {},
   "outputs": [
    {
     "name": "stdout",
     "output_type": "stream",
     "text": [
      "MLPRegressor(activation='relu', alpha=0.0001, batch_size='auto', beta_1=0.9,\n",
      "             beta_2=0.999, early_stopping=False, epsilon=1e-08,\n",
      "             hidden_layer_sizes=(100,), learning_rate='constant',\n",
      "             learning_rate_init=0.001, max_fun=15000, max_iter=200,\n",
      "             momentum=0.9, n_iter_no_change=10, nesterovs_momentum=True,\n",
      "             power_t=0.5, random_state=None, shuffle=True, solver='adam',\n",
      "             tol=0.0001, validation_fraction=0.1, verbose=False,\n",
      "             warm_start=False)\n",
      "MLPClassifier(activation='relu', alpha=0.0001, batch_size='auto', beta_1=0.9,\n",
      "              beta_2=0.999, early_stopping=False, epsilon=1e-08,\n",
      "              hidden_layer_sizes=(100,), learning_rate='constant',\n",
      "              learning_rate_init=0.001, max_fun=15000, max_iter=200,\n",
      "              momentum=0.9, n_iter_no_change=10, nesterovs_momentum=True,\n",
      "              power_t=0.5, random_state=None, shuffle=True, solver='adam',\n",
      "              tol=0.0001, validation_fraction=0.1, verbose=False,\n",
      "              warm_start=False)\n"
     ]
    }
   ],
   "source": [
    "# view parameters\n",
    "print(MLPRegressor())\n",
    "print(MLPClassifier())"
   ]
  },
  {
   "cell_type": "code",
   "execution_count": 791,
   "id": "laughing-indianapolis",
   "metadata": {},
   "outputs": [
    {
     "name": "stdout",
     "output_type": "stream",
     "text": [
      "BEST PARAMS: {'activation': 'tanh', 'hidden_layer_sizes': (64, 64), 'learning_rate': 'invscaling'}\n",
      "\n",
      "0.817 (+/-0.086) for {'activation': 'relu', 'hidden_layer_sizes': (16, 16, 16), 'learning_rate': 'constant'}\n",
      "0.832 (+/-0.079) for {'activation': 'relu', 'hidden_layer_sizes': (16, 16, 16), 'learning_rate': 'invscaling'}\n",
      "0.82 (+/-0.098) for {'activation': 'relu', 'hidden_layer_sizes': (16, 16, 16), 'learning_rate': 'adaptive'}\n",
      "0.82 (+/-0.105) for {'activation': 'relu', 'hidden_layer_sizes': (32, 32), 'learning_rate': 'constant'}\n",
      "0.828 (+/-0.082) for {'activation': 'relu', 'hidden_layer_sizes': (32, 32), 'learning_rate': 'invscaling'}\n",
      "0.82 (+/-0.104) for {'activation': 'relu', 'hidden_layer_sizes': (32, 32), 'learning_rate': 'adaptive'}\n",
      "0.818 (+/-0.095) for {'activation': 'relu', 'hidden_layer_sizes': (64, 64), 'learning_rate': 'constant'}\n",
      "0.835 (+/-0.089) for {'activation': 'relu', 'hidden_layer_sizes': (64, 64), 'learning_rate': 'invscaling'}\n",
      "0.822 (+/-0.102) for {'activation': 'relu', 'hidden_layer_sizes': (64, 64), 'learning_rate': 'adaptive'}\n",
      "0.832 (+/-0.072) for {'activation': 'tanh', 'hidden_layer_sizes': (16, 16, 16), 'learning_rate': 'constant'}\n",
      "0.83 (+/-0.074) for {'activation': 'tanh', 'hidden_layer_sizes': (16, 16, 16), 'learning_rate': 'invscaling'}\n",
      "0.818 (+/-0.128) for {'activation': 'tanh', 'hidden_layer_sizes': (16, 16, 16), 'learning_rate': 'adaptive'}\n",
      "0.83 (+/-0.093) for {'activation': 'tanh', 'hidden_layer_sizes': (32, 32), 'learning_rate': 'constant'}\n",
      "0.826 (+/-0.093) for {'activation': 'tanh', 'hidden_layer_sizes': (32, 32), 'learning_rate': 'invscaling'}\n",
      "0.818 (+/-0.104) for {'activation': 'tanh', 'hidden_layer_sizes': (32, 32), 'learning_rate': 'adaptive'}\n",
      "0.807 (+/-0.104) for {'activation': 'tanh', 'hidden_layer_sizes': (64, 64), 'learning_rate': 'constant'}\n",
      "0.837 (+/-0.075) for {'activation': 'tanh', 'hidden_layer_sizes': (64, 64), 'learning_rate': 'invscaling'}\n",
      "0.828 (+/-0.082) for {'activation': 'tanh', 'hidden_layer_sizes': (64, 64), 'learning_rate': 'adaptive'}\n",
      "0.826 (+/-0.086) for {'activation': 'logistic', 'hidden_layer_sizes': (16, 16, 16), 'learning_rate': 'constant'}\n",
      "0.805 (+/-0.098) for {'activation': 'logistic', 'hidden_layer_sizes': (16, 16, 16), 'learning_rate': 'invscaling'}\n",
      "0.774 (+/-0.186) for {'activation': 'logistic', 'hidden_layer_sizes': (16, 16, 16), 'learning_rate': 'adaptive'}\n",
      "0.822 (+/-0.084) for {'activation': 'logistic', 'hidden_layer_sizes': (32, 32), 'learning_rate': 'constant'}\n",
      "0.831 (+/-0.097) for {'activation': 'logistic', 'hidden_layer_sizes': (32, 32), 'learning_rate': 'invscaling'}\n",
      "0.826 (+/-0.09) for {'activation': 'logistic', 'hidden_layer_sizes': (32, 32), 'learning_rate': 'adaptive'}\n",
      "0.818 (+/-0.095) for {'activation': 'logistic', 'hidden_layer_sizes': (64, 64), 'learning_rate': 'constant'}\n",
      "0.82 (+/-0.081) for {'activation': 'logistic', 'hidden_layer_sizes': (64, 64), 'learning_rate': 'invscaling'}\n",
      "0.833 (+/-0.099) for {'activation': 'logistic', 'hidden_layer_sizes': (64, 64), 'learning_rate': 'adaptive'}\n"
     ]
    }
   ],
   "source": [
    "# fit model\n",
    "mlp = MLPClassifier()\n",
    "parameters = {\n",
    "    'hidden_layer_sizes': [(16, 16 ,16), (32,32), (64,64)],\n",
    "    'activation': ['relu', 'tanh', 'logistic'],\n",
    "    'learning_rate': ['constant', 'invscaling', 'adaptive']\n",
    "}\n",
    "\n",
    "cv3 = GridSearchCV(mlp, parameters, cv=5)\n",
    "cv3.fit(X_train, y_train.values.ravel())\n",
    "\n",
    "print_results(cv3)"
   ]
  },
  {
   "cell_type": "code",
   "execution_count": 792,
   "id": "burning-cincinnati",
   "metadata": {},
   "outputs": [
    {
     "data": {
      "text/plain": [
       "['models/selection/multilayer_perceptron.pkl']"
      ]
     },
     "execution_count": 792,
     "metadata": {},
     "output_type": "execute_result"
    }
   ],
   "source": [
    "# save model\n",
    "joblib.dump(cv3.best_estimator_, 'models/selection/multilayer_perceptron.pkl')"
   ]
  },
  {
   "cell_type": "markdown",
   "id": "incredible-comment",
   "metadata": {},
   "source": [
    "## D) Random Forest<a class=\"anchor\" id=\"random_forest\"></a>\n",
    "[To contents](#contents)\n",
    "- Random forest merges a collection of independent decision trees to get a more acurate and stable predictino\n",
    "- Type of ensemble method, which combies multiple models to reduce bias and variance\n",
    "- Splits training data into several data samples and feature samples\n",
    "- Each tree gives a prediction, takes majority or average result\n",
    "- When to use\n",
    "    - Categorical or continuous target variable\n",
    "    - Interested in significance of predictors\n",
    "    - Need a quick benchmark\n",
    "    - Messy data with many missig values and outliers\n",
    "- When not to use\n",
    "    - Transparency is important\n",
    "    - Complex relationships\n",
    "    - Prediction time is important\n",
    "- Key hyperparameters\n",
    "    - `n_estimators` controls how many individual decision trees are built\n",
    "    - `max_depth` controls how deep each tree can go"
   ]
  },
  {
   "cell_type": "code",
   "execution_count": 793,
   "id": "narrative-location",
   "metadata": {},
   "outputs": [
    {
     "name": "stdout",
     "output_type": "stream",
     "text": [
      "RandomForestClassifier(bootstrap=True, ccp_alpha=0.0, class_weight=None,\n",
      "                       criterion='gini', max_depth=None, max_features='auto',\n",
      "                       max_leaf_nodes=None, max_samples=None,\n",
      "                       min_impurity_decrease=0.0, min_impurity_split=None,\n",
      "                       min_samples_leaf=1, min_samples_split=2,\n",
      "                       min_weight_fraction_leaf=0.0, n_estimators=100,\n",
      "                       n_jobs=None, oob_score=False, random_state=None,\n",
      "                       verbose=0, warm_start=False)\n",
      "RandomForestRegressor(bootstrap=True, ccp_alpha=0.0, criterion='mse',\n",
      "                      max_depth=None, max_features='auto', max_leaf_nodes=None,\n",
      "                      max_samples=None, min_impurity_decrease=0.0,\n",
      "                      min_impurity_split=None, min_samples_leaf=1,\n",
      "                      min_samples_split=2, min_weight_fraction_leaf=0.0,\n",
      "                      n_estimators=100, n_jobs=None, oob_score=False,\n",
      "                      random_state=None, verbose=0, warm_start=False)\n"
     ]
    }
   ],
   "source": [
    "# view parameters\n",
    "print(RandomForestClassifier())\n",
    "print(RandomForestRegressor())"
   ]
  },
  {
   "cell_type": "code",
   "execution_count": 807,
   "id": "downtown-despite",
   "metadata": {},
   "outputs": [
    {
     "name": "stdout",
     "output_type": "stream",
     "text": [
      "BEST PARAMS: {'max_depth': 8, 'n_estimators': 50}\n",
      "\n",
      "0.8 (+/-0.109) for {'max_depth': 2, 'n_estimators': 25}\n",
      "0.794 (+/-0.12) for {'max_depth': 2, 'n_estimators': 50}\n",
      "0.809 (+/-0.092) for {'max_depth': 2, 'n_estimators': 100}\n",
      "0.798 (+/-0.113) for {'max_depth': 2, 'n_estimators': 250}\n",
      "0.815 (+/-0.11) for {'max_depth': 4, 'n_estimators': 25}\n",
      "0.824 (+/-0.094) for {'max_depth': 4, 'n_estimators': 50}\n",
      "0.818 (+/-0.1) for {'max_depth': 4, 'n_estimators': 100}\n",
      "0.83 (+/-0.102) for {'max_depth': 4, 'n_estimators': 250}\n",
      "0.818 (+/-0.054) for {'max_depth': 8, 'n_estimators': 25}\n",
      "0.833 (+/-0.054) for {'max_depth': 8, 'n_estimators': 50}\n",
      "0.813 (+/-0.055) for {'max_depth': 8, 'n_estimators': 100}\n",
      "0.813 (+/-0.059) for {'max_depth': 8, 'n_estimators': 250}\n",
      "0.805 (+/-0.046) for {'max_depth': 16, 'n_estimators': 25}\n",
      "0.809 (+/-0.019) for {'max_depth': 16, 'n_estimators': 50}\n",
      "0.811 (+/-0.034) for {'max_depth': 16, 'n_estimators': 100}\n",
      "0.807 (+/-0.025) for {'max_depth': 16, 'n_estimators': 250}\n",
      "0.807 (+/-0.038) for {'max_depth': 32, 'n_estimators': 25}\n",
      "0.813 (+/-0.031) for {'max_depth': 32, 'n_estimators': 50}\n",
      "0.815 (+/-0.027) for {'max_depth': 32, 'n_estimators': 100}\n",
      "0.813 (+/-0.023) for {'max_depth': 32, 'n_estimators': 250}\n",
      "0.8 (+/-0.031) for {'max_depth': None, 'n_estimators': 25}\n",
      "0.805 (+/-0.03) for {'max_depth': None, 'n_estimators': 50}\n",
      "0.818 (+/-0.038) for {'max_depth': None, 'n_estimators': 100}\n",
      "0.802 (+/-0.024) for {'max_depth': None, 'n_estimators': 250}\n"
     ]
    }
   ],
   "source": [
    "# fit model\n",
    "rf = RandomForestClassifier()\n",
    "parameters = {\n",
    "    'n_estimators': [25, 50, 100, 250],\n",
    "    'max_depth': [2, 4, 8, 16, 32, None]\n",
    "}\n",
    "\n",
    "cv4 = GridSearchCV(rf, parameters, cv=5)\n",
    "cv4.fit(X_train, y_train.values.ravel())\n",
    "\n",
    "print_results(cv4)"
   ]
  },
  {
   "cell_type": "code",
   "execution_count": 808,
   "id": "personal-french",
   "metadata": {},
   "outputs": [
    {
     "data": {
      "text/plain": [
       "['models/selection/random_forest.pkl']"
      ]
     },
     "execution_count": 808,
     "metadata": {},
     "output_type": "execute_result"
    }
   ],
   "source": [
    "# save model\n",
    "joblib.dump(cv4.best_estimator_, 'models/selection/random_forest.pkl')"
   ]
  },
  {
   "cell_type": "markdown",
   "id": "alone-organic",
   "metadata": {},
   "source": [
    "## E) Gradient Boosting<a class=\"anchor\" id=\"gradient_boosting\"></a>\n",
    "[To contents](#contents)\n",
    "- Gradient boosting aggregates many weak models, learning from its own mistakes with each iteration to create one strong model\n",
    "- Type of ensemble method, which combies multiple models to reduce bias and variance\n",
    "- Takes sample from training data classifies examples, next model overweights misclassified examples from previous model\n",
    "- Final selection based on weighted voting based on how well each model did in training\n",
    "- When to use\n",
    "    - Categorical or continuous target variable\n",
    "    - Interested in significance of predictors\n",
    "    - Prediction time is important\n",
    "- When not to use\n",
    "    - Transparency is important\n",
    "    - Data is very noisy, boosting tends to overfit\n",
    "    - Training time is important\n",
    "- Key hyperparameters\n",
    "    - `n_estimators` controls how many individual decision trees are built (should be more than random forest)\n",
    "    - `max_depth` controls how deep each tree can go (should be shallower than random forest)\n",
    "    - `learning_rate` facilitates how quickly and whether or not algorithm will find optimal solution, select a numerical value\n",
    "        - Low learning rate is slow and may get stuck in local min\n",
    "        - High learning rate jumps around and may never find optimal solution"
   ]
  },
  {
   "cell_type": "code",
   "execution_count": 796,
   "id": "historic-criticism",
   "metadata": {},
   "outputs": [
    {
     "name": "stdout",
     "output_type": "stream",
     "text": [
      "GradientBoostingClassifier(ccp_alpha=0.0, criterion='friedman_mse', init=None,\n",
      "                           learning_rate=0.1, loss='deviance', max_depth=3,\n",
      "                           max_features=None, max_leaf_nodes=None,\n",
      "                           min_impurity_decrease=0.0, min_impurity_split=None,\n",
      "                           min_samples_leaf=1, min_samples_split=2,\n",
      "                           min_weight_fraction_leaf=0.0, n_estimators=100,\n",
      "                           n_iter_no_change=None, random_state=None,\n",
      "                           subsample=1.0, tol=0.0001, validation_fraction=0.1,\n",
      "                           verbose=0, warm_start=False)\n",
      "GradientBoostingRegressor(alpha=0.9, ccp_alpha=0.0, criterion='friedman_mse',\n",
      "                          init=None, learning_rate=0.1, loss='ls', max_depth=3,\n",
      "                          max_features=None, max_leaf_nodes=None,\n",
      "                          min_impurity_decrease=0.0, min_impurity_split=None,\n",
      "                          min_samples_leaf=1, min_samples_split=2,\n",
      "                          min_weight_fraction_leaf=0.0, n_estimators=100,\n",
      "                          n_iter_no_change=None, random_state=None,\n",
      "                          subsample=1.0, tol=0.0001, validation_fraction=0.1,\n",
      "                          verbose=0, warm_start=False)\n"
     ]
    }
   ],
   "source": [
    "# view parameters\n",
    "print(GradientBoostingClassifier())\n",
    "print(GradientBoostingRegressor())"
   ]
  },
  {
   "cell_type": "code",
   "execution_count": 799,
   "id": "substantial-venture",
   "metadata": {
    "scrolled": false
   },
   "outputs": [
    {
     "name": "stdout",
     "output_type": "stream",
     "text": [
      "BEST PARAMS: {'learning_rate': 0.2, 'max_depth': 2, 'n_estimators': 250}\n",
      "\n",
      "0.624 (+/-0.007) for {'learning_rate': 0.01, 'max_depth': 1, 'n_estimators': 5}\n",
      "0.796 (+/-0.115) for {'learning_rate': 0.01, 'max_depth': 1, 'n_estimators': 50}\n",
      "0.796 (+/-0.115) for {'learning_rate': 0.01, 'max_depth': 1, 'n_estimators': 250}\n",
      "0.817 (+/-0.123) for {'learning_rate': 0.01, 'max_depth': 1, 'n_estimators': 500}\n",
      "0.624 (+/-0.007) for {'learning_rate': 0.01, 'max_depth': 2, 'n_estimators': 5}\n",
      "0.803 (+/-0.08) for {'learning_rate': 0.01, 'max_depth': 2, 'n_estimators': 50}\n",
      "0.832 (+/-0.092) for {'learning_rate': 0.01, 'max_depth': 2, 'n_estimators': 250}\n",
      "0.835 (+/-0.085) for {'learning_rate': 0.01, 'max_depth': 2, 'n_estimators': 500}\n",
      "0.624 (+/-0.007) for {'learning_rate': 0.01, 'max_depth': 3, 'n_estimators': 5}\n",
      "0.811 (+/-0.069) for {'learning_rate': 0.01, 'max_depth': 3, 'n_estimators': 50}\n",
      "0.824 (+/-0.075) for {'learning_rate': 0.01, 'max_depth': 3, 'n_estimators': 250}\n",
      "0.833 (+/-0.065) for {'learning_rate': 0.01, 'max_depth': 3, 'n_estimators': 500}\n",
      "0.624 (+/-0.007) for {'learning_rate': 0.01, 'max_depth': 4, 'n_estimators': 5}\n",
      "0.818 (+/-0.084) for {'learning_rate': 0.01, 'max_depth': 4, 'n_estimators': 50}\n",
      "0.818 (+/-0.069) for {'learning_rate': 0.01, 'max_depth': 4, 'n_estimators': 250}\n",
      "0.822 (+/-0.042) for {'learning_rate': 0.01, 'max_depth': 4, 'n_estimators': 500}\n",
      "0.624 (+/-0.007) for {'learning_rate': 0.01, 'max_depth': 5, 'n_estimators': 5}\n",
      "0.82 (+/-0.043) for {'learning_rate': 0.01, 'max_depth': 5, 'n_estimators': 50}\n",
      "0.813 (+/-0.031) for {'learning_rate': 0.01, 'max_depth': 5, 'n_estimators': 250}\n",
      "0.811 (+/-0.035) for {'learning_rate': 0.01, 'max_depth': 5, 'n_estimators': 500}\n",
      "0.624 (+/-0.007) for {'learning_rate': 0.05, 'max_depth': 1, 'n_estimators': 5}\n",
      "0.796 (+/-0.115) for {'learning_rate': 0.05, 'max_depth': 1, 'n_estimators': 50}\n",
      "0.828 (+/-0.082) for {'learning_rate': 0.05, 'max_depth': 1, 'n_estimators': 250}\n",
      "0.833 (+/-0.088) for {'learning_rate': 0.05, 'max_depth': 1, 'n_estimators': 500}\n",
      "0.798 (+/-0.083) for {'learning_rate': 0.05, 'max_depth': 2, 'n_estimators': 5}\n",
      "0.833 (+/-0.088) for {'learning_rate': 0.05, 'max_depth': 2, 'n_estimators': 50}\n",
      "0.832 (+/-0.066) for {'learning_rate': 0.05, 'max_depth': 2, 'n_estimators': 250}\n",
      "0.841 (+/-0.058) for {'learning_rate': 0.05, 'max_depth': 2, 'n_estimators': 500}\n",
      "0.811 (+/-0.069) for {'learning_rate': 0.05, 'max_depth': 3, 'n_estimators': 5}\n",
      "0.824 (+/-0.075) for {'learning_rate': 0.05, 'max_depth': 3, 'n_estimators': 50}\n",
      "0.82 (+/-0.029) for {'learning_rate': 0.05, 'max_depth': 3, 'n_estimators': 250}\n",
      "0.817 (+/-0.038) for {'learning_rate': 0.05, 'max_depth': 3, 'n_estimators': 500}\n",
      "0.787 (+/-0.071) for {'learning_rate': 0.05, 'max_depth': 4, 'n_estimators': 5}\n",
      "0.82 (+/-0.065) for {'learning_rate': 0.05, 'max_depth': 4, 'n_estimators': 50}\n",
      "0.824 (+/-0.024) for {'learning_rate': 0.05, 'max_depth': 4, 'n_estimators': 250}\n",
      "0.803 (+/-0.021) for {'learning_rate': 0.05, 'max_depth': 4, 'n_estimators': 500}\n",
      "0.815 (+/-0.062) for {'learning_rate': 0.05, 'max_depth': 5, 'n_estimators': 5}\n",
      "0.817 (+/-0.04) for {'learning_rate': 0.05, 'max_depth': 5, 'n_estimators': 50}\n",
      "0.79 (+/-0.022) for {'learning_rate': 0.05, 'max_depth': 5, 'n_estimators': 250}\n",
      "0.781 (+/-0.035) for {'learning_rate': 0.05, 'max_depth': 5, 'n_estimators': 500}\n",
      "0.796 (+/-0.115) for {'learning_rate': 0.2, 'max_depth': 1, 'n_estimators': 5}\n",
      "0.826 (+/-0.087) for {'learning_rate': 0.2, 'max_depth': 1, 'n_estimators': 50}\n",
      "0.839 (+/-0.077) for {'learning_rate': 0.2, 'max_depth': 1, 'n_estimators': 250}\n",
      "0.841 (+/-0.077) for {'learning_rate': 0.2, 'max_depth': 1, 'n_estimators': 500}\n",
      "0.8 (+/-0.089) for {'learning_rate': 0.2, 'max_depth': 2, 'n_estimators': 5}\n",
      "0.832 (+/-0.066) for {'learning_rate': 0.2, 'max_depth': 2, 'n_estimators': 50}\n",
      "0.848 (+/-0.027) for {'learning_rate': 0.2, 'max_depth': 2, 'n_estimators': 250}\n",
      "0.832 (+/-0.053) for {'learning_rate': 0.2, 'max_depth': 2, 'n_estimators': 500}\n",
      "0.805 (+/-0.075) for {'learning_rate': 0.2, 'max_depth': 3, 'n_estimators': 5}\n",
      "0.826 (+/-0.038) for {'learning_rate': 0.2, 'max_depth': 3, 'n_estimators': 50}\n",
      "0.805 (+/-0.013) for {'learning_rate': 0.2, 'max_depth': 3, 'n_estimators': 250}\n",
      "0.8 (+/-0.028) for {'learning_rate': 0.2, 'max_depth': 3, 'n_estimators': 500}\n",
      "0.82 (+/-0.067) for {'learning_rate': 0.2, 'max_depth': 4, 'n_estimators': 5}\n",
      "0.822 (+/-0.035) for {'learning_rate': 0.2, 'max_depth': 4, 'n_estimators': 50}\n",
      "0.792 (+/-0.029) for {'learning_rate': 0.2, 'max_depth': 4, 'n_estimators': 250}\n",
      "0.792 (+/-0.037) for {'learning_rate': 0.2, 'max_depth': 4, 'n_estimators': 500}\n",
      "0.817 (+/-0.055) for {'learning_rate': 0.2, 'max_depth': 5, 'n_estimators': 5}\n",
      "0.807 (+/-0.026) for {'learning_rate': 0.2, 'max_depth': 5, 'n_estimators': 50}\n",
      "0.785 (+/-0.03) for {'learning_rate': 0.2, 'max_depth': 5, 'n_estimators': 250}\n",
      "0.779 (+/-0.041) for {'learning_rate': 0.2, 'max_depth': 5, 'n_estimators': 500}\n",
      "0.803 (+/-0.117) for {'learning_rate': 0.5, 'max_depth': 1, 'n_estimators': 5}\n",
      "0.835 (+/-0.084) for {'learning_rate': 0.5, 'max_depth': 1, 'n_estimators': 50}\n",
      "0.841 (+/-0.077) for {'learning_rate': 0.5, 'max_depth': 1, 'n_estimators': 250}\n",
      "0.841 (+/-0.066) for {'learning_rate': 0.5, 'max_depth': 1, 'n_estimators': 500}\n",
      "0.833 (+/-0.07) for {'learning_rate': 0.5, 'max_depth': 2, 'n_estimators': 5}\n",
      "0.843 (+/-0.029) for {'learning_rate': 0.5, 'max_depth': 2, 'n_estimators': 50}\n",
      "0.817 (+/-0.067) for {'learning_rate': 0.5, 'max_depth': 2, 'n_estimators': 250}\n",
      "0.8 (+/-0.048) for {'learning_rate': 0.5, 'max_depth': 2, 'n_estimators': 500}\n",
      "0.818 (+/-0.077) for {'learning_rate': 0.5, 'max_depth': 3, 'n_estimators': 5}\n",
      "0.807 (+/-0.027) for {'learning_rate': 0.5, 'max_depth': 3, 'n_estimators': 50}\n",
      "0.803 (+/-0.043) for {'learning_rate': 0.5, 'max_depth': 3, 'n_estimators': 250}\n",
      "0.805 (+/-0.054) for {'learning_rate': 0.5, 'max_depth': 3, 'n_estimators': 500}\n",
      "0.813 (+/-0.051) for {'learning_rate': 0.5, 'max_depth': 4, 'n_estimators': 5}\n",
      "0.785 (+/-0.058) for {'learning_rate': 0.5, 'max_depth': 4, 'n_estimators': 50}\n",
      "0.787 (+/-0.044) for {'learning_rate': 0.5, 'max_depth': 4, 'n_estimators': 250}\n",
      "0.79 (+/-0.032) for {'learning_rate': 0.5, 'max_depth': 4, 'n_estimators': 500}\n",
      "0.811 (+/-0.05) for {'learning_rate': 0.5, 'max_depth': 5, 'n_estimators': 5}\n",
      "0.788 (+/-0.044) for {'learning_rate': 0.5, 'max_depth': 5, 'n_estimators': 50}\n",
      "0.785 (+/-0.061) for {'learning_rate': 0.5, 'max_depth': 5, 'n_estimators': 250}\n",
      "0.787 (+/-0.029) for {'learning_rate': 0.5, 'max_depth': 5, 'n_estimators': 500}\n",
      "0.83 (+/-0.081) for {'learning_rate': 1, 'max_depth': 1, 'n_estimators': 5}\n",
      "0.845 (+/-0.071) for {'learning_rate': 1, 'max_depth': 1, 'n_estimators': 50}\n",
      "0.841 (+/-0.069) for {'learning_rate': 1, 'max_depth': 1, 'n_estimators': 250}\n",
      "0.833 (+/-0.079) for {'learning_rate': 1, 'max_depth': 1, 'n_estimators': 500}\n",
      "0.824 (+/-0.123) for {'learning_rate': 1, 'max_depth': 2, 'n_estimators': 5}\n",
      "0.815 (+/-0.054) for {'learning_rate': 1, 'max_depth': 2, 'n_estimators': 50}\n",
      "0.796 (+/-0.042) for {'learning_rate': 1, 'max_depth': 2, 'n_estimators': 250}\n",
      "0.8 (+/-0.038) for {'learning_rate': 1, 'max_depth': 2, 'n_estimators': 500}\n",
      "0.815 (+/-0.054) for {'learning_rate': 1, 'max_depth': 3, 'n_estimators': 5}\n",
      "0.779 (+/-0.04) for {'learning_rate': 1, 'max_depth': 3, 'n_estimators': 50}\n",
      "0.787 (+/-0.043) for {'learning_rate': 1, 'max_depth': 3, 'n_estimators': 250}\n",
      "0.777 (+/-0.04) for {'learning_rate': 1, 'max_depth': 3, 'n_estimators': 500}\n",
      "0.798 (+/-0.084) for {'learning_rate': 1, 'max_depth': 4, 'n_estimators': 5}\n",
      "0.796 (+/-0.049) for {'learning_rate': 1, 'max_depth': 4, 'n_estimators': 50}\n",
      "0.79 (+/-0.046) for {'learning_rate': 1, 'max_depth': 4, 'n_estimators': 250}\n",
      "0.785 (+/-0.034) for {'learning_rate': 1, 'max_depth': 4, 'n_estimators': 500}\n",
      "0.788 (+/-0.027) for {'learning_rate': 1, 'max_depth': 5, 'n_estimators': 5}\n",
      "0.783 (+/-0.038) for {'learning_rate': 1, 'max_depth': 5, 'n_estimators': 50}\n",
      "0.792 (+/-0.017) for {'learning_rate': 1, 'max_depth': 5, 'n_estimators': 250}\n",
      "0.785 (+/-0.031) for {'learning_rate': 1, 'max_depth': 5, 'n_estimators': 500}\n"
     ]
    }
   ],
   "source": [
    "# fit model\n",
    "gb = GradientBoostingClassifier()\n",
    "parameters = {\n",
    "    'n_estimators': [5, 50, 250, 500],\n",
    "    'max_depth': [1, 2, 3, 4, 5],\n",
    "    'learning_rate': [0.01, 0.05, 0.2, 0.5, 1]\n",
    "}\n",
    "\n",
    "cv5 = GridSearchCV(gb, parameters, cv=5)\n",
    "cv5.fit(X_train, y_train.values.ravel())\n",
    "\n",
    "print_results(cv5)"
   ]
  },
  {
   "cell_type": "code",
   "execution_count": 801,
   "id": "anonymous-architect",
   "metadata": {},
   "outputs": [
    {
     "data": {
      "text/plain": [
       "['models/selection/gradient_boosting.pkl']"
      ]
     },
     "execution_count": 801,
     "metadata": {},
     "output_type": "execute_result"
    }
   ],
   "source": [
    "# save model\n",
    "joblib.dump(cv5.best_estimator_, 'models/selection/gradient_boosting.pkl')"
   ]
  },
  {
   "cell_type": "markdown",
   "id": "descending-south",
   "metadata": {},
   "source": [
    "# 4) Model Selection<a class=\"anchor\" id=\"model_selection\"></a>\n",
    "[To contents](#contents)\n",
    "![Comparison](model_comparison.png)"
   ]
  },
  {
   "cell_type": "code",
   "execution_count": 802,
   "id": "cutting-registration",
   "metadata": {},
   "outputs": [],
   "source": [
    "# create dictionary of models\n",
    "models = {}\n",
    "for mdl in ['logistic_regression', 'support_vector_machine', 'multilayer_perceptron', 'random_forest', 'gradient_boosting']:\n",
    "    models[mdl] = joblib.load('models/selection/{}.pkl'.format(mdl))"
   ]
  },
  {
   "cell_type": "markdown",
   "id": "graduate-interstate",
   "metadata": {},
   "source": [
    "## A) Evaluation Statistics<a class=\"anchor\" id=\"evaluation_statistics\"></a>\n",
    "[To contents](#contents)\n",
    "- Accuracy = # predicted correctly/total # examples\n",
    "- Precision = # predicted to survive that actually survived / total # predicted to survive\n",
    "- Recall = # predicted to survive that actually survived / total # that actually survived"
   ]
  },
  {
   "cell_type": "code",
   "execution_count": 803,
   "id": "moderate-wagner",
   "metadata": {},
   "outputs": [],
   "source": [
    "# evaluates prediction time, accuracy, precision, recall\n",
    "def evaluate_model(name, model, features, labels):\n",
    "    start = time()\n",
    "    pred = model.predict(features)\n",
    "    end = time()\n",
    "    accuracy = round(accuracy_score(labels, pred), 3)\n",
    "    precision = round(precision_score(labels, pred), 3)\n",
    "    recall = round(recall_score(labels, pred), 3)\n",
    "    print('{} -- Accuracy: {} / Precision: {} / Recall: {} / Latency: {}ms'.format(name,\n",
    "                                                                                   accuracy,\n",
    "                                                                                   precision,\n",
    "                                                                                   recall,\n",
    "                                                                                   round((end - start)*1000, 1)))"
   ]
  },
  {
   "cell_type": "code",
   "execution_count": 804,
   "id": "legendary-mechanism",
   "metadata": {
    "scrolled": true
   },
   "outputs": [
    {
     "name": "stdout",
     "output_type": "stream",
     "text": [
      "logistic_regression -- Accuracy: 0.816 / Precision: 0.821 / Recall: 0.724 / Latency: 1.4ms\n",
      "support_vector_machine -- Accuracy: 0.804 / Precision: 0.815 / Recall: 0.697 / Latency: 4.9ms\n",
      "multilayer_perceptron -- Accuracy: 0.816 / Precision: 0.831 / Recall: 0.711 / Latency: 1.9ms\n",
      "random_forest -- Accuracy: 0.821 / Precision: 0.844 / Recall: 0.711 / Latency: 7.2ms\n",
      "gradient_boosting -- Accuracy: 0.821 / Precision: 0.814 / Recall: 0.75 / Latency: 1.9ms\n"
     ]
    }
   ],
   "source": [
    "# test on validation set\n",
    "for name, mdl in models.items():\n",
    "    evaluate_model(name, mdl, X_val, y_val)"
   ]
  },
  {
   "cell_type": "code",
   "execution_count": 806,
   "id": "sporting-jumping",
   "metadata": {},
   "outputs": [
    {
     "name": "stdout",
     "output_type": "stream",
     "text": [
      "gradient_boosting -- Accuracy: 0.831 / Precision: 0.818 / Recall: 0.692 / Latency: 2.7ms\n"
     ]
    }
   ],
   "source": [
    "# final evaluation of best model on test set\n",
    "evaluate_model('gradient_boosting', models['gradient_boosting'], X_test, y_test)"
   ]
  },
  {
   "cell_type": "markdown",
   "id": "classical-needle",
   "metadata": {},
   "source": [
    "# 5) Final Training and Submission<a class=\"anchor\" id=\"final_training_and_submission\"></a>\n",
    "[To contents](#contents)\n",
    "- Train the model on the entire training set and create a submission\n",
    "- Normally, you would select the best model from our validation evaluations (random forest) to submit\n",
    "- Out of curiousity, I will try all models :)"
   ]
  },
  {
   "cell_type": "code",
   "execution_count": 812,
   "id": "vertical-processing",
   "metadata": {},
   "outputs": [],
   "source": [
    "# import all cleaned data\n",
    "train_cleaned = pd.read_csv('data/train_cleaned.csv')\n",
    "test_cleaned = pd.read_csv('data/test_cleaned.csv')\n",
    "\n",
    "features = train_cleaned.drop(columns='Survived')\n",
    "labels = train_cleaned['Survived'].values.ravel()"
   ]
  },
  {
   "cell_type": "code",
   "execution_count": 813,
   "id": "configured-questionnaire",
   "metadata": {},
   "outputs": [
    {
     "data": {
      "text/plain": [
       "['models/final/gradient_boosting.pkl']"
      ]
     },
     "execution_count": 813,
     "metadata": {},
     "output_type": "execute_result"
    }
   ],
   "source": [
    "# fit on complete training data\n",
    "final_lr = LogisticRegression(C=10)\n",
    "final_lr.fit(features, labels)\n",
    "joblib.dump(final_lr, 'models/final/logistic_regression.pkl')\n",
    "\n",
    "final_svm = SVC(C=10, kernel='rbf')\n",
    "final_svm.fit(features, labels)\n",
    "joblib.dump(final_svm, 'models/final/support_vector_machine.pkl')\n",
    "\n",
    "final_mlp = MLPClassifier(activation='tanh', hidden_layer_sizes=(64, 64), learning_rate='invscaling')\n",
    "final_mlp.fit(features, labels)\n",
    "joblib.dump(final_mlp, 'models/final/multilayer_perceptron.pkl')\n",
    "\n",
    "final_rf = RandomForestClassifier(max_depth=8, n_estimators=50)\n",
    "final_rf.fit(features, labels)\n",
    "joblib.dump(final_rf, 'models/final/random_forest.pkl')\n",
    "\n",
    "final_gb = GradientBoostingClassifier(learning_rate=0.02, max_depth=2, n_estimators=250)\n",
    "final_gb.fit(features, labels)\n",
    "joblib.dump(final_gb, 'models/final/gradient_boosting.pkl')"
   ]
  },
  {
   "cell_type": "code",
   "execution_count": 814,
   "id": "female-sixth",
   "metadata": {},
   "outputs": [],
   "source": [
    "# create dictionary of models\n",
    "final_models = {}\n",
    "for mdl in ['logistic_regression', 'support_vector_machine', 'multilayer_perceptron', 'random_forest', 'gradient_boosting']:\n",
    "    final_models[mdl] = joblib.load('models/final/{}.pkl'.format(mdl))"
   ]
  },
  {
   "cell_type": "code",
   "execution_count": 815,
   "id": "given-jurisdiction",
   "metadata": {},
   "outputs": [],
   "source": [
    "# write out submission\n",
    "ids = pd.read_csv('data/test.csv')['PassengerId']\n",
    "def submission(name, model):\n",
    "    predictions = model.predict(test_cleaned)\n",
    "    output = pd.DataFrame({'PassengerId' : ids, 'Survived': predictions})\n",
    "    output.to_csv('submissions/{}_submission.csv'.format(name), index = False)\n",
    "\n",
    "for name, mdl in final_models.items():\n",
    "    submission(name, mdl)"
   ]
  },
  {
   "cell_type": "markdown",
   "id": "driven-revolution",
   "metadata": {},
   "source": [
    "# 6) Results<a class=\"anchor\" id=\"results\"></a>\n",
    "[To contents](#contents)\n",
    "- Logistic Regression: 0.76076\n",
    "- Support Vector Machine: 0.76555\n",
    "- Multilayer Perceptron: 0.76315\n",
    "- Random Forest: 0.76076\n",
    "- Gradient Boosting: 0.78468\n",
    "\n",
    "The best model was gradient boosting. As of January 2022, it placed 1798/13643, or top 13.17%. Excluding perfect scores which are a result of cheating, it would place 1630/13475, or top 12.09%."
   ]
  },
  {
   "cell_type": "code",
   "execution_count": null,
   "id": "royal-patient",
   "metadata": {},
   "outputs": [],
   "source": []
  }
 ],
 "metadata": {
  "kernelspec": {
   "display_name": "Python 3",
   "language": "python",
   "name": "python3"
  },
  "language_info": {
   "codemirror_mode": {
    "name": "ipython",
    "version": 3
   },
   "file_extension": ".py",
   "mimetype": "text/x-python",
   "name": "python",
   "nbconvert_exporter": "python",
   "pygments_lexer": "ipython3",
   "version": "3.8.12"
  }
 },
 "nbformat": 4,
 "nbformat_minor": 5
}
