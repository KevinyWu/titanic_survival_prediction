{
 "cells": [
  {
   "cell_type": "markdown",
   "id": "massive-likelihood",
   "metadata": {},
   "source": [
    "# Best Model: Gradient Boosting\n",
    "- Link to competition [here](https://www.kaggle.com/c/titanic/overview)\n",
    "- Streamlined notebook that tunes and improves upon gradient boosting, the best model from titanic.ipynb"
   ]
  },
  {
   "cell_type": "markdown",
   "id": "smoking-underwear",
   "metadata": {},
   "source": [
    "## Contents<a class=\"anchor\" id=\"contents\"></a>\n",
    "1. [Data Exploration](#data_exploration)\n",
    "    1. [Categorical Features](#categorical_features)\n",
    "    2. [Continuous Features](#continuous_features)\n",
    "2. [Splitting Up Data](#splitting_up_data)\n",
    "3. [Training Model](#training_model)\n",
    "5. [Model Selection](#model_selection)\n",
    "    1. [Evaluation Statistics](#evaluation_statistics)\n",
    "5. [Final Training and Submission](#final_training_and_submission)\n",
    "6. [Results](#results)"
   ]
  },
  {
   "cell_type": "code",
   "execution_count": 1,
   "id": "guided-sudan",
   "metadata": {},
   "outputs": [],
   "source": [
    "# basic imports\n",
    "import joblib\n",
    "import numpy as np\n",
    "import pandas as pd\n",
    "import seaborn as sns \n",
    "import matplotlib.pyplot as plt\n",
    "%matplotlib inline\n",
    "import warnings\n",
    "warnings.filterwarnings(\"ignore\")\n",
    "\n",
    "# splitting data\n",
    "from sklearn.model_selection import train_test_split\n",
    "\n",
    "# cross-validation\n",
    "from sklearn.model_selection import cross_val_score\n",
    "from sklearn.model_selection import GridSearchCV\n",
    "\n",
    "# view parameters\n",
    "from sklearn import set_config\n",
    "set_config(print_changed_only=False)\n",
    "\n",
    "# models\n",
    "from sklearn.ensemble import GradientBoostingClassifier, GradientBoostingRegressor\n",
    "\n",
    "# model selection\n",
    "from time import time\n",
    "from sklearn.metrics import accuracy_score, precision_score, recall_score"
   ]
  },
  {
   "cell_type": "markdown",
   "id": "great-vatican",
   "metadata": {},
   "source": [
    "# 1) Data Exploration <a class=\"anchor\" id=\"data_exploration\"></a>\n",
    "[To contents](#contents)\n",
    "- Cleaning is the same as titanic.ipynd, DataFrames and graphs will be excluded"
   ]
  },
  {
   "cell_type": "code",
   "execution_count": 3,
   "id": "through-navigation",
   "metadata": {
    "scrolled": false
   },
   "outputs": [],
   "source": [
    "# import training data\n",
    "train = pd.read_csv('data/train.csv')\n",
    "# import test data\n",
    "test = pd.read_csv('data/test.csv')"
   ]
  },
  {
   "cell_type": "markdown",
   "id": "interesting-leonard",
   "metadata": {},
   "source": [
    "### Variable Dictionary\n",
    "- **Name** (str) - Name of the passenger\n",
    "- **Pclass** (int) - Ticket class\n",
    "- **Sex** (str) - Sex of the passenger\n",
    "- **Age** (float) - Age in years\n",
    "- **SibSp** (int) - Number of siblings and spouses aboard\n",
    "- **Parch** (int) - Number of parents and children aboard\n",
    "- **Ticket** (str) - Ticket number\n",
    "- **Fare** (float) - Passenger fare\n",
    "- **Cabin** (str) - Cabin number\n",
    "- **Embarked** (str) - Port of embarkation (C = Cherbourg, Q = Queenstown, S = Southampton)"
   ]
  },
  {
   "cell_type": "markdown",
   "id": "unique-computer",
   "metadata": {},
   "source": [
    "### Survival"
   ]
  },
  {
   "cell_type": "code",
   "execution_count": 4,
   "id": "ultimate-moscow",
   "metadata": {
    "scrolled": true
   },
   "outputs": [],
   "source": [
    "train.drop(columns=['PassengerId', 'Name', 'Ticket'], inplace=True)\n",
    "test.drop(columns=['PassengerId', 'Name', 'Ticket'], inplace=True)"
   ]
  },
  {
   "cell_type": "markdown",
   "id": "monetary-anatomy",
   "metadata": {},
   "source": [
    "### NaN Values"
   ]
  },
  {
   "cell_type": "markdown",
   "id": "copyrighted-grammar",
   "metadata": {},
   "source": [
    "- There are four features with `NaN` values: `Age`, `Fare`, `Cabin`, `Embarked`\n",
    "- We will deal with these missing values later"
   ]
  },
  {
   "cell_type": "markdown",
   "id": "express-ideal",
   "metadata": {},
   "source": [
    "## A) Categorical Features <a class=\"anchor\" id=\"categorical_features\"></a>\n",
    "[To contents](#contents)\n",
    "- Includes `Sex`, `Cabin`, and `Embarked`"
   ]
  },
  {
   "cell_type": "markdown",
   "id": "rising-testament",
   "metadata": {},
   "source": [
    "### Sex\n",
    "- Change `female` to `1` and `male` to `0`"
   ]
  },
  {
   "cell_type": "code",
   "execution_count": 284,
   "id": "quarterly-desktop",
   "metadata": {},
   "outputs": [],
   "source": [
    "def sex(s):\n",
    "    if s == 'female':\n",
    "        return 1\n",
    "    if s == 'male':\n",
    "        return 0\n",
    "\n",
    "train['Sex'] = train['Sex'].apply(sex)\n",
    "test['Sex'] = test['Sex'].apply(sex)"
   ]
  },
  {
   "cell_type": "code",
   "execution_count": 285,
   "id": "adapted-concord",
   "metadata": {},
   "outputs": [
    {
     "data": {
      "image/png": "[encoded data removed]",
      "text/plain": [
       "<Figure size 576x288 with 1 Axes>"
      ]
     },
     "metadata": {
      "needs_background": "light"
     },
     "output_type": "display_data"
    }
   ],
   "source": [
    "sns.catplot(x='Sex', y='Survived', data=train, kind='point', height=4, aspect=2);"
   ]
  },
  {
   "cell_type": "markdown",
   "id": "proved-receipt",
   "metadata": {},
   "source": [
    "- Sex is a major predictor of survivability\n",
    "- Males have significantly lower survival rates than females"
   ]
  },
  {
   "cell_type": "markdown",
   "id": "minus-queue",
   "metadata": {},
   "source": [
    "### Cabin"
   ]
  },
  {
   "cell_type": "code",
   "execution_count": 286,
   "id": "round-fossil",
   "metadata": {},
   "outputs": [
    {
     "data": {
      "text/html": [
       "<div>\n",
       "<style scoped>\n",
       "    .dataframe tbody tr th:only-of-type {\n",
       "        vertical-align: middle;\n",
       "    }\n",
       "\n",
       "    .dataframe tbody tr th {\n",
       "        vertical-align: top;\n",
       "    }\n",
       "\n",
       "    .dataframe thead th {\n",
       "        text-align: right;\n",
       "    }\n",
       "</style>\n",
       "<table border=\"1\" class=\"dataframe\">\n",
       "  <thead>\n",
       "    <tr style=\"text-align: right;\">\n",
       "      <th></th>\n",
       "      <th>Survived</th>\n",
       "      <th>Pclass</th>\n",
       "      <th>Sex</th>\n",
       "      <th>Age</th>\n",
       "      <th>SibSp</th>\n",
       "      <th>Parch</th>\n",
       "      <th>Fare</th>\n",
       "    </tr>\n",
       "    <tr>\n",
       "      <th>Cabin</th>\n",
       "      <th></th>\n",
       "      <th></th>\n",
       "      <th></th>\n",
       "      <th></th>\n",
       "      <th></th>\n",
       "      <th></th>\n",
       "      <th></th>\n",
       "    </tr>\n",
       "  </thead>\n",
       "  <tbody>\n",
       "    <tr>\n",
       "      <th>False</th>\n",
       "      <td>0.666667</td>\n",
       "      <td>1.196078</td>\n",
       "      <td>0.475490</td>\n",
       "      <td>35.829297</td>\n",
       "      <td>0.441176</td>\n",
       "      <td>0.436275</td>\n",
       "      <td>76.141504</td>\n",
       "    </tr>\n",
       "    <tr>\n",
       "      <th>True</th>\n",
       "      <td>0.299854</td>\n",
       "      <td>2.639010</td>\n",
       "      <td>0.315866</td>\n",
       "      <td>27.555293</td>\n",
       "      <td>0.547307</td>\n",
       "      <td>0.365357</td>\n",
       "      <td>19.157325</td>\n",
       "    </tr>\n",
       "  </tbody>\n",
       "</table>\n",
       "</div>"
      ],
      "text/plain": [
       "       Survived    Pclass       Sex        Age     SibSp     Parch       Fare\n",
       "Cabin                                                                        \n",
       "False  0.666667  1.196078  0.475490  35.829297  0.441176  0.436275  76.141504\n",
       "True   0.299854  2.639010  0.315866  27.555293  0.547307  0.365357  19.157325"
      ]
     },
     "execution_count": 286,
     "metadata": {},
     "output_type": "execute_result"
    }
   ],
   "source": [
    "train.groupby(train['Cabin'].isnull()).mean()"
   ]
  },
  {
   "cell_type": "markdown",
   "id": "interstate-personality",
   "metadata": {},
   "source": [
    "- Although there are many `NaN` values for `Cabin`, the presence of a `NaN` seems to indicate higher survival rates\n",
    "- We can replace the `NaN` values with `0`, indicating the absence of info, and all other values with `1`, indicating the presence of info"
   ]
  },
  {
   "cell_type": "code",
   "execution_count": 287,
   "id": "fourth-lemon",
   "metadata": {},
   "outputs": [],
   "source": [
    "train['Cabin'] = np.where(train['Cabin'].isnull(), 0, 1)\n",
    "test['Cabin'] = np.where(test['Cabin'].isnull(), 0, 1)"
   ]
  },
  {
   "cell_type": "code",
   "execution_count": 288,
   "id": "absent-black",
   "metadata": {},
   "outputs": [
    {
     "data": {
      "image/png": "[encoded data removed]",
      "text/plain": [
       "<Figure size 576x288 with 1 Axes>"
      ]
     },
     "metadata": {
      "needs_background": "light"
     },
     "output_type": "display_data"
    }
   ],
   "source": [
    "sns.catplot(x='Cabin', y='Survived', data=train, kind='point', height=4, aspect=2);"
   ]
  },
  {
   "cell_type": "markdown",
   "id": "functioning-raleigh",
   "metadata": {},
   "source": [
    "### Embarked"
   ]
  },
  {
   "cell_type": "code",
   "execution_count": 289,
   "id": "mounted-enemy",
   "metadata": {},
   "outputs": [
    {
     "data": {
      "image/png": "[encoded data removed]",
      "text/plain": [
       "<Figure size 576x288 with 1 Axes>"
      ]
     },
     "metadata": {
      "needs_background": "light"
     },
     "output_type": "display_data"
    }
   ],
   "source": [
    "sns.catplot(x='Embarked', y='Survived', data=train, kind='point', height=4, aspect=2);"
   ]
  },
  {
   "cell_type": "markdown",
   "id": "designing-aluminum",
   "metadata": {},
   "source": [
    "- People embarking from Cherbourg seem to have a higher survival rate than those embarking from Southampton or Queenstown\n",
    "- This could be due to other predictors\n",
    "- Compare this with the other two variables we have looked at so far, `Sex` and `Cabin`, which are meaningful predictors"
   ]
  },
  {
   "cell_type": "code",
   "execution_count": 290,
   "id": "knowing-labor",
   "metadata": {},
   "outputs": [
    {
     "data": {
      "text/html": [
       "<div>\n",
       "<style scoped>\n",
       "    .dataframe tbody tr th:only-of-type {\n",
       "        vertical-align: middle;\n",
       "    }\n",
       "\n",
       "    .dataframe tbody tr th {\n",
       "        vertical-align: top;\n",
       "    }\n",
       "\n",
       "    .dataframe thead th {\n",
       "        text-align: right;\n",
       "    }\n",
       "</style>\n",
       "<table border=\"1\" class=\"dataframe\">\n",
       "  <thead>\n",
       "    <tr style=\"text-align: right;\">\n",
       "      <th>Embarked</th>\n",
       "      <th>C</th>\n",
       "      <th>Q</th>\n",
       "      <th>S</th>\n",
       "    </tr>\n",
       "    <tr>\n",
       "      <th>Sex</th>\n",
       "      <th></th>\n",
       "      <th></th>\n",
       "      <th></th>\n",
       "    </tr>\n",
       "  </thead>\n",
       "  <tbody>\n",
       "    <tr>\n",
       "      <th>0</th>\n",
       "      <td>95</td>\n",
       "      <td>41</td>\n",
       "      <td>441</td>\n",
       "    </tr>\n",
       "    <tr>\n",
       "      <th>1</th>\n",
       "      <td>73</td>\n",
       "      <td>36</td>\n",
       "      <td>203</td>\n",
       "    </tr>\n",
       "  </tbody>\n",
       "</table>\n",
       "</div>"
      ],
      "text/plain": [
       "Embarked   C   Q    S\n",
       "Sex                  \n",
       "0         95  41  441\n",
       "1         73  36  203"
      ]
     },
     "execution_count": 290,
     "metadata": {},
     "output_type": "execute_result"
    }
   ],
   "source": [
    "train.pivot_table('Survived', index='Sex', columns='Embarked', aggfunc='count')"
   ]
  },
  {
   "cell_type": "code",
   "execution_count": 291,
   "id": "experimental-remark",
   "metadata": {},
   "outputs": [
    {
     "data": {
      "text/html": [
       "<div>\n",
       "<style scoped>\n",
       "    .dataframe tbody tr th:only-of-type {\n",
       "        vertical-align: middle;\n",
       "    }\n",
       "\n",
       "    .dataframe tbody tr th {\n",
       "        vertical-align: top;\n",
       "    }\n",
       "\n",
       "    .dataframe thead th {\n",
       "        text-align: right;\n",
       "    }\n",
       "</style>\n",
       "<table border=\"1\" class=\"dataframe\">\n",
       "  <thead>\n",
       "    <tr style=\"text-align: right;\">\n",
       "      <th>Embarked</th>\n",
       "      <th>C</th>\n",
       "      <th>Q</th>\n",
       "      <th>S</th>\n",
       "    </tr>\n",
       "    <tr>\n",
       "      <th>Cabin</th>\n",
       "      <th></th>\n",
       "      <th></th>\n",
       "      <th></th>\n",
       "    </tr>\n",
       "  </thead>\n",
       "  <tbody>\n",
       "    <tr>\n",
       "      <th>0</th>\n",
       "      <td>99</td>\n",
       "      <td>73</td>\n",
       "      <td>515</td>\n",
       "    </tr>\n",
       "    <tr>\n",
       "      <th>1</th>\n",
       "      <td>69</td>\n",
       "      <td>4</td>\n",
       "      <td>129</td>\n",
       "    </tr>\n",
       "  </tbody>\n",
       "</table>\n",
       "</div>"
      ],
      "text/plain": [
       "Embarked   C   Q    S\n",
       "Cabin                \n",
       "0         99  73  515\n",
       "1         69   4  129"
      ]
     },
     "execution_count": 291,
     "metadata": {},
     "output_type": "execute_result"
    }
   ],
   "source": [
    "train.pivot_table('Survived', index='Cabin', columns='Embarked', aggfunc='count')"
   ]
  },
  {
   "cell_type": "markdown",
   "id": "recent-jamaica",
   "metadata": {},
   "source": [
    "- Cherbourg has a much higher proportion of females than Southampton, potentially explaining the higher survival rates compared to Southampton\n",
    "- Cherbourg also has a much higher proportion of passengers with Cabin data, potentially explaining the higher survival rates compared to Queenstown\n",
    "- Drop `Embarked`"
   ]
  },
  {
   "cell_type": "code",
   "execution_count": 292,
   "id": "eligible-tract",
   "metadata": {},
   "outputs": [],
   "source": [
    "train.drop(columns='Embarked', inplace=True)\n",
    "test.drop(columns='Embarked', inplace=True)"
   ]
  },
  {
   "cell_type": "markdown",
   "id": "prepared-guard",
   "metadata": {},
   "source": [
    "## B) Continuous Features<a class=\"anchor\" id=\"continuous_features\"></a>\n",
    "[To contents](#contents)\n",
    "- Includes `Pclass`, `Age`, `SibSp`, `Parch`, `Fare`"
   ]
  },
  {
   "cell_type": "code",
   "execution_count": 293,
   "id": "light-replacement",
   "metadata": {},
   "outputs": [
    {
     "data": {
      "text/html": [
       "<div>\n",
       "<style scoped>\n",
       "    .dataframe tbody tr th:only-of-type {\n",
       "        vertical-align: middle;\n",
       "    }\n",
       "\n",
       "    .dataframe tbody tr th {\n",
       "        vertical-align: top;\n",
       "    }\n",
       "\n",
       "    .dataframe thead th {\n",
       "        text-align: right;\n",
       "    }\n",
       "</style>\n",
       "<table border=\"1\" class=\"dataframe\">\n",
       "  <thead>\n",
       "    <tr style=\"text-align: right;\">\n",
       "      <th></th>\n",
       "      <th>Survived</th>\n",
       "      <th>Pclass</th>\n",
       "      <th>Age</th>\n",
       "      <th>SibSp</th>\n",
       "      <th>Parch</th>\n",
       "      <th>Fare</th>\n",
       "    </tr>\n",
       "  </thead>\n",
       "  <tbody>\n",
       "    <tr>\n",
       "      <th>count</th>\n",
       "      <td>891.000000</td>\n",
       "      <td>891.000000</td>\n",
       "      <td>714.000000</td>\n",
       "      <td>891.000000</td>\n",
       "      <td>891.000000</td>\n",
       "      <td>891.000000</td>\n",
       "    </tr>\n",
       "    <tr>\n",
       "      <th>mean</th>\n",
       "      <td>0.383838</td>\n",
       "      <td>2.308642</td>\n",
       "      <td>29.699118</td>\n",
       "      <td>0.523008</td>\n",
       "      <td>0.381594</td>\n",
       "      <td>32.204208</td>\n",
       "    </tr>\n",
       "    <tr>\n",
       "      <th>std</th>\n",
       "      <td>0.486592</td>\n",
       "      <td>0.836071</td>\n",
       "      <td>14.526497</td>\n",
       "      <td>1.102743</td>\n",
       "      <td>0.806057</td>\n",
       "      <td>49.693429</td>\n",
       "    </tr>\n",
       "    <tr>\n",
       "      <th>min</th>\n",
       "      <td>0.000000</td>\n",
       "      <td>1.000000</td>\n",
       "      <td>0.420000</td>\n",
       "      <td>0.000000</td>\n",
       "      <td>0.000000</td>\n",
       "      <td>0.000000</td>\n",
       "    </tr>\n",
       "    <tr>\n",
       "      <th>25%</th>\n",
       "      <td>0.000000</td>\n",
       "      <td>2.000000</td>\n",
       "      <td>20.125000</td>\n",
       "      <td>0.000000</td>\n",
       "      <td>0.000000</td>\n",
       "      <td>7.910400</td>\n",
       "    </tr>\n",
       "    <tr>\n",
       "      <th>50%</th>\n",
       "      <td>0.000000</td>\n",
       "      <td>3.000000</td>\n",
       "      <td>28.000000</td>\n",
       "      <td>0.000000</td>\n",
       "      <td>0.000000</td>\n",
       "      <td>14.454200</td>\n",
       "    </tr>\n",
       "    <tr>\n",
       "      <th>75%</th>\n",
       "      <td>1.000000</td>\n",
       "      <td>3.000000</td>\n",
       "      <td>38.000000</td>\n",
       "      <td>1.000000</td>\n",
       "      <td>0.000000</td>\n",
       "      <td>31.000000</td>\n",
       "    </tr>\n",
       "    <tr>\n",
       "      <th>max</th>\n",
       "      <td>1.000000</td>\n",
       "      <td>3.000000</td>\n",
       "      <td>80.000000</td>\n",
       "      <td>8.000000</td>\n",
       "      <td>6.000000</td>\n",
       "      <td>512.329200</td>\n",
       "    </tr>\n",
       "  </tbody>\n",
       "</table>\n",
       "</div>"
      ],
      "text/plain": [
       "         Survived      Pclass         Age       SibSp       Parch        Fare\n",
       "count  891.000000  891.000000  714.000000  891.000000  891.000000  891.000000\n",
       "mean     0.383838    2.308642   29.699118    0.523008    0.381594   32.204208\n",
       "std      0.486592    0.836071   14.526497    1.102743    0.806057   49.693429\n",
       "min      0.000000    1.000000    0.420000    0.000000    0.000000    0.000000\n",
       "25%      0.000000    2.000000   20.125000    0.000000    0.000000    7.910400\n",
       "50%      0.000000    3.000000   28.000000    0.000000    0.000000   14.454200\n",
       "75%      1.000000    3.000000   38.000000    1.000000    0.000000   31.000000\n",
       "max      1.000000    3.000000   80.000000    8.000000    6.000000  512.329200"
      ]
     },
     "execution_count": 293,
     "metadata": {},
     "output_type": "execute_result"
    }
   ],
   "source": [
    "cat_features = ['Sex', 'Cabin']\n",
    "train_cont = train.drop(columns=cat_features)\n",
    "train_cont.describe()"
   ]
  },
  {
   "cell_type": "code",
   "execution_count": 294,
   "id": "induced-corpus",
   "metadata": {},
   "outputs": [
    {
     "data": {
      "text/html": [
       "<div>\n",
       "<style scoped>\n",
       "    .dataframe tbody tr th:only-of-type {\n",
       "        vertical-align: middle;\n",
       "    }\n",
       "\n",
       "    .dataframe tbody tr th {\n",
       "        vertical-align: top;\n",
       "    }\n",
       "\n",
       "    .dataframe thead th {\n",
       "        text-align: right;\n",
       "    }\n",
       "</style>\n",
       "<table border=\"1\" class=\"dataframe\">\n",
       "  <thead>\n",
       "    <tr style=\"text-align: right;\">\n",
       "      <th></th>\n",
       "      <th>Pclass</th>\n",
       "      <th>Age</th>\n",
       "      <th>SibSp</th>\n",
       "      <th>Parch</th>\n",
       "      <th>Fare</th>\n",
       "    </tr>\n",
       "    <tr>\n",
       "      <th>Survived</th>\n",
       "      <th></th>\n",
       "      <th></th>\n",
       "      <th></th>\n",
       "      <th></th>\n",
       "      <th></th>\n",
       "    </tr>\n",
       "  </thead>\n",
       "  <tbody>\n",
       "    <tr>\n",
       "      <th>0</th>\n",
       "      <td>2.531876</td>\n",
       "      <td>30.626179</td>\n",
       "      <td>0.553734</td>\n",
       "      <td>0.329690</td>\n",
       "      <td>22.117887</td>\n",
       "    </tr>\n",
       "    <tr>\n",
       "      <th>1</th>\n",
       "      <td>1.950292</td>\n",
       "      <td>28.343690</td>\n",
       "      <td>0.473684</td>\n",
       "      <td>0.464912</td>\n",
       "      <td>48.395408</td>\n",
       "    </tr>\n",
       "  </tbody>\n",
       "</table>\n",
       "</div>"
      ],
      "text/plain": [
       "            Pclass        Age     SibSp     Parch       Fare\n",
       "Survived                                                    \n",
       "0         2.531876  30.626179  0.553734  0.329690  22.117887\n",
       "1         1.950292  28.343690  0.473684  0.464912  48.395408"
      ]
     },
     "execution_count": 294,
     "metadata": {},
     "output_type": "execute_result"
    }
   ],
   "source": [
    "train_cont.groupby('Survived').mean()"
   ]
  },
  {
   "cell_type": "markdown",
   "id": "dying-motivation",
   "metadata": {},
   "source": [
    "### Pclass"
   ]
  },
  {
   "cell_type": "code",
   "execution_count": 295,
   "id": "detected-tuesday",
   "metadata": {},
   "outputs": [
    {
     "data": {
      "image/png": "[encoded data removed]",
      "text/plain": [
       "<Figure size 576x288 with 1 Axes>"
      ]
     },
     "metadata": {
      "needs_background": "light"
     },
     "output_type": "display_data"
    }
   ],
   "source": [
    "sns.catplot(x='Pclass', y='Survived', data=train, kind='point', height=4, aspect=2);"
   ]
  },
  {
   "cell_type": "markdown",
   "id": "afraid-hartford",
   "metadata": {},
   "source": [
    "### Age"
   ]
  },
  {
   "cell_type": "code",
   "execution_count": 296,
   "id": "immune-return",
   "metadata": {},
   "outputs": [
    {
     "data": {
      "image/png": "[encoded data removed]",
      "text/plain": [
       "<Figure size 720x360 with 1 Axes>"
      ]
     },
     "metadata": {
      "needs_background": "light"
     },
     "output_type": "display_data"
    }
   ],
   "source": [
    "died = train[train['Survived'] == 0]['Age'].dropna()\n",
    "survived = train[train['Survived'] == 1]['Age'].dropna()\n",
    "xmin = min(min(died), min(survived))\n",
    "xmax = max(max(died), max(survived))\n",
    "\n",
    "plt.figure(figsize=(10, 5))\n",
    "sns.histplot(died, color='r', alpha = 0.5, kde=False, bins=np.arange(xmin, xmax, 2))\n",
    "sns.histplot(survived, color='g', alpha = 0.5, kde=False, bins=np.arange(xmin, xmax, 2))\n",
    "plt.legend(['Died', 'Survived'])\n",
    "plt.title('Overlaid Histogram for Age')\n",
    "plt.show()"
   ]
  },
  {
   "cell_type": "code",
   "execution_count": 297,
   "id": "obvious-thesaurus",
   "metadata": {
    "scrolled": false
   },
   "outputs": [
    {
     "data": {
      "image/png": "[encoded data removed]",
      "text/plain": [
       "<Figure size 720x360 with 1 Axes>"
      ]
     },
     "metadata": {
      "needs_background": "light"
     },
     "output_type": "display_data"
    },
    {
     "data": {
      "image/png": "[encoded data removed]",
      "text/plain": [
       "<Figure size 720x360 with 1 Axes>"
      ]
     },
     "metadata": {
      "needs_background": "light"
     },
     "output_type": "display_data"
    }
   ],
   "source": [
    "died_female = train[(train['Survived'] == 0) & (train['Sex'] == 1)]['Age'].dropna()\n",
    "survived_female = train[(train['Survived'] == 1) & (train['Sex'] == 1)]['Age'].dropna()\n",
    "died_male = train[(train['Survived'] == 0) & (train['Sex'] == 0)]['Age'].dropna()\n",
    "survived_male = train[(train['Survived'] == 1) & (train['Sex'] == 0)]['Age'].dropna()\n",
    "\n",
    "plt.figure(figsize=(10, 5))\n",
    "sns.histplot(died_female, color='r', alpha = 0.5, kde=False, bins=np.arange(xmin, xmax, 2))\n",
    "sns.histplot(survived_female, color='g', alpha = 0.5, kde=False, bins=np.arange(xmin, xmax, 2))\n",
    "plt.legend(['Died', 'Survived'])\n",
    "plt.title('Female')\n",
    "plt.show()\n",
    "\n",
    "plt.figure(figsize=(10, 5))\n",
    "sns.histplot(died_male, color='r', alpha = 0.5, kde=False, bins=np.arange(xmin, xmax, 2))\n",
    "sns.histplot(survived_male, color='g', alpha = 0.5, kde=False, bins=np.arange(xmin, xmax, 2))\n",
    "plt.legend(['Died', 'Survived'])\n",
    "plt.title('Male')\n",
    "plt.show()"
   ]
  },
  {
   "cell_type": "code",
   "execution_count": 298,
   "id": "injured-banking",
   "metadata": {
    "scrolled": false
   },
   "outputs": [
    {
     "data": {
      "text/html": [
       "<div>\n",
       "<style scoped>\n",
       "    .dataframe tbody tr th:only-of-type {\n",
       "        vertical-align: middle;\n",
       "    }\n",
       "\n",
       "    .dataframe tbody tr th {\n",
       "        vertical-align: top;\n",
       "    }\n",
       "\n",
       "    .dataframe thead th {\n",
       "        text-align: right;\n",
       "    }\n",
       "</style>\n",
       "<table border=\"1\" class=\"dataframe\">\n",
       "  <thead>\n",
       "    <tr style=\"text-align: right;\">\n",
       "      <th></th>\n",
       "      <th>Survived</th>\n",
       "      <th>Pclass</th>\n",
       "      <th>Sex</th>\n",
       "      <th>Age</th>\n",
       "      <th>SibSp</th>\n",
       "      <th>Parch</th>\n",
       "      <th>Fare</th>\n",
       "      <th>Cabin</th>\n",
       "    </tr>\n",
       "    <tr>\n",
       "      <th>Age</th>\n",
       "      <th></th>\n",
       "      <th></th>\n",
       "      <th></th>\n",
       "      <th></th>\n",
       "      <th></th>\n",
       "      <th></th>\n",
       "      <th></th>\n",
       "      <th></th>\n",
       "    </tr>\n",
       "  </thead>\n",
       "  <tbody>\n",
       "    <tr>\n",
       "      <th>False</th>\n",
       "      <td>0.406162</td>\n",
       "      <td>2.236695</td>\n",
       "      <td>0.365546</td>\n",
       "      <td>29.699118</td>\n",
       "      <td>0.512605</td>\n",
       "      <td>0.431373</td>\n",
       "      <td>34.694514</td>\n",
       "      <td>0.259104</td>\n",
       "    </tr>\n",
       "    <tr>\n",
       "      <th>True</th>\n",
       "      <td>0.293785</td>\n",
       "      <td>2.598870</td>\n",
       "      <td>0.299435</td>\n",
       "      <td>NaN</td>\n",
       "      <td>0.564972</td>\n",
       "      <td>0.180791</td>\n",
       "      <td>22.158567</td>\n",
       "      <td>0.107345</td>\n",
       "    </tr>\n",
       "  </tbody>\n",
       "</table>\n",
       "</div>"
      ],
      "text/plain": [
       "       Survived    Pclass       Sex        Age     SibSp     Parch       Fare  \\\n",
       "Age                                                                             \n",
       "False  0.406162  2.236695  0.365546  29.699118  0.512605  0.431373  34.694514   \n",
       "True   0.293785  2.598870  0.299435        NaN  0.564972  0.180791  22.158567   \n",
       "\n",
       "          Cabin  \n",
       "Age              \n",
       "False  0.259104  \n",
       "True   0.107345  "
      ]
     },
     "execution_count": 298,
     "metadata": {},
     "output_type": "execute_result"
    }
   ],
   "source": [
    "train.groupby(train['Age'].isnull()).mean()"
   ]
  },
  {
   "cell_type": "markdown",
   "id": "potential-savannah",
   "metadata": {},
   "source": [
    "- Replace the null values in `age` with its average value; this method will not bias the model"
   ]
  },
  {
   "cell_type": "code",
   "execution_count": 299,
   "id": "labeled-distributor",
   "metadata": {},
   "outputs": [],
   "source": [
    "train['Age'].fillna(train['Age'].mean(), inplace=True)\n",
    "test['Age'].fillna(test['Age'].mean(), inplace=True)"
   ]
  },
  {
   "cell_type": "markdown",
   "id": "successful-barrel",
   "metadata": {},
   "source": [
    "### SibSp & Parch"
   ]
  },
  {
   "cell_type": "code",
   "execution_count": 300,
   "id": "lined-uncertainty",
   "metadata": {},
   "outputs": [
    {
     "data": {
      "image/png": "[encoded data removed]",
      "text/plain": [
       "<Figure size 576x288 with 1 Axes>"
      ]
     },
     "metadata": {
      "needs_background": "light"
     },
     "output_type": "display_data"
    },
    {
     "data": {
      "image/png": "[encoded data removed]",
      "text/plain": [
       "<Figure size 576x288 with 1 Axes>"
      ]
     },
     "metadata": {
      "needs_background": "light"
     },
     "output_type": "display_data"
    }
   ],
   "source": [
    "sns.catplot(x='SibSp', y='Survived', data=train, kind='point', height=4, aspect=2)\n",
    "sns.catplot(x='Parch', y='Survived', data=train, kind='point', height=4, aspect=2);"
   ]
  },
  {
   "cell_type": "markdown",
   "id": "chemical-thinking",
   "metadata": {},
   "source": [
    "- In general, larger family size corresponds to lower survival rate\n",
    "- Combine `Parch` and `SibSp` into a `FamilyCount` feature"
   ]
  },
  {
   "cell_type": "code",
   "execution_count": 301,
   "id": "alpine-pacific",
   "metadata": {},
   "outputs": [
    {
     "data": {
      "image/png": "[encoded data removed]",
      "text/plain": [
       "<Figure size 576x288 with 1 Axes>"
      ]
     },
     "metadata": {
      "needs_background": "light"
     },
     "output_type": "display_data"
    }
   ],
   "source": [
    "train['FamilyCount'] = train['Parch'] + train['SibSp']\n",
    "train.drop(columns=['Parch', 'SibSp'], inplace=True)\n",
    "test['FamilyCount'] = test['Parch'] + test['SibSp']\n",
    "test.drop(columns=['Parch', 'SibSp'], inplace=True)\n",
    "sns.catplot(x = 'FamilyCount', y = 'Survived', data = train, kind='point', height=4, aspect=2);"
   ]
  },
  {
   "cell_type": "markdown",
   "id": "sixth-spiritual",
   "metadata": {},
   "source": [
    "### Fare"
   ]
  },
  {
   "cell_type": "code",
   "execution_count": 302,
   "id": "prepared-cambodia",
   "metadata": {
    "scrolled": true
   },
   "outputs": [
    {
     "data": {
      "image/png": "[encoded data removed]",
      "text/plain": [
       "<Figure size 720x360 with 1 Axes>"
      ]
     },
     "metadata": {
      "needs_background": "light"
     },
     "output_type": "display_data"
    }
   ],
   "source": [
    "died = train[train['Survived'] == 0]['Fare'].dropna()\n",
    "survived = train[train['Survived'] == 1]['Fare'].dropna()\n",
    "xmin = min(min(died), min(survived))\n",
    "xmax = max(max(died), max(survived))\n",
    "\n",
    "plt.figure(figsize=(10, 5))\n",
    "sns.histplot(died, color='r', alpha = 0.5, kde=False, bins=np.arange(xmin, xmax, 10))\n",
    "sns.histplot(survived, color='g', alpha = 0.5, kde=False, bins=np.arange(xmin, xmax, 10))\n",
    "plt.legend(['Died', 'Survived'])\n",
    "plt.title('Overlaid Histogram for Fare')\n",
    "plt.show()"
   ]
  },
  {
   "cell_type": "markdown",
   "id": "positive-beverage",
   "metadata": {},
   "source": [
    "- At lower fares, more people died than survived, while at higher fares, more or all people survived\n",
    "- Need to replace the missing `Fare` in the test data\n",
    "- There is only one missing value, simply replace it with the mean fare of the training data\n",
    "- There should be no more `NaN` values"
   ]
  },
  {
   "cell_type": "code",
   "execution_count": 303,
   "id": "objective-insider",
   "metadata": {},
   "outputs": [
    {
     "name": "stdout",
     "output_type": "stream",
     "text": [
      "Survived       0\n",
      "Pclass         0\n",
      "Sex            0\n",
      "Age            0\n",
      "Fare           0\n",
      "Cabin          0\n",
      "FamilyCount    0\n",
      "dtype: int64\n",
      "Pclass         0\n",
      "Sex            0\n",
      "Age            0\n",
      "Fare           0\n",
      "Cabin          0\n",
      "FamilyCount    0\n",
      "dtype: int64\n"
     ]
    }
   ],
   "source": [
    "test['Fare'].fillna(train['Fare'].mean(), inplace=True)\n",
    "print(train.isnull().sum())\n",
    "print(test.isnull().sum())"
   ]
  },
  {
   "cell_type": "code",
   "execution_count": 304,
   "id": "noble-feedback",
   "metadata": {},
   "outputs": [
    {
     "data": {
      "text/html": [
       "<div>\n",
       "<style scoped>\n",
       "    .dataframe tbody tr th:only-of-type {\n",
       "        vertical-align: middle;\n",
       "    }\n",
       "\n",
       "    .dataframe tbody tr th {\n",
       "        vertical-align: top;\n",
       "    }\n",
       "\n",
       "    .dataframe thead th {\n",
       "        text-align: right;\n",
       "    }\n",
       "</style>\n",
       "<table border=\"1\" class=\"dataframe\">\n",
       "  <thead>\n",
       "    <tr style=\"text-align: right;\">\n",
       "      <th></th>\n",
       "      <th>Survived</th>\n",
       "      <th>Pclass</th>\n",
       "      <th>Sex</th>\n",
       "      <th>Age</th>\n",
       "      <th>Fare</th>\n",
       "      <th>Cabin</th>\n",
       "      <th>FamilyCount</th>\n",
       "    </tr>\n",
       "  </thead>\n",
       "  <tbody>\n",
       "    <tr>\n",
       "      <th>0</th>\n",
       "      <td>0</td>\n",
       "      <td>3</td>\n",
       "      <td>0</td>\n",
       "      <td>22.0</td>\n",
       "      <td>7.2500</td>\n",
       "      <td>0</td>\n",
       "      <td>1</td>\n",
       "    </tr>\n",
       "    <tr>\n",
       "      <th>1</th>\n",
       "      <td>1</td>\n",
       "      <td>1</td>\n",
       "      <td>1</td>\n",
       "      <td>38.0</td>\n",
       "      <td>71.2833</td>\n",
       "      <td>1</td>\n",
       "      <td>1</td>\n",
       "    </tr>\n",
       "    <tr>\n",
       "      <th>2</th>\n",
       "      <td>1</td>\n",
       "      <td>3</td>\n",
       "      <td>1</td>\n",
       "      <td>26.0</td>\n",
       "      <td>7.9250</td>\n",
       "      <td>0</td>\n",
       "      <td>0</td>\n",
       "    </tr>\n",
       "    <tr>\n",
       "      <th>3</th>\n",
       "      <td>1</td>\n",
       "      <td>1</td>\n",
       "      <td>1</td>\n",
       "      <td>35.0</td>\n",
       "      <td>53.1000</td>\n",
       "      <td>1</td>\n",
       "      <td>1</td>\n",
       "    </tr>\n",
       "    <tr>\n",
       "      <th>4</th>\n",
       "      <td>0</td>\n",
       "      <td>3</td>\n",
       "      <td>0</td>\n",
       "      <td>35.0</td>\n",
       "      <td>8.0500</td>\n",
       "      <td>0</td>\n",
       "      <td>0</td>\n",
       "    </tr>\n",
       "  </tbody>\n",
       "</table>\n",
       "</div>"
      ],
      "text/plain": [
       "   Survived  Pclass  Sex   Age     Fare  Cabin  FamilyCount\n",
       "0         0       3    0  22.0   7.2500      0            1\n",
       "1         1       1    1  38.0  71.2833      1            1\n",
       "2         1       3    1  26.0   7.9250      0            0\n",
       "3         1       1    1  35.0  53.1000      1            1\n",
       "4         0       3    0  35.0   8.0500      0            0"
      ]
     },
     "execution_count": 304,
     "metadata": {},
     "output_type": "execute_result"
    }
   ],
   "source": [
    "# what our training data looks like currently\n",
    "train.head()"
   ]
  },
  {
   "cell_type": "code",
   "execution_count": 305,
   "id": "geological-music",
   "metadata": {},
   "outputs": [
    {
     "data": {
      "text/html": [
       "<div>\n",
       "<style scoped>\n",
       "    .dataframe tbody tr th:only-of-type {\n",
       "        vertical-align: middle;\n",
       "    }\n",
       "\n",
       "    .dataframe tbody tr th {\n",
       "        vertical-align: top;\n",
       "    }\n",
       "\n",
       "    .dataframe thead th {\n",
       "        text-align: right;\n",
       "    }\n",
       "</style>\n",
       "<table border=\"1\" class=\"dataframe\">\n",
       "  <thead>\n",
       "    <tr style=\"text-align: right;\">\n",
       "      <th></th>\n",
       "      <th>Pclass</th>\n",
       "      <th>Sex</th>\n",
       "      <th>Age</th>\n",
       "      <th>Fare</th>\n",
       "      <th>Cabin</th>\n",
       "      <th>FamilyCount</th>\n",
       "    </tr>\n",
       "  </thead>\n",
       "  <tbody>\n",
       "    <tr>\n",
       "      <th>0</th>\n",
       "      <td>3</td>\n",
       "      <td>0</td>\n",
       "      <td>34.5</td>\n",
       "      <td>7.8292</td>\n",
       "      <td>0</td>\n",
       "      <td>0</td>\n",
       "    </tr>\n",
       "    <tr>\n",
       "      <th>1</th>\n",
       "      <td>3</td>\n",
       "      <td>1</td>\n",
       "      <td>47.0</td>\n",
       "      <td>7.0000</td>\n",
       "      <td>0</td>\n",
       "      <td>1</td>\n",
       "    </tr>\n",
       "    <tr>\n",
       "      <th>2</th>\n",
       "      <td>2</td>\n",
       "      <td>0</td>\n",
       "      <td>62.0</td>\n",
       "      <td>9.6875</td>\n",
       "      <td>0</td>\n",
       "      <td>0</td>\n",
       "    </tr>\n",
       "    <tr>\n",
       "      <th>3</th>\n",
       "      <td>3</td>\n",
       "      <td>0</td>\n",
       "      <td>27.0</td>\n",
       "      <td>8.6625</td>\n",
       "      <td>0</td>\n",
       "      <td>0</td>\n",
       "    </tr>\n",
       "    <tr>\n",
       "      <th>4</th>\n",
       "      <td>3</td>\n",
       "      <td>1</td>\n",
       "      <td>22.0</td>\n",
       "      <td>12.2875</td>\n",
       "      <td>0</td>\n",
       "      <td>2</td>\n",
       "    </tr>\n",
       "  </tbody>\n",
       "</table>\n",
       "</div>"
      ],
      "text/plain": [
       "   Pclass  Sex   Age     Fare  Cabin  FamilyCount\n",
       "0       3    0  34.5   7.8292      0            0\n",
       "1       3    1  47.0   7.0000      0            1\n",
       "2       2    0  62.0   9.6875      0            0\n",
       "3       3    0  27.0   8.6625      0            0\n",
       "4       3    1  22.0  12.2875      0            2"
      ]
     },
     "execution_count": 305,
     "metadata": {},
     "output_type": "execute_result"
    }
   ],
   "source": [
    "# what the testing data looks like currently\n",
    "test.head()"
   ]
  },
  {
   "cell_type": "code",
   "execution_count": 306,
   "id": "known-interview",
   "metadata": {},
   "outputs": [],
   "source": [
    "# write out cleaned data\n",
    "train.to_csv('data/train_cleaned.csv', index=False)\n",
    "test.to_csv('data/test_cleaned.csv', index=False)"
   ]
  },
  {
   "cell_type": "markdown",
   "id": "operational-translator",
   "metadata": {},
   "source": [
    "# 2) Splitting Up Data <a class=\"anchor\" id=\"splitting_up_data\"></a>\n",
    "[To contents](#contents)\n",
    "- Split the training data up into the following segments:\n",
    "     - Training Data: 60%\n",
    "     - Validation Data: 20%\n",
    "     - Test Data: 20%"
   ]
  },
  {
   "cell_type": "code",
   "execution_count": 307,
   "id": "handed-comparison",
   "metadata": {},
   "outputs": [
    {
     "name": "stdout",
     "output_type": "stream",
     "text": [
      "0.6\n",
      "0.2\n",
      "0.2\n"
     ]
    }
   ],
   "source": [
    "features = train.drop(columns='Survived')\n",
    "labels = train['Survived']\n",
    "\n",
    "# we need to do this twice because train_test_split can only split into two sets\n",
    "# first put 60% into training\n",
    "X_train, X_test, y_train, y_test = train_test_split(features, labels, test_size=0.4, random_state=42)\n",
    "# the put 20% into validation and test, respectively\n",
    "X_test, X_val, y_test, y_val = train_test_split(X_test, y_test, test_size=0.5, random_state=42)\n",
    "\n",
    "# check sizes\n",
    "for dataset in [y_train, y_val, y_test]:\n",
    "    print(round(len(dataset) / len(labels), 2))"
   ]
  },
  {
   "cell_type": "code",
   "execution_count": 308,
   "id": "overhead-surface",
   "metadata": {},
   "outputs": [],
   "source": [
    "# write out split data\n",
    "X_train.to_csv('data/split/train_features.csv', index=False)\n",
    "X_val.to_csv('data/split/val_features.csv', index=False)\n",
    "X_test.to_csv('data/split/test_features.csv', index=False)\n",
    "\n",
    "y_train.to_csv('data/split/train_labels.csv', index=False)\n",
    "y_val.to_csv('data/split/val_labels.csv', index=False)\n",
    "y_test.to_csv('data/split/test_labels.csv', index=False)"
   ]
  },
  {
   "cell_type": "markdown",
   "id": "surrounded-arbor",
   "metadata": {},
   "source": [
    "# 3) Training Models <a class=\"anchor\" id=\"training_models\"></a>\n",
    "[To contents](#contents)\n",
    "- Use the training dataset using 5-Fold Cross-Validaiton to get a basic idea of the model's performance\n",
    "- 5-Fold Cross-Validation shows the accuracy of the model when training on different subsets of the data"
   ]
  },
  {
   "cell_type": "code",
   "execution_count": 309,
   "id": "better-collapse",
   "metadata": {},
   "outputs": [],
   "source": [
    "# prints results of GridSearchCV\n",
    "def print_results(results):\n",
    "    print('BEST PARAMS: {}\\n'.format(results.best_params_))\n",
    "    \n",
    "    means = results.cv_results_['mean_test_score']\n",
    "    stds = results.cv_results_['std_test_score']\n",
    "    for mean, std, params in zip(means, stds, results.cv_results_['params']):\n",
    "        # prints mean and 2 standard deviations to each side\n",
    "        print('{} (+/-{}) for {}'.format(round(mean, 3), round(std * 2, 3), params))"
   ]
  },
  {
   "cell_type": "markdown",
   "id": "compact-palmer",
   "metadata": {},
   "source": [
    "## A) Logistic Regression <a class=\"anchor\" id=\"logistic_regression\"></a>\n",
    "[To contents](#contents)\n",
    "- Regression is a statistical process for estimating relationships among variables\n",
    "- Logistic regression uses a logistic function (sigmoid curve) to model a binary variable\n",
    "- When to use\n",
    "    - Categorical target variable\n",
    "    - Transparency is important\n",
    "    - Fairly well-behaved data\n",
    "    - Need a quick benchmark\n",
    "- When not to use\n",
    "    - Continuous target variable\n",
    "    - Massive data (rows or columns)\n",
    "    - Messy data with many outliers\n",
    "    - Performance matters most\n",
    "- Key hyperparameters\n",
    "    - `C = 1/lambda` \n",
    "    - `lambda` is a regularization parameter that controls overfitting and underfitting\n",
    "    - High `lambda` = low `C` -> low regularization, more likely overfit \n",
    "    - Low `lambda` = high `C` -> high regularization, more likely underfit   "
   ]
  },
  {
   "cell_type": "code",
   "execution_count": 310,
   "id": "removed-exhibition",
   "metadata": {},
   "outputs": [
    {
     "data": {
      "text/plain": [
       "LogisticRegression(C=1.0, class_weight=None, dual=False, fit_intercept=True,\n",
       "                   intercept_scaling=1, l1_ratio=None, max_iter=100,\n",
       "                   multi_class='auto', n_jobs=None, penalty='l2',\n",
       "                   random_state=None, solver='lbfgs', tol=0.0001, verbose=0,\n",
       "                   warm_start=False)"
      ]
     },
     "execution_count": 310,
     "metadata": {},
     "output_type": "execute_result"
    }
   ],
   "source": [
    "# view parameters\n",
    "LogisticRegression()"
   ]
  },
  {
   "cell_type": "code",
   "execution_count": 311,
   "id": "several-surge",
   "metadata": {
    "scrolled": true
   },
   "outputs": [
    {
     "name": "stdout",
     "output_type": "stream",
     "text": [
      "BEST PARAMS: {'C': 1}\n",
      "\n",
      "0.67 (+/-0.077) for {'C': 0.001}\n",
      "0.708 (+/-0.098) for {'C': 0.01}\n",
      "0.777 (+/-0.134) for {'C': 0.1}\n",
      "0.8 (+/-0.118) for {'C': 1}\n",
      "0.794 (+/-0.116) for {'C': 10}\n",
      "0.794 (+/-0.116) for {'C': 100}\n",
      "0.794 (+/-0.116) for {'C': 1000}\n"
     ]
    }
   ],
   "source": [
    "# fit model\n",
    "lr = LogisticRegression()\n",
    "parameters = {\n",
    "    'C': [0.001, 0.01, 0.1, 1, 10, 100, 1000]\n",
    "}\n",
    "\n",
    "cv1 = GridSearchCV(lr, parameters, cv=5)\n",
    "cv1.fit(X_train, y_train.values.ravel())\n",
    "\n",
    "print_results(cv1)"
   ]
  },
  {
   "cell_type": "code",
   "execution_count": 318,
   "id": "exempt-chemistry",
   "metadata": {},
   "outputs": [
    {
     "data": {
      "text/plain": [
       "['models/selection/logistic_regression.pkl']"
      ]
     },
     "execution_count": 318,
     "metadata": {},
     "output_type": "execute_result"
    }
   ],
   "source": [
    "# save model\n",
    "joblib.dump(cv1.best_estimator_, 'models/selection/logistic_regression.pkl')"
   ]
  },
  {
   "cell_type": "markdown",
   "id": "exceptional-somerset",
   "metadata": {},
   "source": [
    "## B) Support Vector Machine<a class=\"anchor\" id=\"support_vector_machine\"></a>\n",
    "[To contents](#contents)\n",
    "- Support vector machine is a classifier that finds an optimal hyperplane that maximizes margin between two classes\n",
    "- Support vector is the perpendicular line from decision boundary to closest points in each class\n",
    "- Hyperplane is decision boundary in n-dimensional space\n",
    "- Kernel trick transforms data not linearly separable in n-dimensional space to a higher dimension where it is linearly separable\n",
    "- When to use\n",
    "    - Categorical target variable\n",
    "    - High feature-to-row ratio\n",
    "    - Complex relationships\n",
    "    - Data with many outliers\n",
    "- When not to use\n",
    "    - Low feature-to-row ratio\n",
    "    - Transparency is important\n",
    "    - Need a quick benchmark\n",
    "- Key hyperparameters\n",
    "    - Low `C` -> high regularization, small penalty for misclassification, large margin, more likely underfit \n",
    "    - High `C` -> low regularization, large penalty for misclassification, small margin, more likely overfit\n",
    "    - `kernel` controls kernel trick method"
   ]
  },
  {
   "cell_type": "code",
   "execution_count": 319,
   "id": "final-maple",
   "metadata": {},
   "outputs": [
    {
     "data": {
      "text/plain": [
       "SVC(C=1.0, break_ties=False, cache_size=200, class_weight=None, coef0=0.0,\n",
       "    decision_function_shape='ovr', degree=3, gamma='scale', kernel='rbf',\n",
       "    max_iter=-1, probability=False, random_state=None, shrinking=True,\n",
       "    tol=0.001, verbose=False)"
      ]
     },
     "execution_count": 319,
     "metadata": {},
     "output_type": "execute_result"
    }
   ],
   "source": [
    "# view parameters\n",
    "SVC()"
   ]
  },
  {
   "cell_type": "code",
   "execution_count": null,
   "id": "guided-document",
   "metadata": {},
   "outputs": [],
   "source": [
    "# fit model\n",
    "svc = SVC()\n",
    "parameters = {\n",
    "    'kernel': ['linear', 'rbf'],\n",
    "    'C': [0.1, 1, 10]\n",
    "}\n",
    "\n",
    "cv2 = GridSearchCV(svc, parameters, cv=5)\n",
    "cv2.fit(X_train, y_train.values.ravel())\n",
    "\n",
    "print_results(cv2)"
   ]
  },
  {
   "cell_type": "code",
   "execution_count": null,
   "id": "constitutional-pride",
   "metadata": {},
   "outputs": [],
   "source": [
    "# save model\n",
    "joblib.dump(cv2.best_estimator_, 'models/selection/support_vector_machine.pkl')"
   ]
  },
  {
   "cell_type": "markdown",
   "id": "adapted-winner",
   "metadata": {},
   "source": [
    "## C) Multilayer Perceptron <a class=\"anchor\" id=\"multilayer_perceptron\"></a>\n",
    "[To contents](#contents)\n",
    "- Multilayer perceptron is a classic feed-forward artificial neural network\n",
    "- Connected series of nodes, each node represents a function\n",
    "- Input layer, hidden layers, output layer\n",
    "- When to use\n",
    "    - Categorical or continuous target variable\n",
    "    - Complex relationships\n",
    "    - Control over training process, many hyperparameters\n",
    "- When not to use\n",
    "    - Image recognition, time series, etc\n",
    "    - Transparency is important\n",
    "    - Need a quick benchmark\n",
    "- Key hyperparameters\n",
    "    - `hidden_layer_sizes` determines how many layers and how many nodes in each layer\n",
    "    - `learning_rate` facilitates how quickly and whether or not algorithm will find optimal solution, select a type of learning\n",
    "        - Low learning rate is slow and may get stuck in local min\n",
    "        - High learning rate jumps around and may never find optimal solution\n",
    "    - `activation function` transforms inputs, includes sigmoid, tanh, ReLU"
   ]
  },
  {
   "cell_type": "code",
   "execution_count": null,
   "id": "acoustic-spectacular",
   "metadata": {},
   "outputs": [],
   "source": [
    "# view parameters\n",
    "print(MLPRegressor())\n",
    "print(MLPClassifier())"
   ]
  },
  {
   "cell_type": "code",
   "execution_count": null,
   "id": "absent-friend",
   "metadata": {},
   "outputs": [],
   "source": [
    "# fit model\n",
    "mlp = MLPClassifier()\n",
    "parameters = {\n",
    "    'hidden_layer_sizes': [(16, 16 ,16), (32,32), (64,64)],\n",
    "    'activation': ['relu', 'tanh', 'logistic'],\n",
    "    'learning_rate': ['constant', 'invscaling', 'adaptive']\n",
    "}\n",
    "\n",
    "cv3 = GridSearchCV(mlp, parameters, cv=5)\n",
    "cv3.fit(X_train, y_train.values.ravel())\n",
    "\n",
    "print_results(cv3)"
   ]
  },
  {
   "cell_type": "code",
   "execution_count": null,
   "id": "generic-selling",
   "metadata": {},
   "outputs": [],
   "source": [
    "# save model\n",
    "joblib.dump(cv3.best_estimator_, 'models/selection/multilayer_perceptron.pkl')"
   ]
  },
  {
   "cell_type": "markdown",
   "id": "precise-folks",
   "metadata": {},
   "source": [
    "## D) Random Forest<a class=\"anchor\" id=\"random_forest\"></a>\n",
    "[To contents](#contents)\n",
    "- Random forest merges a collection of independent decision trees to get a more acurate and stable predictino\n",
    "- Type of ensemble method, which combies multiple models to reduce bias and variance\n",
    "- Splits training data into several data samples and feature samples\n",
    "- Each tree gives a prediction, takes majority or average result\n",
    "- When to use\n",
    "    - Categorical or continuous target variable\n",
    "    - Interested in significance of predictors\n",
    "    - Need a quick benchmark\n",
    "    - Messy data with many missig values and outliers\n",
    "- When not to use\n",
    "    - Transparency is important\n",
    "    - Complex relationships\n",
    "    - Prediction time is important\n",
    "- Key hyperparameters\n",
    "    - `n_estimators` controls how many individual decision trees are built\n",
    "    - `max_depth` controls how deep each tree can go"
   ]
  },
  {
   "cell_type": "code",
   "execution_count": null,
   "id": "amended-arrival",
   "metadata": {},
   "outputs": [],
   "source": [
    "# view parameters\n",
    "print(RandomForestClassifier())\n",
    "print(RandomForestRegressor())"
   ]
  },
  {
   "cell_type": "code",
   "execution_count": null,
   "id": "closed-contract",
   "metadata": {},
   "outputs": [],
   "source": [
    "# fit model\n",
    "rf = RandomForestClassifier()\n",
    "parameters = {\n",
    "    'n_estimators': [5, 50, 250],\n",
    "    'max_depth': [2, 4, 8, 16, 32, None]\n",
    "}\n",
    "\n",
    "cv4 = GridSearchCV(rf, parameters, cv=5)\n",
    "cv4.fit(X_train, y_train.values.ravel())\n",
    "\n",
    "print_results(cv4)"
   ]
  },
  {
   "cell_type": "code",
   "execution_count": null,
   "id": "indoor-reference",
   "metadata": {},
   "outputs": [],
   "source": [
    "# save model\n",
    "joblib.dump(cv4.best_estimator_, 'models/selection/random_forest.pkl')"
   ]
  },
  {
   "cell_type": "markdown",
   "id": "emotional-picnic",
   "metadata": {},
   "source": [
    "## E) Gradient Boosting<a class=\"anchor\" id=\"gradient_boosting\"></a>\n",
    "[To contents](#contents)\n",
    "- Gradient boosting aggregates many weak models, learning from its own mistakes with each iteration to create one strong model\n",
    "- Type of ensemble method, which combies multiple models to reduce bias and variance\n",
    "- Takes sample from training data classifies examples, next model overweights misclassified examples from previous model\n",
    "- Final selection based on weighted voting based on how well each model did in training\n",
    "- When to use\n",
    "    - Categorical or continuous target variable\n",
    "    - Interested in significance of predictors\n",
    "    - Prediction time is important\n",
    "- When not to use\n",
    "    - Transparency is important\n",
    "    - Data is very noisy, boosting tends to overfit\n",
    "    - Training time is important\n",
    "- Key hyperparameters\n",
    "    - `n_estimators` controls how many individual decision trees are built (should be more than random forest)\n",
    "    - `max_depth` controls how deep each tree can go (should be shallower than random forest)\n",
    "    - `learning_rate` facilitates how quickly and whether or not algorithm will find optimal solution, select a numerical value\n",
    "        - Low learning rate is slow and may get stuck in local min\n",
    "        - High learning rate jumps around and may never find optimal solution"
   ]
  },
  {
   "cell_type": "code",
   "execution_count": null,
   "id": "present-dressing",
   "metadata": {},
   "outputs": [],
   "source": [
    "# view parameters\n",
    "print(GradientBoostingClassifier())\n",
    "print(GradientBoostingRegressor())"
   ]
  },
  {
   "cell_type": "code",
   "execution_count": null,
   "id": "enhanced-billion",
   "metadata": {},
   "outputs": [],
   "source": [
    "# fit model\n",
    "gb = GradientBoostingClassifier()\n",
    "parameters = {\n",
    "    'n_estimators': [5, 50, 250, 500],\n",
    "    'max_depth': [1, 3, 5, 7, 9],\n",
    "    'learning_rate': [0.01, 0.05, 0.2, 0.5, 1]\n",
    "}\n",
    "\n",
    "cv5 = GridSearchCV(gb, parameters, cv=5)\n",
    "cv5.fit(X_train, y_train.values.ravel())\n",
    "\n",
    "print_results(cv5)"
   ]
  },
  {
   "cell_type": "code",
   "execution_count": null,
   "id": "labeled-kruger",
   "metadata": {},
   "outputs": [],
   "source": [
    "# save model\n",
    "joblib.dump(cv5.best_estimator_, 'models/selection/gradient_boosting.pkl')"
   ]
  },
  {
   "cell_type": "markdown",
   "id": "descending-south",
   "metadata": {},
   "source": [
    "# 4) Model Selection<a class=\"anchor\" id=\"model_selection\"></a>\n",
    "[To contents](#contents)\n",
    "![Comparison](model_comparison.png)"
   ]
  },
  {
   "cell_type": "code",
   "execution_count": null,
   "id": "exclusive-surprise",
   "metadata": {},
   "outputs": [],
   "source": [
    "# create dictionary of models\n",
    "models = {}\n",
    "for mdl in ['logistic_regression', 'support_vector_machine', 'multilayer_perceptron', 'random_forest', 'gradient_boosting']:\n",
    "    models[mdl] = joblib.load('models/selection/{}.pkl'.format(mdl))"
   ]
  },
  {
   "cell_type": "markdown",
   "id": "quiet-basket",
   "metadata": {},
   "source": [
    "## A) Evaluation Statistics<a class=\"anchor\" id=\"evaluation_statistics\"></a>\n",
    "[To contents](#contents)\n",
    "- Accuracy = # predicted correctly/total # examples\n",
    "- Precision = # predicted to survive that actually survived / total # predicted to survive\n",
    "- Recall = # predicted to survive that actually survived / total # that actually survived"
   ]
  },
  {
   "cell_type": "code",
   "execution_count": null,
   "id": "guilty-virus",
   "metadata": {},
   "outputs": [],
   "source": [
    "# evaluates prediction time, accuracy, precision, recall\n",
    "def evaluate_model(name, model, features, labels):\n",
    "    start = time()\n",
    "    pred = model.predict(features)\n",
    "    end = time()\n",
    "    accuracy = round(accuracy_score(labels, pred), 3)\n",
    "    precision = round(precision_score(labels, pred), 3)\n",
    "    recall = round(recall_score(labels, pred), 3)\n",
    "    print('{} -- Accuracy: {} / Precision: {} / Recall: {} / Latency: {}ms'.format(name,\n",
    "                                                                                   accuracy,\n",
    "                                                                                   precision,\n",
    "                                                                                   recall,\n",
    "                                                                                   round((end - start)*1000, 1)))"
   ]
  },
  {
   "cell_type": "code",
   "execution_count": null,
   "id": "velvet-leeds",
   "metadata": {
    "scrolled": true
   },
   "outputs": [],
   "source": [
    "# test on validation set\n",
    "for name, mdl in models.items():\n",
    "    evaluate_model(name, mdl, X_val, y_val)"
   ]
  },
  {
   "cell_type": "code",
   "execution_count": null,
   "id": "formed-induction",
   "metadata": {},
   "outputs": [],
   "source": [
    "# final evaluation of best model on test set\n",
    "evaluate_model('random_forest', models['random_forest'], X_test, y_test)"
   ]
  },
  {
   "cell_type": "markdown",
   "id": "classical-needle",
   "metadata": {},
   "source": [
    "# 5) Final Training and Submission<a class=\"anchor\" id=\"final_training_and_submission\"></a>\n",
    "[To contents](#contents)\n",
    "- Train the model on the entire training set and create a submission\n",
    "- Normally, you would select the best model from our validation evaluations (random forest) to submit\n",
    "- Out of curiousity, I will try all models :)"
   ]
  },
  {
   "cell_type": "code",
   "execution_count": null,
   "id": "vertical-processing",
   "metadata": {},
   "outputs": [],
   "source": [
    "# import all cleaned data\n",
    "train_cleaned = pd.read_csv('data/train_cleaned.csv')\n",
    "test_cleaned = pd.read_csv('data/test_cleaned.csv')\n",
    "\n",
    "features = train_cleaned.drop(columns='Survived')\n",
    "labels = train_cleaned['Survived'].values.ravel()"
   ]
  },
  {
   "cell_type": "code",
   "execution_count": null,
   "id": "configured-questionnaire",
   "metadata": {},
   "outputs": [],
   "source": [
    "# fit on complete training data\n",
    "final_lr = LogisticRegression(C=1)\n",
    "final_lr.fit(features, labels)\n",
    "joblib.dump(final_lr, 'models/final/logistic_regression.pkl')\n",
    "\n",
    "final_svm = SVC(C=0.1, kernel='linear')\n",
    "final_svm.fit(features, labels)\n",
    "joblib.dump(final_svm, 'models/final/support_vector_machine.pkl')\n",
    "\n",
    "final_mlp = MLPClassifier(activation='tanh', hidden_layer_sizes=(64, 64), learning_rate='adaptive')\n",
    "final_mlp.fit(features, labels)\n",
    "joblib.dump(final_mlp, 'models/final/multilayer_perceptron.pkl')\n",
    "\n",
    "final_rf = RandomForestClassifier(max_depth=8, n_estimators=50)\n",
    "final_rf.fit(features, labels)\n",
    "joblib.dump(final_rf, 'models/final/random_forest.pkl')\n",
    "\n",
    "final_gb = GradientBoostingClassifier(learning_rate=0.01, max_depth=3, n_estimators=500)\n",
    "final_gb.fit(features, labels)\n",
    "joblib.dump(final_gb, 'models/final/gradient_boosting.pkl')"
   ]
  },
  {
   "cell_type": "code",
   "execution_count": null,
   "id": "generous-chemical",
   "metadata": {},
   "outputs": [],
   "source": [
    "# create dictionary of models\n",
    "final_models = {}\n",
    "for mdl in ['logistic_regression', 'support_vector_machine', 'multilayer_perceptron', 'random_forest', 'gradient_boosting']:\n",
    "    final_models[mdl] = joblib.load('models/final/{}.pkl'.format(mdl))"
   ]
  },
  {
   "cell_type": "code",
   "execution_count": null,
   "id": "given-jurisdiction",
   "metadata": {},
   "outputs": [],
   "source": [
    "# write out submission\n",
    "ids = pd.read_csv('data/test.csv')['PassengerId']\n",
    "def submission(name, model):\n",
    "    predictions = model.predict(test_cleaned)\n",
    "    output = pd.DataFrame({'PassengerId' : ids, 'Survived': predictions})\n",
    "    output.to_csv('submissions/{}_submission.csv'.format(name), index = False)\n",
    "\n",
    "for name, mdl in final_models.items():\n",
    "    submission(name, mdl)"
   ]
  },
  {
   "cell_type": "markdown",
   "id": "judicial-judgment",
   "metadata": {},
   "source": [
    "# 6) Results<a class=\"anchor\" id=\"results\"></a>\n",
    "[To contents](#contents)\n",
    "- Logistic Regression: 0.76076\n",
    "- Support Vector Machine: 0.76555\n",
    "- Multilayer Perceptron: 0.76315\n",
    "- Random Forest: 0.76076\n",
    "- Gradient Boosting: 0.78468\n",
    "\n",
    "The best model was gradient boosting. As of January 2022, it placed 2294/13643, or top 16.81%. Excluding perfect scores which are a result of cheating, it would place 2126/13475, or top 15.78%."
   ]
  },
  {
   "cell_type": "code",
   "execution_count": null,
   "id": "descending-concentration",
   "metadata": {},
   "outputs": [],
   "source": []
  }
 ],
 "metadata": {
  "kernelspec": {
   "display_name": "Python 3",
   "language": "python",
   "name": "python3"
  },
  "language_info": {
   "codemirror_mode": {
    "name": "ipython",
    "version": 3
   },
   "file_extension": ".py",
   "mimetype": "text/x-python",
   "name": "python",
   "nbconvert_exporter": "python",
   "pygments_lexer": "ipython3",
   "version": "3.8.12"
  }
 },
 "nbformat": 4,
 "nbformat_minor": 5
}
